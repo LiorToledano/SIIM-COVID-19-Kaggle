{
 "cells": [
  {
   "cell_type": "code",
   "execution_count": 1,
   "id": "ec5d0ae0",
   "metadata": {
    "execution": {
     "iopub.execute_input": "2021-08-08T01:33:41.116969Z",
     "iopub.status.busy": "2021-08-08T01:33:41.115748Z",
     "iopub.status.idle": "2021-08-08T01:33:50.663325Z",
     "shell.execute_reply": "2021-08-08T01:33:50.663893Z",
     "shell.execute_reply.started": "2021-08-08T01:00:09.629922Z"
    },
    "papermill": {
     "duration": 9.626467,
     "end_time": "2021-08-08T01:33:50.664218",
     "exception": false,
     "start_time": "2021-08-08T01:33:41.037751",
     "status": "completed"
    },
    "tags": []
   },
   "outputs": [
    {
     "name": "stdout",
     "output_type": "stream",
     "text": [
      "\u001b[33mWARNING: Running pip as root will break packages and permissions. You should install packages reliably by using venv: https://pip.pypa.io/warnings/venv\u001b[0m\r\n"
     ]
    }
   ],
   "source": [
    "!pip install efficientnet -q"
   ]
  },
  {
   "cell_type": "code",
   "execution_count": 2,
   "id": "ca3e6883",
   "metadata": {
    "execution": {
     "iopub.execute_input": "2021-08-08T01:33:50.816012Z",
     "iopub.status.busy": "2021-08-08T01:33:50.814994Z",
     "iopub.status.idle": "2021-08-08T01:33:59.541173Z",
     "shell.execute_reply": "2021-08-08T01:33:59.540612Z",
     "shell.execute_reply.started": "2021-08-08T01:00:18.694926Z"
    },
    "papermill": {
     "duration": 8.805325,
     "end_time": "2021-08-08T01:33:59.541332",
     "exception": false,
     "start_time": "2021-08-08T01:33:50.736007",
     "status": "completed"
    },
    "tags": []
   },
   "outputs": [
    {
     "name": "stdout",
     "output_type": "stream",
     "text": [
      "4.5.2\n",
      "2.4.1\n"
     ]
    }
   ],
   "source": [
    "import os, math\n",
    "import psutil, random\n",
    "\n",
    "import efficientnet.tfkeras as efn\n",
    "import numpy as np\n",
    "import pandas as pd\n",
    "import albumentations as A\n",
    "import matplotlib.pyplot as plt\n",
    "from sklearn.model_selection import GroupKFold\n",
    "import cv2; print(cv2.__version__)\n",
    "import tensorflow as tf; print(tf.__version__)"
   ]
  },
  {
   "cell_type": "code",
   "execution_count": 3,
   "id": "303763b1",
   "metadata": {
    "execution": {
     "iopub.execute_input": "2021-08-08T01:33:59.697362Z",
     "iopub.status.busy": "2021-08-08T01:33:59.696652Z",
     "iopub.status.idle": "2021-08-08T01:34:00.047021Z",
     "shell.execute_reply": "2021-08-08T01:34:00.045881Z",
     "shell.execute_reply.started": "2021-08-08T01:00:26.608883Z"
    },
    "papermill": {
     "duration": 0.433287,
     "end_time": "2021-08-08T01:34:00.047211",
     "exception": false,
     "start_time": "2021-08-08T01:33:59.613924",
     "status": "completed"
    },
    "tags": []
   },
   "outputs": [
    {
     "name": "stdout",
     "output_type": "stream",
     "text": [
      "TF version: 2.4.1\n",
      "Hub version: 0.12.0\n",
      "Physical devices: [PhysicalDevice(name='/physical_device:CPU:0', device_type='CPU')]\n"
     ]
    }
   ],
   "source": [
    "import itertools\n",
    "import os\n",
    "import random\n",
    "import gc\n",
    "import numpy as np\n",
    "import pandas as pd\n",
    "import math\n",
    "import pprint\n",
    "import matplotlib.pylab as plt\n",
    "import seaborn as sns\n",
    "sns.set(rc={\"axes.titlesize\":15, \"axes.labelsize\":9,\"axes.titlepad\":15,\n",
    "            \"axes.labelpad\":12, \"legend.fontsize\":9,\n",
    "            \"legend.title_fontsize\":9, \"figure.titlesize\":15,\n",
    "            \"axes.grid\":False})\n",
    "\n",
    "from sklearn.model_selection import train_test_split, GroupKFold\n",
    "import tensorflow as tf\n",
    "import tensorflow_hub as tfhub\n",
    "import tensorflow.keras.backend as K\n",
    "from kaggle_datasets import KaggleDatasets\n",
    "\n",
    "print('TF version:', tf.__version__)\n",
    "print('Hub version:', tfhub.__version__)\n",
    "print('Physical devices:', tf.config.list_physical_devices())"
   ]
  },
  {
   "cell_type": "markdown",
   "id": "0bac4476",
   "metadata": {
    "papermill": {
     "duration": 0.072675,
     "end_time": "2021-08-08T01:34:00.192469",
     "exception": false,
     "start_time": "2021-08-08T01:34:00.119794",
     "status": "completed"
    },
    "tags": []
   },
   "source": [
    "# Data Preprocess"
   ]
  },
  {
   "cell_type": "code",
   "execution_count": 4,
   "id": "1c29aaa8",
   "metadata": {
    "execution": {
     "iopub.execute_input": "2021-08-08T01:34:00.348189Z",
     "iopub.status.busy": "2021-08-08T01:34:00.347374Z",
     "iopub.status.idle": "2021-08-08T01:34:01.781383Z",
     "shell.execute_reply": "2021-08-08T01:34:01.782238Z",
     "shell.execute_reply.started": "2021-08-08T01:00:26.922388Z"
    },
    "papermill": {
     "duration": 1.517554,
     "end_time": "2021-08-08T01:34:01.782593",
     "exception": false,
     "start_time": "2021-08-08T01:34:00.265039",
     "status": "completed"
    },
    "tags": []
   },
   "outputs": [
    {
     "name": "stdout",
     "output_type": "stream",
     "text": [
      "(6054, 5)\n",
      "(6334, 4)\n"
     ]
    },
    {
     "data": {
      "text/html": [
       "<div>\n",
       "<style scoped>\n",
       "    .dataframe tbody tr th:only-of-type {\n",
       "        vertical-align: middle;\n",
       "    }\n",
       "\n",
       "    .dataframe tbody tr th {\n",
       "        vertical-align: top;\n",
       "    }\n",
       "\n",
       "    .dataframe thead th {\n",
       "        text-align: right;\n",
       "    }\n",
       "</style>\n",
       "<table border=\"1\" class=\"dataframe\">\n",
       "  <thead>\n",
       "    <tr style=\"text-align: right;\">\n",
       "      <th></th>\n",
       "      <th>id</th>\n",
       "      <th>boxes</th>\n",
       "      <th>label</th>\n",
       "      <th>StudyInstanceUID</th>\n",
       "      <th>Negative for Pneumonia</th>\n",
       "      <th>Typical Appearance</th>\n",
       "      <th>Indeterminate Appearance</th>\n",
       "      <th>Atypical Appearance</th>\n",
       "      <th>diagnosis</th>\n",
       "      <th>sparse_gt</th>\n",
       "    </tr>\n",
       "  </thead>\n",
       "  <tbody>\n",
       "    <tr>\n",
       "      <th>0</th>\n",
       "      <td>000a312787f2</td>\n",
       "      <td>[{'x': 789.28836, 'y': 582.43035, 'width': 102...</td>\n",
       "      <td>opacity 1 789.28836 582.43035 1815.94498 2499....</td>\n",
       "      <td>5776db0cec75</td>\n",
       "      <td>0</td>\n",
       "      <td>1</td>\n",
       "      <td>0</td>\n",
       "      <td>0</td>\n",
       "      <td>Typical Appearance</td>\n",
       "      <td>1</td>\n",
       "    </tr>\n",
       "    <tr>\n",
       "      <th>1</th>\n",
       "      <td>000c3a3f293f</td>\n",
       "      <td>NaN</td>\n",
       "      <td>none 1 0 0 1 1</td>\n",
       "      <td>ff0879eb20ed</td>\n",
       "      <td>1</td>\n",
       "      <td>0</td>\n",
       "      <td>0</td>\n",
       "      <td>0</td>\n",
       "      <td>Negative for Pneumonia</td>\n",
       "      <td>0</td>\n",
       "    </tr>\n",
       "    <tr>\n",
       "      <th>2</th>\n",
       "      <td>0012ff7358bc</td>\n",
       "      <td>[{'x': 677.42216, 'y': 197.97662, 'width': 867...</td>\n",
       "      <td>opacity 1 677.42216 197.97662 1545.21983 1197....</td>\n",
       "      <td>9d514ce429a7</td>\n",
       "      <td>0</td>\n",
       "      <td>1</td>\n",
       "      <td>0</td>\n",
       "      <td>0</td>\n",
       "      <td>Typical Appearance</td>\n",
       "      <td>1</td>\n",
       "    </tr>\n",
       "    <tr>\n",
       "      <th>3</th>\n",
       "      <td>001398f4ff4f</td>\n",
       "      <td>[{'x': 2729, 'y': 2181.33331, 'width': 948.000...</td>\n",
       "      <td>opacity 1 2729 2181.33331 3677.00012 2785.33331</td>\n",
       "      <td>28dddc8559b2</td>\n",
       "      <td>0</td>\n",
       "      <td>0</td>\n",
       "      <td>0</td>\n",
       "      <td>1</td>\n",
       "      <td>Atypical Appearance</td>\n",
       "      <td>3</td>\n",
       "    </tr>\n",
       "    <tr>\n",
       "      <th>4</th>\n",
       "      <td>001bd15d1891</td>\n",
       "      <td>[{'x': 623.23328, 'y': 1050, 'width': 714, 'he...</td>\n",
       "      <td>opacity 1 623.23328 1050 1337.23328 2156 opaci...</td>\n",
       "      <td>dfd9fdd85a3e</td>\n",
       "      <td>0</td>\n",
       "      <td>1</td>\n",
       "      <td>0</td>\n",
       "      <td>0</td>\n",
       "      <td>Typical Appearance</td>\n",
       "      <td>1</td>\n",
       "    </tr>\n",
       "  </tbody>\n",
       "</table>\n",
       "</div>"
      ],
      "text/plain": [
       "             id                                              boxes  \\\n",
       "0  000a312787f2  [{'x': 789.28836, 'y': 582.43035, 'width': 102...   \n",
       "1  000c3a3f293f                                                NaN   \n",
       "2  0012ff7358bc  [{'x': 677.42216, 'y': 197.97662, 'width': 867...   \n",
       "3  001398f4ff4f  [{'x': 2729, 'y': 2181.33331, 'width': 948.000...   \n",
       "4  001bd15d1891  [{'x': 623.23328, 'y': 1050, 'width': 714, 'he...   \n",
       "\n",
       "                                               label StudyInstanceUID  \\\n",
       "0  opacity 1 789.28836 582.43035 1815.94498 2499....     5776db0cec75   \n",
       "1                                     none 1 0 0 1 1     ff0879eb20ed   \n",
       "2  opacity 1 677.42216 197.97662 1545.21983 1197....     9d514ce429a7   \n",
       "3    opacity 1 2729 2181.33331 3677.00012 2785.33331     28dddc8559b2   \n",
       "4  opacity 1 623.23328 1050 1337.23328 2156 opaci...     dfd9fdd85a3e   \n",
       "\n",
       "   Negative for Pneumonia  Typical Appearance  Indeterminate Appearance  \\\n",
       "0                       0                   1                         0   \n",
       "1                       1                   0                         0   \n",
       "2                       0                   1                         0   \n",
       "3                       0                   0                         0   \n",
       "4                       0                   1                         0   \n",
       "\n",
       "   Atypical Appearance               diagnosis  sparse_gt  \n",
       "0                    0      Typical Appearance          1  \n",
       "1                    0  Negative for Pneumonia          0  \n",
       "2                    0      Typical Appearance          1  \n",
       "3                    1     Atypical Appearance          3  \n",
       "4                    0      Typical Appearance          1  "
      ]
     },
     "metadata": {},
     "output_type": "display_data"
    },
    {
     "name": "stdout",
     "output_type": "stream",
     "text": [
      "(6334, 10)\n"
     ]
    }
   ],
   "source": [
    "study_df = pd.read_csv('../input/siim-covid19-detection/train_study_level.csv'); print(study_df.shape)\n",
    "study_df['StudyInstanceUID'] = study_df['id'].apply(lambda x: x.replace('_study', ''))\n",
    "del study_df['id']\n",
    "\n",
    "def hot_to_sparse(row):\n",
    "    return(row.index[row.apply(lambda x: x==1)][0])\n",
    "study_df['diagnosis'] = study_df.apply(lambda row:hot_to_sparse(row), axis=1)\n",
    "cls = {\n",
    "    'Typical Appearance':1,                    \n",
    "    'Negative for Pneumonia':0,                \n",
    "    'Indeterminate Appearance':2,                     \n",
    "    'Atypical Appearance':3,    \n",
    "}\n",
    "study_df['sparse_gt'] = study_df.diagnosis.map(cls) \n",
    "\n",
    "image_df = pd.read_csv('../input/siim-covid19-detection/train_image_level.csv'); print(image_df.shape)\n",
    "train = image_df.merge(study_df, on='StudyInstanceUID')\n",
    "train['id'] = train['id'].apply(lambda x: x.replace('_image', ''))\n",
    "display(train.head()); print(train.shape)"
   ]
  },
  {
   "cell_type": "code",
   "execution_count": 5,
   "id": "8ed42a5c",
   "metadata": {
    "execution": {
     "iopub.execute_input": "2021-08-08T01:34:01.938642Z",
     "iopub.status.busy": "2021-08-08T01:34:01.937759Z",
     "iopub.status.idle": "2021-08-08T01:34:01.953875Z",
     "shell.execute_reply": "2021-08-08T01:34:01.953219Z",
     "shell.execute_reply.started": "2021-08-08T01:00:28.316037Z"
    },
    "papermill": {
     "duration": 0.095152,
     "end_time": "2021-08-08T01:34:01.954019",
     "exception": false,
     "start_time": "2021-08-08T01:34:01.858867",
     "status": "completed"
    },
    "tags": []
   },
   "outputs": [
    {
     "data": {
      "text/html": [
       "<div>\n",
       "<style scoped>\n",
       "    .dataframe tbody tr th:only-of-type {\n",
       "        vertical-align: middle;\n",
       "    }\n",
       "\n",
       "    .dataframe tbody tr th {\n",
       "        vertical-align: top;\n",
       "    }\n",
       "\n",
       "    .dataframe thead th {\n",
       "        text-align: right;\n",
       "    }\n",
       "</style>\n",
       "<table border=\"1\" class=\"dataframe\">\n",
       "  <thead>\n",
       "    <tr style=\"text-align: right;\">\n",
       "      <th></th>\n",
       "      <th>id</th>\n",
       "      <th>Negative for Pneumonia</th>\n",
       "      <th>Typical Appearance</th>\n",
       "      <th>Indeterminate Appearance</th>\n",
       "      <th>Atypical Appearance</th>\n",
       "      <th>sparse_gt</th>\n",
       "    </tr>\n",
       "  </thead>\n",
       "  <tbody>\n",
       "    <tr>\n",
       "      <th>0</th>\n",
       "      <td>000a312787f2</td>\n",
       "      <td>0</td>\n",
       "      <td>1</td>\n",
       "      <td>0</td>\n",
       "      <td>0</td>\n",
       "      <td>1</td>\n",
       "    </tr>\n",
       "    <tr>\n",
       "      <th>1</th>\n",
       "      <td>000c3a3f293f</td>\n",
       "      <td>1</td>\n",
       "      <td>0</td>\n",
       "      <td>0</td>\n",
       "      <td>0</td>\n",
       "      <td>0</td>\n",
       "    </tr>\n",
       "    <tr>\n",
       "      <th>2</th>\n",
       "      <td>0012ff7358bc</td>\n",
       "      <td>0</td>\n",
       "      <td>1</td>\n",
       "      <td>0</td>\n",
       "      <td>0</td>\n",
       "      <td>1</td>\n",
       "    </tr>\n",
       "    <tr>\n",
       "      <th>3</th>\n",
       "      <td>001398f4ff4f</td>\n",
       "      <td>0</td>\n",
       "      <td>0</td>\n",
       "      <td>0</td>\n",
       "      <td>1</td>\n",
       "      <td>3</td>\n",
       "    </tr>\n",
       "    <tr>\n",
       "      <th>4</th>\n",
       "      <td>001bd15d1891</td>\n",
       "      <td>0</td>\n",
       "      <td>1</td>\n",
       "      <td>0</td>\n",
       "      <td>0</td>\n",
       "      <td>1</td>\n",
       "    </tr>\n",
       "  </tbody>\n",
       "</table>\n",
       "</div>"
      ],
      "text/plain": [
       "             id  Negative for Pneumonia  Typical Appearance  \\\n",
       "0  000a312787f2                       0                   1   \n",
       "1  000c3a3f293f                       1                   0   \n",
       "2  0012ff7358bc                       0                   1   \n",
       "3  001398f4ff4f                       0                   0   \n",
       "4  001bd15d1891                       0                   1   \n",
       "\n",
       "   Indeterminate Appearance  Atypical Appearance  sparse_gt  \n",
       "0                         0                    0          1  \n",
       "1                         0                    0          0  \n",
       "2                         0                    0          1  \n",
       "3                         0                    1          3  \n",
       "4                         0                    0          1  "
      ]
     },
     "execution_count": 5,
     "metadata": {},
     "output_type": "execute_result"
    }
   ],
   "source": [
    "train = train[['id', 'Negative for Pneumonia', 'Typical Appearance', 'Indeterminate Appearance', 'Atypical Appearance', 'sparse_gt']]\n",
    "train.head()"
   ]
  },
  {
   "cell_type": "code",
   "execution_count": 6,
   "id": "01fc8456",
   "metadata": {
    "execution": {
     "iopub.execute_input": "2021-08-08T01:34:02.108712Z",
     "iopub.status.busy": "2021-08-08T01:34:02.107927Z",
     "iopub.status.idle": "2021-08-08T01:34:02.128113Z",
     "shell.execute_reply": "2021-08-08T01:34:02.128692Z",
     "shell.execute_reply.started": "2021-08-08T01:00:28.331754Z"
    },
    "papermill": {
     "duration": 0.099279,
     "end_time": "2021-08-08T01:34:02.128879",
     "exception": false,
     "start_time": "2021-08-08T01:34:02.029600",
     "status": "completed"
    },
    "tags": []
   },
   "outputs": [],
   "source": [
    "duplicates = ['11f46d9df786',\n",
    " 'ba57c39bc15d',\n",
    " 'bd4b6cfeddee',\n",
    " '82c84d5079b7',\n",
    " 'a27a126be5c1',\n",
    " '3d12cb6aad8b',\n",
    " 'b814a1e29517',\n",
    " '09236f094647',\n",
    " '36b995a9575c',\n",
    " '9cdc2af4fbb0',\n",
    " '779f0040d1b2',\n",
    " 'ef6e312ca719',\n",
    " 'b97c6b32105e',\n",
    " '93301812b0e7',\n",
    " '4c414b793562',\n",
    " 'e6cc65d9de1d',\n",
    " '9fcbe25a88e0',\n",
    " 'f228350bd770',\n",
    " '59bd5a00b33e',\n",
    " 'fa5e3f933004',\n",
    " 'a8e019dcf085',\n",
    " 'd205dc170ccc',\n",
    " 'a5a364383f34',\n",
    " '9939f63af4ff',\n",
    " '646a6a0a9bf2',\n",
    " '581fd56bc4bf',\n",
    " '629c9a257b43',\n",
    " '2ebe16a053fe',\n",
    " '173c23887f9b',\n",
    " 'ea2117b53323',\n",
    " '57bf106a9e2e',\n",
    " 'b989acc3c046',\n",
    " '12fe8eadded1',\n",
    " '7f9c98b88aec',\n",
    " 'c00c7e8b673c',\n",
    " 'a5bbd30ed109',\n",
    " 'b622f84403da',\n",
    " 'ba375ad92c5f',\n",
    " 'b0fd33e251f5',\n",
    " 'c6e92e59a0ae',\n",
    " 'ef690fe6f288',\n",
    " '6970c59656c9',\n",
    " 'ab55abb953d1',\n",
    " 'd540d6c2a425',\n",
    " '262dc03560d6',\n",
    " 'fc44ab5de22c',\n",
    " 'ce51b397b1a6',\n",
    " '6e9fad584bff',\n",
    " 'a2429a60f3ea',\n",
    " 'b0866caa201a',\n",
    " '7e4a4ef3ff9f',\n",
    " '3577ee4f26c4',\n",
    " '6f54e9cbd180',\n",
    " '57faddfc733e',\n",
    " '6a93346150a4',\n",
    " '611348a721f7',\n",
    " 'c4b2940d2334',\n",
    " 'e007bc90c441',\n",
    " '3cde0ddf01c7',\n",
    " '296aaf716ae0',\n",
    " 'b7eb26ddf5a3',\n",
    " 'e738c549fe8e',\n",
    " '39d52f244db3',\n",
    " 'a9704ce54780',\n",
    " '1701be774ecb',\n",
    " '221ff464c9fc',\n",
    " 'e3f8e3a3baa3',\n",
    " 'be65d1a22de5',\n",
    " '103bd9ed3929',\n",
    " '9108cdfd43dc',\n",
    " '3d2224cb6bb7',\n",
    " 'c4b68b29a072',\n",
    " '6d36ffbc7864',\n",
    " '35da4a5a0201',\n",
    " '341787fb81c7',\n",
    " '6ff218d10741',\n",
    " '68fcf433c6fe',\n",
    " '25400558ba1e',\n",
    " '149356f04849',\n",
    " '39cd89772e5e',\n",
    " '99f3642f50f5',\n",
    " 'c72e26e9ecae',\n",
    " '4b310bbd3cb1',\n",
    " 'f208dc529d16',\n",
    " '4024e564722b',\n",
    " 'cc708f2aaffe',\n",
    " 'dcb374d8387e',\n",
    " '7f1924880cf8',\n",
    " '961f9c368664',\n",
    " '1ea01196514a',\n",
    " '725328925e0f',\n",
    " '35ea2c9841c0',\n",
    " '72e5fbd61953',\n",
    " '75b52bec817f',\n",
    " 'd27bca58e388',\n",
    " '44d7b2e7b0f9',\n",
    " '830063223a31',\n",
    " '0b020a7aff0a',\n",
    " '9d8ccbfb99b7',\n",
    " '082d3af6ecc0',\n",
    " 'eef757610245',\n",
    " 'b77430575510',\n",
    " '321c93d6503f',\n",
    " '0a990c89256a',\n",
    " 'c9a028b48504',\n",
    " 'c636ac67c19a',\n",
    " '76c66ee8e58d',\n",
    " 'cdd9e3aaf45a',\n",
    " '9a9d89ca4aa0',\n",
    " '8b55ea197c78',\n",
    " '30b18db28900',\n",
    " 'a57bf6dd6119',\n",
    " 'e4a78ff8fa73',\n",
    " 'e01d23a04187',\n",
    " '66dabc6f972d',\n",
    " '4cebe94f1fa3',\n",
    " '6792b9b0329d',\n",
    " 'ddff141123c1',\n",
    " '550f057ee0b0',\n",
    " '0102b5cac730',\n",
    " 'e7e072c73e1d',\n",
    " '00e3a7e91a34',\n",
    " '8cbf85033da8',\n",
    " '6f749e2783e1',\n",
    " '4b2f144a1a8b',\n",
    " '783b1efb5675',\n",
    " 'e96133d06736',\n",
    " '869476b0763a',\n",
    " 'e496735126c2',\n",
    " '00c1515729a8',\n",
    " '9a335ce0bca4',\n",
    " '9b1de1c45491',\n",
    " 'd9456aadecbe',\n",
    " '51d04316f2c9',\n",
    " 'fb1e24bf6698',\n",
    " 'b3ffe59e37c7',\n",
    " '16bd0ff2f0cd',\n",
    " '8d4b3609ed92',\n",
    " 'a174a4f6c807',\n",
    " '2a7a456d367e',\n",
    " '1b92142f4362',\n",
    " 'bfefe70b56ca',\n",
    " 'e5fc2fa92e65',\n",
    " '8a38c00672d5',\n",
    " 'a94171e98807',\n",
    " '61d0f2ca0ddd',\n",
    " '0bd6cd815ba9',\n",
    " '1de0ad5314cc',\n",
    " 'e897ef5c203c',\n",
    " '0acec7010081',\n",
    " '3b6ad60071d4',\n",
    " 'b61f3493c551',\n",
    " '267a250932bc',\n",
    " 'a8013eaf16c1',\n",
    " 'e704aebd4ca5',\n",
    " '04cc2f7f4c4b',\n",
    " '3e7b2ffc97db',\n",
    " 'e0e1e1462e56',\n",
    " 'b5aa6189d142',\n",
    " 'cbf0a27f993e',\n",
    " 'ea2688741043',\n",
    " '2204baf77803',\n",
    " '56ff7c4e1f41',\n",
    " '156cb1f5c689',\n",
    " '05c063f5cef5',\n",
    " 'c3a09e8a600d',\n",
    " 'f577c6fb0f49',\n",
    " '8093df07a5d0',\n",
    " '6728e11290af',\n",
    " 'efc93a3917b6',\n",
    " 'c843d08b49b8',\n",
    " '717ea5155b46',\n",
    " '343d445230a1',\n",
    " '50f29acd37a6',\n",
    " 'ea516e218fe6',\n",
    " '582c442e440b',\n",
    " 'f9a92f1ba934',\n",
    " 'bdd3115879aa',\n",
    " '68ad4b624a6d',\n",
    " 'a323f1604ae2',\n",
    " 'bb52c80c7f45',\n",
    " '0b858129adb4',\n",
    " '26c6c25e9467',\n",
    " '91f72df96e13',\n",
    " '19c6397cdec9',\n",
    " '6861c5992717',\n",
    " 'deea6d6f81a5',\n",
    " '106632672b95',\n",
    " '6534a837497d',\n",
    " '684230477525',\n",
    " 'df3d32c8df06',\n",
    " '3f0879b045e7',\n",
    " '505693d77a18',\n",
    " 'a39667fe9a81',\n",
    " '2c130ee08736',\n",
    " 'c9a9e5e120bd',\n",
    " 'bb36f3d3ac71',\n",
    " '1c96d9b08487',\n",
    " 'daa9bddc5fe6',\n",
    " 'e73f2cc047ad',\n",
    " 'e60a47d36e62',\n",
    " '6366191bfe49',\n",
    " 'd180fed57716',\n",
    " '866e3622cb24',\n",
    " '55839276a9c9',\n",
    " 'fa3a7fe547ca',\n",
    " '59bc532be971',\n",
    " '424118f1afc8',\n",
    " '6ddf030ec946',\n",
    " '3d0bac303fc8',\n",
    " 'f689d30c2f86',\n",
    " '8c7bdccb65ed',\n",
    " 'df4f1240317e',\n",
    " '25ff5d625b35',\n",
    " '75f207c4945d',\n",
    " '35e398a5a431',\n",
    " '5d395fff6278',\n",
    " 'e3e2f20e0264',\n",
    " '99e8636292c9',\n",
    " 'de94a43e947f',\n",
    " 'a5beac3d9fb4',\n",
    " 'd19ed8d811ad',\n",
    " 'bf2417586cf2',\n",
    " '72cf260ddf4c',\n",
    " 'f5451a98d684',\n",
    " 'aad814e52627',\n",
    " '32222cc776a2',\n",
    " '608d574388ba',\n",
    " '9872a8a48f23',\n",
    " 'f7f759f7a4f1',\n",
    " '88e7702b49c4',\n",
    " 'dfd9078a4c6d',\n",
    " 'd4131bd4e64a',\n",
    " '1a0e966f2d57',\n",
    " '9f50edab452b',\n",
    " '4cf41c062d0c',\n",
    " '13bf9d719ad1',\n",
    " '0eb641cb0dcd',\n",
    " 'a2ee4b862182',\n",
    " '61e618dc7f9a',\n",
    " '467f412db5c4',\n",
    " '990216aa9f08',\n",
    " '3d047361508c',\n",
    " '08acae0bf785',\n",
    " '0dd32589bdc3',\n",
    " '9f180629878a',\n",
    " '6e5946091b8a',\n",
    " 'f3ce7a4cfd20',\n",
    " 'f85fe770048a',\n",
    " 'cf0cdff4ef2e',\n",
    " 'df2bb22fa871',\n",
    " '0d4d6acc9ed3',\n",
    " '45ff2dfff073',\n",
    " 'd54f6204b044',\n",
    " 'eea3a910fa9e',\n",
    " '3d19da0d4ee6',\n",
    " 'c3510a436bff',\n",
    " '4cbc17936e7d',\n",
    " 'b121806162c3',\n",
    " 'e5380eb2d925',\n",
    " '2f973757eaa4',\n",
    " 'b5a415f70aa9',\n",
    " 'cc69791740bb',\n",
    " 'a1fa5f79671d',\n",
    " 'dbc311ed04b5',\n",
    " '744427c7dff8',\n",
    " '49664f078f0e',\n",
    " 'bee62c601ae9',\n",
    " 'e441b1fb74ee',\n",
    " '8df453b7557c',\n",
    " '7626c521cad7',\n",
    " '33a72bfb5ddb',\n",
    " '56ed68c28819',\n",
    " '04a0b90d7875',\n",
    " '08932dca1447',\n",
    " 'daae293a8b40',\n",
    " 'c0400d0e413d',\n",
    " 'ddb051c1233b',\n",
    " 'f13f9ace0a9a',\n",
    " '9c0633ef606b']"
   ]
  },
  {
   "cell_type": "code",
   "execution_count": 7,
   "id": "80f29ab8",
   "metadata": {
    "execution": {
     "iopub.execute_input": "2021-08-08T01:34:02.296764Z",
     "iopub.status.busy": "2021-08-08T01:34:02.295786Z",
     "iopub.status.idle": "2021-08-08T01:34:02.305306Z",
     "shell.execute_reply": "2021-08-08T01:34:02.306123Z",
     "shell.execute_reply.started": "2021-08-08T01:00:28.355191Z"
    },
    "papermill": {
     "duration": 0.099659,
     "end_time": "2021-08-08T01:34:02.306413",
     "exception": false,
     "start_time": "2021-08-08T01:34:02.206754",
     "status": "completed"
    },
    "tags": []
   },
   "outputs": [
    {
     "data": {
      "text/plain": [
       "280"
      ]
     },
     "execution_count": 7,
     "metadata": {},
     "output_type": "execute_result"
    }
   ],
   "source": [
    "len(duplicates)"
   ]
  },
  {
   "cell_type": "code",
   "execution_count": 8,
   "id": "c060e791",
   "metadata": {
    "execution": {
     "iopub.execute_input": "2021-08-08T01:34:02.476932Z",
     "iopub.status.busy": "2021-08-08T01:34:02.476262Z",
     "iopub.status.idle": "2021-08-08T01:34:02.481128Z",
     "shell.execute_reply": "2021-08-08T01:34:02.481694Z",
     "shell.execute_reply.started": "2021-08-08T01:00:28.374623Z"
    },
    "papermill": {
     "duration": 0.082795,
     "end_time": "2021-08-08T01:34:02.481878",
     "exception": false,
     "start_time": "2021-08-08T01:34:02.399083",
     "status": "completed"
    },
    "tags": []
   },
   "outputs": [],
   "source": [
    "all_files = list(train.id.values)"
   ]
  },
  {
   "cell_type": "code",
   "execution_count": 9,
   "id": "98743edf",
   "metadata": {
    "execution": {
     "iopub.execute_input": "2021-08-08T01:34:02.635826Z",
     "iopub.status.busy": "2021-08-08T01:34:02.635116Z",
     "iopub.status.idle": "2021-08-08T01:34:02.657924Z",
     "shell.execute_reply": "2021-08-08T01:34:02.658858Z",
     "shell.execute_reply.started": "2021-08-08T01:00:28.385992Z"
    },
    "papermill": {
     "duration": 0.100965,
     "end_time": "2021-08-08T01:34:02.659083",
     "exception": false,
     "start_time": "2021-08-08T01:34:02.558118",
     "status": "completed"
    },
    "tags": []
   },
   "outputs": [],
   "source": [
    "for i in duplicates:\n",
    "    all_files.remove(i)"
   ]
  },
  {
   "cell_type": "code",
   "execution_count": 10,
   "id": "6c63f789",
   "metadata": {
    "execution": {
     "iopub.execute_input": "2021-08-08T01:34:02.812843Z",
     "iopub.status.busy": "2021-08-08T01:34:02.812080Z",
     "iopub.status.idle": "2021-08-08T01:34:02.818489Z",
     "shell.execute_reply": "2021-08-08T01:34:02.817807Z",
     "shell.execute_reply.started": "2021-08-08T01:00:28.415617Z"
    },
    "papermill": {
     "duration": 0.083794,
     "end_time": "2021-08-08T01:34:02.818639",
     "exception": false,
     "start_time": "2021-08-08T01:34:02.734845",
     "status": "completed"
    },
    "tags": []
   },
   "outputs": [
    {
     "data": {
      "text/plain": [
       "6054"
      ]
     },
     "execution_count": 10,
     "metadata": {},
     "output_type": "execute_result"
    }
   ],
   "source": [
    "len(all_files)"
   ]
  },
  {
   "cell_type": "code",
   "execution_count": 11,
   "id": "6262b6f4",
   "metadata": {
    "execution": {
     "iopub.execute_input": "2021-08-08T01:34:02.971259Z",
     "iopub.status.busy": "2021-08-08T01:34:02.970406Z",
     "iopub.status.idle": "2021-08-08T01:34:02.975994Z",
     "shell.execute_reply": "2021-08-08T01:34:02.976568Z",
     "shell.execute_reply.started": "2021-08-08T01:00:28.428928Z"
    },
    "papermill": {
     "duration": 0.083503,
     "end_time": "2021-08-08T01:34:02.976749",
     "exception": false,
     "start_time": "2021-08-08T01:34:02.893246",
     "status": "completed"
    },
    "tags": []
   },
   "outputs": [],
   "source": [
    "final_df = pd.DataFrame({'id':all_files})"
   ]
  },
  {
   "cell_type": "code",
   "execution_count": 12,
   "id": "15693d2c",
   "metadata": {
    "execution": {
     "iopub.execute_input": "2021-08-08T01:34:03.132494Z",
     "iopub.status.busy": "2021-08-08T01:34:03.131791Z",
     "iopub.status.idle": "2021-08-08T01:34:03.144819Z",
     "shell.execute_reply": "2021-08-08T01:34:03.145363Z",
     "shell.execute_reply.started": "2021-08-08T01:00:28.445029Z"
    },
    "papermill": {
     "duration": 0.093058,
     "end_time": "2021-08-08T01:34:03.145536",
     "exception": false,
     "start_time": "2021-08-08T01:34:03.052478",
     "status": "completed"
    },
    "tags": []
   },
   "outputs": [],
   "source": [
    "train_df = pd.merge(final_df, train, how='left', on='id')"
   ]
  },
  {
   "cell_type": "code",
   "execution_count": 13,
   "id": "367e2e80",
   "metadata": {
    "execution": {
     "iopub.execute_input": "2021-08-08T01:34:03.303406Z",
     "iopub.status.busy": "2021-08-08T01:34:03.302574Z",
     "iopub.status.idle": "2021-08-08T01:34:03.306730Z",
     "shell.execute_reply": "2021-08-08T01:34:03.306135Z",
     "shell.execute_reply.started": "2021-08-08T01:00:28.467316Z"
    },
    "papermill": {
     "duration": 0.08512,
     "end_time": "2021-08-08T01:34:03.306877",
     "exception": false,
     "start_time": "2021-08-08T01:34:03.221757",
     "status": "completed"
    },
    "tags": []
   },
   "outputs": [
    {
     "data": {
      "text/plain": [
       "6054"
      ]
     },
     "execution_count": 13,
     "metadata": {},
     "output_type": "execute_result"
    }
   ],
   "source": [
    "len(train_df)"
   ]
  },
  {
   "cell_type": "code",
   "execution_count": 14,
   "id": "30f93a4b",
   "metadata": {
    "execution": {
     "iopub.execute_input": "2021-08-08T01:34:03.468862Z",
     "iopub.status.busy": "2021-08-08T01:34:03.467926Z",
     "iopub.status.idle": "2021-08-08T01:34:03.472124Z",
     "shell.execute_reply": "2021-08-08T01:34:03.472601Z",
     "shell.execute_reply.started": "2021-08-08T01:00:28.478742Z"
    },
    "papermill": {
     "duration": 0.090823,
     "end_time": "2021-08-08T01:34:03.472794",
     "exception": false,
     "start_time": "2021-08-08T01:34:03.381971",
     "status": "completed"
    },
    "tags": []
   },
   "outputs": [
    {
     "data": {
      "text/html": [
       "<div>\n",
       "<style scoped>\n",
       "    .dataframe tbody tr th:only-of-type {\n",
       "        vertical-align: middle;\n",
       "    }\n",
       "\n",
       "    .dataframe tbody tr th {\n",
       "        vertical-align: top;\n",
       "    }\n",
       "\n",
       "    .dataframe thead th {\n",
       "        text-align: right;\n",
       "    }\n",
       "</style>\n",
       "<table border=\"1\" class=\"dataframe\">\n",
       "  <thead>\n",
       "    <tr style=\"text-align: right;\">\n",
       "      <th></th>\n",
       "      <th>id</th>\n",
       "      <th>Negative for Pneumonia</th>\n",
       "      <th>Typical Appearance</th>\n",
       "      <th>Indeterminate Appearance</th>\n",
       "      <th>Atypical Appearance</th>\n",
       "      <th>sparse_gt</th>\n",
       "    </tr>\n",
       "  </thead>\n",
       "  <tbody>\n",
       "    <tr>\n",
       "      <th>0</th>\n",
       "      <td>000a312787f2</td>\n",
       "      <td>0</td>\n",
       "      <td>1</td>\n",
       "      <td>0</td>\n",
       "      <td>0</td>\n",
       "      <td>1</td>\n",
       "    </tr>\n",
       "    <tr>\n",
       "      <th>1</th>\n",
       "      <td>000c3a3f293f</td>\n",
       "      <td>1</td>\n",
       "      <td>0</td>\n",
       "      <td>0</td>\n",
       "      <td>0</td>\n",
       "      <td>0</td>\n",
       "    </tr>\n",
       "    <tr>\n",
       "      <th>2</th>\n",
       "      <td>0012ff7358bc</td>\n",
       "      <td>0</td>\n",
       "      <td>1</td>\n",
       "      <td>0</td>\n",
       "      <td>0</td>\n",
       "      <td>1</td>\n",
       "    </tr>\n",
       "    <tr>\n",
       "      <th>3</th>\n",
       "      <td>001398f4ff4f</td>\n",
       "      <td>0</td>\n",
       "      <td>0</td>\n",
       "      <td>0</td>\n",
       "      <td>1</td>\n",
       "      <td>3</td>\n",
       "    </tr>\n",
       "    <tr>\n",
       "      <th>4</th>\n",
       "      <td>001bd15d1891</td>\n",
       "      <td>0</td>\n",
       "      <td>1</td>\n",
       "      <td>0</td>\n",
       "      <td>0</td>\n",
       "      <td>1</td>\n",
       "    </tr>\n",
       "  </tbody>\n",
       "</table>\n",
       "</div>"
      ],
      "text/plain": [
       "             id  Negative for Pneumonia  Typical Appearance  \\\n",
       "0  000a312787f2                       0                   1   \n",
       "1  000c3a3f293f                       1                   0   \n",
       "2  0012ff7358bc                       0                   1   \n",
       "3  001398f4ff4f                       0                   0   \n",
       "4  001bd15d1891                       0                   1   \n",
       "\n",
       "   Indeterminate Appearance  Atypical Appearance  sparse_gt  \n",
       "0                         0                    0          1  \n",
       "1                         0                    0          0  \n",
       "2                         0                    0          1  \n",
       "3                         0                    1          3  \n",
       "4                         0                    0          1  "
      ]
     },
     "execution_count": 14,
     "metadata": {},
     "output_type": "execute_result"
    }
   ],
   "source": [
    "train_df.head()"
   ]
  },
  {
   "cell_type": "code",
   "execution_count": 15,
   "id": "7e4642d2",
   "metadata": {
    "execution": {
     "iopub.execute_input": "2021-08-08T01:34:03.640085Z",
     "iopub.status.busy": "2021-08-08T01:34:03.636445Z",
     "iopub.status.idle": "2021-08-08T01:34:03.643651Z",
     "shell.execute_reply": "2021-08-08T01:34:03.644171Z",
     "shell.execute_reply.started": "2021-08-08T01:00:28.498409Z"
    },
    "papermill": {
     "duration": 0.097193,
     "end_time": "2021-08-08T01:34:03.644364",
     "exception": false,
     "start_time": "2021-08-08T01:34:03.547171",
     "status": "completed"
    },
    "tags": []
   },
   "outputs": [
    {
     "data": {
      "text/plain": [
       "id                          000a312787f2000c3a3f293f0012ff7358bc001398f4ff...\n",
       "Negative for Pneumonia                                                   1676\n",
       "Typical Appearance                                                       2855\n",
       "Indeterminate Appearance                                                 1049\n",
       "Atypical Appearance                                                       474\n",
       "sparse_gt                                                                6375\n",
       "dtype: object"
      ]
     },
     "execution_count": 15,
     "metadata": {},
     "output_type": "execute_result"
    }
   ],
   "source": [
    "train_df.sum()"
   ]
  },
  {
   "cell_type": "markdown",
   "id": "c6cbcb0b",
   "metadata": {
    "papermill": {
     "duration": 0.074857,
     "end_time": "2021-08-08T01:34:03.796101",
     "exception": false,
     "start_time": "2021-08-08T01:34:03.721244",
     "status": "completed"
    },
    "tags": []
   },
   "source": [
    "## VinBig"
   ]
  },
  {
   "cell_type": "code",
   "execution_count": 16,
   "id": "a2b590da",
   "metadata": {
    "execution": {
     "iopub.execute_input": "2021-08-08T01:34:03.950646Z",
     "iopub.status.busy": "2021-08-08T01:34:03.949959Z",
     "iopub.status.idle": "2021-08-08T01:34:04.161041Z",
     "shell.execute_reply": "2021-08-08T01:34:04.161586Z",
     "shell.execute_reply.started": "2021-08-08T01:00:28.526850Z"
    },
    "papermill": {
     "duration": 0.290075,
     "end_time": "2021-08-08T01:34:04.161781",
     "exception": false,
     "start_time": "2021-08-08T01:34:03.871706",
     "status": "completed"
    },
    "tags": []
   },
   "outputs": [
    {
     "data": {
      "text/html": [
       "<div>\n",
       "<style scoped>\n",
       "    .dataframe tbody tr th:only-of-type {\n",
       "        vertical-align: middle;\n",
       "    }\n",
       "\n",
       "    .dataframe tbody tr th {\n",
       "        vertical-align: top;\n",
       "    }\n",
       "\n",
       "    .dataframe thead th {\n",
       "        text-align: right;\n",
       "    }\n",
       "</style>\n",
       "<table border=\"1\" class=\"dataframe\">\n",
       "  <thead>\n",
       "    <tr style=\"text-align: right;\">\n",
       "      <th></th>\n",
       "      <th>image_id</th>\n",
       "      <th>class_name</th>\n",
       "      <th>class_id</th>\n",
       "      <th>rad_id</th>\n",
       "      <th>x_min</th>\n",
       "      <th>y_min</th>\n",
       "      <th>x_max</th>\n",
       "      <th>y_max</th>\n",
       "    </tr>\n",
       "  </thead>\n",
       "  <tbody>\n",
       "    <tr>\n",
       "      <th>0</th>\n",
       "      <td>50a418190bc3fb1ef1633bf9678929b3</td>\n",
       "      <td>No finding</td>\n",
       "      <td>14</td>\n",
       "      <td>R11</td>\n",
       "      <td>NaN</td>\n",
       "      <td>NaN</td>\n",
       "      <td>NaN</td>\n",
       "      <td>NaN</td>\n",
       "    </tr>\n",
       "    <tr>\n",
       "      <th>1</th>\n",
       "      <td>21a10246a5ec7af151081d0cd6d65dc9</td>\n",
       "      <td>No finding</td>\n",
       "      <td>14</td>\n",
       "      <td>R7</td>\n",
       "      <td>NaN</td>\n",
       "      <td>NaN</td>\n",
       "      <td>NaN</td>\n",
       "      <td>NaN</td>\n",
       "    </tr>\n",
       "    <tr>\n",
       "      <th>2</th>\n",
       "      <td>9a5094b2563a1ef3ff50dc5c7ff71345</td>\n",
       "      <td>Cardiomegaly</td>\n",
       "      <td>3</td>\n",
       "      <td>R10</td>\n",
       "      <td>691.0</td>\n",
       "      <td>1375.0</td>\n",
       "      <td>1653.0</td>\n",
       "      <td>1831.0</td>\n",
       "    </tr>\n",
       "    <tr>\n",
       "      <th>3</th>\n",
       "      <td>051132a778e61a86eb147c7c6f564dfe</td>\n",
       "      <td>Aortic enlargement</td>\n",
       "      <td>0</td>\n",
       "      <td>R10</td>\n",
       "      <td>1264.0</td>\n",
       "      <td>743.0</td>\n",
       "      <td>1611.0</td>\n",
       "      <td>1019.0</td>\n",
       "    </tr>\n",
       "    <tr>\n",
       "      <th>4</th>\n",
       "      <td>063319de25ce7edb9b1c6b8881290140</td>\n",
       "      <td>No finding</td>\n",
       "      <td>14</td>\n",
       "      <td>R10</td>\n",
       "      <td>NaN</td>\n",
       "      <td>NaN</td>\n",
       "      <td>NaN</td>\n",
       "      <td>NaN</td>\n",
       "    </tr>\n",
       "  </tbody>\n",
       "</table>\n",
       "</div>"
      ],
      "text/plain": [
       "                           image_id          class_name  class_id rad_id  \\\n",
       "0  50a418190bc3fb1ef1633bf9678929b3          No finding        14    R11   \n",
       "1  21a10246a5ec7af151081d0cd6d65dc9          No finding        14     R7   \n",
       "2  9a5094b2563a1ef3ff50dc5c7ff71345        Cardiomegaly         3    R10   \n",
       "3  051132a778e61a86eb147c7c6f564dfe  Aortic enlargement         0    R10   \n",
       "4  063319de25ce7edb9b1c6b8881290140          No finding        14    R10   \n",
       "\n",
       "    x_min   y_min   x_max   y_max  \n",
       "0     NaN     NaN     NaN     NaN  \n",
       "1     NaN     NaN     NaN     NaN  \n",
       "2   691.0  1375.0  1653.0  1831.0  \n",
       "3  1264.0   743.0  1611.0  1019.0  \n",
       "4     NaN     NaN     NaN     NaN  "
      ]
     },
     "execution_count": 16,
     "metadata": {},
     "output_type": "execute_result"
    }
   ],
   "source": [
    "vin = pd.read_csv('../input/vinbigdata-chest-xray-abnormalities-detection/train.csv')\n",
    "vin.head()"
   ]
  },
  {
   "cell_type": "code",
   "execution_count": 17,
   "id": "ffcb9d8c",
   "metadata": {
    "execution": {
     "iopub.execute_input": "2021-08-08T01:34:04.322949Z",
     "iopub.status.busy": "2021-08-08T01:34:04.321941Z",
     "iopub.status.idle": "2021-08-08T01:34:04.326454Z",
     "shell.execute_reply": "2021-08-08T01:34:04.325769Z",
     "shell.execute_reply.started": "2021-08-08T01:00:28.714914Z"
    },
    "papermill": {
     "duration": 0.0878,
     "end_time": "2021-08-08T01:34:04.326607",
     "exception": false,
     "start_time": "2021-08-08T01:34:04.238807",
     "status": "completed"
    },
    "tags": []
   },
   "outputs": [
    {
     "data": {
      "text/plain": [
       "(67914, 8)"
      ]
     },
     "execution_count": 17,
     "metadata": {},
     "output_type": "execute_result"
    }
   ],
   "source": [
    "vin.shape"
   ]
  },
  {
   "cell_type": "code",
   "execution_count": 18,
   "id": "7af8e650",
   "metadata": {
    "execution": {
     "iopub.execute_input": "2021-08-08T01:34:04.487223Z",
     "iopub.status.busy": "2021-08-08T01:34:04.484967Z",
     "iopub.status.idle": "2021-08-08T01:34:04.490779Z",
     "shell.execute_reply": "2021-08-08T01:34:04.490085Z",
     "shell.execute_reply.started": "2021-08-08T01:00:28.722444Z"
    },
    "papermill": {
     "duration": 0.087595,
     "end_time": "2021-08-08T01:34:04.490918",
     "exception": false,
     "start_time": "2021-08-08T01:34:04.403323",
     "status": "completed"
    },
    "tags": []
   },
   "outputs": [],
   "source": [
    "vin = vin.iloc[:,:4]"
   ]
  },
  {
   "cell_type": "code",
   "execution_count": 19,
   "id": "19114c4f",
   "metadata": {
    "execution": {
     "iopub.execute_input": "2021-08-08T01:34:04.657962Z",
     "iopub.status.busy": "2021-08-08T01:34:04.657298Z",
     "iopub.status.idle": "2021-08-08T01:34:04.704859Z",
     "shell.execute_reply": "2021-08-08T01:34:04.704162Z",
     "shell.execute_reply.started": "2021-08-08T01:00:28.736267Z"
    },
    "papermill": {
     "duration": 0.137187,
     "end_time": "2021-08-08T01:34:04.705004",
     "exception": false,
     "start_time": "2021-08-08T01:34:04.567817",
     "status": "completed"
    },
    "tags": []
   },
   "outputs": [
    {
     "data": {
      "text/html": [
       "<div>\n",
       "<style scoped>\n",
       "    .dataframe tbody tr th:only-of-type {\n",
       "        vertical-align: middle;\n",
       "    }\n",
       "\n",
       "    .dataframe tbody tr th {\n",
       "        vertical-align: top;\n",
       "    }\n",
       "\n",
       "    .dataframe thead th {\n",
       "        text-align: right;\n",
       "    }\n",
       "</style>\n",
       "<table border=\"1\" class=\"dataframe\">\n",
       "  <thead>\n",
       "    <tr style=\"text-align: right;\">\n",
       "      <th></th>\n",
       "      <th>image_id</th>\n",
       "      <th>class_name</th>\n",
       "      <th>class_id</th>\n",
       "      <th>rad_id</th>\n",
       "    </tr>\n",
       "  </thead>\n",
       "  <tbody>\n",
       "    <tr>\n",
       "      <th>575</th>\n",
       "      <td>d7aea6f37597df566725da73655edcc2</td>\n",
       "      <td>Pleural thickening</td>\n",
       "      <td>11</td>\n",
       "      <td>R10</td>\n",
       "    </tr>\n",
       "    <tr>\n",
       "      <th>1303</th>\n",
       "      <td>50708867ca7d310f7a521c99e8404366</td>\n",
       "      <td>Pleural effusion</td>\n",
       "      <td>10</td>\n",
       "      <td>R10</td>\n",
       "    </tr>\n",
       "    <tr>\n",
       "      <th>1344</th>\n",
       "      <td>ce5e76544b8c1d0ec34783b0f1bc471d</td>\n",
       "      <td>Nodule/Mass</td>\n",
       "      <td>8</td>\n",
       "      <td>R9</td>\n",
       "    </tr>\n",
       "    <tr>\n",
       "      <th>1399</th>\n",
       "      <td>ab11a974837f5313912804939bfae79e</td>\n",
       "      <td>Nodule/Mass</td>\n",
       "      <td>8</td>\n",
       "      <td>R8</td>\n",
       "    </tr>\n",
       "    <tr>\n",
       "      <th>1405</th>\n",
       "      <td>bc2be005526db7ab9d5ec6741ddee945</td>\n",
       "      <td>Pleural thickening</td>\n",
       "      <td>11</td>\n",
       "      <td>R10</td>\n",
       "    </tr>\n",
       "    <tr>\n",
       "      <th>...</th>\n",
       "      <td>...</td>\n",
       "      <td>...</td>\n",
       "      <td>...</td>\n",
       "      <td>...</td>\n",
       "    </tr>\n",
       "    <tr>\n",
       "      <th>67897</th>\n",
       "      <td>857b9d89572e03adb17d0630b33709ea</td>\n",
       "      <td>Pleural thickening</td>\n",
       "      <td>11</td>\n",
       "      <td>R9</td>\n",
       "    </tr>\n",
       "    <tr>\n",
       "      <th>67899</th>\n",
       "      <td>3b887c0550e9722c9b86b7c22ad09e11</td>\n",
       "      <td>Other lesion</td>\n",
       "      <td>9</td>\n",
       "      <td>R10</td>\n",
       "    </tr>\n",
       "    <tr>\n",
       "      <th>67906</th>\n",
       "      <td>26d1d5a0ef2e692c6340e74859ffdc53</td>\n",
       "      <td>Pulmonary fibrosis</td>\n",
       "      <td>13</td>\n",
       "      <td>R10</td>\n",
       "    </tr>\n",
       "    <tr>\n",
       "      <th>67907</th>\n",
       "      <td>22672ab82c290c20b86863291e25ef6c</td>\n",
       "      <td>ILD</td>\n",
       "      <td>5</td>\n",
       "      <td>R9</td>\n",
       "    </tr>\n",
       "    <tr>\n",
       "      <th>67908</th>\n",
       "      <td>db169d0be36123bd55b866d6aa73983b</td>\n",
       "      <td>Other lesion</td>\n",
       "      <td>9</td>\n",
       "      <td>R8</td>\n",
       "    </tr>\n",
       "  </tbody>\n",
       "</table>\n",
       "<p>6640 rows × 4 columns</p>\n",
       "</div>"
      ],
      "text/plain": [
       "                               image_id          class_name  class_id rad_id\n",
       "575    d7aea6f37597df566725da73655edcc2  Pleural thickening        11    R10\n",
       "1303   50708867ca7d310f7a521c99e8404366    Pleural effusion        10    R10\n",
       "1344   ce5e76544b8c1d0ec34783b0f1bc471d         Nodule/Mass         8     R9\n",
       "1399   ab11a974837f5313912804939bfae79e         Nodule/Mass         8     R8\n",
       "1405   bc2be005526db7ab9d5ec6741ddee945  Pleural thickening        11    R10\n",
       "...                                 ...                 ...       ...    ...\n",
       "67897  857b9d89572e03adb17d0630b33709ea  Pleural thickening        11     R9\n",
       "67899  3b887c0550e9722c9b86b7c22ad09e11        Other lesion         9    R10\n",
       "67906  26d1d5a0ef2e692c6340e74859ffdc53  Pulmonary fibrosis        13    R10\n",
       "67907  22672ab82c290c20b86863291e25ef6c                 ILD         5     R9\n",
       "67908  db169d0be36123bd55b866d6aa73983b        Other lesion         9     R8\n",
       "\n",
       "[6640 rows x 4 columns]"
      ]
     },
     "execution_count": 19,
     "metadata": {},
     "output_type": "execute_result"
    }
   ],
   "source": [
    "vin[vin.duplicated()]"
   ]
  },
  {
   "cell_type": "code",
   "execution_count": 20,
   "id": "3f3c3622",
   "metadata": {
    "execution": {
     "iopub.execute_input": "2021-08-08T01:34:04.898631Z",
     "iopub.status.busy": "2021-08-08T01:34:04.897577Z",
     "iopub.status.idle": "2021-08-08T01:34:04.905212Z",
     "shell.execute_reply": "2021-08-08T01:34:04.904065Z",
     "shell.execute_reply.started": "2021-08-08T01:00:28.789810Z"
    },
    "papermill": {
     "duration": 0.123404,
     "end_time": "2021-08-08T01:34:04.905444",
     "exception": false,
     "start_time": "2021-08-08T01:34:04.782040",
     "status": "completed"
    },
    "tags": []
   },
   "outputs": [
    {
     "data": {
      "text/html": [
       "<div>\n",
       "<style scoped>\n",
       "    .dataframe tbody tr th:only-of-type {\n",
       "        vertical-align: middle;\n",
       "    }\n",
       "\n",
       "    .dataframe tbody tr th {\n",
       "        vertical-align: top;\n",
       "    }\n",
       "\n",
       "    .dataframe thead th {\n",
       "        text-align: right;\n",
       "    }\n",
       "</style>\n",
       "<table border=\"1\" class=\"dataframe\">\n",
       "  <thead>\n",
       "    <tr style=\"text-align: right;\">\n",
       "      <th></th>\n",
       "      <th>image_id</th>\n",
       "      <th>class_name</th>\n",
       "      <th>class_id</th>\n",
       "      <th>rad_id</th>\n",
       "    </tr>\n",
       "  </thead>\n",
       "  <tbody>\n",
       "    <tr>\n",
       "      <th>37</th>\n",
       "      <td>d7aea6f37597df566725da73655edcc2</td>\n",
       "      <td>Infiltration</td>\n",
       "      <td>6</td>\n",
       "      <td>R8</td>\n",
       "    </tr>\n",
       "    <tr>\n",
       "      <th>569</th>\n",
       "      <td>d7aea6f37597df566725da73655edcc2</td>\n",
       "      <td>Pleural thickening</td>\n",
       "      <td>11</td>\n",
       "      <td>R10</td>\n",
       "    </tr>\n",
       "    <tr>\n",
       "      <th>575</th>\n",
       "      <td>d7aea6f37597df566725da73655edcc2</td>\n",
       "      <td>Pleural thickening</td>\n",
       "      <td>11</td>\n",
       "      <td>R10</td>\n",
       "    </tr>\n",
       "    <tr>\n",
       "      <th>5560</th>\n",
       "      <td>d7aea6f37597df566725da73655edcc2</td>\n",
       "      <td>Infiltration</td>\n",
       "      <td>6</td>\n",
       "      <td>R10</td>\n",
       "    </tr>\n",
       "    <tr>\n",
       "      <th>14003</th>\n",
       "      <td>d7aea6f37597df566725da73655edcc2</td>\n",
       "      <td>Cardiomegaly</td>\n",
       "      <td>3</td>\n",
       "      <td>R10</td>\n",
       "    </tr>\n",
       "    <tr>\n",
       "      <th>17940</th>\n",
       "      <td>d7aea6f37597df566725da73655edcc2</td>\n",
       "      <td>Pleural effusion</td>\n",
       "      <td>10</td>\n",
       "      <td>R8</td>\n",
       "    </tr>\n",
       "    <tr>\n",
       "      <th>23221</th>\n",
       "      <td>d7aea6f37597df566725da73655edcc2</td>\n",
       "      <td>Aortic enlargement</td>\n",
       "      <td>0</td>\n",
       "      <td>R10</td>\n",
       "    </tr>\n",
       "    <tr>\n",
       "      <th>31900</th>\n",
       "      <td>d7aea6f37597df566725da73655edcc2</td>\n",
       "      <td>Infiltration</td>\n",
       "      <td>6</td>\n",
       "      <td>R9</td>\n",
       "    </tr>\n",
       "    <tr>\n",
       "      <th>36681</th>\n",
       "      <td>d7aea6f37597df566725da73655edcc2</td>\n",
       "      <td>Aortic enlargement</td>\n",
       "      <td>0</td>\n",
       "      <td>R9</td>\n",
       "    </tr>\n",
       "    <tr>\n",
       "      <th>39794</th>\n",
       "      <td>d7aea6f37597df566725da73655edcc2</td>\n",
       "      <td>Lung Opacity</td>\n",
       "      <td>7</td>\n",
       "      <td>R10</td>\n",
       "    </tr>\n",
       "    <tr>\n",
       "      <th>40203</th>\n",
       "      <td>d7aea6f37597df566725da73655edcc2</td>\n",
       "      <td>Pleural thickening</td>\n",
       "      <td>11</td>\n",
       "      <td>R9</td>\n",
       "    </tr>\n",
       "    <tr>\n",
       "      <th>47049</th>\n",
       "      <td>d7aea6f37597df566725da73655edcc2</td>\n",
       "      <td>Infiltration</td>\n",
       "      <td>6</td>\n",
       "      <td>R10</td>\n",
       "    </tr>\n",
       "    <tr>\n",
       "      <th>48035</th>\n",
       "      <td>d7aea6f37597df566725da73655edcc2</td>\n",
       "      <td>Pleural effusion</td>\n",
       "      <td>10</td>\n",
       "      <td>R10</td>\n",
       "    </tr>\n",
       "    <tr>\n",
       "      <th>51303</th>\n",
       "      <td>d7aea6f37597df566725da73655edcc2</td>\n",
       "      <td>Consolidation</td>\n",
       "      <td>4</td>\n",
       "      <td>R8</td>\n",
       "    </tr>\n",
       "    <tr>\n",
       "      <th>52434</th>\n",
       "      <td>d7aea6f37597df566725da73655edcc2</td>\n",
       "      <td>Pleural effusion</td>\n",
       "      <td>10</td>\n",
       "      <td>R9</td>\n",
       "    </tr>\n",
       "    <tr>\n",
       "      <th>52783</th>\n",
       "      <td>d7aea6f37597df566725da73655edcc2</td>\n",
       "      <td>Cardiomegaly</td>\n",
       "      <td>3</td>\n",
       "      <td>R8</td>\n",
       "    </tr>\n",
       "    <tr>\n",
       "      <th>54497</th>\n",
       "      <td>d7aea6f37597df566725da73655edcc2</td>\n",
       "      <td>Lung Opacity</td>\n",
       "      <td>7</td>\n",
       "      <td>R10</td>\n",
       "    </tr>\n",
       "    <tr>\n",
       "      <th>57971</th>\n",
       "      <td>d7aea6f37597df566725da73655edcc2</td>\n",
       "      <td>Infiltration</td>\n",
       "      <td>6</td>\n",
       "      <td>R9</td>\n",
       "    </tr>\n",
       "    <tr>\n",
       "      <th>60869</th>\n",
       "      <td>d7aea6f37597df566725da73655edcc2</td>\n",
       "      <td>Pleural thickening</td>\n",
       "      <td>11</td>\n",
       "      <td>R9</td>\n",
       "    </tr>\n",
       "    <tr>\n",
       "      <th>67706</th>\n",
       "      <td>d7aea6f37597df566725da73655edcc2</td>\n",
       "      <td>Lung Opacity</td>\n",
       "      <td>7</td>\n",
       "      <td>R10</td>\n",
       "    </tr>\n",
       "  </tbody>\n",
       "</table>\n",
       "</div>"
      ],
      "text/plain": [
       "                               image_id          class_name  class_id rad_id\n",
       "37     d7aea6f37597df566725da73655edcc2        Infiltration         6     R8\n",
       "569    d7aea6f37597df566725da73655edcc2  Pleural thickening        11    R10\n",
       "575    d7aea6f37597df566725da73655edcc2  Pleural thickening        11    R10\n",
       "5560   d7aea6f37597df566725da73655edcc2        Infiltration         6    R10\n",
       "14003  d7aea6f37597df566725da73655edcc2        Cardiomegaly         3    R10\n",
       "17940  d7aea6f37597df566725da73655edcc2    Pleural effusion        10     R8\n",
       "23221  d7aea6f37597df566725da73655edcc2  Aortic enlargement         0    R10\n",
       "31900  d7aea6f37597df566725da73655edcc2        Infiltration         6     R9\n",
       "36681  d7aea6f37597df566725da73655edcc2  Aortic enlargement         0     R9\n",
       "39794  d7aea6f37597df566725da73655edcc2        Lung Opacity         7    R10\n",
       "40203  d7aea6f37597df566725da73655edcc2  Pleural thickening        11     R9\n",
       "47049  d7aea6f37597df566725da73655edcc2        Infiltration         6    R10\n",
       "48035  d7aea6f37597df566725da73655edcc2    Pleural effusion        10    R10\n",
       "51303  d7aea6f37597df566725da73655edcc2       Consolidation         4     R8\n",
       "52434  d7aea6f37597df566725da73655edcc2    Pleural effusion        10     R9\n",
       "52783  d7aea6f37597df566725da73655edcc2        Cardiomegaly         3     R8\n",
       "54497  d7aea6f37597df566725da73655edcc2        Lung Opacity         7    R10\n",
       "57971  d7aea6f37597df566725da73655edcc2        Infiltration         6     R9\n",
       "60869  d7aea6f37597df566725da73655edcc2  Pleural thickening        11     R9\n",
       "67706  d7aea6f37597df566725da73655edcc2        Lung Opacity         7    R10"
      ]
     },
     "execution_count": 20,
     "metadata": {},
     "output_type": "execute_result"
    }
   ],
   "source": [
    "vin[vin['image_id'] == 'd7aea6f37597df566725da73655edcc2']"
   ]
  },
  {
   "cell_type": "code",
   "execution_count": 21,
   "id": "d26964df",
   "metadata": {
    "execution": {
     "iopub.execute_input": "2021-08-08T01:34:05.105828Z",
     "iopub.status.busy": "2021-08-08T01:34:05.104879Z",
     "iopub.status.idle": "2021-08-08T01:34:05.144733Z",
     "shell.execute_reply": "2021-08-08T01:34:05.145523Z",
     "shell.execute_reply.started": "2021-08-08T01:00:28.821784Z"
    },
    "papermill": {
     "duration": 0.134309,
     "end_time": "2021-08-08T01:34:05.145762",
     "exception": false,
     "start_time": "2021-08-08T01:34:05.011453",
     "status": "completed"
    },
    "tags": []
   },
   "outputs": [],
   "source": [
    "vin.drop_duplicates(inplace=True)"
   ]
  },
  {
   "cell_type": "code",
   "execution_count": 22,
   "id": "3e67c33e",
   "metadata": {
    "execution": {
     "iopub.execute_input": "2021-08-08T01:34:05.331776Z",
     "iopub.status.busy": "2021-08-08T01:34:05.330841Z",
     "iopub.status.idle": "2021-08-08T01:34:05.335164Z",
     "shell.execute_reply": "2021-08-08T01:34:05.334516Z",
     "shell.execute_reply.started": "2021-08-08T01:00:28.861167Z"
    },
    "papermill": {
     "duration": 0.089852,
     "end_time": "2021-08-08T01:34:05.335309",
     "exception": false,
     "start_time": "2021-08-08T01:34:05.245457",
     "status": "completed"
    },
    "tags": []
   },
   "outputs": [
    {
     "data": {
      "text/plain": [
       "(61274, 4)"
      ]
     },
     "execution_count": 22,
     "metadata": {},
     "output_type": "execute_result"
    }
   ],
   "source": [
    "vin.shape"
   ]
  },
  {
   "cell_type": "markdown",
   "id": "fe5aa8f6",
   "metadata": {
    "papermill": {
     "duration": 0.07919,
     "end_time": "2021-08-08T01:34:05.494006",
     "exception": false,
     "start_time": "2021-08-08T01:34:05.414816",
     "status": "completed"
    },
    "tags": []
   },
   "source": [
    "## Getting Atypical Data (External Sources (NIH and VinBig))"
   ]
  },
  {
   "cell_type": "code",
   "execution_count": 23,
   "id": "cd792f87",
   "metadata": {
    "execution": {
     "iopub.execute_input": "2021-08-08T01:34:05.655250Z",
     "iopub.status.busy": "2021-08-08T01:34:05.654225Z",
     "iopub.status.idle": "2021-08-08T01:34:05.660492Z",
     "shell.execute_reply": "2021-08-08T01:34:05.661129Z",
     "shell.execute_reply.started": "2021-08-08T01:00:28.873597Z"
    },
    "papermill": {
     "duration": 0.087566,
     "end_time": "2021-08-08T01:34:05.661320",
     "exception": false,
     "start_time": "2021-08-08T01:34:05.573754",
     "status": "completed"
    },
    "tags": []
   },
   "outputs": [
    {
     "data": {
      "text/plain": [
       "2381"
      ]
     },
     "execution_count": 23,
     "metadata": {},
     "output_type": "execute_result"
    }
   ],
   "source": [
    "needed_samples = 2855\n",
    "we_have = 474\n",
    "extra_needed = needed_samples - we_have\n",
    "extra_needed"
   ]
  },
  {
   "cell_type": "code",
   "execution_count": 24,
   "id": "ab8b11ad",
   "metadata": {
    "execution": {
     "iopub.execute_input": "2021-08-08T01:34:05.828342Z",
     "iopub.status.busy": "2021-08-08T01:34:05.827350Z",
     "iopub.status.idle": "2021-08-08T01:34:05.833334Z",
     "shell.execute_reply": "2021-08-08T01:34:05.833876Z",
     "shell.execute_reply.started": "2021-08-08T01:00:28.884667Z"
    },
    "papermill": {
     "duration": 0.087172,
     "end_time": "2021-08-08T01:34:05.834041",
     "exception": false,
     "start_time": "2021-08-08T01:34:05.746869",
     "status": "completed"
    },
    "tags": []
   },
   "outputs": [
    {
     "data": {
      "text/plain": [
       "595.25"
      ]
     },
     "execution_count": 24,
     "metadata": {},
     "output_type": "execute_result"
    }
   ],
   "source": [
    "categories = 4\n",
    "per_cat = extra_needed / categories\n",
    "per_cat"
   ]
  },
  {
   "cell_type": "markdown",
   "id": "675c0edd",
   "metadata": {
    "papermill": {
     "duration": 0.078954,
     "end_time": "2021-08-08T01:34:05.992761",
     "exception": false,
     "start_time": "2021-08-08T01:34:05.913807",
     "status": "completed"
    },
    "tags": []
   },
   "source": [
    "## Vin_Big"
   ]
  },
  {
   "cell_type": "code",
   "execution_count": 25,
   "id": "42207fbf",
   "metadata": {
    "execution": {
     "iopub.execute_input": "2021-08-08T01:34:06.157061Z",
     "iopub.status.busy": "2021-08-08T01:34:06.156051Z",
     "iopub.status.idle": "2021-08-08T01:34:06.159938Z",
     "shell.execute_reply": "2021-08-08T01:34:06.160635Z",
     "shell.execute_reply.started": "2021-08-08T01:00:28.896304Z"
    },
    "papermill": {
     "duration": 0.087899,
     "end_time": "2021-08-08T01:34:06.160815",
     "exception": false,
     "start_time": "2021-08-08T01:34:06.072916",
     "status": "completed"
    },
    "tags": []
   },
   "outputs": [],
   "source": [
    "vin_labels = vin"
   ]
  },
  {
   "cell_type": "code",
   "execution_count": 26,
   "id": "33d063a9",
   "metadata": {
    "execution": {
     "iopub.execute_input": "2021-08-08T01:34:06.340028Z",
     "iopub.status.busy": "2021-08-08T01:34:06.339348Z",
     "iopub.status.idle": "2021-08-08T01:34:06.345066Z",
     "shell.execute_reply": "2021-08-08T01:34:06.345579Z",
     "shell.execute_reply.started": "2021-08-08T01:00:28.904993Z"
    },
    "papermill": {
     "duration": 0.106136,
     "end_time": "2021-08-08T01:34:06.345782",
     "exception": false,
     "start_time": "2021-08-08T01:34:06.239646",
     "status": "completed"
    },
    "tags": []
   },
   "outputs": [
    {
     "data": {
      "text/plain": [
       "No finding            31818\n",
       "Aortic enlargement     7157\n",
       "Cardiomegaly           5414\n",
       "Pulmonary fibrosis     3267\n",
       "Pleural thickening     3228\n",
       "Pleural effusion       2105\n",
       "Lung Opacity           2036\n",
       "Other lesion           1623\n",
       "Nodule/Mass            1412\n",
       "Infiltration            949\n",
       "Calcification           686\n",
       "ILD                     609\n",
       "Consolidation           505\n",
       "Atelectasis             266\n",
       "Pneumothorax            199\n",
       "Name: class_name, dtype: int64"
      ]
     },
     "execution_count": 26,
     "metadata": {},
     "output_type": "execute_result"
    }
   ],
   "source": [
    "vin_labels.class_name.value_counts()"
   ]
  },
  {
   "cell_type": "code",
   "execution_count": 27,
   "id": "f3ee6e33",
   "metadata": {
    "execution": {
     "iopub.execute_input": "2021-08-08T01:34:06.507105Z",
     "iopub.status.busy": "2021-08-08T01:34:06.506427Z",
     "iopub.status.idle": "2021-08-08T01:34:06.516397Z",
     "shell.execute_reply": "2021-08-08T01:34:06.516920Z",
     "shell.execute_reply.started": "2021-08-08T01:00:28.936488Z"
    },
    "papermill": {
     "duration": 0.092456,
     "end_time": "2021-08-08T01:34:06.517107",
     "exception": false,
     "start_time": "2021-08-08T01:34:06.424651",
     "status": "completed"
    },
    "tags": []
   },
   "outputs": [
    {
     "name": "stderr",
     "output_type": "stream",
     "text": [
      "/opt/conda/lib/python3.7/site-packages/ipykernel_launcher.py:2: SettingWithCopyWarning: \n",
      "A value is trying to be set on a copy of a slice from a DataFrame.\n",
      "Try using .loc[row_indexer,col_indexer] = value instead\n",
      "\n",
      "See the caveats in the documentation: https://pandas.pydata.org/pandas-docs/stable/user_guide/indexing.html#returning-a-view-versus-a-copy\n",
      "  \n"
     ]
    }
   ],
   "source": [
    "vin_labels = vin_labels[['image_id', 'class_name']]\n",
    "vin_labels['dataset'] = 'vinbig'"
   ]
  },
  {
   "cell_type": "code",
   "execution_count": 28,
   "id": "6c1cad14",
   "metadata": {
    "execution": {
     "iopub.execute_input": "2021-08-08T01:34:06.692471Z",
     "iopub.status.busy": "2021-08-08T01:34:06.691730Z",
     "iopub.status.idle": "2021-08-08T01:34:06.731133Z",
     "shell.execute_reply": "2021-08-08T01:34:06.730582Z",
     "shell.execute_reply.started": "2021-08-08T01:00:28.946352Z"
    },
    "papermill": {
     "duration": 0.133789,
     "end_time": "2021-08-08T01:34:06.731300",
     "exception": false,
     "start_time": "2021-08-08T01:34:06.597511",
     "status": "completed"
    },
    "tags": []
   },
   "outputs": [
    {
     "data": {
      "text/plain": [
       "((199, 3), (2105, 3), (505, 3), (1412, 3))"
      ]
     },
     "execution_count": 28,
     "metadata": {},
     "output_type": "execute_result"
    }
   ],
   "source": [
    "list_cat = ['Pneumothorax', 'Pleural effusion', 'Consolidation', 'Nodule/Mass']\n",
    "Pneumothorax_vin = vin_labels[vin_labels.class_name == 'Pneumothorax']\n",
    "Pleural_effusion_vin = vin_labels[vin_labels.class_name == 'Pleural effusion']\n",
    "Consolidation_vin = vin_labels[vin_labels.class_name == 'Consolidation']\n",
    "Nodule_Mass_vin = vin_labels[vin_labels.class_name == 'Nodule/Mass']\n",
    "Pneumothorax_vin.shape, Pleural_effusion_vin.shape, Consolidation_vin.shape, Nodule_Mass_vin.shape"
   ]
  },
  {
   "cell_type": "markdown",
   "id": "180736d7",
   "metadata": {
    "papermill": {
     "duration": 0.080081,
     "end_time": "2021-08-08T01:34:06.893317",
     "exception": false,
     "start_time": "2021-08-08T01:34:06.813236",
     "status": "completed"
    },
    "tags": []
   },
   "source": [
    "## NIH"
   ]
  },
  {
   "cell_type": "code",
   "execution_count": 29,
   "id": "8e8f8857",
   "metadata": {
    "execution": {
     "iopub.execute_input": "2021-08-08T01:34:07.058359Z",
     "iopub.status.busy": "2021-08-08T01:34:07.057282Z",
     "iopub.status.idle": "2021-08-08T01:34:07.060394Z",
     "shell.execute_reply": "2021-08-08T01:34:07.059869Z",
     "shell.execute_reply.started": "2021-08-08T01:00:29.001144Z"
    },
    "papermill": {
     "duration": 0.087211,
     "end_time": "2021-08-08T01:34:07.060541",
     "exception": false,
     "start_time": "2021-08-08T01:34:06.973330",
     "status": "completed"
    },
    "tags": []
   },
   "outputs": [],
   "source": [
    "# nih_labels = pd.read_csv('../input/data/Data_Entry_2017.csv')\n",
    "# nih_labels.head()"
   ]
  },
  {
   "cell_type": "code",
   "execution_count": 30,
   "id": "0764c6fe",
   "metadata": {
    "execution": {
     "iopub.execute_input": "2021-08-08T01:34:07.224439Z",
     "iopub.status.busy": "2021-08-08T01:34:07.223783Z",
     "iopub.status.idle": "2021-08-08T01:34:07.226985Z",
     "shell.execute_reply": "2021-08-08T01:34:07.226451Z",
     "shell.execute_reply.started": "2021-08-08T01:00:29.007170Z"
    },
    "papermill": {
     "duration": 0.086588,
     "end_time": "2021-08-08T01:34:07.227132",
     "exception": false,
     "start_time": "2021-08-08T01:34:07.140544",
     "status": "completed"
    },
    "tags": []
   },
   "outputs": [],
   "source": [
    "# nih_labels = nih_labels[['Image Index', 'Finding Labels']]\n",
    "# nih_labels.columns = ['image_id', 'class_name']"
   ]
  },
  {
   "cell_type": "code",
   "execution_count": 31,
   "id": "bee32776",
   "metadata": {
    "execution": {
     "iopub.execute_input": "2021-08-08T01:34:07.394170Z",
     "iopub.status.busy": "2021-08-08T01:34:07.393385Z",
     "iopub.status.idle": "2021-08-08T01:34:07.395851Z",
     "shell.execute_reply": "2021-08-08T01:34:07.396374Z",
     "shell.execute_reply.started": "2021-08-08T01:00:29.020755Z"
    },
    "papermill": {
     "duration": 0.088744,
     "end_time": "2021-08-08T01:34:07.396543",
     "exception": false,
     "start_time": "2021-08-08T01:34:07.307799",
     "status": "completed"
    },
    "tags": []
   },
   "outputs": [],
   "source": [
    "# Pneumothorax_nih = nih_labels[nih_labels['class_name'] == 'Pneumothorax']\n",
    "# Consolidation_nih = nih_labels[nih_labels['class_name'] == 'Consolidation']\n",
    "# Edema_nih = nih_labels[nih_labels['class_name'] == 'Edema']\n",
    "# Nodule_nih = nih_labels[nih_labels['class_name'] == 'Nodule']\n",
    "# Mass_nih = nih_labels[nih_labels['class_name'] == 'Mass']"
   ]
  },
  {
   "cell_type": "code",
   "execution_count": 32,
   "id": "c21fdcc0",
   "metadata": {
    "execution": {
     "iopub.execute_input": "2021-08-08T01:34:07.558177Z",
     "iopub.status.busy": "2021-08-08T01:34:07.557503Z",
     "iopub.status.idle": "2021-08-08T01:34:07.560631Z",
     "shell.execute_reply": "2021-08-08T01:34:07.561214Z",
     "shell.execute_reply.started": "2021-08-08T01:00:29.030858Z"
    },
    "papermill": {
     "duration": 0.085931,
     "end_time": "2021-08-08T01:34:07.561389",
     "exception": false,
     "start_time": "2021-08-08T01:34:07.475458",
     "status": "completed"
    },
    "tags": []
   },
   "outputs": [],
   "source": [
    "# Pneumothorax_nih.shape, Consolidation_nih.shape, Edema_nih.shape, Nodule_nih.shape, Mass_nih.shape"
   ]
  },
  {
   "cell_type": "markdown",
   "id": "218245dc",
   "metadata": {
    "papermill": {
     "duration": 0.078997,
     "end_time": "2021-08-08T01:34:07.720970",
     "exception": false,
     "start_time": "2021-08-08T01:34:07.641973",
     "status": "completed"
    },
    "tags": []
   },
   "source": [
    "## Adding Data"
   ]
  },
  {
   "cell_type": "code",
   "execution_count": 33,
   "id": "a1598ff0",
   "metadata": {
    "execution": {
     "iopub.execute_input": "2021-08-08T01:34:07.884082Z",
     "iopub.status.busy": "2021-08-08T01:34:07.883437Z",
     "iopub.status.idle": "2021-08-08T01:34:07.895487Z",
     "shell.execute_reply": "2021-08-08T01:34:07.895970Z",
     "shell.execute_reply.started": "2021-08-08T01:00:29.039949Z"
    },
    "papermill": {
     "duration": 0.095201,
     "end_time": "2021-08-08T01:34:07.896173",
     "exception": false,
     "start_time": "2021-08-08T01:34:07.800972",
     "status": "completed"
    },
    "tags": []
   },
   "outputs": [
    {
     "data": {
      "text/html": [
       "<div>\n",
       "<style scoped>\n",
       "    .dataframe tbody tr th:only-of-type {\n",
       "        vertical-align: middle;\n",
       "    }\n",
       "\n",
       "    .dataframe tbody tr th {\n",
       "        vertical-align: top;\n",
       "    }\n",
       "\n",
       "    .dataframe thead th {\n",
       "        text-align: right;\n",
       "    }\n",
       "</style>\n",
       "<table border=\"1\" class=\"dataframe\">\n",
       "  <thead>\n",
       "    <tr style=\"text-align: right;\">\n",
       "      <th></th>\n",
       "      <th>image_id</th>\n",
       "      <th>class_name</th>\n",
       "      <th>dataset</th>\n",
       "    </tr>\n",
       "  </thead>\n",
       "  <tbody>\n",
       "    <tr>\n",
       "      <th>212</th>\n",
       "      <td>6e4391555899c8474c4d32f42b2ba21b</td>\n",
       "      <td>Pneumothorax</td>\n",
       "      <td>vinbig</td>\n",
       "    </tr>\n",
       "    <tr>\n",
       "      <th>308</th>\n",
       "      <td>e3c5ff1eb0d55039f3bbc3c4875543c3</td>\n",
       "      <td>Pneumothorax</td>\n",
       "      <td>vinbig</td>\n",
       "    </tr>\n",
       "    <tr>\n",
       "      <th>1090</th>\n",
       "      <td>54e6184c63c75a9695d7effc17969ad0</td>\n",
       "      <td>Pneumothorax</td>\n",
       "      <td>vinbig</td>\n",
       "    </tr>\n",
       "    <tr>\n",
       "      <th>1140</th>\n",
       "      <td>71511f823c4664475131c1519d9bd0a8</td>\n",
       "      <td>Pneumothorax</td>\n",
       "      <td>vinbig</td>\n",
       "    </tr>\n",
       "    <tr>\n",
       "      <th>1440</th>\n",
       "      <td>f9a0f4bd4bb3553af6e939362bbba5d6</td>\n",
       "      <td>Pneumothorax</td>\n",
       "      <td>vinbig</td>\n",
       "    </tr>\n",
       "  </tbody>\n",
       "</table>\n",
       "</div>"
      ],
      "text/plain": [
       "                              image_id    class_name dataset\n",
       "212   6e4391555899c8474c4d32f42b2ba21b  Pneumothorax  vinbig\n",
       "308   e3c5ff1eb0d55039f3bbc3c4875543c3  Pneumothorax  vinbig\n",
       "1090  54e6184c63c75a9695d7effc17969ad0  Pneumothorax  vinbig\n",
       "1140  71511f823c4664475131c1519d9bd0a8  Pneumothorax  vinbig\n",
       "1440  f9a0f4bd4bb3553af6e939362bbba5d6  Pneumothorax  vinbig"
      ]
     },
     "execution_count": 33,
     "metadata": {},
     "output_type": "execute_result"
    }
   ],
   "source": [
    "Pneumothorax_vin.head()"
   ]
  },
  {
   "cell_type": "code",
   "execution_count": 34,
   "id": "f3ff3b35",
   "metadata": {
    "execution": {
     "iopub.execute_input": "2021-08-08T01:34:08.064184Z",
     "iopub.status.busy": "2021-08-08T01:34:08.063133Z",
     "iopub.status.idle": "2021-08-08T01:34:08.070419Z",
     "shell.execute_reply": "2021-08-08T01:34:08.069820Z",
     "shell.execute_reply.started": "2021-08-08T01:00:29.057572Z"
    },
    "papermill": {
     "duration": 0.093098,
     "end_time": "2021-08-08T01:34:08.070561",
     "exception": false,
     "start_time": "2021-08-08T01:34:07.977463",
     "status": "completed"
    },
    "tags": []
   },
   "outputs": [
    {
     "data": {
      "text/plain": [
       "((199, 3), (2105, 3), (505, 3), (1412, 3))"
      ]
     },
     "execution_count": 34,
     "metadata": {},
     "output_type": "execute_result"
    }
   ],
   "source": [
    "Pneumothorax_vin.shape, Pleural_effusion_vin.shape, Consolidation_vin.shape, Nodule_Mass_vin.shape"
   ]
  },
  {
   "cell_type": "code",
   "execution_count": 35,
   "id": "f0d997f4",
   "metadata": {
    "execution": {
     "iopub.execute_input": "2021-08-08T01:34:08.244900Z",
     "iopub.status.busy": "2021-08-08T01:34:08.241203Z",
     "iopub.status.idle": "2021-08-08T01:34:08.250765Z",
     "shell.execute_reply": "2021-08-08T01:34:08.250162Z",
     "shell.execute_reply.started": "2021-08-08T01:00:29.070340Z"
    },
    "papermill": {
     "duration": 0.0988,
     "end_time": "2021-08-08T01:34:08.250927",
     "exception": false,
     "start_time": "2021-08-08T01:34:08.152127",
     "status": "completed"
    },
    "tags": []
   },
   "outputs": [
    {
     "data": {
      "text/plain": [
       "2381"
      ]
     },
     "execution_count": 35,
     "metadata": {},
     "output_type": "execute_result"
    }
   ],
   "source": [
    "extra_needed"
   ]
  },
  {
   "cell_type": "code",
   "execution_count": 36,
   "id": "dc9dcfaa",
   "metadata": {
    "execution": {
     "iopub.execute_input": "2021-08-08T01:34:08.422288Z",
     "iopub.status.busy": "2021-08-08T01:34:08.421578Z",
     "iopub.status.idle": "2021-08-08T01:34:08.426235Z",
     "shell.execute_reply": "2021-08-08T01:34:08.425605Z",
     "shell.execute_reply.started": "2021-08-08T01:00:29.080165Z"
    },
    "papermill": {
     "duration": 0.093106,
     "end_time": "2021-08-08T01:34:08.426389",
     "exception": false,
     "start_time": "2021-08-08T01:34:08.333283",
     "status": "completed"
    },
    "tags": []
   },
   "outputs": [
    {
     "data": {
      "text/plain": [
       "595.25"
      ]
     },
     "execution_count": 36,
     "metadata": {},
     "output_type": "execute_result"
    }
   ],
   "source": [
    "per_cat"
   ]
  },
  {
   "cell_type": "code",
   "execution_count": 37,
   "id": "702b52cb",
   "metadata": {
    "execution": {
     "iopub.execute_input": "2021-08-08T01:34:08.596038Z",
     "iopub.status.busy": "2021-08-08T01:34:08.595060Z",
     "iopub.status.idle": "2021-08-08T01:34:08.598592Z",
     "shell.execute_reply": "2021-08-08T01:34:08.598042Z",
     "shell.execute_reply.started": "2021-08-08T01:00:29.093008Z"
    },
    "papermill": {
     "duration": 0.09169,
     "end_time": "2021-08-08T01:34:08.598745",
     "exception": false,
     "start_time": "2021-08-08T01:34:08.507055",
     "status": "completed"
    },
    "tags": []
   },
   "outputs": [
    {
     "data": {
      "text/plain": [
       "2381"
      ]
     },
     "execution_count": 37,
     "metadata": {},
     "output_type": "execute_result"
    }
   ],
   "source": [
    "199+505+838+839"
   ]
  },
  {
   "cell_type": "code",
   "execution_count": 38,
   "id": "1285f0ec",
   "metadata": {
    "execution": {
     "iopub.execute_input": "2021-08-08T01:34:08.773621Z",
     "iopub.status.busy": "2021-08-08T01:34:08.772706Z",
     "iopub.status.idle": "2021-08-08T01:34:08.775702Z",
     "shell.execute_reply": "2021-08-08T01:34:08.776295Z",
     "shell.execute_reply.started": "2021-08-08T01:00:29.103261Z"
    },
    "papermill": {
     "duration": 0.094215,
     "end_time": "2021-08-08T01:34:08.776472",
     "exception": false,
     "start_time": "2021-08-08T01:34:08.682257",
     "status": "completed"
    },
    "tags": []
   },
   "outputs": [],
   "source": [
    "Pleural_effusion_vin = Pleural_effusion_vin.sample(n=839, random_state=9)\n",
    "Nodule_Mass_vin = Nodule_Mass_vin.sample(n=838, random_state=9)"
   ]
  },
  {
   "cell_type": "code",
   "execution_count": 39,
   "id": "53372472",
   "metadata": {
    "execution": {
     "iopub.execute_input": "2021-08-08T01:34:08.942472Z",
     "iopub.status.busy": "2021-08-08T01:34:08.941819Z",
     "iopub.status.idle": "2021-08-08T01:34:08.949122Z",
     "shell.execute_reply": "2021-08-08T01:34:08.949687Z",
     "shell.execute_reply.started": "2021-08-08T01:00:29.115530Z"
    },
    "papermill": {
     "duration": 0.092647,
     "end_time": "2021-08-08T01:34:08.949908",
     "exception": false,
     "start_time": "2021-08-08T01:34:08.857261",
     "status": "completed"
    },
    "tags": []
   },
   "outputs": [
    {
     "data": {
      "text/plain": [
       "(2381, 3)"
      ]
     },
     "execution_count": 39,
     "metadata": {},
     "output_type": "execute_result"
    }
   ],
   "source": [
    "Atypical_extra = pd.concat([Pneumothorax_vin, Pleural_effusion_vin, Consolidation_vin, Nodule_Mass_vin])\n",
    "Atypical_extra.shape"
   ]
  },
  {
   "cell_type": "code",
   "execution_count": 40,
   "id": "fb03c849",
   "metadata": {
    "execution": {
     "iopub.execute_input": "2021-08-08T01:34:09.123711Z",
     "iopub.status.busy": "2021-08-08T01:34:09.122973Z",
     "iopub.status.idle": "2021-08-08T01:34:09.137483Z",
     "shell.execute_reply": "2021-08-08T01:34:09.136612Z",
     "shell.execute_reply.started": "2021-08-08T01:00:29.131760Z"
    },
    "papermill": {
     "duration": 0.106222,
     "end_time": "2021-08-08T01:34:09.137679",
     "exception": false,
     "start_time": "2021-08-08T01:34:09.031457",
     "status": "completed"
    },
    "tags": []
   },
   "outputs": [
    {
     "data": {
      "text/html": [
       "<div>\n",
       "<style scoped>\n",
       "    .dataframe tbody tr th:only-of-type {\n",
       "        vertical-align: middle;\n",
       "    }\n",
       "\n",
       "    .dataframe tbody tr th {\n",
       "        vertical-align: top;\n",
       "    }\n",
       "\n",
       "    .dataframe thead th {\n",
       "        text-align: right;\n",
       "    }\n",
       "</style>\n",
       "<table border=\"1\" class=\"dataframe\">\n",
       "  <thead>\n",
       "    <tr style=\"text-align: right;\">\n",
       "      <th></th>\n",
       "      <th>image_id</th>\n",
       "      <th>class_name</th>\n",
       "      <th>dataset</th>\n",
       "      <th>Atypical Appearance</th>\n",
       "      <th>sparse_gt</th>\n",
       "    </tr>\n",
       "  </thead>\n",
       "  <tbody>\n",
       "    <tr>\n",
       "      <th>212</th>\n",
       "      <td>6e4391555899c8474c4d32f42b2ba21b</td>\n",
       "      <td>Pneumothorax</td>\n",
       "      <td>vinbig</td>\n",
       "      <td>1</td>\n",
       "      <td>3</td>\n",
       "    </tr>\n",
       "    <tr>\n",
       "      <th>308</th>\n",
       "      <td>e3c5ff1eb0d55039f3bbc3c4875543c3</td>\n",
       "      <td>Pneumothorax</td>\n",
       "      <td>vinbig</td>\n",
       "      <td>1</td>\n",
       "      <td>3</td>\n",
       "    </tr>\n",
       "    <tr>\n",
       "      <th>1090</th>\n",
       "      <td>54e6184c63c75a9695d7effc17969ad0</td>\n",
       "      <td>Pneumothorax</td>\n",
       "      <td>vinbig</td>\n",
       "      <td>1</td>\n",
       "      <td>3</td>\n",
       "    </tr>\n",
       "    <tr>\n",
       "      <th>1140</th>\n",
       "      <td>71511f823c4664475131c1519d9bd0a8</td>\n",
       "      <td>Pneumothorax</td>\n",
       "      <td>vinbig</td>\n",
       "      <td>1</td>\n",
       "      <td>3</td>\n",
       "    </tr>\n",
       "    <tr>\n",
       "      <th>1440</th>\n",
       "      <td>f9a0f4bd4bb3553af6e939362bbba5d6</td>\n",
       "      <td>Pneumothorax</td>\n",
       "      <td>vinbig</td>\n",
       "      <td>1</td>\n",
       "      <td>3</td>\n",
       "    </tr>\n",
       "  </tbody>\n",
       "</table>\n",
       "</div>"
      ],
      "text/plain": [
       "                              image_id    class_name dataset  \\\n",
       "212   6e4391555899c8474c4d32f42b2ba21b  Pneumothorax  vinbig   \n",
       "308   e3c5ff1eb0d55039f3bbc3c4875543c3  Pneumothorax  vinbig   \n",
       "1090  54e6184c63c75a9695d7effc17969ad0  Pneumothorax  vinbig   \n",
       "1140  71511f823c4664475131c1519d9bd0a8  Pneumothorax  vinbig   \n",
       "1440  f9a0f4bd4bb3553af6e939362bbba5d6  Pneumothorax  vinbig   \n",
       "\n",
       "      Atypical Appearance  sparse_gt  \n",
       "212                     1          3  \n",
       "308                     1          3  \n",
       "1090                    1          3  \n",
       "1140                    1          3  \n",
       "1440                    1          3  "
      ]
     },
     "execution_count": 40,
     "metadata": {},
     "output_type": "execute_result"
    }
   ],
   "source": [
    "Atypical_extra['Atypical Appearance'] = 1\n",
    "Atypical_extra['sparse_gt'] = 3\n",
    "Atypical_extra.head()"
   ]
  },
  {
   "cell_type": "markdown",
   "id": "0163b626",
   "metadata": {
    "papermill": {
     "duration": 0.083431,
     "end_time": "2021-08-08T01:34:09.307331",
     "exception": false,
     "start_time": "2021-08-08T01:34:09.223900",
     "status": "completed"
    },
    "tags": []
   },
   "source": [
    "# Getting Indeterminate Data (External Sources (NIH and VinBig))"
   ]
  },
  {
   "cell_type": "code",
   "execution_count": 41,
   "id": "1cc45523",
   "metadata": {
    "execution": {
     "iopub.execute_input": "2021-08-08T01:34:09.477851Z",
     "iopub.status.busy": "2021-08-08T01:34:09.477129Z",
     "iopub.status.idle": "2021-08-08T01:34:09.479851Z",
     "shell.execute_reply": "2021-08-08T01:34:09.480361Z",
     "shell.execute_reply.started": "2021-08-08T01:00:29.149190Z"
    },
    "papermill": {
     "duration": 0.090752,
     "end_time": "2021-08-08T01:34:09.480530",
     "exception": false,
     "start_time": "2021-08-08T01:34:09.389778",
     "status": "completed"
    },
    "tags": []
   },
   "outputs": [
    {
     "data": {
      "text/plain": [
       "1806"
      ]
     },
     "execution_count": 41,
     "metadata": {},
     "output_type": "execute_result"
    }
   ],
   "source": [
    "needed_samples = 2855\n",
    "we_have = 1049\n",
    "extra_needed = needed_samples - we_have\n",
    "extra_needed"
   ]
  },
  {
   "cell_type": "code",
   "execution_count": 42,
   "id": "3f9758c5",
   "metadata": {
    "execution": {
     "iopub.execute_input": "2021-08-08T01:34:09.649870Z",
     "iopub.status.busy": "2021-08-08T01:34:09.649048Z",
     "iopub.status.idle": "2021-08-08T01:34:09.655219Z",
     "shell.execute_reply": "2021-08-08T01:34:09.654595Z",
     "shell.execute_reply.started": "2021-08-08T01:00:29.157392Z"
    },
    "papermill": {
     "duration": 0.091926,
     "end_time": "2021-08-08T01:34:09.655390",
     "exception": false,
     "start_time": "2021-08-08T01:34:09.563464",
     "status": "completed"
    },
    "tags": []
   },
   "outputs": [
    {
     "data": {
      "text/plain": [
       "451.5"
      ]
     },
     "execution_count": 42,
     "metadata": {},
     "output_type": "execute_result"
    }
   ],
   "source": [
    "categories = 4\n",
    "per_cat = extra_needed / categories\n",
    "per_cat"
   ]
  },
  {
   "cell_type": "markdown",
   "id": "d292453a",
   "metadata": {
    "papermill": {
     "duration": 0.083187,
     "end_time": "2021-08-08T01:34:09.823596",
     "exception": false,
     "start_time": "2021-08-08T01:34:09.740409",
     "status": "completed"
    },
    "tags": []
   },
   "source": [
    "## VinBig"
   ]
  },
  {
   "cell_type": "code",
   "execution_count": 43,
   "id": "c914a913",
   "metadata": {
    "execution": {
     "iopub.execute_input": "2021-08-08T01:34:10.010681Z",
     "iopub.status.busy": "2021-08-08T01:34:10.009963Z",
     "iopub.status.idle": "2021-08-08T01:34:10.018441Z",
     "shell.execute_reply": "2021-08-08T01:34:10.017889Z",
     "shell.execute_reply.started": "2021-08-08T01:00:29.171245Z"
    },
    "papermill": {
     "duration": 0.1114,
     "end_time": "2021-08-08T01:34:10.018586",
     "exception": false,
     "start_time": "2021-08-08T01:34:09.907186",
     "status": "completed"
    },
    "tags": []
   },
   "outputs": [
    {
     "data": {
      "text/plain": [
       "No finding            31818\n",
       "Aortic enlargement     7157\n",
       "Cardiomegaly           5414\n",
       "Pulmonary fibrosis     3267\n",
       "Pleural thickening     3228\n",
       "Pleural effusion       2105\n",
       "Lung Opacity           2036\n",
       "Other lesion           1623\n",
       "Nodule/Mass            1412\n",
       "Infiltration            949\n",
       "Calcification           686\n",
       "ILD                     609\n",
       "Consolidation           505\n",
       "Atelectasis             266\n",
       "Pneumothorax            199\n",
       "Name: class_name, dtype: int64"
      ]
     },
     "execution_count": 43,
     "metadata": {},
     "output_type": "execute_result"
    }
   ],
   "source": [
    "vin_labels.class_name.value_counts()"
   ]
  },
  {
   "cell_type": "code",
   "execution_count": 44,
   "id": "b4d5f732",
   "metadata": {
    "execution": {
     "iopub.execute_input": "2021-08-08T01:34:10.200966Z",
     "iopub.status.busy": "2021-08-08T01:34:10.200253Z",
     "iopub.status.idle": "2021-08-08T01:34:10.238235Z",
     "shell.execute_reply": "2021-08-08T01:34:10.237524Z",
     "shell.execute_reply.started": "2021-08-08T01:00:29.197124Z"
    },
    "papermill": {
     "duration": 0.135977,
     "end_time": "2021-08-08T01:34:10.238392",
     "exception": false,
     "start_time": "2021-08-08T01:34:10.102415",
     "status": "completed"
    },
    "tags": []
   },
   "outputs": [
    {
     "data": {
      "text/plain": [
       "((609, 3), (266, 3), (949, 3), (3267, 3))"
      ]
     },
     "execution_count": 44,
     "metadata": {},
     "output_type": "execute_result"
    }
   ],
   "source": [
    "ILD_vin = vin_labels[vin_labels.class_name == 'ILD']\n",
    "Atelectasis_vin = vin_labels[vin_labels.class_name == 'Atelectasis']\n",
    "Infiltration_vin = vin_labels[vin_labels.class_name == 'Infiltration']\n",
    "Pulmonary_fibrosis_vin = vin_labels[vin_labels.class_name == 'Pulmonary fibrosis']\n",
    "ILD_vin.shape, Atelectasis_vin.shape, Infiltration_vin.shape, Pulmonary_fibrosis_vin.shape"
   ]
  },
  {
   "cell_type": "markdown",
   "id": "83cfe0a0",
   "metadata": {
    "papermill": {
     "duration": 0.083335,
     "end_time": "2021-08-08T01:34:10.404910",
     "exception": false,
     "start_time": "2021-08-08T01:34:10.321575",
     "status": "completed"
    },
    "tags": []
   },
   "source": [
    "## Adding Data"
   ]
  },
  {
   "cell_type": "code",
   "execution_count": 45,
   "id": "b2ddd932",
   "metadata": {
    "execution": {
     "iopub.execute_input": "2021-08-08T01:34:10.630604Z",
     "iopub.status.busy": "2021-08-08T01:34:10.629642Z",
     "iopub.status.idle": "2021-08-08T01:34:10.634422Z",
     "shell.execute_reply": "2021-08-08T01:34:10.633900Z",
     "shell.execute_reply.started": "2021-08-08T01:00:29.249768Z"
    },
    "papermill": {
     "duration": 0.146095,
     "end_time": "2021-08-08T01:34:10.634569",
     "exception": false,
     "start_time": "2021-08-08T01:34:10.488474",
     "status": "completed"
    },
    "tags": []
   },
   "outputs": [
    {
     "data": {
      "text/plain": [
       "((609, 3), (266, 3), (949, 3), (3267, 3))"
      ]
     },
     "execution_count": 45,
     "metadata": {},
     "output_type": "execute_result"
    }
   ],
   "source": [
    "ILD_vin.shape, Atelectasis_vin.shape, Infiltration_vin.shape, Pulmonary_fibrosis_vin.shape"
   ]
  },
  {
   "cell_type": "code",
   "execution_count": 46,
   "id": "db0079b8",
   "metadata": {
    "execution": {
     "iopub.execute_input": "2021-08-08T01:34:10.809804Z",
     "iopub.status.busy": "2021-08-08T01:34:10.808912Z",
     "iopub.status.idle": "2021-08-08T01:34:10.813186Z",
     "shell.execute_reply": "2021-08-08T01:34:10.812513Z",
     "shell.execute_reply.started": "2021-08-08T01:00:29.257335Z"
    },
    "papermill": {
     "duration": 0.092811,
     "end_time": "2021-08-08T01:34:10.813330",
     "exception": false,
     "start_time": "2021-08-08T01:34:10.720519",
     "status": "completed"
    },
    "tags": []
   },
   "outputs": [
    {
     "data": {
      "text/plain": [
       "1806"
      ]
     },
     "execution_count": 46,
     "metadata": {},
     "output_type": "execute_result"
    }
   ],
   "source": [
    "extra_needed"
   ]
  },
  {
   "cell_type": "code",
   "execution_count": 47,
   "id": "2b69db9f",
   "metadata": {
    "execution": {
     "iopub.execute_input": "2021-08-08T01:34:10.987284Z",
     "iopub.status.busy": "2021-08-08T01:34:10.986215Z",
     "iopub.status.idle": "2021-08-08T01:34:10.990661Z",
     "shell.execute_reply": "2021-08-08T01:34:10.990033Z",
     "shell.execute_reply.started": "2021-08-08T01:00:29.271277Z"
    },
    "papermill": {
     "duration": 0.092762,
     "end_time": "2021-08-08T01:34:10.990815",
     "exception": false,
     "start_time": "2021-08-08T01:34:10.898053",
     "status": "completed"
    },
    "tags": []
   },
   "outputs": [
    {
     "data": {
      "text/plain": [
       "451.5"
      ]
     },
     "execution_count": 47,
     "metadata": {},
     "output_type": "execute_result"
    }
   ],
   "source": [
    "per_cat"
   ]
  },
  {
   "cell_type": "code",
   "execution_count": 48,
   "id": "5dba2dd6",
   "metadata": {
    "execution": {
     "iopub.execute_input": "2021-08-08T01:34:11.168623Z",
     "iopub.status.busy": "2021-08-08T01:34:11.167691Z",
     "iopub.status.idle": "2021-08-08T01:34:11.172096Z",
     "shell.execute_reply": "2021-08-08T01:34:11.171457Z",
     "shell.execute_reply.started": "2021-08-08T01:00:29.285102Z"
    },
    "papermill": {
     "duration": 0.095726,
     "end_time": "2021-08-08T01:34:11.172267",
     "exception": false,
     "start_time": "2021-08-08T01:34:11.076541",
     "status": "completed"
    },
    "tags": []
   },
   "outputs": [
    {
     "data": {
      "text/plain": [
       "1806"
      ]
     },
     "execution_count": 48,
     "metadata": {},
     "output_type": "execute_result"
    }
   ],
   "source": [
    "513+513+514+266"
   ]
  },
  {
   "cell_type": "code",
   "execution_count": 49,
   "id": "a1942b4a",
   "metadata": {
    "execution": {
     "iopub.execute_input": "2021-08-08T01:34:11.351791Z",
     "iopub.status.busy": "2021-08-08T01:34:11.350946Z",
     "iopub.status.idle": "2021-08-08T01:34:11.356934Z",
     "shell.execute_reply": "2021-08-08T01:34:11.356297Z",
     "shell.execute_reply.started": "2021-08-08T01:00:29.295982Z"
    },
    "papermill": {
     "duration": 0.096359,
     "end_time": "2021-08-08T01:34:11.357075",
     "exception": false,
     "start_time": "2021-08-08T01:34:11.260716",
     "status": "completed"
    },
    "tags": []
   },
   "outputs": [],
   "source": [
    "ILD_vin = ILD_vin.sample(n=513, random_state=9)\n",
    "Infiltration_vin = Infiltration_vin.sample(n=513, random_state=9)\n",
    "Pulmonary_fibrosis_vin = Pulmonary_fibrosis_vin.sample(n=514, random_state=9)"
   ]
  },
  {
   "cell_type": "code",
   "execution_count": 50,
   "id": "1962381f",
   "metadata": {
    "execution": {
     "iopub.execute_input": "2021-08-08T01:34:11.534511Z",
     "iopub.status.busy": "2021-08-08T01:34:11.533600Z",
     "iopub.status.idle": "2021-08-08T01:34:11.537488Z",
     "shell.execute_reply": "2021-08-08T01:34:11.537939Z",
     "shell.execute_reply.started": "2021-08-08T01:00:29.307855Z"
    },
    "papermill": {
     "duration": 0.095766,
     "end_time": "2021-08-08T01:34:11.538116",
     "exception": false,
     "start_time": "2021-08-08T01:34:11.442350",
     "status": "completed"
    },
    "tags": []
   },
   "outputs": [
    {
     "data": {
      "text/plain": [
       "(1806, 3)"
      ]
     },
     "execution_count": 50,
     "metadata": {},
     "output_type": "execute_result"
    }
   ],
   "source": [
    "Indeterminate_extra = pd.concat([ILD_vin, Atelectasis_vin, Infiltration_vin, Pulmonary_fibrosis_vin])\n",
    "Indeterminate_extra.shape"
   ]
  },
  {
   "cell_type": "code",
   "execution_count": 51,
   "id": "5dfcfd4e",
   "metadata": {
    "execution": {
     "iopub.execute_input": "2021-08-08T01:34:11.725038Z",
     "iopub.status.busy": "2021-08-08T01:34:11.724329Z",
     "iopub.status.idle": "2021-08-08T01:34:11.728421Z",
     "shell.execute_reply": "2021-08-08T01:34:11.727822Z",
     "shell.execute_reply.started": "2021-08-08T01:00:29.322049Z"
    },
    "papermill": {
     "duration": 0.104947,
     "end_time": "2021-08-08T01:34:11.728562",
     "exception": false,
     "start_time": "2021-08-08T01:34:11.623615",
     "status": "completed"
    },
    "tags": []
   },
   "outputs": [
    {
     "data": {
      "text/html": [
       "<div>\n",
       "<style scoped>\n",
       "    .dataframe tbody tr th:only-of-type {\n",
       "        vertical-align: middle;\n",
       "    }\n",
       "\n",
       "    .dataframe tbody tr th {\n",
       "        vertical-align: top;\n",
       "    }\n",
       "\n",
       "    .dataframe thead th {\n",
       "        text-align: right;\n",
       "    }\n",
       "</style>\n",
       "<table border=\"1\" class=\"dataframe\">\n",
       "  <thead>\n",
       "    <tr style=\"text-align: right;\">\n",
       "      <th></th>\n",
       "      <th>image_id</th>\n",
       "      <th>class_name</th>\n",
       "      <th>dataset</th>\n",
       "      <th>Indeterminate Appearance</th>\n",
       "      <th>sparse_gt</th>\n",
       "    </tr>\n",
       "  </thead>\n",
       "  <tbody>\n",
       "    <tr>\n",
       "      <th>5530</th>\n",
       "      <td>6a5a92798a840e7b12533ada2e2816cb</td>\n",
       "      <td>ILD</td>\n",
       "      <td>vinbig</td>\n",
       "      <td>1</td>\n",
       "      <td>2</td>\n",
       "    </tr>\n",
       "    <tr>\n",
       "      <th>6363</th>\n",
       "      <td>d617b24dad98aa3b1f2d645828095355</td>\n",
       "      <td>ILD</td>\n",
       "      <td>vinbig</td>\n",
       "      <td>1</td>\n",
       "      <td>2</td>\n",
       "    </tr>\n",
       "    <tr>\n",
       "      <th>36269</th>\n",
       "      <td>0e88612bd294e249382b9e64d222cdf4</td>\n",
       "      <td>ILD</td>\n",
       "      <td>vinbig</td>\n",
       "      <td>1</td>\n",
       "      <td>2</td>\n",
       "    </tr>\n",
       "    <tr>\n",
       "      <th>38616</th>\n",
       "      <td>cfe3e67ca5f8235d64e51416a26e70cc</td>\n",
       "      <td>ILD</td>\n",
       "      <td>vinbig</td>\n",
       "      <td>1</td>\n",
       "      <td>2</td>\n",
       "    </tr>\n",
       "    <tr>\n",
       "      <th>20256</th>\n",
       "      <td>fdd323a08a8d9890c938351d465108b6</td>\n",
       "      <td>ILD</td>\n",
       "      <td>vinbig</td>\n",
       "      <td>1</td>\n",
       "      <td>2</td>\n",
       "    </tr>\n",
       "  </tbody>\n",
       "</table>\n",
       "</div>"
      ],
      "text/plain": [
       "                               image_id class_name dataset  \\\n",
       "5530   6a5a92798a840e7b12533ada2e2816cb        ILD  vinbig   \n",
       "6363   d617b24dad98aa3b1f2d645828095355        ILD  vinbig   \n",
       "36269  0e88612bd294e249382b9e64d222cdf4        ILD  vinbig   \n",
       "38616  cfe3e67ca5f8235d64e51416a26e70cc        ILD  vinbig   \n",
       "20256  fdd323a08a8d9890c938351d465108b6        ILD  vinbig   \n",
       "\n",
       "       Indeterminate Appearance  sparse_gt  \n",
       "5530                          1          2  \n",
       "6363                          1          2  \n",
       "36269                         1          2  \n",
       "38616                         1          2  \n",
       "20256                         1          2  "
      ]
     },
     "execution_count": 51,
     "metadata": {},
     "output_type": "execute_result"
    }
   ],
   "source": [
    "Indeterminate_extra['Indeterminate Appearance'] = 1\n",
    "Indeterminate_extra['sparse_gt'] = 2\n",
    "Indeterminate_extra.head()"
   ]
  },
  {
   "cell_type": "markdown",
   "id": "00e74da3",
   "metadata": {
    "papermill": {
     "duration": 0.08577,
     "end_time": "2021-08-08T01:34:11.901865",
     "exception": false,
     "start_time": "2021-08-08T01:34:11.816095",
     "status": "completed"
    },
    "tags": []
   },
   "source": [
    "## Getting Negative Data (External Sources (NIH and VinBig))"
   ]
  },
  {
   "cell_type": "code",
   "execution_count": 52,
   "id": "8a0da876",
   "metadata": {
    "execution": {
     "iopub.execute_input": "2021-08-08T01:34:12.079256Z",
     "iopub.status.busy": "2021-08-08T01:34:12.078334Z",
     "iopub.status.idle": "2021-08-08T01:34:12.083011Z",
     "shell.execute_reply": "2021-08-08T01:34:12.082361Z",
     "shell.execute_reply.started": "2021-08-08T01:00:29.342752Z"
    },
    "papermill": {
     "duration": 0.096175,
     "end_time": "2021-08-08T01:34:12.083190",
     "exception": false,
     "start_time": "2021-08-08T01:34:11.987015",
     "status": "completed"
    },
    "tags": []
   },
   "outputs": [
    {
     "data": {
      "text/plain": [
       "1179"
      ]
     },
     "execution_count": 52,
     "metadata": {},
     "output_type": "execute_result"
    }
   ],
   "source": [
    "needed_samples = 2855\n",
    "we_have = 1676\n",
    "extra_needed = needed_samples - we_have\n",
    "extra_needed"
   ]
  },
  {
   "cell_type": "code",
   "execution_count": 53,
   "id": "926703e2",
   "metadata": {
    "execution": {
     "iopub.execute_input": "2021-08-08T01:34:12.278922Z",
     "iopub.status.busy": "2021-08-08T01:34:12.277889Z",
     "iopub.status.idle": "2021-08-08T01:34:12.285827Z",
     "shell.execute_reply": "2021-08-08T01:34:12.285268Z",
     "shell.execute_reply.started": "2021-08-08T01:00:29.351133Z"
    },
    "papermill": {
     "duration": 0.114586,
     "end_time": "2021-08-08T01:34:12.285967",
     "exception": false,
     "start_time": "2021-08-08T01:34:12.171381",
     "status": "completed"
    },
    "tags": []
   },
   "outputs": [
    {
     "data": {
      "text/plain": [
       "(31818, 3)"
      ]
     },
     "execution_count": 53,
     "metadata": {},
     "output_type": "execute_result"
    }
   ],
   "source": [
    "Negative_vin = vin_labels[vin_labels.class_name == 'No finding']\n",
    "Negative_vin.shape"
   ]
  },
  {
   "cell_type": "code",
   "execution_count": 54,
   "id": "eb1e19f1",
   "metadata": {
    "execution": {
     "iopub.execute_input": "2021-08-08T01:34:12.470533Z",
     "iopub.status.busy": "2021-08-08T01:34:12.469754Z",
     "iopub.status.idle": "2021-08-08T01:34:12.474237Z",
     "shell.execute_reply": "2021-08-08T01:34:12.473658Z",
     "shell.execute_reply.started": "2021-08-08T01:00:29.374109Z"
    },
    "papermill": {
     "duration": 0.10134,
     "end_time": "2021-08-08T01:34:12.474387",
     "exception": false,
     "start_time": "2021-08-08T01:34:12.373047",
     "status": "completed"
    },
    "tags": []
   },
   "outputs": [
    {
     "data": {
      "text/plain": [
       "(1179, 3)"
      ]
     },
     "execution_count": 54,
     "metadata": {},
     "output_type": "execute_result"
    }
   ],
   "source": [
    "Negative_extra = Negative_vin.sample(n=1179, random_state=9)\n",
    "Negative_extra.shape"
   ]
  },
  {
   "cell_type": "code",
   "execution_count": 55,
   "id": "29f16f62",
   "metadata": {
    "execution": {
     "iopub.execute_input": "2021-08-08T01:34:12.663521Z",
     "iopub.status.busy": "2021-08-08T01:34:12.662610Z",
     "iopub.status.idle": "2021-08-08T01:34:12.667254Z",
     "shell.execute_reply": "2021-08-08T01:34:12.666594Z",
     "shell.execute_reply.started": "2021-08-08T01:00:29.384511Z"
    },
    "papermill": {
     "duration": 0.105152,
     "end_time": "2021-08-08T01:34:12.667408",
     "exception": false,
     "start_time": "2021-08-08T01:34:12.562256",
     "status": "completed"
    },
    "tags": []
   },
   "outputs": [
    {
     "data": {
      "text/html": [
       "<div>\n",
       "<style scoped>\n",
       "    .dataframe tbody tr th:only-of-type {\n",
       "        vertical-align: middle;\n",
       "    }\n",
       "\n",
       "    .dataframe tbody tr th {\n",
       "        vertical-align: top;\n",
       "    }\n",
       "\n",
       "    .dataframe thead th {\n",
       "        text-align: right;\n",
       "    }\n",
       "</style>\n",
       "<table border=\"1\" class=\"dataframe\">\n",
       "  <thead>\n",
       "    <tr style=\"text-align: right;\">\n",
       "      <th></th>\n",
       "      <th>image_id</th>\n",
       "      <th>class_name</th>\n",
       "      <th>dataset</th>\n",
       "      <th>Negative for Pneumonia</th>\n",
       "      <th>sparse_gt</th>\n",
       "    </tr>\n",
       "  </thead>\n",
       "  <tbody>\n",
       "    <tr>\n",
       "      <th>12423</th>\n",
       "      <td>63246dd75fb16f49acec60fb00c247da</td>\n",
       "      <td>No finding</td>\n",
       "      <td>vinbig</td>\n",
       "      <td>1</td>\n",
       "      <td>0</td>\n",
       "    </tr>\n",
       "    <tr>\n",
       "      <th>6832</th>\n",
       "      <td>e29fcb9b89f4ccf3e2caeb609b99fb5f</td>\n",
       "      <td>No finding</td>\n",
       "      <td>vinbig</td>\n",
       "      <td>1</td>\n",
       "      <td>0</td>\n",
       "    </tr>\n",
       "    <tr>\n",
       "      <th>65447</th>\n",
       "      <td>e071243215a835dbf5f53328856f4126</td>\n",
       "      <td>No finding</td>\n",
       "      <td>vinbig</td>\n",
       "      <td>1</td>\n",
       "      <td>0</td>\n",
       "    </tr>\n",
       "    <tr>\n",
       "      <th>5046</th>\n",
       "      <td>874317c4604b813be6e377b963b50583</td>\n",
       "      <td>No finding</td>\n",
       "      <td>vinbig</td>\n",
       "      <td>1</td>\n",
       "      <td>0</td>\n",
       "    </tr>\n",
       "    <tr>\n",
       "      <th>34649</th>\n",
       "      <td>ca6c4552248da1513a23759b61e22f65</td>\n",
       "      <td>No finding</td>\n",
       "      <td>vinbig</td>\n",
       "      <td>1</td>\n",
       "      <td>0</td>\n",
       "    </tr>\n",
       "  </tbody>\n",
       "</table>\n",
       "</div>"
      ],
      "text/plain": [
       "                               image_id  class_name dataset  \\\n",
       "12423  63246dd75fb16f49acec60fb00c247da  No finding  vinbig   \n",
       "6832   e29fcb9b89f4ccf3e2caeb609b99fb5f  No finding  vinbig   \n",
       "65447  e071243215a835dbf5f53328856f4126  No finding  vinbig   \n",
       "5046   874317c4604b813be6e377b963b50583  No finding  vinbig   \n",
       "34649  ca6c4552248da1513a23759b61e22f65  No finding  vinbig   \n",
       "\n",
       "       Negative for Pneumonia  sparse_gt  \n",
       "12423                       1          0  \n",
       "6832                        1          0  \n",
       "65447                       1          0  \n",
       "5046                        1          0  \n",
       "34649                       1          0  "
      ]
     },
     "execution_count": 55,
     "metadata": {},
     "output_type": "execute_result"
    }
   ],
   "source": [
    "Negative_extra['Negative for Pneumonia'] = 1\n",
    "Negative_extra['sparse_gt'] = 0\n",
    "Negative_extra.head()"
   ]
  },
  {
   "cell_type": "code",
   "execution_count": 56,
   "id": "92c430f1",
   "metadata": {
    "execution": {
     "iopub.execute_input": "2021-08-08T01:34:12.848438Z",
     "iopub.status.busy": "2021-08-08T01:34:12.847411Z",
     "iopub.status.idle": "2021-08-08T01:34:12.850692Z",
     "shell.execute_reply": "2021-08-08T01:34:12.850053Z",
     "shell.execute_reply.started": "2021-08-08T01:00:29.401234Z"
    },
    "papermill": {
     "duration": 0.094451,
     "end_time": "2021-08-08T01:34:12.850839",
     "exception": false,
     "start_time": "2021-08-08T01:34:12.756388",
     "status": "completed"
    },
    "tags": []
   },
   "outputs": [],
   "source": [
    "# Negative_nih = nih_labels[nih_labels['Finding Labels'] == 'No Finding']\n",
    "# Negative_nih.shape"
   ]
  },
  {
   "cell_type": "markdown",
   "id": "2d11324f",
   "metadata": {
    "papermill": {
     "duration": 0.08621,
     "end_time": "2021-08-08T01:34:13.023880",
     "exception": false,
     "start_time": "2021-08-08T01:34:12.937670",
     "status": "completed"
    },
    "tags": []
   },
   "source": [
    "# Making the Full Dataset"
   ]
  },
  {
   "cell_type": "code",
   "execution_count": 57,
   "id": "b2b54f4f",
   "metadata": {
    "execution": {
     "iopub.execute_input": "2021-08-08T01:34:13.209666Z",
     "iopub.status.busy": "2021-08-08T01:34:13.208681Z",
     "iopub.status.idle": "2021-08-08T01:34:13.213334Z",
     "shell.execute_reply": "2021-08-08T01:34:13.213845Z",
     "shell.execute_reply.started": "2021-08-08T01:00:29.410276Z"
    },
    "papermill": {
     "duration": 0.102541,
     "end_time": "2021-08-08T01:34:13.214019",
     "exception": false,
     "start_time": "2021-08-08T01:34:13.111478",
     "status": "completed"
    },
    "tags": []
   },
   "outputs": [
    {
     "data": {
      "text/html": [
       "<div>\n",
       "<style scoped>\n",
       "    .dataframe tbody tr th:only-of-type {\n",
       "        vertical-align: middle;\n",
       "    }\n",
       "\n",
       "    .dataframe tbody tr th {\n",
       "        vertical-align: top;\n",
       "    }\n",
       "\n",
       "    .dataframe thead th {\n",
       "        text-align: right;\n",
       "    }\n",
       "</style>\n",
       "<table border=\"1\" class=\"dataframe\">\n",
       "  <thead>\n",
       "    <tr style=\"text-align: right;\">\n",
       "      <th></th>\n",
       "      <th>id</th>\n",
       "      <th>Negative for Pneumonia</th>\n",
       "      <th>Typical Appearance</th>\n",
       "      <th>Indeterminate Appearance</th>\n",
       "      <th>Atypical Appearance</th>\n",
       "      <th>sparse_gt</th>\n",
       "    </tr>\n",
       "  </thead>\n",
       "  <tbody>\n",
       "    <tr>\n",
       "      <th>0</th>\n",
       "      <td>000a312787f2</td>\n",
       "      <td>0</td>\n",
       "      <td>1</td>\n",
       "      <td>0</td>\n",
       "      <td>0</td>\n",
       "      <td>1</td>\n",
       "    </tr>\n",
       "    <tr>\n",
       "      <th>1</th>\n",
       "      <td>000c3a3f293f</td>\n",
       "      <td>1</td>\n",
       "      <td>0</td>\n",
       "      <td>0</td>\n",
       "      <td>0</td>\n",
       "      <td>0</td>\n",
       "    </tr>\n",
       "    <tr>\n",
       "      <th>2</th>\n",
       "      <td>0012ff7358bc</td>\n",
       "      <td>0</td>\n",
       "      <td>1</td>\n",
       "      <td>0</td>\n",
       "      <td>0</td>\n",
       "      <td>1</td>\n",
       "    </tr>\n",
       "    <tr>\n",
       "      <th>3</th>\n",
       "      <td>001398f4ff4f</td>\n",
       "      <td>0</td>\n",
       "      <td>0</td>\n",
       "      <td>0</td>\n",
       "      <td>1</td>\n",
       "      <td>3</td>\n",
       "    </tr>\n",
       "    <tr>\n",
       "      <th>4</th>\n",
       "      <td>001bd15d1891</td>\n",
       "      <td>0</td>\n",
       "      <td>1</td>\n",
       "      <td>0</td>\n",
       "      <td>0</td>\n",
       "      <td>1</td>\n",
       "    </tr>\n",
       "  </tbody>\n",
       "</table>\n",
       "</div>"
      ],
      "text/plain": [
       "             id  Negative for Pneumonia  Typical Appearance  \\\n",
       "0  000a312787f2                       0                   1   \n",
       "1  000c3a3f293f                       1                   0   \n",
       "2  0012ff7358bc                       0                   1   \n",
       "3  001398f4ff4f                       0                   0   \n",
       "4  001bd15d1891                       0                   1   \n",
       "\n",
       "   Indeterminate Appearance  Atypical Appearance  sparse_gt  \n",
       "0                         0                    0          1  \n",
       "1                         0                    0          0  \n",
       "2                         0                    0          1  \n",
       "3                         0                    1          3  \n",
       "4                         0                    0          1  "
      ]
     },
     "execution_count": 57,
     "metadata": {},
     "output_type": "execute_result"
    }
   ],
   "source": [
    "train_df.head()"
   ]
  },
  {
   "cell_type": "code",
   "execution_count": 58,
   "id": "46f41d6f",
   "metadata": {
    "execution": {
     "iopub.execute_input": "2021-08-08T01:34:13.436359Z",
     "iopub.status.busy": "2021-08-08T01:34:13.435556Z",
     "iopub.status.idle": "2021-08-08T01:34:13.439049Z",
     "shell.execute_reply": "2021-08-08T01:34:13.438436Z",
     "shell.execute_reply.started": "2021-08-08T01:00:29.428719Z"
    },
    "papermill": {
     "duration": 0.120729,
     "end_time": "2021-08-08T01:34:13.439208",
     "exception": false,
     "start_time": "2021-08-08T01:34:13.318479",
     "status": "completed"
    },
    "tags": []
   },
   "outputs": [
    {
     "data": {
      "text/html": [
       "<div>\n",
       "<style scoped>\n",
       "    .dataframe tbody tr th:only-of-type {\n",
       "        vertical-align: middle;\n",
       "    }\n",
       "\n",
       "    .dataframe tbody tr th {\n",
       "        vertical-align: top;\n",
       "    }\n",
       "\n",
       "    .dataframe thead th {\n",
       "        text-align: right;\n",
       "    }\n",
       "</style>\n",
       "<table border=\"1\" class=\"dataframe\">\n",
       "  <thead>\n",
       "    <tr style=\"text-align: right;\">\n",
       "      <th></th>\n",
       "      <th>image_id</th>\n",
       "      <th>class_name</th>\n",
       "      <th>dataset</th>\n",
       "      <th>Atypical Appearance</th>\n",
       "      <th>sparse_gt</th>\n",
       "    </tr>\n",
       "  </thead>\n",
       "  <tbody>\n",
       "    <tr>\n",
       "      <th>212</th>\n",
       "      <td>6e4391555899c8474c4d32f42b2ba21b</td>\n",
       "      <td>Pneumothorax</td>\n",
       "      <td>vinbig</td>\n",
       "      <td>1</td>\n",
       "      <td>3</td>\n",
       "    </tr>\n",
       "    <tr>\n",
       "      <th>308</th>\n",
       "      <td>e3c5ff1eb0d55039f3bbc3c4875543c3</td>\n",
       "      <td>Pneumothorax</td>\n",
       "      <td>vinbig</td>\n",
       "      <td>1</td>\n",
       "      <td>3</td>\n",
       "    </tr>\n",
       "    <tr>\n",
       "      <th>1090</th>\n",
       "      <td>54e6184c63c75a9695d7effc17969ad0</td>\n",
       "      <td>Pneumothorax</td>\n",
       "      <td>vinbig</td>\n",
       "      <td>1</td>\n",
       "      <td>3</td>\n",
       "    </tr>\n",
       "    <tr>\n",
       "      <th>1140</th>\n",
       "      <td>71511f823c4664475131c1519d9bd0a8</td>\n",
       "      <td>Pneumothorax</td>\n",
       "      <td>vinbig</td>\n",
       "      <td>1</td>\n",
       "      <td>3</td>\n",
       "    </tr>\n",
       "    <tr>\n",
       "      <th>1440</th>\n",
       "      <td>f9a0f4bd4bb3553af6e939362bbba5d6</td>\n",
       "      <td>Pneumothorax</td>\n",
       "      <td>vinbig</td>\n",
       "      <td>1</td>\n",
       "      <td>3</td>\n",
       "    </tr>\n",
       "  </tbody>\n",
       "</table>\n",
       "</div>"
      ],
      "text/plain": [
       "                              image_id    class_name dataset  \\\n",
       "212   6e4391555899c8474c4d32f42b2ba21b  Pneumothorax  vinbig   \n",
       "308   e3c5ff1eb0d55039f3bbc3c4875543c3  Pneumothorax  vinbig   \n",
       "1090  54e6184c63c75a9695d7effc17969ad0  Pneumothorax  vinbig   \n",
       "1140  71511f823c4664475131c1519d9bd0a8  Pneumothorax  vinbig   \n",
       "1440  f9a0f4bd4bb3553af6e939362bbba5d6  Pneumothorax  vinbig   \n",
       "\n",
       "      Atypical Appearance  sparse_gt  \n",
       "212                     1          3  \n",
       "308                     1          3  \n",
       "1090                    1          3  \n",
       "1140                    1          3  \n",
       "1440                    1          3  "
      ]
     },
     "execution_count": 58,
     "metadata": {},
     "output_type": "execute_result"
    }
   ],
   "source": [
    "Atypical_extra.head()"
   ]
  },
  {
   "cell_type": "code",
   "execution_count": 59,
   "id": "c3914d0c",
   "metadata": {
    "execution": {
     "iopub.execute_input": "2021-08-08T01:34:13.621380Z",
     "iopub.status.busy": "2021-08-08T01:34:13.620636Z",
     "iopub.status.idle": "2021-08-08T01:34:13.624766Z",
     "shell.execute_reply": "2021-08-08T01:34:13.625296Z",
     "shell.execute_reply.started": "2021-08-08T01:00:29.446640Z"
    },
    "papermill": {
     "duration": 0.097382,
     "end_time": "2021-08-08T01:34:13.625482",
     "exception": false,
     "start_time": "2021-08-08T01:34:13.528100",
     "status": "completed"
    },
    "tags": []
   },
   "outputs": [],
   "source": [
    "train_df.columns = ['image_id', 'Negative for Pneumonia', 'Typical Appearance', 'Indeterminate Appearance', 'Atypical Appearance', 'sparse_gt']"
   ]
  },
  {
   "cell_type": "code",
   "execution_count": 60,
   "id": "035b4784",
   "metadata": {
    "execution": {
     "iopub.execute_input": "2021-08-08T01:34:13.809416Z",
     "iopub.status.busy": "2021-08-08T01:34:13.808742Z",
     "iopub.status.idle": "2021-08-08T01:34:13.820381Z",
     "shell.execute_reply": "2021-08-08T01:34:13.819759Z",
     "shell.execute_reply.started": "2021-08-08T01:00:29.455400Z"
    },
    "papermill": {
     "duration": 0.104263,
     "end_time": "2021-08-08T01:34:13.820524",
     "exception": false,
     "start_time": "2021-08-08T01:34:13.716261",
     "status": "completed"
    },
    "tags": []
   },
   "outputs": [
    {
     "data": {
      "text/html": [
       "<div>\n",
       "<style scoped>\n",
       "    .dataframe tbody tr th:only-of-type {\n",
       "        vertical-align: middle;\n",
       "    }\n",
       "\n",
       "    .dataframe tbody tr th {\n",
       "        vertical-align: top;\n",
       "    }\n",
       "\n",
       "    .dataframe thead th {\n",
       "        text-align: right;\n",
       "    }\n",
       "</style>\n",
       "<table border=\"1\" class=\"dataframe\">\n",
       "  <thead>\n",
       "    <tr style=\"text-align: right;\">\n",
       "      <th></th>\n",
       "      <th>image_id</th>\n",
       "      <th>Negative for Pneumonia</th>\n",
       "      <th>Typical Appearance</th>\n",
       "      <th>Indeterminate Appearance</th>\n",
       "      <th>Atypical Appearance</th>\n",
       "      <th>sparse_gt</th>\n",
       "    </tr>\n",
       "  </thead>\n",
       "  <tbody>\n",
       "    <tr>\n",
       "      <th>0</th>\n",
       "      <td>000a312787f2</td>\n",
       "      <td>0</td>\n",
       "      <td>1</td>\n",
       "      <td>0</td>\n",
       "      <td>0</td>\n",
       "      <td>1</td>\n",
       "    </tr>\n",
       "    <tr>\n",
       "      <th>1</th>\n",
       "      <td>000c3a3f293f</td>\n",
       "      <td>1</td>\n",
       "      <td>0</td>\n",
       "      <td>0</td>\n",
       "      <td>0</td>\n",
       "      <td>0</td>\n",
       "    </tr>\n",
       "    <tr>\n",
       "      <th>2</th>\n",
       "      <td>0012ff7358bc</td>\n",
       "      <td>0</td>\n",
       "      <td>1</td>\n",
       "      <td>0</td>\n",
       "      <td>0</td>\n",
       "      <td>1</td>\n",
       "    </tr>\n",
       "    <tr>\n",
       "      <th>3</th>\n",
       "      <td>001398f4ff4f</td>\n",
       "      <td>0</td>\n",
       "      <td>0</td>\n",
       "      <td>0</td>\n",
       "      <td>1</td>\n",
       "      <td>3</td>\n",
       "    </tr>\n",
       "    <tr>\n",
       "      <th>4</th>\n",
       "      <td>001bd15d1891</td>\n",
       "      <td>0</td>\n",
       "      <td>1</td>\n",
       "      <td>0</td>\n",
       "      <td>0</td>\n",
       "      <td>1</td>\n",
       "    </tr>\n",
       "  </tbody>\n",
       "</table>\n",
       "</div>"
      ],
      "text/plain": [
       "       image_id  Negative for Pneumonia  Typical Appearance  \\\n",
       "0  000a312787f2                       0                   1   \n",
       "1  000c3a3f293f                       1                   0   \n",
       "2  0012ff7358bc                       0                   1   \n",
       "3  001398f4ff4f                       0                   0   \n",
       "4  001bd15d1891                       0                   1   \n",
       "\n",
       "   Indeterminate Appearance  Atypical Appearance  sparse_gt  \n",
       "0                         0                    0          1  \n",
       "1                         0                    0          0  \n",
       "2                         0                    0          1  \n",
       "3                         0                    1          3  \n",
       "4                         0                    0          1  "
      ]
     },
     "execution_count": 60,
     "metadata": {},
     "output_type": "execute_result"
    }
   ],
   "source": [
    "train_df.head()"
   ]
  },
  {
   "cell_type": "code",
   "execution_count": 61,
   "id": "88ad9b66",
   "metadata": {
    "execution": {
     "iopub.execute_input": "2021-08-08T01:34:14.007686Z",
     "iopub.status.busy": "2021-08-08T01:34:14.006950Z",
     "iopub.status.idle": "2021-08-08T01:34:14.010131Z",
     "shell.execute_reply": "2021-08-08T01:34:14.011319Z",
     "shell.execute_reply.started": "2021-08-08T01:00:29.474019Z"
    },
    "papermill": {
     "duration": 0.100916,
     "end_time": "2021-08-08T01:34:14.011519",
     "exception": false,
     "start_time": "2021-08-08T01:34:13.910603",
     "status": "completed"
    },
    "tags": []
   },
   "outputs": [],
   "source": [
    "train_df['dataset'] = 'siim'"
   ]
  },
  {
   "cell_type": "code",
   "execution_count": 62,
   "id": "ad6dbedd",
   "metadata": {
    "execution": {
     "iopub.execute_input": "2021-08-08T01:34:14.195175Z",
     "iopub.status.busy": "2021-08-08T01:34:14.194442Z",
     "iopub.status.idle": "2021-08-08T01:34:14.202584Z",
     "shell.execute_reply": "2021-08-08T01:34:14.203085Z",
     "shell.execute_reply.started": "2021-08-08T01:00:29.483588Z"
    },
    "papermill": {
     "duration": 0.101194,
     "end_time": "2021-08-08T01:34:14.203292",
     "exception": false,
     "start_time": "2021-08-08T01:34:14.102098",
     "status": "completed"
    },
    "tags": []
   },
   "outputs": [],
   "source": [
    "extra_df = pd.concat([Atypical_extra, Indeterminate_extra, Negative_extra])"
   ]
  },
  {
   "cell_type": "code",
   "execution_count": 63,
   "id": "b48a63b7",
   "metadata": {
    "execution": {
     "iopub.execute_input": "2021-08-08T01:34:14.386309Z",
     "iopub.status.busy": "2021-08-08T01:34:14.385568Z",
     "iopub.status.idle": "2021-08-08T01:34:14.399669Z",
     "shell.execute_reply": "2021-08-08T01:34:14.400185Z",
     "shell.execute_reply.started": "2021-08-08T01:00:29.498593Z"
    },
    "papermill": {
     "duration": 0.106635,
     "end_time": "2021-08-08T01:34:14.400378",
     "exception": false,
     "start_time": "2021-08-08T01:34:14.293743",
     "status": "completed"
    },
    "tags": []
   },
   "outputs": [
    {
     "data": {
      "text/html": [
       "<div>\n",
       "<style scoped>\n",
       "    .dataframe tbody tr th:only-of-type {\n",
       "        vertical-align: middle;\n",
       "    }\n",
       "\n",
       "    .dataframe tbody tr th {\n",
       "        vertical-align: top;\n",
       "    }\n",
       "\n",
       "    .dataframe thead th {\n",
       "        text-align: right;\n",
       "    }\n",
       "</style>\n",
       "<table border=\"1\" class=\"dataframe\">\n",
       "  <thead>\n",
       "    <tr style=\"text-align: right;\">\n",
       "      <th></th>\n",
       "      <th>image_id</th>\n",
       "      <th>class_name</th>\n",
       "      <th>dataset</th>\n",
       "      <th>Atypical Appearance</th>\n",
       "      <th>sparse_gt</th>\n",
       "      <th>Indeterminate Appearance</th>\n",
       "      <th>Negative for Pneumonia</th>\n",
       "    </tr>\n",
       "  </thead>\n",
       "  <tbody>\n",
       "    <tr>\n",
       "      <th>212</th>\n",
       "      <td>6e4391555899c8474c4d32f42b2ba21b</td>\n",
       "      <td>Pneumothorax</td>\n",
       "      <td>vinbig</td>\n",
       "      <td>1.0</td>\n",
       "      <td>3</td>\n",
       "      <td>NaN</td>\n",
       "      <td>NaN</td>\n",
       "    </tr>\n",
       "    <tr>\n",
       "      <th>308</th>\n",
       "      <td>e3c5ff1eb0d55039f3bbc3c4875543c3</td>\n",
       "      <td>Pneumothorax</td>\n",
       "      <td>vinbig</td>\n",
       "      <td>1.0</td>\n",
       "      <td>3</td>\n",
       "      <td>NaN</td>\n",
       "      <td>NaN</td>\n",
       "    </tr>\n",
       "    <tr>\n",
       "      <th>1090</th>\n",
       "      <td>54e6184c63c75a9695d7effc17969ad0</td>\n",
       "      <td>Pneumothorax</td>\n",
       "      <td>vinbig</td>\n",
       "      <td>1.0</td>\n",
       "      <td>3</td>\n",
       "      <td>NaN</td>\n",
       "      <td>NaN</td>\n",
       "    </tr>\n",
       "    <tr>\n",
       "      <th>1140</th>\n",
       "      <td>71511f823c4664475131c1519d9bd0a8</td>\n",
       "      <td>Pneumothorax</td>\n",
       "      <td>vinbig</td>\n",
       "      <td>1.0</td>\n",
       "      <td>3</td>\n",
       "      <td>NaN</td>\n",
       "      <td>NaN</td>\n",
       "    </tr>\n",
       "    <tr>\n",
       "      <th>1440</th>\n",
       "      <td>f9a0f4bd4bb3553af6e939362bbba5d6</td>\n",
       "      <td>Pneumothorax</td>\n",
       "      <td>vinbig</td>\n",
       "      <td>1.0</td>\n",
       "      <td>3</td>\n",
       "      <td>NaN</td>\n",
       "      <td>NaN</td>\n",
       "    </tr>\n",
       "  </tbody>\n",
       "</table>\n",
       "</div>"
      ],
      "text/plain": [
       "                              image_id    class_name dataset  \\\n",
       "212   6e4391555899c8474c4d32f42b2ba21b  Pneumothorax  vinbig   \n",
       "308   e3c5ff1eb0d55039f3bbc3c4875543c3  Pneumothorax  vinbig   \n",
       "1090  54e6184c63c75a9695d7effc17969ad0  Pneumothorax  vinbig   \n",
       "1140  71511f823c4664475131c1519d9bd0a8  Pneumothorax  vinbig   \n",
       "1440  f9a0f4bd4bb3553af6e939362bbba5d6  Pneumothorax  vinbig   \n",
       "\n",
       "      Atypical Appearance  sparse_gt  Indeterminate Appearance  \\\n",
       "212                   1.0          3                       NaN   \n",
       "308                   1.0          3                       NaN   \n",
       "1090                  1.0          3                       NaN   \n",
       "1140                  1.0          3                       NaN   \n",
       "1440                  1.0          3                       NaN   \n",
       "\n",
       "      Negative for Pneumonia  \n",
       "212                      NaN  \n",
       "308                      NaN  \n",
       "1090                     NaN  \n",
       "1140                     NaN  \n",
       "1440                     NaN  "
      ]
     },
     "execution_count": 63,
     "metadata": {},
     "output_type": "execute_result"
    }
   ],
   "source": [
    "extra_df.head()"
   ]
  },
  {
   "cell_type": "markdown",
   "id": "384de2da",
   "metadata": {
    "papermill": {
     "duration": 0.088893,
     "end_time": "2021-08-08T01:34:14.579340",
     "exception": false,
     "start_time": "2021-08-08T01:34:14.490447",
     "status": "completed"
    },
    "tags": []
   },
   "source": [
    "# Data Generator"
   ]
  },
  {
   "cell_type": "code",
   "execution_count": 64,
   "id": "47524496",
   "metadata": {
    "execution": {
     "iopub.execute_input": "2021-08-08T01:34:14.763155Z",
     "iopub.status.busy": "2021-08-08T01:34:14.762464Z",
     "iopub.status.idle": "2021-08-08T01:34:14.767635Z",
     "shell.execute_reply": "2021-08-08T01:34:14.767049Z",
     "shell.execute_reply.started": "2021-08-08T01:00:29.514789Z"
    },
    "papermill": {
     "duration": 0.098689,
     "end_time": "2021-08-08T01:34:14.767776",
     "exception": false,
     "start_time": "2021-08-08T01:34:14.669087",
     "status": "completed"
    },
    "tags": []
   },
   "outputs": [],
   "source": [
    "import os\n",
    "\n",
    "import numpy as np\n",
    "import pandas as pd\n",
    "from kaggle_datasets import KaggleDatasets\n",
    "from sklearn.model_selection import train_test_split\n",
    "import tensorflow as tf\n",
    "from sklearn.model_selection import GroupKFold"
   ]
  },
  {
   "cell_type": "code",
   "execution_count": 65,
   "id": "50a56ce1",
   "metadata": {
    "execution": {
     "iopub.execute_input": "2021-08-08T01:34:14.970575Z",
     "iopub.status.busy": "2021-08-08T01:34:14.963487Z",
     "iopub.status.idle": "2021-08-08T01:34:14.973892Z",
     "shell.execute_reply": "2021-08-08T01:34:14.973345Z",
     "shell.execute_reply.started": "2021-08-08T01:00:29.523864Z"
    },
    "papermill": {
     "duration": 0.115724,
     "end_time": "2021-08-08T01:34:14.974043",
     "exception": false,
     "start_time": "2021-08-08T01:34:14.858319",
     "status": "completed"
    },
    "tags": []
   },
   "outputs": [],
   "source": [
    "SATURATION  = (0.9, 1.1)\n",
    "CONTRAST = (0.9, 1.1)\n",
    "BRIGHTNESS  =  0.1\n",
    "ROTATION    = 10.0\n",
    "SHEAR    = 2.0\n",
    "HZOOM  = 8.0\n",
    "WZOOM  = 4.0\n",
    "HSHIFT = 4.0\n",
    "WSHIFT = 4.0\n",
    "\n",
    "def get_mat(rotation, shear, height_zoom, width_zoom, height_shift, width_shift):\n",
    "    # returns 3x3 transformmatrix which transforms indicies\n",
    "        \n",
    "    # CONVERT DEGREES TO RADIANS\n",
    "    rotation = math.pi * rotation / 180.\n",
    "    shear    = math.pi * shear    / 180.\n",
    "\n",
    "    def get_3x3_mat(lst):\n",
    "        return tf.reshape(tf.concat([lst],axis=0), [3,3])\n",
    "    \n",
    "    # ROTATION MATRIX\n",
    "    c1   = tf.math.cos(rotation)\n",
    "    s1   = tf.math.sin(rotation)\n",
    "    one  = tf.constant([1],dtype='float32')\n",
    "    zero = tf.constant([0],dtype='float32')\n",
    "    \n",
    "    rotation_matrix = get_3x3_mat([c1,   s1,   zero, \n",
    "                                   -s1,  c1,   zero, \n",
    "                                   zero, zero, one])    \n",
    "    # SHEAR MATRIX\n",
    "    c2 = tf.math.cos(shear)\n",
    "    s2 = tf.math.sin(shear)    \n",
    "    \n",
    "    shear_matrix = get_3x3_mat([one,  s2,   zero, \n",
    "                                zero, c2,   zero, \n",
    "                                zero, zero, one])        \n",
    "    # ZOOM MATRIX\n",
    "    zoom_matrix = get_3x3_mat([one/height_zoom, zero,           zero, \n",
    "                               zero,            one/width_zoom, zero, \n",
    "                               zero,            zero,           one])    \n",
    "    # SHIFT MATRIX\n",
    "    shift_matrix = get_3x3_mat([one,  zero, height_shift, \n",
    "                                zero, one,  width_shift, \n",
    "                                zero, zero, one])\n",
    "    \n",
    "    return K.dot(K.dot(rotation_matrix, shear_matrix), \n",
    "                 K.dot(zoom_matrix,     shift_matrix))\n",
    "\n",
    "\n",
    "def transform(image, label):\n",
    "    # input image - is one image of size [dim,dim,3] not a batch of [b,dim,dim,3]\n",
    "    # output - image randomly rotated, sheared, zoomed, and shifted\n",
    "    DIM = 640\n",
    "    XDIM = DIM%2\n",
    "    \n",
    "    rot = ROTATION * tf.random.normal([1], dtype='float32')\n",
    "    shr = SHEAR * tf.random.normal([1], dtype='float32')\n",
    "    h_zoom = 1.0 + tf.random.normal([1], dtype='float32') / HZOOM\n",
    "    w_zoom = 1.0 + tf.random.normal([1], dtype='float32') / WZOOM\n",
    "    h_shift = HSHIFT * tf.random.normal([1], dtype='float32')\n",
    "    w_shift = WSHIFT * tf.random.normal([1], dtype='float32')\n",
    "  \n",
    "    # GET TRANSFORMATION MATRIX\n",
    "    m = get_mat(rot, shr, h_zoom, w_zoom, h_shift, w_shift) \n",
    "\n",
    "    # LIST DESTINATION PIXEL INDICES\n",
    "    x = tf.repeat( tf.range(DIM//2,-DIM//2,-1), DIM )\n",
    "    y = tf.tile( tf.range(-DIM//2,DIM//2),[DIM] )\n",
    "    z = tf.ones([DIM*DIM],dtype='int32')\n",
    "    idx = tf.stack( [x,y,z] )\n",
    "    \n",
    "    # ROTATE DESTINATION PIXELS ONTO ORIGIN PIXELS\n",
    "    idx2 = K.dot(m,tf.cast(idx,dtype='float32'))\n",
    "    idx2 = K.cast(idx2,dtype='int32')\n",
    "    idx2 = K.clip(idx2,-DIM//2+XDIM+1,DIM//2)\n",
    "    \n",
    "    # FIND ORIGIN PIXEL VALUES           \n",
    "    idx3 = tf.stack( [DIM//2-idx2[0,], DIM//2-1+idx2[1,]] )\n",
    "    d = tf.gather_nd(image,tf.transpose(idx3))\n",
    "        \n",
    "    return tf.reshape(d,[DIM,DIM,3]), label"
   ]
  },
  {
   "cell_type": "code",
   "execution_count": 66,
   "id": "17011047",
   "metadata": {
    "execution": {
     "iopub.execute_input": "2021-08-08T01:34:15.184094Z",
     "iopub.status.busy": "2021-08-08T01:34:15.182589Z",
     "iopub.status.idle": "2021-08-08T01:34:15.186625Z",
     "shell.execute_reply": "2021-08-08T01:34:15.187107Z",
     "shell.execute_reply.started": "2021-08-08T01:00:29.545948Z"
    },
    "papermill": {
     "duration": 0.119066,
     "end_time": "2021-08-08T01:34:15.187331",
     "exception": false,
     "start_time": "2021-08-08T01:34:15.068265",
     "status": "completed"
    },
    "tags": []
   },
   "outputs": [],
   "source": [
    "def auto_select_accelerator():\n",
    "    try:\n",
    "        tpu = tf.distribute.cluster_resolver.TPUClusterResolver()\n",
    "        tf.config.experimental_connect_to_cluster(tpu)\n",
    "        tf.tpu.experimental.initialize_tpu_system(tpu)\n",
    "        strategy = tf.distribute.experimental.TPUStrategy(tpu)\n",
    "        print(\"Running on TPU:\", tpu.master())\n",
    "    except ValueError:\n",
    "        strategy = tf.distribute.get_strategy()\n",
    "    print(f\"Running on {strategy.num_replicas_in_sync} replicas\")\n",
    "    \n",
    "    return strategy\n",
    "\n",
    "\n",
    "def build_decoder(with_labels=True, target_size=(256, 256), ext='jpg'):\n",
    "    def decode(path):\n",
    "        file_bytes = tf.io.read_file(path)\n",
    "\n",
    "        if ext == 'png':\n",
    "            img = tf.image.decode_png(file_bytes, channels=3)\n",
    "        elif ext in ['jpg', 'jpeg']:\n",
    "            img = tf.image.decode_jpeg(file_bytes, channels=3)\n",
    "        else:\n",
    "            raise ValueError(\"Image extension not supported\")\n",
    "        img = tf.cast(img, tf.float32) / 255.0\n",
    "        img = tf.image.resize(img, target_size)\n",
    "\n",
    "        return img\n",
    "    \n",
    "    def decode_with_labels(path, label):\n",
    "        return decode(path), label\n",
    "    \n",
    "    return decode_with_labels if with_labels else decode\n",
    "\n",
    "\n",
    "def build_augmenter(with_labels=True):\n",
    "    def augment(img):\n",
    "        img = tf.image.random_flip_left_right(img)\n",
    "        img = tf.image.random_saturation(img, SATURATION[0], SATURATION[1])\n",
    "        img = tf.image.random_contrast(img, CONTRAST[0], CONTRAST[1])\n",
    "        img = tf.image.random_brightness(img, BRIGHTNESS)\n",
    "        return img\n",
    "    \n",
    "    def augment_with_labels(img, label):\n",
    "        return augment(img), label\n",
    "    \n",
    "    return augment_with_labels if with_labels else augment\n",
    "\n",
    "\n",
    "def build_dataset(paths, labels=None, bsize=128, cache=True,\n",
    "                  decode_fn=None, augment_fn=None,\n",
    "                  augment=True, repeat=True, shuffle=1024, \n",
    "                  cache_dir=\"\"):\n",
    "    if cache_dir != \"\" and cache is True:\n",
    "        os.makedirs(cache_dir, exist_ok=True)\n",
    "    \n",
    "    if decode_fn is None:\n",
    "        decode_fn = build_decoder(labels is not None)\n",
    "    \n",
    "    if augment_fn is None:\n",
    "        augment_fn = build_augmenter(labels is not None)\n",
    "    \n",
    "    AUTO = tf.data.experimental.AUTOTUNE\n",
    "    slices = paths if labels is None else (paths, labels)\n",
    "    \n",
    "    dset = tf.data.Dataset.from_tensor_slices(slices)\n",
    "    dset = dset.map(decode_fn, num_parallel_calls=AUTO)\n",
    "    dset = dset.cache(cache_dir) if cache else dset\n",
    "    dset = dset.map(augment_fn, num_parallel_calls=AUTO) if augment else dset\n",
    "    dset = dset.map(transform, num_parallel_calls=AUTO) if augment else dset\n",
    "    dset = dset.repeat() if repeat else dset\n",
    "    dset = dset.shuffle(shuffle) if shuffle else dset\n",
    "    dset = dset.batch(bsize).prefetch(AUTO)\n",
    "    \n",
    "    return dset"
   ]
  },
  {
   "cell_type": "code",
   "execution_count": 67,
   "id": "cbed0e73",
   "metadata": {
    "execution": {
     "iopub.execute_input": "2021-08-08T01:34:15.433178Z",
     "iopub.status.busy": "2021-08-08T01:34:15.431971Z",
     "iopub.status.idle": "2021-08-08T01:34:21.891076Z",
     "shell.execute_reply": "2021-08-08T01:34:21.890041Z",
     "shell.execute_reply.started": "2021-08-08T01:00:29.565372Z"
    },
    "papermill": {
     "duration": 6.61353,
     "end_time": "2021-08-08T01:34:21.891275",
     "exception": false,
     "start_time": "2021-08-08T01:34:15.277745",
     "status": "completed"
    },
    "tags": []
   },
   "outputs": [
    {
     "name": "stdout",
     "output_type": "stream",
     "text": [
      "Running on TPU: grpc://10.0.0.2:8470\n",
      "Running on 8 replicas\n"
     ]
    }
   ],
   "source": [
    "COMPETITION_NAME1 = \"vinbigdata-chest-xray-original-png\"\n",
    "COMPETITION_NAME2 = \"covid19-detection-890pxpng-study\"\n",
    "strategy = auto_select_accelerator()\n",
    "BATCH_SIZE = strategy.num_replicas_in_sync * 16\n",
    "GCS_DS_PATH1 = KaggleDatasets().get_gcs_path(COMPETITION_NAME1)\n",
    "GCS_DS_PATH2 = KaggleDatasets().get_gcs_path(COMPETITION_NAME2)"
   ]
  },
  {
   "cell_type": "code",
   "execution_count": 68,
   "id": "8128ae73",
   "metadata": {
    "execution": {
     "iopub.execute_input": "2021-08-08T01:34:22.079495Z",
     "iopub.status.busy": "2021-08-08T01:34:22.078792Z",
     "iopub.status.idle": "2021-08-08T01:34:22.103394Z",
     "shell.execute_reply": "2021-08-08T01:34:22.103930Z",
     "shell.execute_reply.started": "2021-08-08T01:00:36.044391Z"
    },
    "papermill": {
     "duration": 0.120904,
     "end_time": "2021-08-08T01:34:22.104105",
     "exception": false,
     "start_time": "2021-08-08T01:34:21.983201",
     "status": "completed"
    },
    "tags": []
   },
   "outputs": [],
   "source": [
    "extra_df['image_id'] = GCS_DS_PATH1 + '/train/' + extra_df['image_id'] + '.png'\n",
    "train_df['image_id'] = GCS_DS_PATH2 + '/train/' + train_df['image_id'] + '.png'"
   ]
  },
  {
   "cell_type": "code",
   "execution_count": 69,
   "id": "06c78448",
   "metadata": {
    "execution": {
     "iopub.execute_input": "2021-08-08T01:34:22.291336Z",
     "iopub.status.busy": "2021-08-08T01:34:22.290619Z",
     "iopub.status.idle": "2021-08-08T01:34:22.311626Z",
     "shell.execute_reply": "2021-08-08T01:34:22.310959Z",
     "shell.execute_reply.started": "2021-08-08T01:00:36.075427Z"
    },
    "papermill": {
     "duration": 0.117258,
     "end_time": "2021-08-08T01:34:22.311765",
     "exception": false,
     "start_time": "2021-08-08T01:34:22.194507",
     "status": "completed"
    },
    "tags": []
   },
   "outputs": [
    {
     "data": {
      "text/html": [
       "<div>\n",
       "<style scoped>\n",
       "    .dataframe tbody tr th:only-of-type {\n",
       "        vertical-align: middle;\n",
       "    }\n",
       "\n",
       "    .dataframe tbody tr th {\n",
       "        vertical-align: top;\n",
       "    }\n",
       "\n",
       "    .dataframe thead th {\n",
       "        text-align: right;\n",
       "    }\n",
       "</style>\n",
       "<table border=\"1\" class=\"dataframe\">\n",
       "  <thead>\n",
       "    <tr style=\"text-align: right;\">\n",
       "      <th></th>\n",
       "      <th>image_id</th>\n",
       "      <th>Negative for Pneumonia</th>\n",
       "      <th>Typical Appearance</th>\n",
       "      <th>Indeterminate Appearance</th>\n",
       "      <th>Atypical Appearance</th>\n",
       "      <th>sparse_gt</th>\n",
       "      <th>dataset</th>\n",
       "      <th>class_name</th>\n",
       "    </tr>\n",
       "  </thead>\n",
       "  <tbody>\n",
       "    <tr>\n",
       "      <th>0</th>\n",
       "      <td>gs://kds-fc3be7d2ac2afce0ec3cbdec79b75f7fb2ad5...</td>\n",
       "      <td>0.0</td>\n",
       "      <td>1.0</td>\n",
       "      <td>0.0</td>\n",
       "      <td>0.0</td>\n",
       "      <td>1</td>\n",
       "      <td>siim</td>\n",
       "      <td>NaN</td>\n",
       "    </tr>\n",
       "    <tr>\n",
       "      <th>1</th>\n",
       "      <td>gs://kds-fc3be7d2ac2afce0ec3cbdec79b75f7fb2ad5...</td>\n",
       "      <td>1.0</td>\n",
       "      <td>0.0</td>\n",
       "      <td>0.0</td>\n",
       "      <td>0.0</td>\n",
       "      <td>0</td>\n",
       "      <td>siim</td>\n",
       "      <td>NaN</td>\n",
       "    </tr>\n",
       "    <tr>\n",
       "      <th>2</th>\n",
       "      <td>gs://kds-fc3be7d2ac2afce0ec3cbdec79b75f7fb2ad5...</td>\n",
       "      <td>0.0</td>\n",
       "      <td>1.0</td>\n",
       "      <td>0.0</td>\n",
       "      <td>0.0</td>\n",
       "      <td>1</td>\n",
       "      <td>siim</td>\n",
       "      <td>NaN</td>\n",
       "    </tr>\n",
       "    <tr>\n",
       "      <th>3</th>\n",
       "      <td>gs://kds-fc3be7d2ac2afce0ec3cbdec79b75f7fb2ad5...</td>\n",
       "      <td>0.0</td>\n",
       "      <td>0.0</td>\n",
       "      <td>0.0</td>\n",
       "      <td>1.0</td>\n",
       "      <td>3</td>\n",
       "      <td>siim</td>\n",
       "      <td>NaN</td>\n",
       "    </tr>\n",
       "    <tr>\n",
       "      <th>4</th>\n",
       "      <td>gs://kds-fc3be7d2ac2afce0ec3cbdec79b75f7fb2ad5...</td>\n",
       "      <td>0.0</td>\n",
       "      <td>1.0</td>\n",
       "      <td>0.0</td>\n",
       "      <td>0.0</td>\n",
       "      <td>1</td>\n",
       "      <td>siim</td>\n",
       "      <td>NaN</td>\n",
       "    </tr>\n",
       "  </tbody>\n",
       "</table>\n",
       "</div>"
      ],
      "text/plain": [
       "                                            image_id  Negative for Pneumonia  \\\n",
       "0  gs://kds-fc3be7d2ac2afce0ec3cbdec79b75f7fb2ad5...                     0.0   \n",
       "1  gs://kds-fc3be7d2ac2afce0ec3cbdec79b75f7fb2ad5...                     1.0   \n",
       "2  gs://kds-fc3be7d2ac2afce0ec3cbdec79b75f7fb2ad5...                     0.0   \n",
       "3  gs://kds-fc3be7d2ac2afce0ec3cbdec79b75f7fb2ad5...                     0.0   \n",
       "4  gs://kds-fc3be7d2ac2afce0ec3cbdec79b75f7fb2ad5...                     0.0   \n",
       "\n",
       "   Typical Appearance  Indeterminate Appearance  Atypical Appearance  \\\n",
       "0                 1.0                       0.0                  0.0   \n",
       "1                 0.0                       0.0                  0.0   \n",
       "2                 1.0                       0.0                  0.0   \n",
       "3                 0.0                       0.0                  1.0   \n",
       "4                 1.0                       0.0                  0.0   \n",
       "\n",
       "   sparse_gt dataset class_name  \n",
       "0          1    siim        NaN  \n",
       "1          0    siim        NaN  \n",
       "2          1    siim        NaN  \n",
       "3          3    siim        NaN  \n",
       "4          1    siim        NaN  "
      ]
     },
     "execution_count": 69,
     "metadata": {},
     "output_type": "execute_result"
    }
   ],
   "source": [
    "final_df = pd.concat([train_df, extra_df])\n",
    "final_df.head()"
   ]
  },
  {
   "cell_type": "code",
   "execution_count": 70,
   "id": "9986c0dc",
   "metadata": {
    "execution": {
     "iopub.execute_input": "2021-08-08T01:34:22.497914Z",
     "iopub.status.busy": "2021-08-08T01:34:22.496877Z",
     "iopub.status.idle": "2021-08-08T01:34:22.502460Z",
     "shell.execute_reply": "2021-08-08T01:34:22.501806Z",
     "shell.execute_reply.started": "2021-08-08T01:00:36.102796Z"
    },
    "papermill": {
     "duration": 0.100317,
     "end_time": "2021-08-08T01:34:22.502600",
     "exception": false,
     "start_time": "2021-08-08T01:34:22.402283",
     "status": "completed"
    },
    "tags": []
   },
   "outputs": [
    {
     "data": {
      "text/plain": [
       "'gs://kds-fc3be7d2ac2afce0ec3cbdec79b75f7fb2ad5d84e1092b52a708d805/train/000a312787f2.png'"
      ]
     },
     "execution_count": 70,
     "metadata": {},
     "output_type": "execute_result"
    }
   ],
   "source": [
    "final_df.iloc[:,0][0]"
   ]
  },
  {
   "cell_type": "code",
   "execution_count": 71,
   "id": "3b407887",
   "metadata": {
    "execution": {
     "iopub.execute_input": "2021-08-08T01:34:22.692812Z",
     "iopub.status.busy": "2021-08-08T01:34:22.692112Z",
     "iopub.status.idle": "2021-08-08T01:34:22.705984Z",
     "shell.execute_reply": "2021-08-08T01:34:22.705355Z",
     "shell.execute_reply.started": "2021-08-08T01:00:36.111902Z"
    },
    "papermill": {
     "duration": 0.109953,
     "end_time": "2021-08-08T01:34:22.706152",
     "exception": false,
     "start_time": "2021-08-08T01:34:22.596199",
     "status": "completed"
    },
    "tags": []
   },
   "outputs": [],
   "source": [
    "final_df.fillna(0, inplace=True)"
   ]
  },
  {
   "cell_type": "code",
   "execution_count": 72,
   "id": "a0f13813",
   "metadata": {
    "execution": {
     "iopub.execute_input": "2021-08-08T01:34:22.895815Z",
     "iopub.status.busy": "2021-08-08T01:34:22.894830Z",
     "iopub.status.idle": "2021-08-08T01:34:22.898863Z",
     "shell.execute_reply": "2021-08-08T01:34:22.899404Z",
     "shell.execute_reply.started": "2021-08-08T01:00:36.132594Z"
    },
    "papermill": {
     "duration": 0.102326,
     "end_time": "2021-08-08T01:34:22.899585",
     "exception": false,
     "start_time": "2021-08-08T01:34:22.797259",
     "status": "completed"
    },
    "tags": []
   },
   "outputs": [
    {
     "data": {
      "text/plain": [
       "Index(['Negative for Pneumonia', 'Typical Appearance',\n",
       "       'Indeterminate Appearance', 'Atypical Appearance'],\n",
       "      dtype='object')"
      ]
     },
     "execution_count": 72,
     "metadata": {},
     "output_type": "execute_result"
    }
   ],
   "source": [
    "label_cols = final_df.columns[1:5]\n",
    "label_cols"
   ]
  },
  {
   "cell_type": "code",
   "execution_count": 73,
   "id": "a66c7053",
   "metadata": {
    "execution": {
     "iopub.execute_input": "2021-08-08T01:34:23.100832Z",
     "iopub.status.busy": "2021-08-08T01:34:23.091583Z",
     "iopub.status.idle": "2021-08-08T01:34:23.105647Z",
     "shell.execute_reply": "2021-08-08T01:34:23.104965Z",
     "shell.execute_reply.started": "2021-08-08T01:00:36.145054Z"
    },
    "papermill": {
     "duration": 0.114449,
     "end_time": "2021-08-08T01:34:23.105792",
     "exception": false,
     "start_time": "2021-08-08T01:34:22.991343",
     "status": "completed"
    },
    "tags": []
   },
   "outputs": [
    {
     "data": {
      "text/html": [
       "<div>\n",
       "<style scoped>\n",
       "    .dataframe tbody tr th:only-of-type {\n",
       "        vertical-align: middle;\n",
       "    }\n",
       "\n",
       "    .dataframe tbody tr th {\n",
       "        vertical-align: top;\n",
       "    }\n",
       "\n",
       "    .dataframe thead th {\n",
       "        text-align: right;\n",
       "    }\n",
       "</style>\n",
       "<table border=\"1\" class=\"dataframe\">\n",
       "  <thead>\n",
       "    <tr style=\"text-align: right;\">\n",
       "      <th></th>\n",
       "      <th>image_id</th>\n",
       "      <th>Negative for Pneumonia</th>\n",
       "      <th>Typical Appearance</th>\n",
       "      <th>Indeterminate Appearance</th>\n",
       "      <th>Atypical Appearance</th>\n",
       "      <th>sparse_gt</th>\n",
       "      <th>dataset</th>\n",
       "      <th>class_name</th>\n",
       "    </tr>\n",
       "  </thead>\n",
       "  <tbody>\n",
       "    <tr>\n",
       "      <th>0</th>\n",
       "      <td>gs://kds-fc3be7d2ac2afce0ec3cbdec79b75f7fb2ad5...</td>\n",
       "      <td>0</td>\n",
       "      <td>1</td>\n",
       "      <td>0</td>\n",
       "      <td>0</td>\n",
       "      <td>1</td>\n",
       "      <td>siim</td>\n",
       "      <td>0</td>\n",
       "    </tr>\n",
       "    <tr>\n",
       "      <th>1</th>\n",
       "      <td>gs://kds-fc3be7d2ac2afce0ec3cbdec79b75f7fb2ad5...</td>\n",
       "      <td>1</td>\n",
       "      <td>0</td>\n",
       "      <td>0</td>\n",
       "      <td>0</td>\n",
       "      <td>0</td>\n",
       "      <td>siim</td>\n",
       "      <td>0</td>\n",
       "    </tr>\n",
       "    <tr>\n",
       "      <th>2</th>\n",
       "      <td>gs://kds-fc3be7d2ac2afce0ec3cbdec79b75f7fb2ad5...</td>\n",
       "      <td>0</td>\n",
       "      <td>1</td>\n",
       "      <td>0</td>\n",
       "      <td>0</td>\n",
       "      <td>1</td>\n",
       "      <td>siim</td>\n",
       "      <td>0</td>\n",
       "    </tr>\n",
       "    <tr>\n",
       "      <th>3</th>\n",
       "      <td>gs://kds-fc3be7d2ac2afce0ec3cbdec79b75f7fb2ad5...</td>\n",
       "      <td>0</td>\n",
       "      <td>0</td>\n",
       "      <td>0</td>\n",
       "      <td>1</td>\n",
       "      <td>3</td>\n",
       "      <td>siim</td>\n",
       "      <td>0</td>\n",
       "    </tr>\n",
       "    <tr>\n",
       "      <th>4</th>\n",
       "      <td>gs://kds-fc3be7d2ac2afce0ec3cbdec79b75f7fb2ad5...</td>\n",
       "      <td>0</td>\n",
       "      <td>1</td>\n",
       "      <td>0</td>\n",
       "      <td>0</td>\n",
       "      <td>1</td>\n",
       "      <td>siim</td>\n",
       "      <td>0</td>\n",
       "    </tr>\n",
       "  </tbody>\n",
       "</table>\n",
       "</div>"
      ],
      "text/plain": [
       "                                            image_id  Negative for Pneumonia  \\\n",
       "0  gs://kds-fc3be7d2ac2afce0ec3cbdec79b75f7fb2ad5...                       0   \n",
       "1  gs://kds-fc3be7d2ac2afce0ec3cbdec79b75f7fb2ad5...                       1   \n",
       "2  gs://kds-fc3be7d2ac2afce0ec3cbdec79b75f7fb2ad5...                       0   \n",
       "3  gs://kds-fc3be7d2ac2afce0ec3cbdec79b75f7fb2ad5...                       0   \n",
       "4  gs://kds-fc3be7d2ac2afce0ec3cbdec79b75f7fb2ad5...                       0   \n",
       "\n",
       "   Typical Appearance  Indeterminate Appearance  Atypical Appearance  \\\n",
       "0                   1                         0                    0   \n",
       "1                   0                         0                    0   \n",
       "2                   1                         0                    0   \n",
       "3                   0                         0                    1   \n",
       "4                   1                         0                    0   \n",
       "\n",
       "   sparse_gt dataset class_name  \n",
       "0          1    siim          0  \n",
       "1          0    siim          0  \n",
       "2          1    siim          0  \n",
       "3          3    siim          0  \n",
       "4          1    siim          0  "
      ]
     },
     "execution_count": 73,
     "metadata": {},
     "output_type": "execute_result"
    }
   ],
   "source": [
    "for i in label_cols:\n",
    "    final_df[i] = final_df[i].astype(int)\n",
    "final_df.head()"
   ]
  },
  {
   "cell_type": "code",
   "execution_count": 74,
   "id": "92ac498a",
   "metadata": {
    "execution": {
     "iopub.execute_input": "2021-08-08T01:34:23.726721Z",
     "iopub.status.busy": "2021-08-08T01:34:23.710238Z",
     "iopub.status.idle": "2021-08-08T01:34:23.738984Z",
     "shell.execute_reply": "2021-08-08T01:34:23.738267Z",
     "shell.execute_reply.started": "2021-08-08T01:00:36.167450Z"
    },
    "papermill": {
     "duration": 0.539856,
     "end_time": "2021-08-08T01:34:23.739155",
     "exception": false,
     "start_time": "2021-08-08T01:34:23.199299",
     "status": "completed"
    },
    "tags": []
   },
   "outputs": [
    {
     "data": {
      "text/plain": [
       "image_id                    gs://kds-fc3be7d2ac2afce0ec3cbdec79b75f7fb2ad5...\n",
       "Negative for Pneumonia                                                   2855\n",
       "Typical Appearance                                                       2855\n",
       "Indeterminate Appearance                                                 2855\n",
       "Atypical Appearance                                                      2855\n",
       "sparse_gt                                                               17130\n",
       "dataset                     siimsiimsiimsiimsiimsiimsiimsiimsiimsiimsiimsi...\n",
       "dtype: object"
      ]
     },
     "execution_count": 74,
     "metadata": {},
     "output_type": "execute_result"
    }
   ],
   "source": [
    "final_df.sum()"
   ]
  },
  {
   "cell_type": "code",
   "execution_count": 75,
   "id": "cb2c1267",
   "metadata": {
    "execution": {
     "iopub.execute_input": "2021-08-08T01:34:23.939567Z",
     "iopub.status.busy": "2021-08-08T01:34:23.938857Z",
     "iopub.status.idle": "2021-08-08T01:34:23.941754Z",
     "shell.execute_reply": "2021-08-08T01:34:23.942295Z",
     "shell.execute_reply.started": "2021-08-08T01:03:22.471013Z"
    },
    "papermill": {
     "duration": 0.109487,
     "end_time": "2021-08-08T01:34:23.942472",
     "exception": false,
     "start_time": "2021-08-08T01:34:23.832985",
     "status": "completed"
    },
    "tags": []
   },
   "outputs": [
    {
     "data": {
      "text/html": [
       "<div>\n",
       "<style scoped>\n",
       "    .dataframe tbody tr th:only-of-type {\n",
       "        vertical-align: middle;\n",
       "    }\n",
       "\n",
       "    .dataframe tbody tr th {\n",
       "        vertical-align: top;\n",
       "    }\n",
       "\n",
       "    .dataframe thead th {\n",
       "        text-align: right;\n",
       "    }\n",
       "</style>\n",
       "<table border=\"1\" class=\"dataframe\">\n",
       "  <thead>\n",
       "    <tr style=\"text-align: right;\">\n",
       "      <th></th>\n",
       "      <th>image_id</th>\n",
       "      <th>Negative for Pneumonia</th>\n",
       "      <th>Typical Appearance</th>\n",
       "      <th>Indeterminate Appearance</th>\n",
       "      <th>Atypical Appearance</th>\n",
       "      <th>sparse_gt</th>\n",
       "    </tr>\n",
       "  </thead>\n",
       "  <tbody>\n",
       "    <tr>\n",
       "      <th>0</th>\n",
       "      <td>gs://kds-fc3be7d2ac2afce0ec3cbdec79b75f7fb2ad5...</td>\n",
       "      <td>0</td>\n",
       "      <td>1</td>\n",
       "      <td>0</td>\n",
       "      <td>0</td>\n",
       "      <td>1</td>\n",
       "    </tr>\n",
       "    <tr>\n",
       "      <th>1</th>\n",
       "      <td>gs://kds-fc3be7d2ac2afce0ec3cbdec79b75f7fb2ad5...</td>\n",
       "      <td>1</td>\n",
       "      <td>0</td>\n",
       "      <td>0</td>\n",
       "      <td>0</td>\n",
       "      <td>0</td>\n",
       "    </tr>\n",
       "    <tr>\n",
       "      <th>2</th>\n",
       "      <td>gs://kds-fc3be7d2ac2afce0ec3cbdec79b75f7fb2ad5...</td>\n",
       "      <td>0</td>\n",
       "      <td>1</td>\n",
       "      <td>0</td>\n",
       "      <td>0</td>\n",
       "      <td>1</td>\n",
       "    </tr>\n",
       "    <tr>\n",
       "      <th>3</th>\n",
       "      <td>gs://kds-fc3be7d2ac2afce0ec3cbdec79b75f7fb2ad5...</td>\n",
       "      <td>0</td>\n",
       "      <td>0</td>\n",
       "      <td>0</td>\n",
       "      <td>1</td>\n",
       "      <td>3</td>\n",
       "    </tr>\n",
       "    <tr>\n",
       "      <th>4</th>\n",
       "      <td>gs://kds-fc3be7d2ac2afce0ec3cbdec79b75f7fb2ad5...</td>\n",
       "      <td>0</td>\n",
       "      <td>1</td>\n",
       "      <td>0</td>\n",
       "      <td>0</td>\n",
       "      <td>1</td>\n",
       "    </tr>\n",
       "  </tbody>\n",
       "</table>\n",
       "</div>"
      ],
      "text/plain": [
       "                                            image_id  Negative for Pneumonia  \\\n",
       "0  gs://kds-fc3be7d2ac2afce0ec3cbdec79b75f7fb2ad5...                       0   \n",
       "1  gs://kds-fc3be7d2ac2afce0ec3cbdec79b75f7fb2ad5...                       1   \n",
       "2  gs://kds-fc3be7d2ac2afce0ec3cbdec79b75f7fb2ad5...                       0   \n",
       "3  gs://kds-fc3be7d2ac2afce0ec3cbdec79b75f7fb2ad5...                       0   \n",
       "4  gs://kds-fc3be7d2ac2afce0ec3cbdec79b75f7fb2ad5...                       0   \n",
       "\n",
       "   Typical Appearance  Indeterminate Appearance  Atypical Appearance  \\\n",
       "0                   1                         0                    0   \n",
       "1                   0                         0                    0   \n",
       "2                   1                         0                    0   \n",
       "3                   0                         0                    1   \n",
       "4                   1                         0                    0   \n",
       "\n",
       "   sparse_gt  \n",
       "0          1  \n",
       "1          0  \n",
       "2          1  \n",
       "3          3  \n",
       "4          1  "
      ]
     },
     "execution_count": 75,
     "metadata": {},
     "output_type": "execute_result"
    }
   ],
   "source": [
    "final_df = final_df.iloc[:, 0:6]\n",
    "final_df.head()"
   ]
  },
  {
   "cell_type": "code",
   "execution_count": null,
   "id": "99a0b808",
   "metadata": {
    "papermill": {
     "duration": 0.093168,
     "end_time": "2021-08-08T01:34:24.127460",
     "exception": false,
     "start_time": "2021-08-08T01:34:24.034292",
     "status": "completed"
    },
    "tags": []
   },
   "outputs": [],
   "source": []
  },
  {
   "cell_type": "code",
   "execution_count": 76,
   "id": "181f6e72",
   "metadata": {
    "execution": {
     "iopub.execute_input": "2021-08-08T01:34:24.335820Z",
     "iopub.status.busy": "2021-08-08T01:34:24.335043Z",
     "iopub.status.idle": "2021-08-08T01:34:24.339723Z",
     "shell.execute_reply": "2021-08-08T01:34:24.340710Z",
     "shell.execute_reply.started": "2021-08-08T01:00:36.627015Z"
    },
    "papermill": {
     "duration": 0.120111,
     "end_time": "2021-08-08T01:34:24.341014",
     "exception": false,
     "start_time": "2021-08-08T01:34:24.220903",
     "status": "completed"
    },
    "tags": []
   },
   "outputs": [],
   "source": [
    "#from sklearn.model_selection import train_test_split\n",
    "\n",
    "#X_train, X_valid = train_test_split(final_df, test_size=1800, random_state=9, stratify = final_df['sparse_gt'])"
   ]
  },
  {
   "cell_type": "code",
   "execution_count": 77,
   "id": "73930c0a",
   "metadata": {
    "execution": {
     "iopub.execute_input": "2021-08-08T01:34:24.537204Z",
     "iopub.status.busy": "2021-08-08T01:34:24.536537Z",
     "iopub.status.idle": "2021-08-08T01:34:24.541210Z",
     "shell.execute_reply": "2021-08-08T01:34:24.541725Z",
     "shell.execute_reply.started": "2021-08-08T01:06:18.983752Z"
    },
    "papermill": {
     "duration": 0.101669,
     "end_time": "2021-08-08T01:34:24.541905",
     "exception": false,
     "start_time": "2021-08-08T01:34:24.440236",
     "status": "completed"
    },
    "tags": []
   },
   "outputs": [],
   "source": [
    "final_df.reset_index(inplace = True)"
   ]
  },
  {
   "cell_type": "code",
   "execution_count": 78,
   "id": "c34886be",
   "metadata": {
    "execution": {
     "iopub.execute_input": "2021-08-08T01:34:24.729457Z",
     "iopub.status.busy": "2021-08-08T01:34:24.728755Z",
     "iopub.status.idle": "2021-08-08T01:34:24.818759Z",
     "shell.execute_reply": "2021-08-08T01:34:24.819274Z",
     "shell.execute_reply.started": "2021-08-08T01:06:21.354867Z"
    },
    "papermill": {
     "duration": 0.184828,
     "end_time": "2021-08-08T01:34:24.819474",
     "exception": false,
     "start_time": "2021-08-08T01:34:24.634646",
     "status": "completed"
    },
    "tags": []
   },
   "outputs": [],
   "source": [
    "gkf  = GroupKFold(n_splits = 5)\n",
    "final_df['fold'] = -1\n",
    "for fold, (train_idx, val_idx) in enumerate(gkf.split(final_df, groups = final_df.image_id.tolist())):\n",
    "    final_df.loc[val_idx, 'fold'] = fold"
   ]
  },
  {
   "cell_type": "code",
   "execution_count": 79,
   "id": "e6050dd7",
   "metadata": {
    "execution": {
     "iopub.execute_input": "2021-08-08T01:34:25.008566Z",
     "iopub.status.busy": "2021-08-08T01:34:25.007897Z",
     "iopub.status.idle": "2021-08-08T01:34:25.010891Z",
     "shell.execute_reply": "2021-08-08T01:34:25.011368Z"
    },
    "papermill": {
     "duration": 0.099014,
     "end_time": "2021-08-08T01:34:25.011552",
     "exception": false,
     "start_time": "2021-08-08T01:34:24.912538",
     "status": "completed"
    },
    "tags": []
   },
   "outputs": [],
   "source": [
    "#X_train.sparse_gt.value_counts()"
   ]
  },
  {
   "cell_type": "code",
   "execution_count": 80,
   "id": "ae5d6e2f",
   "metadata": {
    "execution": {
     "iopub.execute_input": "2021-08-08T01:34:25.202648Z",
     "iopub.status.busy": "2021-08-08T01:34:25.201924Z",
     "iopub.status.idle": "2021-08-08T01:34:25.204889Z",
     "shell.execute_reply": "2021-08-08T01:34:25.205376Z"
    },
    "papermill": {
     "duration": 0.10046,
     "end_time": "2021-08-08T01:34:25.205554",
     "exception": false,
     "start_time": "2021-08-08T01:34:25.105094",
     "status": "completed"
    },
    "tags": []
   },
   "outputs": [],
   "source": [
    "#X_valid.sparse_gt.value_counts()"
   ]
  },
  {
   "cell_type": "code",
   "execution_count": 81,
   "id": "21f6c173",
   "metadata": {
    "execution": {
     "iopub.execute_input": "2021-08-08T01:34:25.398650Z",
     "iopub.status.busy": "2021-08-08T01:34:25.397918Z",
     "iopub.status.idle": "2021-08-08T08:00:45.785426Z",
     "shell.execute_reply": "2021-08-08T08:00:45.784832Z"
    },
    "papermill": {
     "duration": 23180.484035,
     "end_time": "2021-08-08T08:00:45.785597",
     "exception": false,
     "start_time": "2021-08-08T01:34:25.301562",
     "status": "completed"
    },
    "tags": []
   },
   "outputs": [
    {
     "name": "stdout",
     "output_type": "stream",
     "text": [
      "Downloading data from https://github.com/Callidior/keras-applications/releases/download/efficientnet/efficientnet-b7_weights_tf_dim_ordering_tf_kernels_autoaugment_notop.h5\n",
      "258441216/258434480 [==============================] - 3s 0us/step\n",
      "Model: \"sequential\"\n",
      "_________________________________________________________________\n",
      "Layer (type)                 Output Shape              Param #   \n",
      "=================================================================\n",
      "efficientnet-b7 (Functional) (None, 20, 20, 2560)      64097680  \n",
      "_________________________________________________________________\n",
      "global_average_pooling2d (Gl (None, 2560)              0         \n",
      "_________________________________________________________________\n",
      "dense (Dense)                (None, 4)                 10244     \n",
      "=================================================================\n",
      "Total params: 64,107,924\n",
      "Trainable params: 63,797,204\n",
      "Non-trainable params: 310,720\n",
      "_________________________________________________________________\n",
      "Epoch 1/30\n",
      "71/71 [==============================] - 660s 6s/step - loss: 1.1316 - auc: 0.6947 - val_loss: 5.0733 - val_auc: 0.6354\n",
      "Epoch 2/30\n",
      "71/71 [==============================] - 133s 2s/step - loss: 1.0153 - auc: 0.7693 - val_loss: 8.6243 - val_auc: 0.5494\n",
      "Epoch 3/30\n",
      "71/71 [==============================] - 133s 2s/step - loss: 1.0387 - auc: 0.7627 - val_loss: 6.5018 - val_auc: 0.5735\n",
      "Epoch 4/30\n",
      "71/71 [==============================] - 133s 2s/step - loss: 1.0607 - auc: 0.7622 - val_loss: 3.0012 - val_auc: 0.7000\n",
      "Epoch 5/30\n",
      "71/71 [==============================] - 133s 2s/step - loss: 1.0511 - auc: 0.7684 - val_loss: 3.3430 - val_auc: 0.7212\n",
      "Epoch 6/30\n",
      "71/71 [==============================] - 133s 2s/step - loss: 1.0448 - auc: 0.7687 - val_loss: 2.8414 - val_auc: 0.7748\n",
      "Epoch 7/30\n",
      "71/71 [==============================] - 133s 2s/step - loss: 1.0450 - auc: 0.7700 - val_loss: 1.3853 - val_auc: 0.7206\n",
      "Epoch 8/30\n",
      "71/71 [==============================] - 133s 2s/step - loss: 1.1230 - auc: 0.7444 - val_loss: 2.6927 - val_auc: 0.5530\n",
      "Epoch 9/30\n",
      "71/71 [==============================] - 133s 2s/step - loss: 1.1078 - auc: 0.7551 - val_loss: 1.2345 - val_auc: 0.7657\n",
      "Epoch 10/30\n",
      "71/71 [==============================] - 133s 2s/step - loss: 1.0699 - auc: 0.7511 - val_loss: 1.7636 - val_auc: 0.7730\n",
      "Epoch 11/30\n",
      "71/71 [==============================] - 133s 2s/step - loss: 1.0119 - auc: 0.7990 - val_loss: 2.6590 - val_auc: 0.6940\n",
      "Epoch 12/30\n",
      "71/71 [==============================] - 133s 2s/step - loss: 1.0419 - auc: 0.7767 - val_loss: 1.2142 - val_auc: 0.8240\n",
      "Epoch 13/30\n",
      "71/71 [==============================] - 133s 2s/step - loss: 0.9771 - auc: 0.7945 - val_loss: 1.6072 - val_auc: 0.8240\n",
      "Epoch 14/30\n",
      "71/71 [==============================] - 133s 2s/step - loss: 1.0195 - auc: 0.7864 - val_loss: 2.7831 - val_auc: 0.5939\n",
      "Epoch 15/30\n",
      "71/71 [==============================] - 133s 2s/step - loss: 1.0639 - auc: 0.7695 - val_loss: 1.9410 - val_auc: 0.7178\n",
      "Epoch 16/30\n",
      "71/71 [==============================] - 133s 2s/step - loss: 1.3238 - auc: 0.7181 - val_loss: 0.9372 - val_auc: 0.8607\n",
      "Epoch 17/30\n",
      "71/71 [==============================] - 133s 2s/step - loss: 1.1439 - auc: 0.7755 - val_loss: 0.8613 - val_auc: 0.8686\n",
      "Epoch 18/30\n",
      "71/71 [==============================] - 133s 2s/step - loss: 1.0628 - auc: 0.7915 - val_loss: 0.8508 - val_auc: 0.8707\n",
      "Epoch 19/30\n",
      "71/71 [==============================] - 133s 2s/step - loss: 1.0140 - auc: 0.8079 - val_loss: 0.8452 - val_auc: 0.8723\n",
      "Epoch 20/30\n",
      "71/71 [==============================] - 135s 2s/step - loss: 0.9895 - auc: 0.8138 - val_loss: 0.8503 - val_auc: 0.8719\n",
      "Epoch 21/30\n",
      "71/71 [==============================] - 133s 2s/step - loss: 0.9822 - auc: 0.8194 - val_loss: 0.8636 - val_auc: 0.8703\n",
      "Epoch 22/30\n",
      "71/71 [==============================] - 133s 2s/step - loss: 0.9903 - auc: 0.8150 - val_loss: 0.8452 - val_auc: 0.8727\n",
      "Epoch 23/30\n",
      "71/71 [==============================] - 133s 2s/step - loss: 0.9687 - auc: 0.8251 - val_loss: 0.8329 - val_auc: 0.8740\n",
      "Epoch 24/30\n",
      "71/71 [==============================] - 133s 2s/step - loss: 0.9418 - auc: 0.8380 - val_loss: 0.8320 - val_auc: 0.8742\n",
      "Epoch 25/30\n",
      "71/71 [==============================] - 133s 2s/step - loss: 0.9309 - auc: 0.8364 - val_loss: 0.8309 - val_auc: 0.8743\n",
      "Epoch 26/30\n",
      "71/71 [==============================] - 133s 2s/step - loss: 0.9218 - auc: 0.8423 - val_loss: 0.8314 - val_auc: 0.8743\n",
      "Epoch 27/30\n",
      "71/71 [==============================] - 133s 2s/step - loss: 0.9385 - auc: 0.8351 - val_loss: 0.8310 - val_auc: 0.8747\n",
      "Epoch 28/30\n",
      "71/71 [==============================] - 133s 2s/step - loss: 0.9138 - auc: 0.8442 - val_loss: 0.8332 - val_auc: 0.8743\n",
      "Epoch 29/30\n",
      "71/71 [==============================] - 133s 2s/step - loss: 0.9038 - auc: 0.8438 - val_loss: 0.8316 - val_auc: 0.8745\n",
      "Epoch 30/30\n",
      "71/71 [==============================] - 133s 2s/step - loss: 0.9046 - auc: 0.8506 - val_loss: 0.8307 - val_auc: 0.8747\n",
      "Model: \"sequential_1\"\n",
      "_________________________________________________________________\n",
      "Layer (type)                 Output Shape              Param #   \n",
      "=================================================================\n",
      "efficientnet-b7 (Functional) (None, 20, 20, 2560)      64097680  \n",
      "_________________________________________________________________\n",
      "global_average_pooling2d_1 ( (None, 2560)              0         \n",
      "_________________________________________________________________\n",
      "dense_1 (Dense)              (None, 4)                 10244     \n",
      "=================================================================\n",
      "Total params: 64,107,924\n",
      "Trainable params: 63,797,204\n",
      "Non-trainable params: 310,720\n",
      "_________________________________________________________________\n",
      "Epoch 1/30\n",
      "71/71 [==============================] - 498s 4s/step - loss: 1.1271 - auc_1: 0.6991 - val_loss: 7.6845 - val_auc_1: 0.5632\n",
      "Epoch 2/30\n",
      "71/71 [==============================] - 132s 2s/step - loss: 1.0222 - auc_1: 0.7698 - val_loss: 3.3676 - val_auc_1: 0.6551\n",
      "Epoch 3/30\n",
      "71/71 [==============================] - 133s 2s/step - loss: 1.0582 - auc_1: 0.7564 - val_loss: 3.8171 - val_auc_1: 0.6234\n",
      "Epoch 4/30\n",
      "71/71 [==============================] - 133s 2s/step - loss: 1.0393 - auc_1: 0.7632 - val_loss: 4.9866 - val_auc_1: 0.5981\n",
      "Epoch 5/30\n",
      "71/71 [==============================] - 133s 2s/step - loss: 1.1010 - auc_1: 0.7539 - val_loss: 7.0986 - val_auc_1: 0.5285\n",
      "Epoch 6/30\n",
      "71/71 [==============================] - 133s 2s/step - loss: 1.2284 - auc_1: 0.7470 - val_loss: 1.2052 - val_auc_1: 0.7902\n",
      "Epoch 7/30\n",
      "71/71 [==============================] - 132s 2s/step - loss: 1.2386 - auc_1: 0.7412 - val_loss: 0.9093 - val_auc_1: 0.8525\n",
      "Epoch 8/30\n",
      "71/71 [==============================] - 133s 2s/step - loss: 1.1572 - auc_1: 0.7602 - val_loss: 0.8641 - val_auc_1: 0.8607\n",
      "Epoch 9/30\n",
      "71/71 [==============================] - 133s 2s/step - loss: 1.0830 - auc_1: 0.7750 - val_loss: 0.8626 - val_auc_1: 0.8610\n",
      "Epoch 10/30\n",
      "71/71 [==============================] - 132s 2s/step - loss: 1.0542 - auc_1: 0.7821 - val_loss: 0.8699 - val_auc_1: 0.8622\n",
      "Epoch 11/30\n",
      "71/71 [==============================] - 133s 2s/step - loss: 1.0364 - auc_1: 0.7912 - val_loss: 0.8386 - val_auc_1: 0.8680\n",
      "Epoch 12/30\n",
      "71/71 [==============================] - 133s 2s/step - loss: 1.0293 - auc_1: 0.7924 - val_loss: 0.8467 - val_auc_1: 0.8670\n",
      "Epoch 13/30\n",
      "71/71 [==============================] - 133s 2s/step - loss: 1.0048 - auc_1: 0.8041 - val_loss: 0.8389 - val_auc_1: 0.8690\n",
      "Epoch 14/30\n",
      "71/71 [==============================] - 133s 2s/step - loss: 1.0026 - auc_1: 0.7972 - val_loss: 0.8544 - val_auc_1: 0.8646\n",
      "Epoch 15/30\n",
      "71/71 [==============================] - 132s 2s/step - loss: 1.0153 - auc_1: 0.8062 - val_loss: 0.8124 - val_auc_1: 0.8729\n",
      "Epoch 16/30\n",
      "71/71 [==============================] - 133s 2s/step - loss: 0.9669 - auc_1: 0.8196 - val_loss: 0.8038 - val_auc_1: 0.8746\n",
      "Epoch 17/30\n",
      "71/71 [==============================] - 133s 2s/step - loss: 0.9301 - auc_1: 0.8341 - val_loss: 0.8031 - val_auc_1: 0.8751\n",
      "Epoch 18/30\n",
      "71/71 [==============================] - 132s 2s/step - loss: 0.9150 - auc_1: 0.8337 - val_loss: 0.8037 - val_auc_1: 0.8755\n",
      "Epoch 19/30\n",
      "71/71 [==============================] - 133s 2s/step - loss: 0.9319 - auc_1: 0.8279 - val_loss: 0.8032 - val_auc_1: 0.8757\n",
      "Epoch 20/30\n",
      "71/71 [==============================] - 133s 2s/step - loss: 0.9217 - auc_1: 0.8355 - val_loss: 0.8025 - val_auc_1: 0.8760\n",
      "Epoch 21/30\n",
      "71/71 [==============================] - 133s 2s/step - loss: 0.9089 - auc_1: 0.8380 - val_loss: 0.8023 - val_auc_1: 0.8760\n",
      "Epoch 22/30\n",
      "71/71 [==============================] - 133s 2s/step - loss: 0.8966 - auc_1: 0.8423 - val_loss: 0.8002 - val_auc_1: 0.8763\n",
      "Epoch 23/30\n",
      "71/71 [==============================] - 133s 2s/step - loss: 0.9080 - auc_1: 0.8408 - val_loss: 0.8005 - val_auc_1: 0.8763\n",
      "Epoch 24/30\n",
      "71/71 [==============================] - 133s 2s/step - loss: 0.8918 - auc_1: 0.8465 - val_loss: 0.7989 - val_auc_1: 0.8763\n",
      "Epoch 25/30\n",
      "71/71 [==============================] - 133s 2s/step - loss: 0.8795 - auc_1: 0.8475 - val_loss: 0.8002 - val_auc_1: 0.8765\n",
      "Epoch 26/30\n",
      "71/71 [==============================] - 133s 2s/step - loss: 0.8931 - auc_1: 0.8480 - val_loss: 0.7985 - val_auc_1: 0.8765\n",
      "Epoch 27/30\n",
      "71/71 [==============================] - 133s 2s/step - loss: 0.8806 - auc_1: 0.8489 - val_loss: 0.8000 - val_auc_1: 0.8763\n",
      "Epoch 28/30\n",
      "71/71 [==============================] - 133s 2s/step - loss: 0.8782 - auc_1: 0.8472 - val_loss: 0.7988 - val_auc_1: 0.8765\n",
      "Epoch 29/30\n",
      "71/71 [==============================] - 133s 2s/step - loss: 0.8618 - auc_1: 0.8515 - val_loss: 0.7982 - val_auc_1: 0.8769\n",
      "Epoch 30/30\n",
      "71/71 [==============================] - 133s 2s/step - loss: 0.8548 - auc_1: 0.8586 - val_loss: 0.7985 - val_auc_1: 0.8767\n",
      "Model: \"sequential_2\"\n",
      "_________________________________________________________________\n",
      "Layer (type)                 Output Shape              Param #   \n",
      "=================================================================\n",
      "efficientnet-b7 (Functional) (None, 20, 20, 2560)      64097680  \n",
      "_________________________________________________________________\n",
      "global_average_pooling2d_2 ( (None, 2560)              0         \n",
      "_________________________________________________________________\n",
      "dense_2 (Dense)              (None, 4)                 10244     \n",
      "=================================================================\n",
      "Total params: 64,107,924\n",
      "Trainable params: 63,797,204\n",
      "Non-trainable params: 310,720\n",
      "_________________________________________________________________\n",
      "Epoch 1/30\n",
      "71/71 [==============================] - 494s 4s/step - loss: 1.1396 - auc_2: 0.6841 - val_loss: 16.2224 - val_auc_2: 0.5163\n",
      "Epoch 2/30\n",
      "71/71 [==============================] - 133s 2s/step - loss: 1.0355 - auc_2: 0.7608 - val_loss: 10.4777 - val_auc_2: 0.5138\n",
      "Epoch 3/30\n",
      "71/71 [==============================] - 133s 2s/step - loss: 1.0396 - auc_2: 0.7669 - val_loss: 5.9410 - val_auc_2: 0.6274\n",
      "Epoch 4/30\n",
      "71/71 [==============================] - 133s 2s/step - loss: 1.0781 - auc_2: 0.7434 - val_loss: 1.2444 - val_auc_2: 0.8225\n",
      "Epoch 5/30\n",
      "71/71 [==============================] - 133s 2s/step - loss: 1.0617 - auc_2: 0.7607 - val_loss: 2.6481 - val_auc_2: 0.7416\n",
      "Epoch 6/30\n",
      "71/71 [==============================] - 133s 2s/step - loss: 0.9901 - auc_2: 0.7803 - val_loss: 2.2588 - val_auc_2: 0.7357\n",
      "Epoch 7/30\n",
      "71/71 [==============================] - 133s 2s/step - loss: 1.0505 - auc_2: 0.7833 - val_loss: 1.8015 - val_auc_2: 0.7543\n",
      "Epoch 8/30\n",
      "71/71 [==============================] - 134s 2s/step - loss: 1.3614 - auc_2: 0.7267 - val_loss: 1.2054 - val_auc_2: 0.7881\n",
      "Epoch 9/30\n",
      "71/71 [==============================] - 134s 2s/step - loss: 1.3363 - auc_2: 0.7159 - val_loss: 0.9384 - val_auc_2: 0.8411\n",
      "Epoch 10/30\n",
      "71/71 [==============================] - 134s 2s/step - loss: 1.1338 - auc_2: 0.7549 - val_loss: 0.8836 - val_auc_2: 0.8588\n",
      "Epoch 11/30\n",
      "71/71 [==============================] - 133s 2s/step - loss: 1.0755 - auc_2: 0.7773 - val_loss: 0.8660 - val_auc_2: 0.8636\n",
      "Epoch 12/30\n",
      "71/71 [==============================] - 134s 2s/step - loss: 1.0368 - auc_2: 0.7872 - val_loss: 0.8658 - val_auc_2: 0.8646\n",
      "Epoch 13/30\n",
      "71/71 [==============================] - 134s 2s/step - loss: 1.0244 - auc_2: 0.7967 - val_loss: 0.8541 - val_auc_2: 0.8668\n",
      "Epoch 14/30\n",
      "71/71 [==============================] - 134s 2s/step - loss: 1.0238 - auc_2: 0.7958 - val_loss: 0.8446 - val_auc_2: 0.8695\n",
      "Epoch 15/30\n",
      "71/71 [==============================] - 133s 2s/step - loss: 0.9936 - auc_2: 0.8091 - val_loss: 0.8446 - val_auc_2: 0.8698\n",
      "Epoch 16/30\n",
      "71/71 [==============================] - 133s 2s/step - loss: 1.0086 - auc_2: 0.8061 - val_loss: 0.8260 - val_auc_2: 0.8714\n",
      "Epoch 17/30\n",
      "71/71 [==============================] - 134s 2s/step - loss: 0.9800 - auc_2: 0.8149 - val_loss: 0.8324 - val_auc_2: 0.8708\n",
      "Epoch 18/30\n",
      "71/71 [==============================] - 134s 2s/step - loss: 0.9731 - auc_2: 0.8159 - val_loss: 0.8585 - val_auc_2: 0.8685\n",
      "Epoch 19/30\n",
      "71/71 [==============================] - 133s 2s/step - loss: 0.9485 - auc_2: 0.8308 - val_loss: 0.8642 - val_auc_2: 0.8691\n",
      "Epoch 20/30\n",
      "71/71 [==============================] - 133s 2s/step - loss: 0.9988 - auc_2: 0.8252 - val_loss: 0.8008 - val_auc_2: 0.8756\n",
      "Epoch 21/30\n",
      "71/71 [==============================] - 133s 2s/step - loss: 0.9279 - auc_2: 0.8376 - val_loss: 0.7965 - val_auc_2: 0.8756\n",
      "Epoch 22/30\n",
      "71/71 [==============================] - 133s 2s/step - loss: 0.8901 - auc_2: 0.8497 - val_loss: 0.7953 - val_auc_2: 0.8755\n",
      "Epoch 23/30\n",
      "71/71 [==============================] - 133s 2s/step - loss: 0.8689 - auc_2: 0.8533 - val_loss: 0.7944 - val_auc_2: 0.8758\n",
      "Epoch 24/30\n",
      "71/71 [==============================] - 133s 2s/step - loss: 0.8612 - auc_2: 0.8571 - val_loss: 0.7939 - val_auc_2: 0.8758\n",
      "Epoch 25/30\n",
      "71/71 [==============================] - 134s 2s/step - loss: 0.8537 - auc_2: 0.8545 - val_loss: 0.7954 - val_auc_2: 0.8758\n",
      "Epoch 26/30\n",
      "71/71 [==============================] - 134s 2s/step - loss: 0.8702 - auc_2: 0.8551 - val_loss: 0.7927 - val_auc_2: 0.8762\n",
      "Epoch 27/30\n",
      "71/71 [==============================] - 134s 2s/step - loss: 0.8381 - auc_2: 0.8640 - val_loss: 0.7917 - val_auc_2: 0.8763\n",
      "Epoch 28/30\n",
      "71/71 [==============================] - 133s 2s/step - loss: 0.8371 - auc_2: 0.8584 - val_loss: 0.7914 - val_auc_2: 0.8767\n",
      "Epoch 29/30\n",
      "71/71 [==============================] - 134s 2s/step - loss: 0.8353 - auc_2: 0.8672 - val_loss: 0.7927 - val_auc_2: 0.8765\n",
      "Epoch 30/30\n",
      "71/71 [==============================] - 134s 2s/step - loss: 0.8315 - auc_2: 0.8628 - val_loss: 0.7910 - val_auc_2: 0.8769\n",
      "Model: \"sequential_3\"\n",
      "_________________________________________________________________\n",
      "Layer (type)                 Output Shape              Param #   \n",
      "=================================================================\n",
      "efficientnet-b7 (Functional) (None, 20, 20, 2560)      64097680  \n",
      "_________________________________________________________________\n",
      "global_average_pooling2d_3 ( (None, 2560)              0         \n",
      "_________________________________________________________________\n",
      "dense_3 (Dense)              (None, 4)                 10244     \n",
      "=================================================================\n",
      "Total params: 64,107,924\n",
      "Trainable params: 63,797,204\n",
      "Non-trainable params: 310,720\n",
      "_________________________________________________________________\n",
      "Epoch 1/30\n",
      "71/71 [==============================] - 507s 4s/step - loss: 1.1255 - auc_3: 0.7014 - val_loss: 3.4412 - val_auc_3: 0.6857\n",
      "Epoch 2/30\n",
      "71/71 [==============================] - 132s 2s/step - loss: 1.0414 - auc_3: 0.7597 - val_loss: 2.0220 - val_auc_3: 0.7289\n",
      "Epoch 3/30\n",
      "71/71 [==============================] - 133s 2s/step - loss: 1.0855 - auc_3: 0.7533 - val_loss: 1.6493 - val_auc_3: 0.7974\n",
      "Epoch 4/30\n",
      "71/71 [==============================] - 132s 2s/step - loss: 1.0440 - auc_3: 0.7683 - val_loss: 2.0283 - val_auc_3: 0.7836\n",
      "Epoch 5/30\n",
      "71/71 [==============================] - 133s 2s/step - loss: 1.0432 - auc_3: 0.7649 - val_loss: 3.7690 - val_auc_3: 0.6784\n",
      "Epoch 6/30\n",
      "71/71 [==============================] - 133s 2s/step - loss: 0.9691 - auc_3: 0.7919 - val_loss: 2.9085 - val_auc_3: 0.6857\n",
      "Epoch 7/30\n",
      "71/71 [==============================] - 133s 2s/step - loss: 1.1524 - auc_3: 0.7680 - val_loss: 1.9376 - val_auc_3: 0.7173\n",
      "Epoch 8/30\n",
      "71/71 [==============================] - 133s 2s/step - loss: 1.3160 - auc_3: 0.7209 - val_loss: 0.8934 - val_auc_3: 0.8552\n",
      "Epoch 9/30\n",
      "71/71 [==============================] - 133s 2s/step - loss: 1.1927 - auc_3: 0.7533 - val_loss: 0.8587 - val_auc_3: 0.8635\n",
      "Epoch 10/30\n",
      "71/71 [==============================] - 132s 2s/step - loss: 1.0818 - auc_3: 0.7757 - val_loss: 0.8391 - val_auc_3: 0.8683\n",
      "Epoch 11/30\n",
      "71/71 [==============================] - 133s 2s/step - loss: 1.0652 - auc_3: 0.7807 - val_loss: 0.8363 - val_auc_3: 0.8697\n",
      "Epoch 12/30\n",
      "71/71 [==============================] - 132s 2s/step - loss: 1.0371 - auc_3: 0.7942 - val_loss: 0.8379 - val_auc_3: 0.8683\n",
      "Epoch 13/30\n",
      "71/71 [==============================] - 133s 2s/step - loss: 1.0326 - auc_3: 0.7961 - val_loss: 0.8224 - val_auc_3: 0.8717\n",
      "Epoch 14/30\n",
      "71/71 [==============================] - 133s 2s/step - loss: 1.0245 - auc_3: 0.7963 - val_loss: 0.8103 - val_auc_3: 0.8728\n",
      "Epoch 15/30\n",
      "71/71 [==============================] - 133s 2s/step - loss: 1.0123 - auc_3: 0.8042 - val_loss: 0.8249 - val_auc_3: 0.8746\n",
      "Epoch 16/30\n",
      "71/71 [==============================] - 133s 2s/step - loss: 1.0040 - auc_3: 0.8048 - val_loss: 0.8028 - val_auc_3: 0.8751\n",
      "Epoch 17/30\n",
      "71/71 [==============================] - 132s 2s/step - loss: 0.9959 - auc_3: 0.8086 - val_loss: 0.7979 - val_auc_3: 0.8761\n",
      "Epoch 18/30\n",
      "71/71 [==============================] - 133s 2s/step - loss: 0.9691 - auc_3: 0.8190 - val_loss: 0.8044 - val_auc_3: 0.8777\n",
      "Epoch 19/30\n",
      "71/71 [==============================] - 133s 2s/step - loss: 0.9538 - auc_3: 0.8215 - val_loss: 0.8495 - val_auc_3: 0.8690\n",
      "Epoch 20/30\n",
      "71/71 [==============================] - 133s 2s/step - loss: 0.9590 - auc_3: 0.8227 - val_loss: 0.8170 - val_auc_3: 0.8751\n",
      "Epoch 21/30\n",
      "71/71 [==============================] - 133s 2s/step - loss: 0.9661 - auc_3: 0.8381 - val_loss: 0.7698 - val_auc_3: 0.8826\n",
      "Epoch 22/30\n",
      "71/71 [==============================] - 133s 2s/step - loss: 0.9114 - auc_3: 0.8473 - val_loss: 0.7710 - val_auc_3: 0.8828\n",
      "Epoch 23/30\n",
      "71/71 [==============================] - 133s 2s/step - loss: 0.8871 - auc_3: 0.8556 - val_loss: 0.7726 - val_auc_3: 0.8826\n",
      "Epoch 24/30\n",
      "71/71 [==============================] - 133s 2s/step - loss: 0.8813 - auc_3: 0.8514 - val_loss: 0.7715 - val_auc_3: 0.8828\n",
      "Epoch 25/30\n",
      "71/71 [==============================] - 133s 2s/step - loss: 0.8730 - auc_3: 0.8542 - val_loss: 0.7708 - val_auc_3: 0.8828\n",
      "Epoch 26/30\n",
      "71/71 [==============================] - 133s 2s/step - loss: 0.8728 - auc_3: 0.8522 - val_loss: 0.7708 - val_auc_3: 0.8829\n",
      "Epoch 27/30\n",
      "71/71 [==============================] - 133s 2s/step - loss: 0.8739 - auc_3: 0.8492 - val_loss: 0.7702 - val_auc_3: 0.8829\n",
      "Epoch 28/30\n",
      "71/71 [==============================] - 133s 2s/step - loss: 0.8568 - auc_3: 0.8574 - val_loss: 0.7701 - val_auc_3: 0.8829\n",
      "Epoch 29/30\n",
      "71/71 [==============================] - 133s 2s/step - loss: 0.8548 - auc_3: 0.8668 - val_loss: 0.7697 - val_auc_3: 0.8830\n",
      "Epoch 30/30\n",
      "71/71 [==============================] - 133s 2s/step - loss: 0.8682 - auc_3: 0.8614 - val_loss: 0.7696 - val_auc_3: 0.8831\n",
      "Model: \"sequential_4\"\n",
      "_________________________________________________________________\n",
      "Layer (type)                 Output Shape              Param #   \n",
      "=================================================================\n",
      "efficientnet-b7 (Functional) (None, 20, 20, 2560)      64097680  \n",
      "_________________________________________________________________\n",
      "global_average_pooling2d_4 ( (None, 2560)              0         \n",
      "_________________________________________________________________\n",
      "dense_4 (Dense)              (None, 4)                 10244     \n",
      "=================================================================\n",
      "Total params: 64,107,924\n",
      "Trainable params: 63,797,204\n",
      "Non-trainable params: 310,720\n",
      "_________________________________________________________________\n",
      "Epoch 1/30\n",
      "71/71 [==============================] - 504s 4s/step - loss: 1.1335 - auc_4: 0.6994 - val_loss: 2.2981 - val_auc_4: 0.7317\n",
      "Epoch 2/30\n",
      "71/71 [==============================] - 133s 2s/step - loss: 1.0688 - auc_4: 0.7467 - val_loss: 5.6782 - val_auc_4: 0.5733\n",
      "Epoch 3/30\n",
      "71/71 [==============================] - 133s 2s/step - loss: 1.0556 - auc_4: 0.7612 - val_loss: 2.1658 - val_auc_4: 0.7902\n",
      "Epoch 4/30\n",
      "71/71 [==============================] - 133s 2s/step - loss: 1.0289 - auc_4: 0.7580 - val_loss: 1.7883 - val_auc_4: 0.7671\n",
      "Epoch 5/30\n",
      "71/71 [==============================] - 133s 2s/step - loss: 0.9964 - auc_4: 0.7818 - val_loss: 2.8573 - val_auc_4: 0.7229\n",
      "Epoch 6/30\n",
      "71/71 [==============================] - 133s 2s/step - loss: 1.0127 - auc_4: 0.7807 - val_loss: 3.6834 - val_auc_4: 0.6755\n",
      "Epoch 7/30\n",
      "71/71 [==============================] - 133s 2s/step - loss: 1.0568 - auc_4: 0.7772 - val_loss: 2.1323 - val_auc_4: 0.6893\n",
      "Epoch 8/30\n",
      "71/71 [==============================] - 133s 2s/step - loss: 1.1970 - auc_4: 0.7567 - val_loss: 1.3318 - val_auc_4: 0.8197\n",
      "Epoch 9/30\n",
      "71/71 [==============================] - 133s 2s/step - loss: 1.2674 - auc_4: 0.7429 - val_loss: 1.0258 - val_auc_4: 0.8563\n",
      "Epoch 10/30\n",
      "71/71 [==============================] - 133s 2s/step - loss: 1.1505 - auc_4: 0.7653 - val_loss: 0.8997 - val_auc_4: 0.8662\n",
      "Epoch 11/30\n",
      "71/71 [==============================] - 133s 2s/step - loss: 1.1009 - auc_4: 0.7782 - val_loss: 0.8816 - val_auc_4: 0.8713\n",
      "Epoch 12/30\n",
      "71/71 [==============================] - 133s 2s/step - loss: 1.0754 - auc_4: 0.7820 - val_loss: 0.8521 - val_auc_4: 0.8741\n",
      "Epoch 13/30\n",
      "71/71 [==============================] - 133s 2s/step - loss: 1.0283 - auc_4: 0.8004 - val_loss: 0.8494 - val_auc_4: 0.8769\n",
      "Epoch 14/30\n",
      "71/71 [==============================] - 133s 2s/step - loss: 1.0295 - auc_4: 0.7954 - val_loss: 0.8302 - val_auc_4: 0.8791\n",
      "Epoch 15/30\n",
      "71/71 [==============================] - 133s 2s/step - loss: 1.0134 - auc_4: 0.8048 - val_loss: 0.8512 - val_auc_4: 0.8773\n",
      "Epoch 16/30\n",
      "71/71 [==============================] - 133s 2s/step - loss: 0.9922 - auc_4: 0.8109 - val_loss: 0.8101 - val_auc_4: 0.8814\n",
      "Epoch 17/30\n",
      "71/71 [==============================] - 133s 2s/step - loss: 0.9672 - auc_4: 0.8243 - val_loss: 0.8306 - val_auc_4: 0.8808\n",
      "Epoch 18/30\n",
      "71/71 [==============================] - 133s 2s/step - loss: 0.9838 - auc_4: 0.8166 - val_loss: 0.8241 - val_auc_4: 0.8801\n",
      "Epoch 19/30\n",
      "71/71 [==============================] - 133s 2s/step - loss: 0.9682 - auc_4: 0.8210 - val_loss: 0.8324 - val_auc_4: 0.8795\n",
      "Epoch 20/30\n",
      "71/71 [==============================] - 133s 2s/step - loss: 0.9904 - auc_4: 0.8272 - val_loss: 0.7816 - val_auc_4: 0.8851\n",
      "Epoch 21/30\n",
      "71/71 [==============================] - 133s 2s/step - loss: 0.9370 - auc_4: 0.8356 - val_loss: 0.7817 - val_auc_4: 0.8848\n",
      "Epoch 22/30\n",
      "71/71 [==============================] - 133s 2s/step - loss: 0.9045 - auc_4: 0.8453 - val_loss: 0.7850 - val_auc_4: 0.8847\n",
      "Epoch 23/30\n",
      "71/71 [==============================] - 133s 2s/step - loss: 0.9069 - auc_4: 0.8428 - val_loss: 0.7867 - val_auc_4: 0.8842\n",
      "Epoch 24/30\n",
      "71/71 [==============================] - 133s 2s/step - loss: 0.8906 - auc_4: 0.8490 - val_loss: 0.7861 - val_auc_4: 0.8842\n",
      "Epoch 25/30\n",
      "71/71 [==============================] - 133s 2s/step - loss: 0.8964 - auc_4: 0.8465 - val_loss: 0.7861 - val_auc_4: 0.8842\n",
      "Epoch 26/30\n",
      "71/71 [==============================] - 136s 2s/step - loss: 0.8913 - auc_4: 0.8502 - val_loss: 0.7858 - val_auc_4: 0.8843\n",
      "Epoch 27/30\n",
      "71/71 [==============================] - 133s 2s/step - loss: 0.8889 - auc_4: 0.8471 - val_loss: 0.7859 - val_auc_4: 0.8843\n",
      "Epoch 28/30\n",
      "71/71 [==============================] - 133s 2s/step - loss: 0.8686 - auc_4: 0.8606 - val_loss: 0.7862 - val_auc_4: 0.8843\n",
      "Epoch 29/30\n",
      "71/71 [==============================] - 133s 2s/step - loss: 0.8714 - auc_4: 0.8583 - val_loss: 0.7858 - val_auc_4: 0.8843\n",
      "Epoch 30/30\n",
      "71/71 [==============================] - 133s 2s/step - loss: 0.8668 - auc_4: 0.8602 - val_loss: 0.7857 - val_auc_4: 0.8842\n"
     ]
    }
   ],
   "source": [
    "for i in range(5):\n",
    "     \n",
    "    valid_paths = final_df[final_df['fold'] == i]['image_id'] #\"/train/\"\n",
    "    train_paths = final_df[final_df['fold'] != i]['image_id']  #\"/train/\" \n",
    "    valid_labels = final_df[final_df['fold'] == i][label_cols].values\n",
    "    train_labels = final_df[final_df['fold'] != i][label_cols].values\n",
    "    #valid_paths = X_valid['image_id'] #\"/train/\"\n",
    "    #train_paths = X_train['image_id'] #\"/train/\" \n",
    "    #valid_labels = X_valid[label_cols].values\n",
    "    #train_labels = X_train[label_cols].values\n",
    "\n",
    "    IMSIZE = (224, 240, 260, 300, 380, 456, 528, 640)\n",
    "    IMS = 7\n",
    "\n",
    "    decoder = build_decoder(with_labels=True, target_size=(IMSIZE[IMS], IMSIZE[IMS]), ext='png')\n",
    "    test_decoder = build_decoder(with_labels=False, target_size=(IMSIZE[IMS], IMSIZE[IMS]),ext='png')\n",
    "\n",
    "    train_dataset = build_dataset(\n",
    "        train_paths, train_labels, bsize=BATCH_SIZE, decode_fn=decoder\n",
    "    )\n",
    "\n",
    "    valid_dataset = build_dataset(\n",
    "        valid_paths, valid_labels, bsize=BATCH_SIZE, decode_fn=decoder,\n",
    "        repeat=False, shuffle=False, augment=False\n",
    "    )\n",
    "\n",
    "    try:\n",
    "        n_labels = train_labels.shape[1]\n",
    "    except:\n",
    "        n_labels = 1\n",
    "\n",
    "    with strategy.scope():\n",
    "        model = tf.keras.Sequential([\n",
    "            efn.EfficientNetB7(\n",
    "                input_shape=(IMSIZE[IMS], IMSIZE[IMS], 3),\n",
    "                weights='imagenet',\n",
    "                include_top=False),\n",
    "            tf.keras.layers.GlobalAveragePooling2D(),\n",
    "            tf.keras.layers.Dense(n_labels, activation='softmax')\n",
    "        ])\n",
    "        model.compile(\n",
    "            optimizer=tf.keras.optimizers.Adam(),\n",
    "            loss='categorical_crossentropy',\n",
    "            metrics=[tf.keras.metrics.AUC(multi_label=True)])\n",
    "\n",
    "        model.summary()\n",
    "\n",
    "\n",
    "    steps_per_epoch = train_paths.shape[0] // BATCH_SIZE\n",
    "    checkpoint = tf.keras.callbacks.ModelCheckpoint(\n",
    "        f'model{i}.h5', save_best_only=True, monitor='val_loss', mode='min')\n",
    "    lr_reducer = tf.keras.callbacks.ReduceLROnPlateau(\n",
    "        monitor=\"val_loss\", patience=3, min_lr=1e-6, mode='min')\n",
    "\n",
    "    history = model.fit(\n",
    "        train_dataset, \n",
    "        epochs=30,\n",
    "        verbose=1,\n",
    "        callbacks=[checkpoint, lr_reducer],\n",
    "        steps_per_epoch=steps_per_epoch,\n",
    "        validation_data=valid_dataset)\n",
    "\n",
    "    hist_df = pd.DataFrame(history.history)\n",
    "    hist_df.to_csv(f'history{i}.csv')"
   ]
  },
  {
   "cell_type": "code",
   "execution_count": null,
   "id": "23fad56b",
   "metadata": {
    "papermill": {
     "duration": 3.446952,
     "end_time": "2021-08-08T08:00:52.662087",
     "exception": false,
     "start_time": "2021-08-08T08:00:49.215135",
     "status": "completed"
    },
    "tags": []
   },
   "outputs": [],
   "source": [
    " "
   ]
  }
 ],
 "metadata": {
  "kernelspec": {
   "display_name": "Python 3",
   "language": "python",
   "name": "python3"
  },
  "language_info": {
   "codemirror_mode": {
    "name": "ipython",
    "version": 3
   },
   "file_extension": ".py",
   "mimetype": "text/x-python",
   "name": "python",
   "nbconvert_exporter": "python",
   "pygments_lexer": "ipython3",
   "version": "3.7.10"
  },
  "papermill": {
   "default_parameters": {},
   "duration": 23246.759078,
   "end_time": "2021-08-08T08:00:58.871847",
   "environment_variables": {},
   "exception": null,
   "input_path": "__notebook__.ipynb",
   "output_path": "__notebook__.ipynb",
   "parameters": {},
   "start_time": "2021-08-08T01:33:32.112769",
   "version": "2.3.3"
  }
 },
 "nbformat": 4,
 "nbformat_minor": 5
}
