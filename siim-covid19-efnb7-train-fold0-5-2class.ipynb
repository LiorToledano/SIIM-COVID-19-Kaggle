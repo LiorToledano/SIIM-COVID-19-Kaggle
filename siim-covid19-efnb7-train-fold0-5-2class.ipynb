{
 "cells": [
  {
   "cell_type": "markdown",
   "metadata": {},
   "source": [
    "<span style=\"color: #00857e; font-family: Segoe UI; font-size: 1.8em; font-weight: 300;\">EfficintNetB7 2 Class Image Level</span>"
   ]
  },
  {
   "cell_type": "code",
   "execution_count": 1,
   "metadata": {
    "execution": {
     "iopub.execute_input": "2021-07-27T22:09:48.371664Z",
     "iopub.status.busy": "2021-07-27T22:09:48.370927Z",
     "iopub.status.idle": "2021-07-27T22:09:58.558062Z",
     "shell.execute_reply": "2021-07-27T22:09:58.558608Z",
     "shell.execute_reply.started": "2021-07-27T17:46:43.341484Z"
    },
    "papermill": {
     "duration": 10.2207,
     "end_time": "2021-07-27T22:09:58.559023",
     "exception": false,
     "start_time": "2021-07-27T22:09:48.338323",
     "status": "completed"
    },
    "tags": []
   },
   "outputs": [
    {
     "name": "stdout",
     "output_type": "stream",
     "text": [
      "\u001b[33mWARNING: Running pip as root will break packages and permissions. You should install packages reliably by using venv: https://pip.pypa.io/warnings/venv\u001b[0m\r\n"
     ]
    }
   ],
   "source": [
    "!pip install efficientnet -q"
   ]
  },
  {
   "cell_type": "code",
   "execution_count": 2,
   "metadata": {
    "execution": {
     "iopub.execute_input": "2021-07-27T22:09:58.609774Z",
     "iopub.status.busy": "2021-07-27T22:09:58.608573Z",
     "iopub.status.idle": "2021-07-27T22:10:11.078362Z",
     "shell.execute_reply": "2021-07-27T22:10:11.077460Z",
     "shell.execute_reply.started": "2021-07-27T17:46:54.305262Z"
    },
    "papermill": {
     "duration": 12.499599,
     "end_time": "2021-07-27T22:10:11.078551",
     "exception": false,
     "start_time": "2021-07-27T22:09:58.578952",
     "status": "completed"
    },
    "tags": []
   },
   "outputs": [
    {
     "name": "stdout",
     "output_type": "stream",
     "text": [
      "Requirement already satisfied: wandb in /opt/conda/lib/python3.7/site-packages (0.10.33)\r\n",
      "Collecting wandb\r\n",
      "  Downloading wandb-0.11.0-py2.py3-none-any.whl (1.8 MB)\r\n",
      "\u001b[K     |████████████████████████████████| 1.8 MB 2.8 MB/s \r\n",
      "\u001b[?25hRequirement already satisfied: promise<3,>=2.0 in /opt/conda/lib/python3.7/site-packages (from wandb) (2.3)\r\n",
      "Requirement already satisfied: protobuf>=3.12.0 in /opt/conda/lib/python3.7/site-packages (from wandb) (3.17.3)\r\n",
      "Requirement already satisfied: Click!=8.0.0,>=7.0 in /opt/conda/lib/python3.7/site-packages (from wandb) (7.1.2)\r\n",
      "Requirement already satisfied: pathtools in /opt/conda/lib/python3.7/site-packages (from wandb) (0.1.2)\r\n",
      "Requirement already satisfied: urllib3>=1.26.5 in /opt/conda/lib/python3.7/site-packages (from wandb) (1.26.5)\r\n",
      "Requirement already satisfied: six>=1.13.0 in /opt/conda/lib/python3.7/site-packages (from wandb) (1.15.0)\r\n",
      "Requirement already satisfied: docker-pycreds>=0.4.0 in /opt/conda/lib/python3.7/site-packages (from wandb) (0.4.0)\r\n",
      "Requirement already satisfied: requests<3,>=2.0.0 in /opt/conda/lib/python3.7/site-packages (from wandb) (2.25.1)\r\n",
      "Requirement already satisfied: configparser>=3.8.1 in /opt/conda/lib/python3.7/site-packages (from wandb) (5.0.2)\r\n",
      "Requirement already satisfied: GitPython>=1.0.0 in /opt/conda/lib/python3.7/site-packages (from wandb) (3.1.18)\r\n",
      "Requirement already satisfied: shortuuid>=0.5.0 in /opt/conda/lib/python3.7/site-packages (from wandb) (1.0.1)\r\n",
      "Requirement already satisfied: psutil>=5.0.0 in /opt/conda/lib/python3.7/site-packages (from wandb) (5.8.0)\r\n",
      "Requirement already satisfied: python-dateutil>=2.6.1 in /opt/conda/lib/python3.7/site-packages (from wandb) (2.8.1)\r\n",
      "Requirement already satisfied: PyYAML in /opt/conda/lib/python3.7/site-packages (from wandb) (5.4.1)\r\n",
      "Requirement already satisfied: sentry-sdk>=0.4.0 in /opt/conda/lib/python3.7/site-packages (from wandb) (1.2.0)\r\n",
      "Requirement already satisfied: subprocess32>=3.5.3 in /opt/conda/lib/python3.7/site-packages (from wandb) (3.5.4)\r\n",
      "Requirement already satisfied: typing-extensions>=3.7.4.0 in /opt/conda/lib/python3.7/site-packages (from GitPython>=1.0.0->wandb) (3.7.4.3)\r\n",
      "Requirement already satisfied: gitdb<5,>=4.0.1 in /opt/conda/lib/python3.7/site-packages (from GitPython>=1.0.0->wandb) (4.0.7)\r\n",
      "Requirement already satisfied: smmap<5,>=3.0.1 in /opt/conda/lib/python3.7/site-packages (from gitdb<5,>=4.0.1->GitPython>=1.0.0->wandb) (3.0.5)\r\n",
      "Requirement already satisfied: chardet<5,>=3.0.2 in /opt/conda/lib/python3.7/site-packages (from requests<3,>=2.0.0->wandb) (4.0.0)\r\n",
      "Requirement already satisfied: idna<3,>=2.5 in /opt/conda/lib/python3.7/site-packages (from requests<3,>=2.0.0->wandb) (2.10)\r\n",
      "Requirement already satisfied: certifi>=2017.4.17 in /opt/conda/lib/python3.7/site-packages (from requests<3,>=2.0.0->wandb) (2021.5.30)\r\n",
      "Installing collected packages: wandb\r\n",
      "  Attempting uninstall: wandb\r\n",
      "    Found existing installation: wandb 0.10.33\r\n",
      "    Uninstalling wandb-0.10.33:\r\n",
      "      Successfully uninstalled wandb-0.10.33\r\n",
      "\u001b[31mERROR: pip's dependency resolver does not currently take into account all the packages that are installed. This behaviour is the source of the following dependency conflicts.\r\n",
      "allennlp 2.5.0 requires wandb<0.11.0,>=0.10.0, but you have wandb 0.11.0 which is incompatible.\u001b[0m\r\n",
      "Successfully installed wandb-0.11.0\r\n",
      "\u001b[33mWARNING: Running pip as root will break packages and permissions. You should install packages reliably by using venv: https://pip.pypa.io/warnings/venv\u001b[0m\r\n"
     ]
    }
   ],
   "source": [
    "!pip install wandb --upgrade"
   ]
  },
  {
   "cell_type": "code",
   "execution_count": 3,
   "metadata": {
    "execution": {
     "iopub.execute_input": "2021-07-27T22:10:11.136082Z",
     "iopub.status.busy": "2021-07-27T22:10:11.135300Z",
     "iopub.status.idle": "2021-07-27T22:10:18.825368Z",
     "shell.execute_reply": "2021-07-27T22:10:18.824640Z",
     "shell.execute_reply.started": "2021-07-27T17:47:07.164574Z"
    },
    "papermill": {
     "duration": 7.720888,
     "end_time": "2021-07-27T22:10:18.825541",
     "exception": false,
     "start_time": "2021-07-27T22:10:11.104653",
     "status": "completed"
    },
    "tags": []
   },
   "outputs": [],
   "source": [
    "import tensorflow_addons as tfa"
   ]
  },
  {
   "cell_type": "code",
   "execution_count": 4,
   "metadata": {
    "execution": {
     "iopub.execute_input": "2021-07-27T22:10:18.881558Z",
     "iopub.status.busy": "2021-07-27T22:10:18.880740Z",
     "iopub.status.idle": "2021-07-27T22:10:20.137550Z",
     "shell.execute_reply": "2021-07-27T22:10:20.136866Z",
     "shell.execute_reply.started": "2021-07-27T17:47:15.79755Z"
    },
    "papermill": {
     "duration": 1.287722,
     "end_time": "2021-07-27T22:10:20.137744",
     "exception": false,
     "start_time": "2021-07-27T22:10:18.850022",
     "status": "completed"
    },
    "tags": []
   },
   "outputs": [],
   "source": [
    "import os\n",
    "\n",
    "import efficientnet.tfkeras as efn\n",
    "import numpy as np\n",
    "import pandas as pd\n",
    "from kaggle_datasets import KaggleDatasets\n",
    "from sklearn.model_selection import train_test_split\n",
    "import tensorflow as tf\n",
    "from sklearn.model_selection import GroupKFold\n",
    "\n",
    "import csv\n",
    "from kaggle_datasets import KaggleDatasets\n",
    "\n",
    "from tensorflow.keras import layers"
   ]
  },
  {
   "cell_type": "code",
   "execution_count": 5,
   "metadata": {
    "execution": {
     "iopub.execute_input": "2021-07-27T22:10:20.193729Z",
     "iopub.status.busy": "2021-07-27T22:10:20.192929Z",
     "iopub.status.idle": "2021-07-27T22:10:21.687431Z",
     "shell.execute_reply": "2021-07-27T22:10:21.686718Z",
     "shell.execute_reply.started": "2021-07-27T17:47:17.138126Z"
    },
    "papermill": {
     "duration": 1.525552,
     "end_time": "2021-07-27T22:10:21.687600",
     "exception": false,
     "start_time": "2021-07-27T22:10:20.162048",
     "status": "completed"
    },
    "tags": []
   },
   "outputs": [
    {
     "name": "stderr",
     "output_type": "stream",
     "text": [
      "\u001b[34m\u001b[1mwandb\u001b[0m: W&B API key is configured (use `wandb login --relogin` to force relogin)\n",
      "\u001b[34m\u001b[1mwandb\u001b[0m: \u001b[33mWARNING\u001b[0m If you're specifying your api key in code, ensure this code is not shared publically.\n",
      "\u001b[34m\u001b[1mwandb\u001b[0m: \u001b[33mWARNING\u001b[0m Consider setting the WANDB_API_KEY environment variable, or running `wandb login` from the command line.\n",
      "\u001b[34m\u001b[1mwandb\u001b[0m: Appending key for api.wandb.ai to your netrc file: /root/.netrc\n"
     ]
    },
    {
     "data": {
      "text/plain": [
       "True"
      ]
     },
     "execution_count": 5,
     "metadata": {},
     "output_type": "execute_result"
    }
   ],
   "source": [
    "import wandb\n",
    "from wandb.keras import WandbCallback\n",
    "\n",
    "from kaggle_secrets import UserSecretsClient\n",
    "user_secrets = UserSecretsClient()\n",
    "secret_value_0 = user_secrets.get_secret(\"wandb_key\")\n",
    "\n",
    "wandb.login(key=secret_value_0)"
   ]
  },
  {
   "cell_type": "code",
   "execution_count": 7,
   "metadata": {
    "execution": {
     "iopub.execute_input": "2021-07-27T22:10:21.815644Z",
     "iopub.status.busy": "2021-07-27T22:10:21.813912Z",
     "iopub.status.idle": "2021-07-27T22:10:21.819460Z",
     "shell.execute_reply": "2021-07-27T22:10:21.818726Z",
     "shell.execute_reply.started": "2021-07-27T17:47:18.508226Z"
    },
    "papermill": {
     "duration": 0.043216,
     "end_time": "2021-07-27T22:10:21.819622",
     "exception": false,
     "start_time": "2021-07-27T22:10:21.776406",
     "status": "completed"
    },
    "tags": []
   },
   "outputs": [],
   "source": [
    "def auto_select_accelerator():\n",
    "    try:\n",
    "        tpu = tf.distribute.cluster_resolver.TPUClusterResolver()\n",
    "        tf.config.experimental_connect_to_cluster(tpu)\n",
    "        tf.tpu.experimental.initialize_tpu_system(tpu)\n",
    "        strategy = tf.distribute.experimental.TPUStrategy(tpu)\n",
    "        print(\"Running on TPU:\", tpu.master())\n",
    "    except ValueError:\n",
    "        strategy = tf.distribute.get_strategy()\n",
    "    print(f\"Running on {strategy.num_replicas_in_sync} replicas\")\n",
    "    \n",
    "    return strategy\n",
    "\n",
    "\n",
    "def build_decoder(with_labels=True, target_size=(256, 256), ext='jpg'):\n",
    "    def decode(path):\n",
    "        file_bytes = tf.io.read_file(path)\n",
    "\n",
    "        if ext == 'png':\n",
    "            img = tf.image.decode_png(file_bytes, channels=3)\n",
    "        elif ext in ['jpg', 'jpeg']:\n",
    "            img = tf.image.decode_jpeg(file_bytes, channels=3)\n",
    "        else:\n",
    "            raise ValueError(\"Image extension not supported\")\n",
    "        img = tf.cast(img, tf.float32) / 255.0\n",
    "        img = tf.image.resize(img, target_size)\n",
    "\n",
    "        return img\n",
    "    \n",
    "    def decode_with_labels(path, label):\n",
    "        return decode(path), label\n",
    "    \n",
    "    return decode_with_labels if with_labels else decode"
   ]
  },
  {
   "cell_type": "code",
   "execution_count": 9,
   "metadata": {
    "execution": {
     "iopub.execute_input": "2021-07-27T22:10:21.940150Z",
     "iopub.status.busy": "2021-07-27T22:10:21.939280Z",
     "iopub.status.idle": "2021-07-27T22:10:21.942728Z",
     "shell.execute_reply": "2021-07-27T22:10:21.942050Z",
     "shell.execute_reply.started": "2021-07-27T17:47:18.559791Z"
    },
    "papermill": {
     "duration": 0.036535,
     "end_time": "2021-07-27T22:10:21.942911",
     "exception": false,
     "start_time": "2021-07-27T22:10:21.906376",
     "status": "completed"
    },
    "tags": []
   },
   "outputs": [],
   "source": [
    "import random"
   ]
  },
  {
   "cell_type": "code",
   "execution_count": 10,
   "metadata": {
    "execution": {
     "iopub.execute_input": "2021-07-27T22:10:22.009329Z",
     "iopub.status.busy": "2021-07-27T22:10:22.008222Z",
     "iopub.status.idle": "2021-07-27T22:10:22.011830Z",
     "shell.execute_reply": "2021-07-27T22:10:22.011257Z",
     "shell.execute_reply.started": "2021-07-27T17:47:18.583036Z"
    },
    "papermill": {
     "duration": 0.043019,
     "end_time": "2021-07-27T22:10:22.012016",
     "exception": false,
     "start_time": "2021-07-27T22:10:21.968997",
     "status": "completed"
    },
    "tags": []
   },
   "outputs": [],
   "source": [
    "def build_augmenter(with_labels=True):\n",
    "    def augment(img):\n",
    "        #print(\"img.shape\", img.shape)\n",
    "        img = tf.image.random_flip_left_right(img)\n",
    "        img = tf.image.random_flip_up_down(img)\n",
    "        \n",
    "        #img = tf.image.random_saturation(img, 0.5, 1.0)\n",
    "        #img = tf.image.random_saturation(img, 0.2, 0.5)\n",
    "        #img = tf.image.random_brightness(img, 0.2)\n",
    "    \n",
    "        return img\n",
    "    \n",
    "    def augment_with_labels(img, label):\n",
    "        return augment(img), label\n",
    "    \n",
    "    return augment_with_labels if with_labels else augment\n",
    "\n",
    "\n",
    "def build_dataset(paths, labels=None, bsize=128, cache=True,\n",
    "                  decode_fn=None, augment_fn=None,\n",
    "                  augment=True, repeat=True, shuffle=1024, \n",
    "                  cache_dir=\"\"):\n",
    "    if cache_dir != \"\" and cache is True:\n",
    "        os.makedirs(cache_dir, exist_ok=True)\n",
    "    \n",
    "    if decode_fn is None:\n",
    "        decode_fn = build_decoder(labels is not None)\n",
    "    \n",
    "    if augment_fn is None:\n",
    "        augment_fn = build_augmenter(labels is not None)\n",
    "    \n",
    "    AUTO = tf.data.experimental.AUTOTUNE\n",
    "    slices = paths if labels is None else (paths, labels)\n",
    "    \n",
    "    dset = tf.data.Dataset.from_tensor_slices(slices)\n",
    "    dset = dset.map(decode_fn, num_parallel_calls=AUTO)\n",
    "    dset = dset.cache(cache_dir) if cache else dset\n",
    "    dset = dset.map(augment_fn, num_parallel_calls=AUTO) \n",
    "    \n",
    "    dset = dset.repeat() if repeat else dset\n",
    "    dset = dset.shuffle(shuffle) if shuffle else dset\n",
    "    dset = dset.batch(bsize)\n",
    "    \n",
    "    #if augment:\n",
    "    #    dset = dset.map(lambda x, y: (data_augmentation(x, training=augment), y), \n",
    "    #                num_parallel_calls=AUTO)\n",
    "    \n",
    "    dset = dset.prefetch(AUTO)\n",
    "    \n",
    "    return dset"
   ]
  },
  {
   "cell_type": "code",
   "execution_count": 12,
   "metadata": {
    "execution": {
     "iopub.execute_input": "2021-07-27T22:10:22.207641Z",
     "iopub.status.busy": "2021-07-27T22:10:22.206516Z",
     "iopub.status.idle": "2021-07-27T22:10:28.009326Z",
     "shell.execute_reply": "2021-07-27T22:10:28.009858Z",
     "shell.execute_reply.started": "2021-07-27T17:47:18.641059Z"
    },
    "papermill": {
     "duration": 5.912691,
     "end_time": "2021-07-27T22:10:28.010108",
     "exception": false,
     "start_time": "2021-07-27T22:10:22.097417",
     "status": "completed"
    },
    "tags": []
   },
   "outputs": [
    {
     "name": "stdout",
     "output_type": "stream",
     "text": [
      "Running on TPU: grpc://10.0.0.2:8470\n",
      "Running on 8 replicas\n"
     ]
    }
   ],
   "source": [
    "strategy = auto_select_accelerator()\n",
    "BATCH_SIZE = strategy.num_replicas_in_sync * 8"
   ]
  },
  {
   "cell_type": "code",
   "execution_count": 13,
   "metadata": {
    "execution": {
     "iopub.execute_input": "2021-07-27T22:10:28.066636Z",
     "iopub.status.busy": "2021-07-27T22:10:28.065814Z",
     "iopub.status.idle": "2021-07-27T22:10:28.482532Z",
     "shell.execute_reply": "2021-07-27T22:10:28.481837Z",
     "shell.execute_reply.started": "2021-07-27T17:47:24.234118Z"
    },
    "papermill": {
     "duration": 0.446874,
     "end_time": "2021-07-27T22:10:28.482709",
     "exception": false,
     "start_time": "2021-07-27T22:10:28.035835",
     "status": "completed"
    },
    "tags": []
   },
   "outputs": [],
   "source": [
    "COMPETITION_NAME = \"covid19512\"\n",
    "GCS_DS_PATH = KaggleDatasets().get_gcs_path(COMPETITION_NAME)"
   ]
  },
  {
   "cell_type": "code",
   "execution_count": 14,
   "metadata": {
    "execution": {
     "iopub.execute_input": "2021-07-27T22:10:28.543963Z",
     "iopub.status.busy": "2021-07-27T22:10:28.543099Z",
     "iopub.status.idle": "2021-07-27T22:10:37.981483Z",
     "shell.execute_reply": "2021-07-27T22:10:37.982244Z",
     "shell.execute_reply.started": "2021-07-27T17:47:24.626938Z"
    },
    "papermill": {
     "duration": 9.473475,
     "end_time": "2021-07-27T22:10:37.982500",
     "exception": false,
     "start_time": "2021-07-27T22:10:28.509025",
     "status": "completed"
    },
    "tags": []
   },
   "outputs": [],
   "source": [
    "_data_dir = GCS_DS_PATH\n",
    "load_dir = _data_dir + \"/train/\"\n",
    "df = pd.read_csv(_data_dir + '/updated_iamge_level.csv')"
   ]
  },
  {
   "cell_type": "code",
   "execution_count": 15,
   "metadata": {
    "execution": {
     "iopub.execute_input": "2021-07-27T22:10:38.039733Z",
     "iopub.status.busy": "2021-07-27T22:10:38.039009Z",
     "iopub.status.idle": "2021-07-27T22:10:38.071193Z",
     "shell.execute_reply": "2021-07-27T22:10:38.071700Z",
     "shell.execute_reply.started": "2021-07-27T17:47:34.403201Z"
    },
    "papermill": {
     "duration": 0.063484,
     "end_time": "2021-07-27T22:10:38.071936",
     "exception": false,
     "start_time": "2021-07-27T22:10:38.008452",
     "status": "completed"
    },
    "tags": []
   },
   "outputs": [
    {
     "data": {
      "text/html": [
       "<div>\n",
       "<style scoped>\n",
       "    .dataframe tbody tr th:only-of-type {\n",
       "        vertical-align: middle;\n",
       "    }\n",
       "\n",
       "    .dataframe tbody tr th {\n",
       "        vertical-align: top;\n",
       "    }\n",
       "\n",
       "    .dataframe thead th {\n",
       "        text-align: right;\n",
       "    }\n",
       "</style>\n",
       "<table border=\"1\" class=\"dataframe\">\n",
       "  <thead>\n",
       "    <tr style=\"text-align: right;\">\n",
       "      <th></th>\n",
       "      <th>Unnamed: 0</th>\n",
       "      <th>id</th>\n",
       "      <th>boxes</th>\n",
       "      <th>label</th>\n",
       "      <th>StudyInstanceUID</th>\n",
       "      <th>bin</th>\n",
       "      <th>fold</th>\n",
       "    </tr>\n",
       "  </thead>\n",
       "  <tbody>\n",
       "    <tr>\n",
       "      <th>0</th>\n",
       "      <td>0</td>\n",
       "      <td>000a312787f2_image</td>\n",
       "      <td>[{'x': 789.28836, 'y': 582.43035, 'width': 102...</td>\n",
       "      <td>opacity 1 789.28836 582.43035 1815.94498 2499....</td>\n",
       "      <td>5776db0cec75</td>\n",
       "      <td>1.0</td>\n",
       "      <td>2.0</td>\n",
       "    </tr>\n",
       "    <tr>\n",
       "      <th>1</th>\n",
       "      <td>1</td>\n",
       "      <td>000c3a3f293f_image</td>\n",
       "      <td>NaN</td>\n",
       "      <td>none 1 0 0 1 1</td>\n",
       "      <td>ff0879eb20ed</td>\n",
       "      <td>0.0</td>\n",
       "      <td>4.0</td>\n",
       "    </tr>\n",
       "    <tr>\n",
       "      <th>2</th>\n",
       "      <td>2</td>\n",
       "      <td>0012ff7358bc_image</td>\n",
       "      <td>[{'x': 677.42216, 'y': 197.97662, 'width': 867...</td>\n",
       "      <td>opacity 1 677.42216 197.97662 1545.21983 1197....</td>\n",
       "      <td>9d514ce429a7</td>\n",
       "      <td>1.0</td>\n",
       "      <td>4.0</td>\n",
       "    </tr>\n",
       "    <tr>\n",
       "      <th>3</th>\n",
       "      <td>3</td>\n",
       "      <td>001398f4ff4f_image</td>\n",
       "      <td>[{'x': 2729, 'y': 2181.33331, 'width': 948.000...</td>\n",
       "      <td>opacity 1 2729 2181.33331 3677.00012 2785.33331</td>\n",
       "      <td>28dddc8559b2</td>\n",
       "      <td>3.0</td>\n",
       "      <td>2.0</td>\n",
       "    </tr>\n",
       "    <tr>\n",
       "      <th>4</th>\n",
       "      <td>4</td>\n",
       "      <td>001bd15d1891_image</td>\n",
       "      <td>[{'x': 623.23328, 'y': 1050, 'width': 714, 'he...</td>\n",
       "      <td>opacity 1 623.23328 1050 1337.23328 2156 opaci...</td>\n",
       "      <td>dfd9fdd85a3e</td>\n",
       "      <td>1.0</td>\n",
       "      <td>2.0</td>\n",
       "    </tr>\n",
       "  </tbody>\n",
       "</table>\n",
       "</div>"
      ],
      "text/plain": [
       "   Unnamed: 0                  id  \\\n",
       "0           0  000a312787f2_image   \n",
       "1           1  000c3a3f293f_image   \n",
       "2           2  0012ff7358bc_image   \n",
       "3           3  001398f4ff4f_image   \n",
       "4           4  001bd15d1891_image   \n",
       "\n",
       "                                               boxes  \\\n",
       "0  [{'x': 789.28836, 'y': 582.43035, 'width': 102...   \n",
       "1                                                NaN   \n",
       "2  [{'x': 677.42216, 'y': 197.97662, 'width': 867...   \n",
       "3  [{'x': 2729, 'y': 2181.33331, 'width': 948.000...   \n",
       "4  [{'x': 623.23328, 'y': 1050, 'width': 714, 'he...   \n",
       "\n",
       "                                               label StudyInstanceUID  bin  \\\n",
       "0  opacity 1 789.28836 582.43035 1815.94498 2499....     5776db0cec75  1.0   \n",
       "1                                     none 1 0 0 1 1     ff0879eb20ed  0.0   \n",
       "2  opacity 1 677.42216 197.97662 1545.21983 1197....     9d514ce429a7  1.0   \n",
       "3    opacity 1 2729 2181.33331 3677.00012 2785.33331     28dddc8559b2  3.0   \n",
       "4  opacity 1 623.23328 1050 1337.23328 2156 opaci...     dfd9fdd85a3e  1.0   \n",
       "\n",
       "   fold  \n",
       "0   2.0  \n",
       "1   4.0  \n",
       "2   4.0  \n",
       "3   2.0  \n",
       "4   2.0  "
      ]
     },
     "execution_count": 15,
     "metadata": {},
     "output_type": "execute_result"
    }
   ],
   "source": [
    "df.head()"
   ]
  },
  {
   "cell_type": "code",
   "execution_count": 16,
   "metadata": {
    "execution": {
     "iopub.execute_input": "2021-07-27T22:10:38.133110Z",
     "iopub.status.busy": "2021-07-27T22:10:38.132336Z",
     "iopub.status.idle": "2021-07-27T22:10:39.334637Z",
     "shell.execute_reply": "2021-07-27T22:10:39.335193Z",
     "shell.execute_reply.started": "2021-07-27T17:47:34.450503Z"
    },
    "papermill": {
     "duration": 1.235088,
     "end_time": "2021-07-27T22:10:39.335428",
     "exception": false,
     "start_time": "2021-07-27T22:10:38.100340",
     "status": "completed"
    },
    "tags": []
   },
   "outputs": [],
   "source": [
    "df['none'] = 0 \n",
    "for i, r in df.iterrows():\n",
    "    if r.label == \"none 1 0 0 1 1\":\n",
    "        df.loc[i, 'none'] = 1\n",
    "#df"
   ]
  },
  {
   "cell_type": "code",
   "execution_count": 18,
   "metadata": {
    "execution": {
     "iopub.execute_input": "2021-07-27T22:10:39.491802Z",
     "iopub.status.busy": "2021-07-27T22:10:39.491021Z",
     "iopub.status.idle": "2021-07-27T22:10:39.498549Z",
     "shell.execute_reply": "2021-07-27T22:10:39.497838Z",
     "shell.execute_reply.started": "2021-07-27T17:47:35.876862Z"
    },
    "papermill": {
     "duration": 0.056546,
     "end_time": "2021-07-27T22:10:39.498724",
     "exception": false,
     "start_time": "2021-07-27T22:10:39.442178",
     "status": "completed"
    },
    "tags": []
   },
   "outputs": [],
   "source": [
    "df['id'] = df['id'].str.replace(\"_image\", \"\")"
   ]
  },
  {
   "cell_type": "code",
   "execution_count": 19,
   "metadata": {
    "execution": {
     "iopub.execute_input": "2021-07-27T22:10:39.557981Z",
     "iopub.status.busy": "2021-07-27T22:10:39.556827Z",
     "iopub.status.idle": "2021-07-27T22:10:39.561654Z",
     "shell.execute_reply": "2021-07-27T22:10:39.562169Z",
     "shell.execute_reply.started": "2021-07-27T17:47:35.909692Z"
    },
    "papermill": {
     "duration": 0.036375,
     "end_time": "2021-07-27T22:10:39.562375",
     "exception": false,
     "start_time": "2021-07-27T22:10:39.526000",
     "status": "completed"
    },
    "tags": []
   },
   "outputs": [],
   "source": [
    "IMSIZE = (224, 240, 260, 300, 380, 456, 528, 600, 512)\n",
    "IMS = 8"
   ]
  },
  {
   "cell_type": "code",
   "execution_count": 20,
   "metadata": {
    "execution": {
     "iopub.execute_input": "2021-07-27T22:10:39.622014Z",
     "iopub.status.busy": "2021-07-27T22:10:39.620556Z",
     "iopub.status.idle": "2021-07-28T00:39:28.502617Z",
     "shell.execute_reply": "2021-07-28T00:39:28.501970Z"
    },
    "papermill": {
     "duration": 8928.91334,
     "end_time": "2021-07-28T00:39:28.502861",
     "exception": false,
     "start_time": "2021-07-27T22:10:39.589521",
     "status": "completed"
    },
    "tags": []
   },
   "outputs": [
    {
     "name": "stderr",
     "output_type": "stream",
     "text": [
      "\u001b[34m\u001b[1mwandb\u001b[0m: Currently logged in as: \u001b[33mliortoledano\u001b[0m (use `wandb login --relogin` to force relogin)\n"
     ]
    },
    {
     "data": {
      "text/html": [
       "\n",
       "                Tracking run with wandb version 0.11.0<br/>\n",
       "                Syncing run <strong style=\"color:#cdcd00\">daily-yogurt-2</strong> to <a href=\"https://wandb.ai\" target=\"_blank\">Weights & Biases</a> <a href=\"https://docs.wandb.com/integrations/jupyter.html\" target=\"_blank\">(Documentation)</a>.<br/>\n",
       "                Project page: <a href=\"https://wandb.ai/liortoledano/covid19-siim-2class-enb7\" target=\"_blank\">https://wandb.ai/liortoledano/covid19-siim-2class-enb7</a><br/>\n",
       "                Run page: <a href=\"https://wandb.ai/liortoledano/covid19-siim-2class-enb7/runs/2yxso5e1\" target=\"_blank\">https://wandb.ai/liortoledano/covid19-siim-2class-enb7/runs/2yxso5e1</a><br/>\n",
       "                Run data is saved locally in <code>/kaggle/working/wandb/run-20210727_221039-2yxso5e1</code><br/><br/>\n",
       "            "
      ],
      "text/plain": [
       "<IPython.core.display.HTML object>"
      ]
     },
     "metadata": {},
     "output_type": "display_data"
    },
    {
     "name": "stdout",
     "output_type": "stream",
     "text": [
      "Downloading data from https://github.com/qubvel/efficientnet/releases/download/v0.0.1/efficientnet-b7_noisy-student_notop.h5\n",
      "258072576/258068648 [==============================] - 8s 0us/step\n",
      "Model: \"sequential\"\n",
      "_________________________________________________________________\n",
      "Layer (type)                 Output Shape              Param #   \n",
      "=================================================================\n",
      "efficientnet-b7 (Functional) (None, 16, 16, 2560)      64097680  \n",
      "_________________________________________________________________\n",
      "global_average_pooling2d (Gl (None, 2560)              0         \n",
      "_________________________________________________________________\n",
      "dropout (Dropout)            (None, 2560)              0         \n",
      "_________________________________________________________________\n",
      "dense (Dense)                (None, 1)                 2561      \n",
      "=================================================================\n",
      "Total params: 64,100,241\n",
      "Trainable params: 63,789,521\n",
      "Non-trainable params: 310,720\n",
      "_________________________________________________________________\n",
      "Epoch 1/30\n",
      "77/77 [==============================] - 415s 2s/step - loss: 0.6326 - auc: 0.6190 - val_loss: 0.5706 - val_auc: 0.8011\n",
      "Epoch 2/30\n",
      "77/77 [==============================] - 40s 516ms/step - loss: 0.5275 - auc: 0.7720 - val_loss: 1.6338 - val_auc: 0.8134\n",
      "Epoch 3/30\n",
      "77/77 [==============================] - 39s 513ms/step - loss: 0.4893 - auc: 0.8037 - val_loss: 0.4988 - val_auc: 0.8493\n",
      "Epoch 4/30\n",
      "77/77 [==============================] - 40s 517ms/step - loss: 0.4814 - auc: 0.8160 - val_loss: 1.0994 - val_auc: 0.8364\n",
      "Epoch 5/30\n",
      "77/77 [==============================] - 39s 512ms/step - loss: 0.4696 - auc: 0.8259 - val_loss: 0.5496 - val_auc: 0.8424\n",
      "Epoch 6/30\n",
      "77/77 [==============================] - 39s 510ms/step - loss: 0.4473 - auc: 0.8452 - val_loss: 0.4373 - val_auc: 0.8700\n",
      "Epoch 7/30\n",
      "77/77 [==============================] - 39s 511ms/step - loss: 0.4419 - auc: 0.8483 - val_loss: 0.4551 - val_auc: 0.8596\n",
      "Epoch 8/30\n",
      "77/77 [==============================] - 39s 507ms/step - loss: 0.4415 - auc: 0.8466 - val_loss: 0.4987 - val_auc: 0.8560\n",
      "Epoch 9/30\n",
      "77/77 [==============================] - 39s 508ms/step - loss: 0.4235 - auc: 0.8652 - val_loss: 1.0544 - val_auc: 0.7886\n",
      "Epoch 10/30\n",
      "77/77 [==============================] - 39s 507ms/step - loss: 0.4067 - auc: 0.8737 - val_loss: 0.4105 - val_auc: 0.8722\n",
      "Epoch 11/30\n",
      "77/77 [==============================] - 39s 512ms/step - loss: 0.3872 - auc: 0.8872 - val_loss: 0.4068 - val_auc: 0.8763\n",
      "Epoch 12/30\n",
      "77/77 [==============================] - 39s 512ms/step - loss: 0.3762 - auc: 0.8930 - val_loss: 0.4039 - val_auc: 0.8747\n",
      "Epoch 13/30\n",
      "77/77 [==============================] - 40s 515ms/step - loss: 0.3664 - auc: 0.8950 - val_loss: 0.4000 - val_auc: 0.8776\n",
      "Epoch 14/30\n",
      "77/77 [==============================] - 39s 511ms/step - loss: 0.3417 - auc: 0.9147 - val_loss: 0.3984 - val_auc: 0.8788\n",
      "Epoch 15/30\n",
      "77/77 [==============================] - 39s 508ms/step - loss: 0.3195 - auc: 0.9228 - val_loss: 0.4075 - val_auc: 0.8766\n",
      "Epoch 16/30\n",
      "77/77 [==============================] - 39s 508ms/step - loss: 0.3173 - auc: 0.9245 - val_loss: 0.4096 - val_auc: 0.8751\n",
      "Epoch 17/30\n",
      "77/77 [==============================] - 39s 510ms/step - loss: 0.3157 - auc: 0.9292 - val_loss: 0.4255 - val_auc: 0.8735\n",
      "Epoch 18/30\n",
      "77/77 [==============================] - 39s 508ms/step - loss: 0.3108 - auc: 0.9282 - val_loss: 0.4289 - val_auc: 0.8738\n",
      "Epoch 19/30\n",
      "77/77 [==============================] - 39s 508ms/step - loss: 0.3156 - auc: 0.9262 - val_loss: 0.4079 - val_auc: 0.8809\n",
      "Epoch 20/30\n",
      "77/77 [==============================] - 41s 533ms/step - loss: 0.2994 - auc: 0.9344 - val_loss: 0.4218 - val_auc: 0.8729\n",
      "Epoch 21/30\n",
      "77/77 [==============================] - 40s 514ms/step - loss: 0.3092 - auc: 0.9313 - val_loss: 0.4201 - val_auc: 0.8787\n",
      "Epoch 22/30\n",
      "77/77 [==============================] - 39s 511ms/step - loss: 0.2753 - auc: 0.9431 - val_loss: 0.4145 - val_auc: 0.8778\n",
      "Epoch 23/30\n",
      "77/77 [==============================] - 39s 509ms/step - loss: 0.3161 - auc: 0.9246 - val_loss: 0.4237 - val_auc: 0.8728\n",
      "Epoch 24/30\n",
      "77/77 [==============================] - 39s 511ms/step - loss: 0.2972 - auc: 0.9333 - val_loss: 0.4250 - val_auc: 0.8736\n",
      "Epoch 25/30\n",
      "77/77 [==============================] - 39s 509ms/step - loss: 0.2954 - auc: 0.9342 - val_loss: 0.4117 - val_auc: 0.8783\n",
      "Epoch 26/30\n",
      "77/77 [==============================] - 39s 507ms/step - loss: 0.3229 - auc: 0.9229 - val_loss: 0.4208 - val_auc: 0.8752\n",
      "Epoch 27/30\n",
      "77/77 [==============================] - 39s 511ms/step - loss: 0.2906 - auc: 0.9374 - val_loss: 0.4234 - val_auc: 0.8739\n",
      "Epoch 28/30\n",
      "77/77 [==============================] - 39s 509ms/step - loss: 0.2916 - auc: 0.9350 - val_loss: 0.4221 - val_auc: 0.8751\n",
      "Epoch 29/30\n",
      "77/77 [==============================] - 39s 508ms/step - loss: 0.3055 - auc: 0.9290 - val_loss: 0.4285 - val_auc: 0.8713\n",
      "Epoch 30/30\n",
      "77/77 [==============================] - 39s 510ms/step - loss: 0.2979 - auc: 0.9328 - val_loss: 0.4148 - val_auc: 0.8779\n"
     ]
    },
    {
     "data": {
      "text/html": [
       "<br/>Waiting for W&B process to finish, PID 166<br/>Program ended successfully."
      ],
      "text/plain": [
       "<IPython.core.display.HTML object>"
      ]
     },
     "metadata": {},
     "output_type": "display_data"
    },
    {
     "data": {
      "application/vnd.jupyter.widget-view+json": {
       "model_id": "887a0f13611848fbac6737266da9f71b",
       "version_major": 2,
       "version_minor": 0
      },
      "text/plain": [
       "VBox(children=(Label(value=' 245.70MB of 245.70MB uploaded (0.00MB deduped)\\r'), FloatProgress(value=1.0, max=…"
      ]
     },
     "metadata": {},
     "output_type": "display_data"
    },
    {
     "data": {
      "text/html": [
       "Find user logs for this run at: <code>/kaggle/working/wandb/run-20210727_221039-2yxso5e1/logs/debug.log</code>"
      ],
      "text/plain": [
       "<IPython.core.display.HTML object>"
      ]
     },
     "metadata": {},
     "output_type": "display_data"
    },
    {
     "data": {
      "text/html": [
       "Find internal logs for this run at: <code>/kaggle/working/wandb/run-20210727_221039-2yxso5e1/logs/debug-internal.log</code>"
      ],
      "text/plain": [
       "<IPython.core.display.HTML object>"
      ]
     },
     "metadata": {},
     "output_type": "display_data"
    },
    {
     "data": {
      "text/html": [
       "<h3>Run summary:</h3><br/><style>\n",
       "    table.wandb td:nth-child(1) { padding: 0 10px; text-align: right }\n",
       "    </style><table class=\"wandb\">\n",
       "<tr><td>epoch</td><td>29</td></tr><tr><td>loss</td><td>0.30183</td></tr><tr><td>auc</td><td>0.93257</td></tr><tr><td>val_loss</td><td>0.41477</td></tr><tr><td>val_auc</td><td>0.87789</td></tr><tr><td>lr</td><td>0.0</td></tr><tr><td>_runtime</td><td>1826</td></tr><tr><td>_timestamp</td><td>1627425665</td></tr><tr><td>_step</td><td>29</td></tr><tr><td>best_val_loss</td><td>0.39844</td></tr><tr><td>best_epoch</td><td>13</td></tr></table>"
      ],
      "text/plain": [
       "<IPython.core.display.HTML object>"
      ]
     },
     "metadata": {},
     "output_type": "display_data"
    },
    {
     "data": {
      "text/html": [
       "<h3>Run history:</h3><br/><style>\n",
       "    table.wandb td:nth-child(1) { padding: 0 10px; text-align: right }\n",
       "    </style><table class=\"wandb\">\n",
       "<tr><td>epoch</td><td>▁▁▁▂▂▂▂▃▃▃▃▄▄▄▄▅▅▅▅▆▆▆▆▇▇▇▇███</td></tr><tr><td>loss</td><td>█▆▆▆▅▅▄▄▄▃▃▃▃▂▂▂▂▁▂▁▂▁▂▁▁▁▁▁▁▁</td></tr><tr><td>auc</td><td>▁▃▄▄▅▅▆▆▆▇▇▇▇▇████████████████</td></tr><tr><td>val_loss</td><td>▂█▂▅▂▁▁▂▅▁▁▁▁▁▁▁▁▁▁▁▁▁▁▁▁▁▁▁▁▁</td></tr><tr><td>val_auc</td><td>▂▃▆▅▅▇▆▆▁▇██████▇▇█▇██▇▇██▇█▇█</td></tr><tr><td>lr</td><td>█████████▂▂▂▂▂▂▂▂▁▁▁▁▁▁▁▁▁▁▁▁▁</td></tr><tr><td>_runtime</td><td>▁▁▂▂▂▂▃▃▃▃▄▄▄▅▅▅▅▆▆▆▆▆▇▇▇▇▇███</td></tr><tr><td>_timestamp</td><td>▁▁▂▂▂▂▃▃▃▃▄▄▄▅▅▅▅▆▆▆▆▆▇▇▇▇▇███</td></tr><tr><td>_step</td><td>▁▁▁▂▂▂▂▃▃▃▃▄▄▄▄▅▅▅▅▆▆▆▆▇▇▇▇███</td></tr></table><br/>"
      ],
      "text/plain": [
       "<IPython.core.display.HTML object>"
      ]
     },
     "metadata": {},
     "output_type": "display_data"
    },
    {
     "data": {
      "text/html": [
       "Synced 5 W&B file(s), 1 media file(s), 0 artifact file(s) and 1 other file(s)"
      ],
      "text/plain": [
       "<IPython.core.display.HTML object>"
      ]
     },
     "metadata": {},
     "output_type": "display_data"
    },
    {
     "data": {
      "text/html": [
       "\n",
       "                    <br/>Synced <strong style=\"color:#cdcd00\">daily-yogurt-2</strong>: <a href=\"https://wandb.ai/liortoledano/covid19-siim-2class-enb7/runs/2yxso5e1\" target=\"_blank\">https://wandb.ai/liortoledano/covid19-siim-2class-enb7/runs/2yxso5e1</a><br/>\n",
       "                "
      ],
      "text/plain": [
       "<IPython.core.display.HTML object>"
      ]
     },
     "metadata": {},
     "output_type": "display_data"
    },
    {
     "data": {
      "text/html": [
       "\n",
       "                Tracking run with wandb version 0.11.0<br/>\n",
       "                Syncing run <strong style=\"color:#cdcd00\">quiet-waterfall-3</strong> to <a href=\"https://wandb.ai\" target=\"_blank\">Weights & Biases</a> <a href=\"https://docs.wandb.com/integrations/jupyter.html\" target=\"_blank\">(Documentation)</a>.<br/>\n",
       "                Project page: <a href=\"https://wandb.ai/liortoledano/covid19-siim-2class-enb7\" target=\"_blank\">https://wandb.ai/liortoledano/covid19-siim-2class-enb7</a><br/>\n",
       "                Run page: <a href=\"https://wandb.ai/liortoledano/covid19-siim-2class-enb7/runs/odclegmk\" target=\"_blank\">https://wandb.ai/liortoledano/covid19-siim-2class-enb7/runs/odclegmk</a><br/>\n",
       "                Run data is saved locally in <code>/kaggle/working/wandb/run-20210727_224125-odclegmk</code><br/><br/>\n",
       "            "
      ],
      "text/plain": [
       "<IPython.core.display.HTML object>"
      ]
     },
     "metadata": {},
     "output_type": "display_data"
    },
    {
     "name": "stdout",
     "output_type": "stream",
     "text": [
      "Model: \"sequential_1\"\n",
      "_________________________________________________________________\n",
      "Layer (type)                 Output Shape              Param #   \n",
      "=================================================================\n",
      "efficientnet-b7 (Functional) (None, 16, 16, 2560)      64097680  \n",
      "_________________________________________________________________\n",
      "global_average_pooling2d_1 ( (None, 2560)              0         \n",
      "_________________________________________________________________\n",
      "dropout_1 (Dropout)          (None, 2560)              0         \n",
      "_________________________________________________________________\n",
      "dense_1 (Dense)              (None, 1)                 2561      \n",
      "=================================================================\n",
      "Total params: 64,100,241\n",
      "Trainable params: 63,789,521\n",
      "Non-trainable params: 310,720\n",
      "_________________________________________________________________\n",
      "Epoch 1/30\n",
      "77/77 [==============================] - 352s 2s/step - loss: 0.6119 - auc_1: 0.6367 - val_loss: 0.7637 - val_auc_1: 0.7226\n",
      "Epoch 2/30\n",
      "77/77 [==============================] - 39s 512ms/step - loss: 0.5146 - auc_1: 0.7659 - val_loss: 0.5882 - val_auc_1: 0.7672\n",
      "Epoch 3/30\n",
      "77/77 [==============================] - 39s 510ms/step - loss: 0.4668 - auc_1: 0.8169 - val_loss: 0.5371 - val_auc_1: 0.8022\n",
      "Epoch 4/30\n",
      "77/77 [==============================] - 40s 514ms/step - loss: 0.4683 - auc_1: 0.8274 - val_loss: 0.6741 - val_auc_1: 0.7548\n",
      "Epoch 5/30\n",
      "77/77 [==============================] - 39s 510ms/step - loss: 0.4629 - auc_1: 0.8311 - val_loss: 0.5044 - val_auc_1: 0.8411\n",
      "Epoch 6/30\n",
      "77/77 [==============================] - 39s 511ms/step - loss: 0.4304 - auc_1: 0.8553 - val_loss: 0.5990 - val_auc_1: 0.8291\n",
      "Epoch 7/30\n",
      "77/77 [==============================] - 39s 507ms/step - loss: 0.4282 - auc_1: 0.8578 - val_loss: 0.4769 - val_auc_1: 0.8377\n",
      "Epoch 8/30\n",
      "77/77 [==============================] - 39s 510ms/step - loss: 0.4149 - auc_1: 0.8639 - val_loss: 0.5591 - val_auc_1: 0.8399\n",
      "Epoch 9/30\n",
      "77/77 [==============================] - 39s 510ms/step - loss: 0.4183 - auc_1: 0.8649 - val_loss: 0.4827 - val_auc_1: 0.8105\n",
      "Epoch 10/30\n",
      "77/77 [==============================] - 39s 509ms/step - loss: 0.3990 - auc_1: 0.8756 - val_loss: 0.5121 - val_auc_1: 0.8193\n",
      "Epoch 11/30\n",
      "77/77 [==============================] - 39s 509ms/step - loss: 0.3728 - auc_1: 0.8959 - val_loss: 0.4468 - val_auc_1: 0.8605\n",
      "Epoch 12/30\n",
      "77/77 [==============================] - 39s 510ms/step - loss: 0.3313 - auc_1: 0.9179 - val_loss: 0.4510 - val_auc_1: 0.8546\n",
      "Epoch 13/30\n",
      "77/77 [==============================] - 39s 508ms/step - loss: 0.3208 - auc_1: 0.9230 - val_loss: 0.4698 - val_auc_1: 0.8578\n",
      "Epoch 14/30\n",
      "77/77 [==============================] - 39s 509ms/step - loss: 0.3072 - auc_1: 0.9290 - val_loss: 0.4329 - val_auc_1: 0.8650\n",
      "Epoch 15/30\n",
      "77/77 [==============================] - 40s 517ms/step - loss: 0.3061 - auc_1: 0.9319 - val_loss: 0.4726 - val_auc_1: 0.8546\n",
      "Epoch 16/30\n",
      "77/77 [==============================] - 39s 510ms/step - loss: 0.3072 - auc_1: 0.9310 - val_loss: 0.4735 - val_auc_1: 0.8545\n",
      "Epoch 17/30\n",
      "77/77 [==============================] - 39s 510ms/step - loss: 0.2769 - auc_1: 0.9428 - val_loss: 0.4761 - val_auc_1: 0.8560\n",
      "Epoch 18/30\n",
      "77/77 [==============================] - 39s 509ms/step - loss: 0.2670 - auc_1: 0.9445 - val_loss: 0.4915 - val_auc_1: 0.8520\n",
      "Epoch 19/30\n",
      "77/77 [==============================] - 39s 507ms/step - loss: 0.2873 - auc_1: 0.9404 - val_loss: 0.5095 - val_auc_1: 0.8503\n",
      "Epoch 20/30\n",
      "77/77 [==============================] - 39s 512ms/step - loss: 0.2569 - auc_1: 0.9512 - val_loss: 0.5113 - val_auc_1: 0.8542\n",
      "Epoch 21/30\n",
      "77/77 [==============================] - 39s 509ms/step - loss: 0.2649 - auc_1: 0.9477 - val_loss: 0.5093 - val_auc_1: 0.8554\n",
      "Epoch 22/30\n",
      "77/77 [==============================] - 39s 512ms/step - loss: 0.2704 - auc_1: 0.9469 - val_loss: 0.5150 - val_auc_1: 0.8523\n",
      "Epoch 23/30\n",
      "77/77 [==============================] - 39s 511ms/step - loss: 0.2779 - auc_1: 0.9433 - val_loss: 0.5280 - val_auc_1: 0.8474\n",
      "Epoch 24/30\n",
      "77/77 [==============================] - 39s 507ms/step - loss: 0.2604 - auc_1: 0.9474 - val_loss: 0.5301 - val_auc_1: 0.8500\n",
      "Epoch 25/30\n",
      "77/77 [==============================] - 39s 507ms/step - loss: 0.2618 - auc_1: 0.9494 - val_loss: 0.5135 - val_auc_1: 0.8537\n",
      "Epoch 26/30\n",
      "77/77 [==============================] - 39s 507ms/step - loss: 0.2730 - auc_1: 0.9426 - val_loss: 0.5197 - val_auc_1: 0.8535\n",
      "Epoch 27/30\n",
      "77/77 [==============================] - 39s 507ms/step - loss: 0.2601 - auc_1: 0.9502 - val_loss: 0.5258 - val_auc_1: 0.8500\n",
      "Epoch 28/30\n",
      "77/77 [==============================] - 39s 507ms/step - loss: 0.2863 - auc_1: 0.9408 - val_loss: 0.5229 - val_auc_1: 0.8481\n",
      "Epoch 29/30\n",
      "77/77 [==============================] - 39s 511ms/step - loss: 0.2571 - auc_1: 0.9500 - val_loss: 0.5359 - val_auc_1: 0.8484\n",
      "Epoch 30/30\n",
      "77/77 [==============================] - 40s 517ms/step - loss: 0.2569 - auc_1: 0.9504 - val_loss: 0.5265 - val_auc_1: 0.8502\n"
     ]
    },
    {
     "data": {
      "text/html": [
       "<br/>Waiting for W&B process to finish, PID 639<br/>Program ended successfully."
      ],
      "text/plain": [
       "<IPython.core.display.HTML object>"
      ]
     },
     "metadata": {},
     "output_type": "display_data"
    },
    {
     "data": {
      "application/vnd.jupyter.widget-view+json": {
       "model_id": "c1872c28d35749d3a677d8ddfeeb0a51",
       "version_major": 2,
       "version_minor": 0
      },
      "text/plain": [
       "VBox(children=(Label(value=' 4.54MB of 4.54MB uploaded (0.00MB deduped)\\r'), FloatProgress(value=1.0, max=1.0)…"
      ]
     },
     "metadata": {},
     "output_type": "display_data"
    },
    {
     "data": {
      "text/html": [
       "Find user logs for this run at: <code>/kaggle/working/wandb/run-20210727_224125-odclegmk/logs/debug.log</code>"
      ],
      "text/plain": [
       "<IPython.core.display.HTML object>"
      ]
     },
     "metadata": {},
     "output_type": "display_data"
    },
    {
     "data": {
      "text/html": [
       "Find internal logs for this run at: <code>/kaggle/working/wandb/run-20210727_224125-odclegmk/logs/debug-internal.log</code>"
      ],
      "text/plain": [
       "<IPython.core.display.HTML object>"
      ]
     },
     "metadata": {},
     "output_type": "display_data"
    },
    {
     "data": {
      "text/html": [
       "<h3>Run summary:</h3><br/><style>\n",
       "    table.wandb td:nth-child(1) { padding: 0 10px; text-align: right }\n",
       "    </style><table class=\"wandb\">\n",
       "<tr><td>epoch</td><td>29</td></tr><tr><td>loss</td><td>0.24962</td></tr><tr><td>auc_1</td><td>0.95396</td></tr><tr><td>val_loss</td><td>0.52654</td></tr><tr><td>val_auc_1</td><td>0.85021</td></tr><tr><td>lr</td><td>0.0</td></tr><tr><td>_runtime</td><td>1719</td></tr><tr><td>_timestamp</td><td>1627427404</td></tr><tr><td>_step</td><td>29</td></tr><tr><td>best_val_loss</td><td>0.43288</td></tr><tr><td>best_epoch</td><td>13</td></tr></table>"
      ],
      "text/plain": [
       "<IPython.core.display.HTML object>"
      ]
     },
     "metadata": {},
     "output_type": "display_data"
    },
    {
     "data": {
      "text/html": [
       "<h3>Run history:</h3><br/><style>\n",
       "    table.wandb td:nth-child(1) { padding: 0 10px; text-align: right }\n",
       "    </style><table class=\"wandb\">\n",
       "<tr><td>epoch</td><td>▁▁▁▂▂▂▂▃▃▃▃▄▄▄▄▅▅▅▅▆▆▆▆▇▇▇▇███</td></tr><tr><td>loss</td><td>█▇▆▅▅▅▅▄▅▄▃▃▃▂▂▂▂▁▁▁▁▁▁▁▁▁▁▂▁▁</td></tr><tr><td>auc_1</td><td>▁▃▄▅▅▅▅▆▆▆▇▇▇▇▇███████████████</td></tr><tr><td>val_loss</td><td>█▄▃▆▃▅▂▄▂▃▁▁▂▁▂▂▂▂▃▃▃▃▃▃▃▃▃▃▃▃</td></tr><tr><td>val_auc_1</td><td>▁▃▅▃▇▆▇▇▅▆█▇██▇▇█▇▇▇█▇▇▇▇▇▇▇▇▇</td></tr><tr><td>lr</td><td>██████████▂▂▂▂▂▂▂▁▁▁▁▁▁▁▁▁▁▁▁▁</td></tr><tr><td>_runtime</td><td>▁▁▂▂▂▃▃▃▃▄▄▄▄▅▅▅▅▅▆▆▆▆▇▇▇▇▇███</td></tr><tr><td>_timestamp</td><td>▁▁▂▂▂▃▃▃▃▄▄▄▄▅▅▅▅▅▆▆▆▆▇▇▇▇▇███</td></tr><tr><td>_step</td><td>▁▁▁▂▂▂▂▃▃▃▃▄▄▄▄▅▅▅▅▆▆▆▆▇▇▇▇███</td></tr></table><br/>"
      ],
      "text/plain": [
       "<IPython.core.display.HTML object>"
      ]
     },
     "metadata": {},
     "output_type": "display_data"
    },
    {
     "data": {
      "text/html": [
       "Synced 5 W&B file(s), 1 media file(s), 0 artifact file(s) and 1 other file(s)"
      ],
      "text/plain": [
       "<IPython.core.display.HTML object>"
      ]
     },
     "metadata": {},
     "output_type": "display_data"
    },
    {
     "data": {
      "text/html": [
       "\n",
       "                    <br/>Synced <strong style=\"color:#cdcd00\">quiet-waterfall-3</strong>: <a href=\"https://wandb.ai/liortoledano/covid19-siim-2class-enb7/runs/odclegmk\" target=\"_blank\">https://wandb.ai/liortoledano/covid19-siim-2class-enb7/runs/odclegmk</a><br/>\n",
       "                "
      ],
      "text/plain": [
       "<IPython.core.display.HTML object>"
      ]
     },
     "metadata": {},
     "output_type": "display_data"
    },
    {
     "data": {
      "text/html": [
       "\n",
       "                Tracking run with wandb version 0.11.0<br/>\n",
       "                Syncing run <strong style=\"color:#cdcd00\">rural-serenity-4</strong> to <a href=\"https://wandb.ai\" target=\"_blank\">Weights & Biases</a> <a href=\"https://docs.wandb.com/integrations/jupyter.html\" target=\"_blank\">(Documentation)</a>.<br/>\n",
       "                Project page: <a href=\"https://wandb.ai/liortoledano/covid19-siim-2class-enb7\" target=\"_blank\">https://wandb.ai/liortoledano/covid19-siim-2class-enb7</a><br/>\n",
       "                Run page: <a href=\"https://wandb.ai/liortoledano/covid19-siim-2class-enb7/runs/1jkfvlah\" target=\"_blank\">https://wandb.ai/liortoledano/covid19-siim-2class-enb7/runs/1jkfvlah</a><br/>\n",
       "                Run data is saved locally in <code>/kaggle/working/wandb/run-20210727_231023-1jkfvlah</code><br/><br/>\n",
       "            "
      ],
      "text/plain": [
       "<IPython.core.display.HTML object>"
      ]
     },
     "metadata": {},
     "output_type": "display_data"
    },
    {
     "name": "stdout",
     "output_type": "stream",
     "text": [
      "Model: \"sequential_2\"\n",
      "_________________________________________________________________\n",
      "Layer (type)                 Output Shape              Param #   \n",
      "=================================================================\n",
      "efficientnet-b7 (Functional) (None, 16, 16, 2560)      64097680  \n",
      "_________________________________________________________________\n",
      "global_average_pooling2d_2 ( (None, 2560)              0         \n",
      "_________________________________________________________________\n",
      "dropout_2 (Dropout)          (None, 2560)              0         \n",
      "_________________________________________________________________\n",
      "dense_2 (Dense)              (None, 1)                 2561      \n",
      "=================================================================\n",
      "Total params: 64,100,241\n",
      "Trainable params: 63,789,521\n",
      "Non-trainable params: 310,720\n",
      "_________________________________________________________________\n",
      "Epoch 1/30\n",
      "77/77 [==============================] - 344s 2s/step - loss: 0.6067 - auc_2: 0.6505 - val_loss: 0.6053 - val_auc_2: 0.7955\n",
      "Epoch 2/30\n",
      "77/77 [==============================] - 39s 512ms/step - loss: 0.5376 - auc_2: 0.7502 - val_loss: 0.7065 - val_auc_2: 0.8028\n",
      "Epoch 3/30\n",
      "77/77 [==============================] - 39s 513ms/step - loss: 0.4907 - auc_2: 0.8029 - val_loss: 0.5263 - val_auc_2: 0.8344\n",
      "Epoch 4/30\n",
      "77/77 [==============================] - 40s 514ms/step - loss: 0.4610 - auc_2: 0.8317 - val_loss: 0.4533 - val_auc_2: 0.8418\n",
      "Epoch 5/30\n",
      "77/77 [==============================] - 39s 513ms/step - loss: 0.4643 - auc_2: 0.8279 - val_loss: 0.4610 - val_auc_2: 0.8663\n",
      "Epoch 6/30\n",
      "77/77 [==============================] - 39s 512ms/step - loss: 0.4625 - auc_2: 0.8367 - val_loss: 0.4558 - val_auc_2: 0.8545\n",
      "Epoch 7/30\n",
      "77/77 [==============================] - 39s 513ms/step - loss: 0.4435 - auc_2: 0.8487 - val_loss: 0.4454 - val_auc_2: 0.8614\n",
      "Epoch 8/30\n",
      "77/77 [==============================] - 40s 517ms/step - loss: 0.4222 - auc_2: 0.8648 - val_loss: 0.4164 - val_auc_2: 0.8736\n",
      "Epoch 9/30\n",
      "77/77 [==============================] - 40s 515ms/step - loss: 0.4156 - auc_2: 0.8651 - val_loss: 0.4536 - val_auc_2: 0.8489\n",
      "Epoch 10/30\n",
      "77/77 [==============================] - 39s 512ms/step - loss: 0.4208 - auc_2: 0.8646 - val_loss: 0.5591 - val_auc_2: 0.8298\n",
      "Epoch 11/30\n",
      "77/77 [==============================] - 39s 510ms/step - loss: 0.4097 - auc_2: 0.8700 - val_loss: 0.4733 - val_auc_2: 0.8196\n",
      "Epoch 12/30\n",
      "77/77 [==============================] - 39s 512ms/step - loss: 0.3731 - auc_2: 0.8953 - val_loss: 0.4015 - val_auc_2: 0.8734\n",
      "Epoch 13/30\n",
      "77/77 [==============================] - 39s 511ms/step - loss: 0.3423 - auc_2: 0.9135 - val_loss: 0.3983 - val_auc_2: 0.8819\n",
      "Epoch 14/30\n",
      "77/77 [==============================] - 39s 512ms/step - loss: 0.3333 - auc_2: 0.9160 - val_loss: 0.3998 - val_auc_2: 0.8815\n",
      "Epoch 15/30\n",
      "77/77 [==============================] - 39s 512ms/step - loss: 0.3245 - auc_2: 0.9197 - val_loss: 0.3879 - val_auc_2: 0.8875\n",
      "Epoch 16/30\n",
      "77/77 [==============================] - 40s 522ms/step - loss: 0.3222 - auc_2: 0.9235 - val_loss: 0.4200 - val_auc_2: 0.8759\n",
      "Epoch 17/30\n",
      "77/77 [==============================] - 39s 513ms/step - loss: 0.3193 - auc_2: 0.9230 - val_loss: 0.4216 - val_auc_2: 0.8788\n",
      "Epoch 18/30\n",
      "77/77 [==============================] - 39s 512ms/step - loss: 0.3112 - auc_2: 0.9291 - val_loss: 0.4135 - val_auc_2: 0.8832\n",
      "Epoch 19/30\n",
      "77/77 [==============================] - 39s 510ms/step - loss: 0.2841 - auc_2: 0.9401 - val_loss: 0.4314 - val_auc_2: 0.8770\n",
      "Epoch 20/30\n",
      "77/77 [==============================] - 42s 549ms/step - loss: 0.2783 - auc_2: 0.9400 - val_loss: 0.4315 - val_auc_2: 0.8785\n",
      "Epoch 21/30\n",
      "77/77 [==============================] - 39s 513ms/step - loss: 0.2855 - auc_2: 0.9394 - val_loss: 0.4308 - val_auc_2: 0.8780\n",
      "Epoch 22/30\n",
      "77/77 [==============================] - 39s 510ms/step - loss: 0.2871 - auc_2: 0.9374 - val_loss: 0.4419 - val_auc_2: 0.8747\n",
      "Epoch 23/30\n",
      "77/77 [==============================] - 39s 511ms/step - loss: 0.2741 - auc_2: 0.9401 - val_loss: 0.4311 - val_auc_2: 0.8812\n",
      "Epoch 24/30\n",
      "77/77 [==============================] - 39s 510ms/step - loss: 0.2893 - auc_2: 0.9380 - val_loss: 0.4317 - val_auc_2: 0.8767\n",
      "Epoch 25/30\n",
      "77/77 [==============================] - 39s 511ms/step - loss: 0.2787 - auc_2: 0.9393 - val_loss: 0.4437 - val_auc_2: 0.8727\n",
      "Epoch 26/30\n",
      "77/77 [==============================] - 39s 510ms/step - loss: 0.2804 - auc_2: 0.9408 - val_loss: 0.4462 - val_auc_2: 0.8742\n",
      "Epoch 27/30\n",
      "77/77 [==============================] - 39s 513ms/step - loss: 0.2809 - auc_2: 0.9398 - val_loss: 0.4350 - val_auc_2: 0.8777\n",
      "Epoch 28/30\n",
      "77/77 [==============================] - 39s 511ms/step - loss: 0.2795 - auc_2: 0.9413 - val_loss: 0.4323 - val_auc_2: 0.8766\n",
      "Epoch 29/30\n",
      "77/77 [==============================] - 39s 512ms/step - loss: 0.2570 - auc_2: 0.9507 - val_loss: 0.4452 - val_auc_2: 0.8727\n",
      "Epoch 30/30\n",
      "77/77 [==============================] - 39s 514ms/step - loss: 0.2839 - auc_2: 0.9375 - val_loss: 0.4343 - val_auc_2: 0.8759\n"
     ]
    },
    {
     "data": {
      "text/html": [
       "<br/>Waiting for W&B process to finish, PID 1082<br/>Program ended successfully."
      ],
      "text/plain": [
       "<IPython.core.display.HTML object>"
      ]
     },
     "metadata": {},
     "output_type": "display_data"
    },
    {
     "data": {
      "application/vnd.jupyter.widget-view+json": {
       "model_id": "11616202351844ea98680d759994af3a",
       "version_major": 2,
       "version_minor": 0
      },
      "text/plain": [
       "VBox(children=(Label(value=' 245.70MB of 245.70MB uploaded (0.00MB deduped)\\r'), FloatProgress(value=1.0, max=…"
      ]
     },
     "metadata": {},
     "output_type": "display_data"
    },
    {
     "data": {
      "text/html": [
       "Find user logs for this run at: <code>/kaggle/working/wandb/run-20210727_231023-1jkfvlah/logs/debug.log</code>"
      ],
      "text/plain": [
       "<IPython.core.display.HTML object>"
      ]
     },
     "metadata": {},
     "output_type": "display_data"
    },
    {
     "data": {
      "text/html": [
       "Find internal logs for this run at: <code>/kaggle/working/wandb/run-20210727_231023-1jkfvlah/logs/debug-internal.log</code>"
      ],
      "text/plain": [
       "<IPython.core.display.HTML object>"
      ]
     },
     "metadata": {},
     "output_type": "display_data"
    },
    {
     "data": {
      "text/html": [
       "<h3>Run summary:</h3><br/><style>\n",
       "    table.wandb td:nth-child(1) { padding: 0 10px; text-align: right }\n",
       "    </style><table class=\"wandb\">\n",
       "<tr><td>epoch</td><td>29</td></tr><tr><td>loss</td><td>0.26691</td></tr><tr><td>auc_2</td><td>0.94564</td></tr><tr><td>val_loss</td><td>0.43434</td></tr><tr><td>val_auc_2</td><td>0.87589</td></tr><tr><td>lr</td><td>0.0</td></tr><tr><td>_runtime</td><td>1761</td></tr><tr><td>_timestamp</td><td>1627429184</td></tr><tr><td>_step</td><td>29</td></tr><tr><td>best_val_loss</td><td>0.38786</td></tr><tr><td>best_epoch</td><td>14</td></tr></table>"
      ],
      "text/plain": [
       "<IPython.core.display.HTML object>"
      ]
     },
     "metadata": {},
     "output_type": "display_data"
    },
    {
     "data": {
      "text/html": [
       "<h3>Run history:</h3><br/><style>\n",
       "    table.wandb td:nth-child(1) { padding: 0 10px; text-align: right }\n",
       "    </style><table class=\"wandb\">\n",
       "<tr><td>epoch</td><td>▁▁▁▂▂▂▂▃▃▃▃▄▄▄▄▅▅▅▅▆▆▆▆▇▇▇▇███</td></tr><tr><td>loss</td><td>█▇▆▆▅▅▅▅▄▄▄▃▃▂▂▂▂▂▁▁▁▁▁▁▁▁▁▁▁▁</td></tr><tr><td>auc_2</td><td>▁▂▄▄▄▅▅▅▆▆▆▇▇▇▇▇██████████████</td></tr><tr><td>val_loss</td><td>▆█▄▂▃▂▂▂▂▅▃▁▁▁▁▂▂▂▂▂▂▂▂▂▂▂▂▂▂▂</td></tr><tr><td>val_auc_2</td><td>▁▂▄▅▆▅▆▇▅▄▃▇███▇▇█▇▇▇▇█▇▇▇▇▇▇▇</td></tr><tr><td>lr</td><td>███████████▂▂▂▂▂▂▂▁▁▁▁▁▁▁▁▁▁▁▁</td></tr><tr><td>_runtime</td><td>▁▁▂▂▂▂▃▃▃▃▄▄▄▅▅▅▅▆▆▆▆▆▇▇▇▇▇███</td></tr><tr><td>_timestamp</td><td>▁▁▂▂▂▂▃▃▃▃▄▄▄▅▅▅▅▆▆▆▆▆▇▇▇▇▇███</td></tr><tr><td>_step</td><td>▁▁▁▂▂▂▂▃▃▃▃▄▄▄▄▅▅▅▅▆▆▆▆▇▇▇▇███</td></tr></table><br/>"
      ],
      "text/plain": [
       "<IPython.core.display.HTML object>"
      ]
     },
     "metadata": {},
     "output_type": "display_data"
    },
    {
     "data": {
      "text/html": [
       "Synced 5 W&B file(s), 1 media file(s), 0 artifact file(s) and 1 other file(s)"
      ],
      "text/plain": [
       "<IPython.core.display.HTML object>"
      ]
     },
     "metadata": {},
     "output_type": "display_data"
    },
    {
     "data": {
      "text/html": [
       "\n",
       "                    <br/>Synced <strong style=\"color:#cdcd00\">rural-serenity-4</strong>: <a href=\"https://wandb.ai/liortoledano/covid19-siim-2class-enb7/runs/1jkfvlah\" target=\"_blank\">https://wandb.ai/liortoledano/covid19-siim-2class-enb7/runs/1jkfvlah</a><br/>\n",
       "                "
      ],
      "text/plain": [
       "<IPython.core.display.HTML object>"
      ]
     },
     "metadata": {},
     "output_type": "display_data"
    },
    {
     "data": {
      "text/html": [
       "\n",
       "                Tracking run with wandb version 0.11.0<br/>\n",
       "                Syncing run <strong style=\"color:#cdcd00\">cerulean-pine-5</strong> to <a href=\"https://wandb.ai\" target=\"_blank\">Weights & Biases</a> <a href=\"https://docs.wandb.com/integrations/jupyter.html\" target=\"_blank\">(Documentation)</a>.<br/>\n",
       "                Project page: <a href=\"https://wandb.ai/liortoledano/covid19-siim-2class-enb7\" target=\"_blank\">https://wandb.ai/liortoledano/covid19-siim-2class-enb7</a><br/>\n",
       "                Run page: <a href=\"https://wandb.ai/liortoledano/covid19-siim-2class-enb7/runs/1cmyfdcc\" target=\"_blank\">https://wandb.ai/liortoledano/covid19-siim-2class-enb7/runs/1cmyfdcc</a><br/>\n",
       "                Run data is saved locally in <code>/kaggle/working/wandb/run-20210727_234006-1cmyfdcc</code><br/><br/>\n",
       "            "
      ],
      "text/plain": [
       "<IPython.core.display.HTML object>"
      ]
     },
     "metadata": {},
     "output_type": "display_data"
    },
    {
     "name": "stdout",
     "output_type": "stream",
     "text": [
      "Model: \"sequential_3\"\n",
      "_________________________________________________________________\n",
      "Layer (type)                 Output Shape              Param #   \n",
      "=================================================================\n",
      "efficientnet-b7 (Functional) (None, 16, 16, 2560)      64097680  \n",
      "_________________________________________________________________\n",
      "global_average_pooling2d_3 ( (None, 2560)              0         \n",
      "_________________________________________________________________\n",
      "dropout_3 (Dropout)          (None, 2560)              0         \n",
      "_________________________________________________________________\n",
      "dense_3 (Dense)              (None, 1)                 2561      \n",
      "=================================================================\n",
      "Total params: 64,100,241\n",
      "Trainable params: 63,789,521\n",
      "Non-trainable params: 310,720\n",
      "_________________________________________________________________\n",
      "Epoch 1/30\n",
      "77/77 [==============================] - 359s 2s/step - loss: 0.6160 - auc_3: 0.6522 - val_loss: 0.6804 - val_auc_3: 0.8186\n",
      "Epoch 2/30\n",
      "77/77 [==============================] - 40s 514ms/step - loss: 0.5145 - auc_3: 0.7792 - val_loss: 0.4786 - val_auc_3: 0.8270\n",
      "Epoch 3/30\n",
      "77/77 [==============================] - 39s 512ms/step - loss: 0.4893 - auc_3: 0.8018 - val_loss: 0.6434 - val_auc_3: 0.8639\n",
      "Epoch 4/30\n",
      "77/77 [==============================] - 39s 511ms/step - loss: 0.4668 - auc_3: 0.8219 - val_loss: 0.6347 - val_auc_3: 0.8584\n",
      "Epoch 5/30\n",
      "77/77 [==============================] - 39s 509ms/step - loss: 0.4626 - auc_3: 0.8287 - val_loss: 0.9860 - val_auc_3: 0.8633\n",
      "Epoch 6/30\n",
      "77/77 [==============================] - 39s 513ms/step - loss: 0.4581 - auc_3: 0.8354 - val_loss: 0.3921 - val_auc_3: 0.8903\n",
      "Epoch 7/30\n",
      "77/77 [==============================] - 40s 515ms/step - loss: 0.4077 - auc_3: 0.8715 - val_loss: 0.3816 - val_auc_3: 0.8918\n",
      "Epoch 8/30\n",
      "77/77 [==============================] - 39s 511ms/step - loss: 0.4065 - auc_3: 0.8732 - val_loss: 0.3786 - val_auc_3: 0.8924\n",
      "Epoch 9/30\n",
      "77/77 [==============================] - 40s 514ms/step - loss: 0.3810 - auc_3: 0.8857 - val_loss: 0.3757 - val_auc_3: 0.8979\n",
      "Epoch 10/30\n",
      "77/77 [==============================] - 39s 512ms/step - loss: 0.3899 - auc_3: 0.8810 - val_loss: 0.3799 - val_auc_3: 0.8941\n",
      "Epoch 11/30\n",
      "77/77 [==============================] - 39s 508ms/step - loss: 0.3709 - auc_3: 0.8930 - val_loss: 0.3850 - val_auc_3: 0.8947\n",
      "Epoch 12/30\n",
      "77/77 [==============================] - 39s 508ms/step - loss: 0.3629 - auc_3: 0.8985 - val_loss: 0.3959 - val_auc_3: 0.8907\n",
      "Epoch 13/30\n",
      "77/77 [==============================] - 39s 507ms/step - loss: 0.3617 - auc_3: 0.9002 - val_loss: 0.3816 - val_auc_3: 0.8950\n",
      "Epoch 14/30\n",
      "77/77 [==============================] - 39s 510ms/step - loss: 0.3497 - auc_3: 0.9080 - val_loss: 0.3861 - val_auc_3: 0.8944\n",
      "Epoch 15/30\n",
      "77/77 [==============================] - 39s 509ms/step - loss: 0.3451 - auc_3: 0.9062 - val_loss: 0.3849 - val_auc_3: 0.8932\n",
      "Epoch 16/30\n",
      "77/77 [==============================] - 39s 509ms/step - loss: 0.3477 - auc_3: 0.9078 - val_loss: 0.3849 - val_auc_3: 0.8935\n",
      "Epoch 17/30\n",
      "77/77 [==============================] - 39s 511ms/step - loss: 0.3475 - auc_3: 0.9085 - val_loss: 0.3886 - val_auc_3: 0.8931\n",
      "Epoch 18/30\n",
      "77/77 [==============================] - 39s 510ms/step - loss: 0.3503 - auc_3: 0.9066 - val_loss: 0.3818 - val_auc_3: 0.8954\n",
      "Epoch 19/30\n",
      "77/77 [==============================] - 40s 514ms/step - loss: 0.3508 - auc_3: 0.9087 - val_loss: 0.3908 - val_auc_3: 0.8911\n",
      "Epoch 20/30\n",
      "77/77 [==============================] - 39s 512ms/step - loss: 0.3446 - auc_3: 0.9100 - val_loss: 0.3936 - val_auc_3: 0.8904\n",
      "Epoch 21/30\n",
      "77/77 [==============================] - 39s 512ms/step - loss: 0.3506 - auc_3: 0.9033 - val_loss: 0.3895 - val_auc_3: 0.8906\n",
      "Epoch 22/30\n",
      "77/77 [==============================] - 39s 510ms/step - loss: 0.3561 - auc_3: 0.9019 - val_loss: 0.3956 - val_auc_3: 0.8891\n",
      "Epoch 23/30\n",
      "77/77 [==============================] - 39s 508ms/step - loss: 0.3421 - auc_3: 0.9128 - val_loss: 0.3913 - val_auc_3: 0.8919\n",
      "Epoch 24/30\n",
      "77/77 [==============================] - 39s 510ms/step - loss: 0.3407 - auc_3: 0.9115 - val_loss: 0.3918 - val_auc_3: 0.8905\n",
      "Epoch 25/30\n",
      "77/77 [==============================] - 42s 551ms/step - loss: 0.3426 - auc_3: 0.9124 - val_loss: 0.3817 - val_auc_3: 0.8961\n",
      "Epoch 26/30\n",
      "77/77 [==============================] - 39s 509ms/step - loss: 0.3378 - auc_3: 0.9134 - val_loss: 0.3959 - val_auc_3: 0.8893\n",
      "Epoch 27/30\n",
      "77/77 [==============================] - 39s 509ms/step - loss: 0.3287 - auc_3: 0.9167 - val_loss: 0.3907 - val_auc_3: 0.8910\n",
      "Epoch 28/30\n",
      "77/77 [==============================] - 39s 509ms/step - loss: 0.3329 - auc_3: 0.9181 - val_loss: 0.3952 - val_auc_3: 0.8897\n",
      "Epoch 29/30\n",
      "77/77 [==============================] - 39s 512ms/step - loss: 0.3372 - auc_3: 0.9156 - val_loss: 0.3950 - val_auc_3: 0.8891\n",
      "Epoch 30/30\n",
      "77/77 [==============================] - 40s 516ms/step - loss: 0.3535 - auc_3: 0.9083 - val_loss: 0.3902 - val_auc_3: 0.8923\n"
     ]
    },
    {
     "data": {
      "text/html": [
       "<br/>Waiting for W&B process to finish, PID 1536<br/>Program ended successfully."
      ],
      "text/plain": [
       "<IPython.core.display.HTML object>"
      ]
     },
     "metadata": {},
     "output_type": "display_data"
    },
    {
     "data": {
      "application/vnd.jupyter.widget-view+json": {
       "model_id": "b68f19396aa24450b9d80a8f1202c5b7",
       "version_major": 2,
       "version_minor": 0
      },
      "text/plain": [
       "VBox(children=(Label(value=' 10.12MB of 10.12MB uploaded (0.00MB deduped)\\r'), FloatProgress(value=1.0, max=1.…"
      ]
     },
     "metadata": {},
     "output_type": "display_data"
    },
    {
     "data": {
      "text/html": [
       "Find user logs for this run at: <code>/kaggle/working/wandb/run-20210727_234006-1cmyfdcc/logs/debug.log</code>"
      ],
      "text/plain": [
       "<IPython.core.display.HTML object>"
      ]
     },
     "metadata": {},
     "output_type": "display_data"
    },
    {
     "data": {
      "text/html": [
       "Find internal logs for this run at: <code>/kaggle/working/wandb/run-20210727_234006-1cmyfdcc/logs/debug-internal.log</code>"
      ],
      "text/plain": [
       "<IPython.core.display.HTML object>"
      ]
     },
     "metadata": {},
     "output_type": "display_data"
    },
    {
     "data": {
      "text/html": [
       "<h3>Run summary:</h3><br/><style>\n",
       "    table.wandb td:nth-child(1) { padding: 0 10px; text-align: right }\n",
       "    </style><table class=\"wandb\">\n",
       "<tr><td>epoch</td><td>29</td></tr><tr><td>loss</td><td>0.34596</td></tr><tr><td>auc_3</td><td>0.90895</td></tr><tr><td>val_loss</td><td>0.39015</td></tr><tr><td>val_auc_3</td><td>0.89231</td></tr><tr><td>lr</td><td>0.0</td></tr><tr><td>_runtime</td><td>1713</td></tr><tr><td>_timestamp</td><td>1627430919</td></tr><tr><td>_step</td><td>29</td></tr><tr><td>best_val_loss</td><td>0.37572</td></tr><tr><td>best_epoch</td><td>8</td></tr></table>"
      ],
      "text/plain": [
       "<IPython.core.display.HTML object>"
      ]
     },
     "metadata": {},
     "output_type": "display_data"
    },
    {
     "data": {
      "text/html": [
       "<h3>Run history:</h3><br/><style>\n",
       "    table.wandb td:nth-child(1) { padding: 0 10px; text-align: right }\n",
       "    </style><table class=\"wandb\">\n",
       "<tr><td>epoch</td><td>▁▁▁▂▂▂▂▃▃▃▃▄▄▄▄▅▅▅▅▆▆▆▆▇▇▇▇███</td></tr><tr><td>loss</td><td>█▆▆▅▅▄▃▃▂▃▂▂▂▁▁▂▁▁▁▁▁▂▁▁▁▁▁▁▁▁</td></tr><tr><td>auc_3</td><td>▁▃▄▅▅▆▆▇▇▇▇████▇██████████████</td></tr><tr><td>val_loss</td><td>▄▂▄▄█▁▁▁▁▁▁▁▁▁▁▁▁▁▁▁▁▁▁▁▁▁▁▁▁▁</td></tr><tr><td>val_auc_3</td><td>▁▂▅▅▅▇▇████▇██████▇▇▇▇▇▇█▇▇▇▇█</td></tr><tr><td>lr</td><td>█████▂▂▂▂▂▂▂▁▁▁▁▁▁▁▁▁▁▁▁▁▁▁▁▁▁</td></tr><tr><td>_runtime</td><td>▁▁▂▂▂▂▃▃▃▄▄▄▄▅▅▅▅▅▆▆▆▆▆▇▇▇▇███</td></tr><tr><td>_timestamp</td><td>▁▁▂▂▂▂▃▃▃▄▄▄▄▅▅▅▅▅▆▆▆▆▆▇▇▇▇███</td></tr><tr><td>_step</td><td>▁▁▁▂▂▂▂▃▃▃▃▄▄▄▄▅▅▅▅▆▆▆▆▇▇▇▇███</td></tr></table><br/>"
      ],
      "text/plain": [
       "<IPython.core.display.HTML object>"
      ]
     },
     "metadata": {},
     "output_type": "display_data"
    },
    {
     "data": {
      "text/html": [
       "Synced 5 W&B file(s), 1 media file(s), 0 artifact file(s) and 1 other file(s)"
      ],
      "text/plain": [
       "<IPython.core.display.HTML object>"
      ]
     },
     "metadata": {},
     "output_type": "display_data"
    },
    {
     "data": {
      "text/html": [
       "\n",
       "                    <br/>Synced <strong style=\"color:#cdcd00\">cerulean-pine-5</strong>: <a href=\"https://wandb.ai/liortoledano/covid19-siim-2class-enb7/runs/1cmyfdcc\" target=\"_blank\">https://wandb.ai/liortoledano/covid19-siim-2class-enb7/runs/1cmyfdcc</a><br/>\n",
       "                "
      ],
      "text/plain": [
       "<IPython.core.display.HTML object>"
      ]
     },
     "metadata": {},
     "output_type": "display_data"
    },
    {
     "data": {
      "text/html": [
       "\n",
       "                Tracking run with wandb version 0.11.0<br/>\n",
       "                Syncing run <strong style=\"color:#cdcd00\">jolly-pond-6</strong> to <a href=\"https://wandb.ai\" target=\"_blank\">Weights & Biases</a> <a href=\"https://docs.wandb.com/integrations/jupyter.html\" target=\"_blank\">(Documentation)</a>.<br/>\n",
       "                Project page: <a href=\"https://wandb.ai/liortoledano/covid19-siim-2class-enb7\" target=\"_blank\">https://wandb.ai/liortoledano/covid19-siim-2class-enb7</a><br/>\n",
       "                Run page: <a href=\"https://wandb.ai/liortoledano/covid19-siim-2class-enb7/runs/3fw92iol\" target=\"_blank\">https://wandb.ai/liortoledano/covid19-siim-2class-enb7/runs/3fw92iol</a><br/>\n",
       "                Run data is saved locally in <code>/kaggle/working/wandb/run-20210728_000905-3fw92iol</code><br/><br/>\n",
       "            "
      ],
      "text/plain": [
       "<IPython.core.display.HTML object>"
      ]
     },
     "metadata": {},
     "output_type": "display_data"
    },
    {
     "name": "stdout",
     "output_type": "stream",
     "text": [
      "Model: \"sequential_4\"\n",
      "_________________________________________________________________\n",
      "Layer (type)                 Output Shape              Param #   \n",
      "=================================================================\n",
      "efficientnet-b7 (Functional) (None, 16, 16, 2560)      64097680  \n",
      "_________________________________________________________________\n",
      "global_average_pooling2d_4 ( (None, 2560)              0         \n",
      "_________________________________________________________________\n",
      "dropout_4 (Dropout)          (None, 2560)              0         \n",
      "_________________________________________________________________\n",
      "dense_4 (Dense)              (None, 1)                 2561      \n",
      "=================================================================\n",
      "Total params: 64,100,241\n",
      "Trainable params: 63,789,521\n",
      "Non-trainable params: 310,720\n",
      "_________________________________________________________________\n",
      "Epoch 1/30\n",
      "77/77 [==============================] - 375s 2s/step - loss: 0.6159 - auc_4: 0.6614 - val_loss: 1.4806 - val_auc_4: 0.7516\n",
      "Epoch 2/30\n",
      "77/77 [==============================] - 39s 512ms/step - loss: 0.5274 - auc_4: 0.7730 - val_loss: 0.6892 - val_auc_4: 0.8223\n",
      "Epoch 3/30\n",
      "77/77 [==============================] - 40s 514ms/step - loss: 0.5057 - auc_4: 0.7887 - val_loss: 0.4811 - val_auc_4: 0.8230\n",
      "Epoch 4/30\n",
      "77/77 [==============================] - 39s 513ms/step - loss: 0.4766 - auc_4: 0.8228 - val_loss: 1.1787 - val_auc_4: 0.8003\n",
      "Epoch 5/30\n",
      "77/77 [==============================] - 39s 511ms/step - loss: 0.4471 - auc_4: 0.8411 - val_loss: 0.4586 - val_auc_4: 0.8550\n",
      "Epoch 6/30\n",
      "77/77 [==============================] - 40s 513ms/step - loss: 0.4313 - auc_4: 0.8580 - val_loss: 0.4245 - val_auc_4: 0.8678\n",
      "Epoch 7/30\n",
      "77/77 [==============================] - 40s 515ms/step - loss: 0.4354 - auc_4: 0.8523 - val_loss: 0.4654 - val_auc_4: 0.8676\n",
      "Epoch 8/30\n",
      "77/77 [==============================] - 39s 512ms/step - loss: 0.4376 - auc_4: 0.8532 - val_loss: 0.4831 - val_auc_4: 0.8521\n",
      "Epoch 9/30\n",
      "77/77 [==============================] - 39s 510ms/step - loss: 0.4150 - auc_4: 0.8625 - val_loss: 0.4398 - val_auc_4: 0.8672\n",
      "Epoch 10/30\n",
      "77/77 [==============================] - 39s 510ms/step - loss: 0.4173 - auc_4: 0.8633 - val_loss: 0.4118 - val_auc_4: 0.8799\n",
      "Epoch 11/30\n",
      "77/77 [==============================] - 39s 512ms/step - loss: 0.3675 - auc_4: 0.8992 - val_loss: 0.3974 - val_auc_4: 0.8831\n",
      "Epoch 12/30\n",
      "77/77 [==============================] - 40s 514ms/step - loss: 0.3476 - auc_4: 0.9115 - val_loss: 0.3948 - val_auc_4: 0.8840\n",
      "Epoch 13/30\n",
      "77/77 [==============================] - 40s 516ms/step - loss: 0.3491 - auc_4: 0.9084 - val_loss: 0.3957 - val_auc_4: 0.8887\n",
      "Epoch 14/30\n",
      "77/77 [==============================] - 39s 511ms/step - loss: 0.3344 - auc_4: 0.9148 - val_loss: 0.3876 - val_auc_4: 0.8870\n",
      "Epoch 15/30\n",
      "77/77 [==============================] - 40s 515ms/step - loss: 0.2971 - auc_4: 0.9348 - val_loss: 0.3909 - val_auc_4: 0.8854\n",
      "Epoch 16/30\n",
      "77/77 [==============================] - 40s 514ms/step - loss: 0.3209 - auc_4: 0.9214 - val_loss: 0.4182 - val_auc_4: 0.8808\n",
      "Epoch 17/30\n",
      "77/77 [==============================] - 39s 511ms/step - loss: 0.3108 - auc_4: 0.9303 - val_loss: 0.4206 - val_auc_4: 0.8799\n",
      "Epoch 18/30\n",
      "77/77 [==============================] - 39s 512ms/step - loss: 0.2865 - auc_4: 0.9363 - val_loss: 0.4314 - val_auc_4: 0.8770\n",
      "Epoch 19/30\n",
      "77/77 [==============================] - 40s 518ms/step - loss: 0.2860 - auc_4: 0.9392 - val_loss: 0.4225 - val_auc_4: 0.8818\n",
      "Epoch 20/30\n",
      "77/77 [==============================] - 39s 511ms/step - loss: 0.2760 - auc_4: 0.9437 - val_loss: 0.4181 - val_auc_4: 0.8838\n",
      "Epoch 21/30\n",
      "77/77 [==============================] - 39s 509ms/step - loss: 0.2916 - auc_4: 0.9356 - val_loss: 0.4276 - val_auc_4: 0.8788\n",
      "Epoch 22/30\n",
      "77/77 [==============================] - 39s 510ms/step - loss: 0.2787 - auc_4: 0.9407 - val_loss: 0.4309 - val_auc_4: 0.8805\n",
      "Epoch 23/30\n",
      "77/77 [==============================] - 39s 510ms/step - loss: 0.2945 - auc_4: 0.9344 - val_loss: 0.4308 - val_auc_4: 0.8784\n",
      "Epoch 24/30\n",
      "77/77 [==============================] - 39s 507ms/step - loss: 0.2833 - auc_4: 0.9376 - val_loss: 0.4240 - val_auc_4: 0.8808\n",
      "Epoch 25/30\n",
      "77/77 [==============================] - 39s 508ms/step - loss: 0.2831 - auc_4: 0.9381 - val_loss: 0.4342 - val_auc_4: 0.8776\n",
      "Epoch 26/30\n",
      "77/77 [==============================] - 39s 511ms/step - loss: 0.2900 - auc_4: 0.9364 - val_loss: 0.4289 - val_auc_4: 0.8784\n",
      "Epoch 27/30\n",
      "77/77 [==============================] - 39s 509ms/step - loss: 0.2779 - auc_4: 0.9422 - val_loss: 0.4113 - val_auc_4: 0.8882\n",
      "Epoch 28/30\n",
      "77/77 [==============================] - 43s 556ms/step - loss: 0.2635 - auc_4: 0.9469 - val_loss: 0.4351 - val_auc_4: 0.8773\n",
      "Epoch 29/30\n",
      "77/77 [==============================] - 39s 512ms/step - loss: 0.2916 - auc_4: 0.9365 - val_loss: 0.4290 - val_auc_4: 0.8809\n",
      "Epoch 30/30\n",
      "77/77 [==============================] - 39s 511ms/step - loss: 0.2822 - auc_4: 0.9396 - val_loss: 0.4461 - val_auc_4: 0.8738\n"
     ]
    },
    {
     "data": {
      "text/html": [
       "<br/>Waiting for W&B process to finish, PID 1978<br/>Program ended successfully."
      ],
      "text/plain": [
       "<IPython.core.display.HTML object>"
      ]
     },
     "metadata": {},
     "output_type": "display_data"
    },
    {
     "data": {
      "application/vnd.jupyter.widget-view+json": {
       "model_id": "1062c3574e9c4723ad53ab1f7f6e40fc",
       "version_major": 2,
       "version_minor": 0
      },
      "text/plain": [
       "VBox(children=(Label(value=' 245.28MB of 245.28MB uploaded (0.00MB deduped)\\r'), FloatProgress(value=1.0, max=…"
      ]
     },
     "metadata": {},
     "output_type": "display_data"
    },
    {
     "data": {
      "text/html": [
       "Find user logs for this run at: <code>/kaggle/working/wandb/run-20210728_000905-3fw92iol/logs/debug.log</code>"
      ],
      "text/plain": [
       "<IPython.core.display.HTML object>"
      ]
     },
     "metadata": {},
     "output_type": "display_data"
    },
    {
     "data": {
      "text/html": [
       "Find internal logs for this run at: <code>/kaggle/working/wandb/run-20210728_000905-3fw92iol/logs/debug-internal.log</code>"
      ],
      "text/plain": [
       "<IPython.core.display.HTML object>"
      ]
     },
     "metadata": {},
     "output_type": "display_data"
    },
    {
     "data": {
      "text/html": [
       "<h3>Run summary:</h3><br/><style>\n",
       "    table.wandb td:nth-child(1) { padding: 0 10px; text-align: right }\n",
       "    </style><table class=\"wandb\">\n",
       "<tr><td>epoch</td><td>29</td></tr><tr><td>loss</td><td>0.27764</td></tr><tr><td>auc_4</td><td>0.94195</td></tr><tr><td>val_loss</td><td>0.44612</td></tr><tr><td>val_auc_4</td><td>0.87382</td></tr><tr><td>lr</td><td>0.0</td></tr><tr><td>_runtime</td><td>1802</td></tr><tr><td>_timestamp</td><td>1627432747</td></tr><tr><td>_step</td><td>29</td></tr><tr><td>best_val_loss</td><td>0.38764</td></tr><tr><td>best_epoch</td><td>13</td></tr></table>"
      ],
      "text/plain": [
       "<IPython.core.display.HTML object>"
      ]
     },
     "metadata": {},
     "output_type": "display_data"
    },
    {
     "data": {
      "text/html": [
       "<h3>Run history:</h3><br/><style>\n",
       "    table.wandb td:nth-child(1) { padding: 0 10px; text-align: right }\n",
       "    </style><table class=\"wandb\">\n",
       "<tr><td>epoch</td><td>▁▁▁▂▂▂▂▃▃▃▃▄▄▄▄▅▅▅▅▆▆▆▆▇▇▇▇███</td></tr><tr><td>loss</td><td>█▇▆▆▅▅▅▅▄▄▃▃▃▃▂▂▂▁▁▁▁▁▁▁▁▁▁▁▁▁</td></tr><tr><td>auc_4</td><td>▁▃▄▄▅▅▅▅▆▆▇▇▇▇▇███████████████</td></tr><tr><td>val_loss</td><td>█▃▂▆▁▁▁▂▁▁▁▁▁▁▁▁▁▁▁▁▁▁▁▁▁▁▁▁▁▁</td></tr><tr><td>val_auc_4</td><td>▁▅▅▃▆▇▇▆▇████████▇██▇█▇█▇▇█▇█▇</td></tr><tr><td>lr</td><td>█████████▂▂▂▂▂▂▂▂▁▁▁▁▁▁▁▁▁▁▁▁▁</td></tr><tr><td>_runtime</td><td>▁▁▂▂▂▃▃▃▃▄▄▄▄▅▅▅▅▆▆▆▆▆▇▇▇▇▇███</td></tr><tr><td>_timestamp</td><td>▁▁▂▂▂▃▃▃▃▄▄▄▄▅▅▅▅▆▆▆▆▆▇▇▇▇▇███</td></tr><tr><td>_step</td><td>▁▁▁▂▂▂▂▃▃▃▃▄▄▄▄▅▅▅▅▆▆▆▆▇▇▇▇███</td></tr></table><br/>"
      ],
      "text/plain": [
       "<IPython.core.display.HTML object>"
      ]
     },
     "metadata": {},
     "output_type": "display_data"
    },
    {
     "data": {
      "text/html": [
       "Synced 5 W&B file(s), 1 media file(s), 0 artifact file(s) and 1 other file(s)"
      ],
      "text/plain": [
       "<IPython.core.display.HTML object>"
      ]
     },
     "metadata": {},
     "output_type": "display_data"
    },
    {
     "data": {
      "text/html": [
       "\n",
       "                    <br/>Synced <strong style=\"color:#cdcd00\">jolly-pond-6</strong>: <a href=\"https://wandb.ai/liortoledano/covid19-siim-2class-enb7/runs/3fw92iol\" target=\"_blank\">https://wandb.ai/liortoledano/covid19-siim-2class-enb7/runs/3fw92iol</a><br/>\n",
       "                "
      ],
      "text/plain": [
       "<IPython.core.display.HTML object>"
      ]
     },
     "metadata": {},
     "output_type": "display_data"
    }
   ],
   "source": [
    "for i in range(5):\n",
    "    \n",
    "    config={\n",
    "        \"fold\": i,\n",
    "        \"start_lr\": 1e-3,\n",
    "        \"min_lr\":1e-6,\n",
    "        \"epoch\": 30,\n",
    "        \"batch_size\": BATCH_SIZE,\n",
    "        \"IMG_SIZE\": IMSIZE[IMS]\n",
    "    }\n",
    "    wandb.init(project=\"covid19-siim-2class-enb7\", config=config)\n",
    "    \n",
    "    valid_paths = load_dir + df[df['fold'] == i]['id'] + '.png' #\"/train/\"\n",
    "    train_paths = load_dir + df[df['fold'] != i]['id'] + '.png' #\"/train/\" \n",
    "    valid_labels = df[df['fold'] == i]['none'].values\n",
    "    train_labels = df[df['fold'] != i]['none'].values\n",
    "\n",
    "    \n",
    "\n",
    "    decoder = build_decoder(with_labels=True, target_size=(IMSIZE[IMS], IMSIZE[IMS]), ext='png')\n",
    "    test_decoder = build_decoder(with_labels=False, target_size=(IMSIZE[IMS], IMSIZE[IMS]),ext='png')\n",
    "\n",
    "    train_dataset = build_dataset(\n",
    "        train_paths, train_labels, bsize=BATCH_SIZE, decode_fn=decoder\n",
    "        # sequence augment\n",
    "        #, augment=False\n",
    "    )\n",
    "\n",
    "    valid_dataset = build_dataset(\n",
    "        valid_paths, valid_labels, bsize=BATCH_SIZE, decode_fn=decoder,\n",
    "        repeat=False, shuffle=False, augment=False\n",
    "    )\n",
    "\n",
    "    try:\n",
    "        n_labels = train_labels.shape[1]\n",
    "    except:\n",
    "        n_labels = 1\n",
    "\n",
    "    with strategy.scope():\n",
    "        model = tf.keras.Sequential([\n",
    "            \n",
    "            efn.EfficientNetB7(\n",
    "                input_shape=(IMSIZE[IMS], IMSIZE[IMS], 3),\n",
    "                weights='noisy-student',\n",
    "                include_top=False),\n",
    "            tf.keras.layers.GlobalAveragePooling2D(),\n",
    "            tf.keras.layers.Dropout(0.4),\n",
    "            tf.keras.layers.Dense(n_labels, activation='sigmoid')\n",
    "        ])\n",
    "        model.compile(\n",
    "            optimizer=tf.keras.optimizers.Adam(),\n",
    "            #optimizer = tfa.optimizers.RectifiedAdam(learning_rate=config['start_lr']),\n",
    "            #optimizer=tfa.optimizers.Lookahead(\n",
    "            #    #tf.keras.optimizers.Adam(learning_rate=config['start_lr']),\n",
    "            #    tfa.optimizers.RectifiedAdam(learning_rate=config['start_lr']),\n",
    "            #    sync_period=6,\n",
    "            #    slow_step_size=0.5\n",
    "            #),\n",
    "            loss='binary_crossentropy',\n",
    "            metrics=[tf.keras.metrics.AUC(multi_label=True)])\n",
    "            #metrics=[tf.keras.metrics.AUC()])\n",
    "\n",
    "        model.summary()\n",
    "\n",
    "\n",
    "    steps_per_epoch = train_paths.shape[0] // BATCH_SIZE\n",
    "    checkpoint = tf.keras.callbacks.ModelCheckpoint(\n",
    "        f'model{i}.h5', save_best_only=True, monitor='val_loss', mode='min')\n",
    "    lr_reducer = tf.keras.callbacks.ReduceLROnPlateau(\n",
    "        monitor=\"val_loss\", patience=3, min_lr=config[\"min_lr\"], mode='min')\n",
    "\n",
    "    history = model.fit(\n",
    "        train_dataset, \n",
    "        epochs=config[\"epoch\"],\n",
    "        verbose=1,\n",
    "        callbacks=[checkpoint, lr_reducer, WandbCallback()],\n",
    "        steps_per_epoch=steps_per_epoch,\n",
    "        validation_data=valid_dataset)\n",
    "\n",
    "    hist_df = pd.DataFrame(history.history)\n",
    "    hist_df.to_csv(f'history{i}.csv')\n",
    "    wandb.finish()"
   ]
  }
 ],
 "metadata": {
  "kernelspec": {
   "display_name": "Python 3",
   "language": "python",
   "name": "python3"
  },
  "language_info": {
   "codemirror_mode": {
    "name": "ipython",
    "version": 3
   },
   "file_extension": ".py",
   "mimetype": "text/x-python",
   "name": "python",
   "nbconvert_exporter": "python",
   "pygments_lexer": "ipython3",
   "version": "3.8.5"
  },
  "papermill": {
   "default_parameters": {},
   "duration": 8997.316991,
   "end_time": "2021-07-28T00:39:35.951343",
   "environment_variables": {},
   "exception": null,
   "input_path": "__notebook__.ipynb",
   "output_path": "__notebook__.ipynb",
   "parameters": {},
   "start_time": "2021-07-27T22:09:38.634352",
   "version": "2.3.3"
  },
  "widgets": {
   "application/vnd.jupyter.widget-state+json": {
    "state": {
     "03f080e2876848019922edbf6f1961f3": {
      "model_module": "@jupyter-widgets/controls",
      "model_module_version": "1.5.0",
      "model_name": "ProgressStyleModel",
      "state": {
       "_model_module": "@jupyter-widgets/controls",
       "_model_module_version": "1.5.0",
       "_model_name": "ProgressStyleModel",
       "_view_count": null,
       "_view_module": "@jupyter-widgets/base",
       "_view_module_version": "1.2.0",
       "_view_name": "StyleView",
       "bar_color": null,
       "description_width": ""
      }
     },
     "1062c3574e9c4723ad53ab1f7f6e40fc": {
      "model_module": "@jupyter-widgets/controls",
      "model_module_version": "1.5.0",
      "model_name": "VBoxModel",
      "state": {
       "_dom_classes": [],
       "_model_module": "@jupyter-widgets/controls",
       "_model_module_version": "1.5.0",
       "_model_name": "VBoxModel",
       "_view_count": null,
       "_view_module": "@jupyter-widgets/controls",
       "_view_module_version": "1.5.0",
       "_view_name": "VBoxView",
       "box_style": "",
       "children": [
        "IPY_MODEL_b68cc18fdc6f4b539da568fe13612d62",
        "IPY_MODEL_76303a0ed1b24e77955e3368bdefade0"
       ],
       "layout": "IPY_MODEL_32bdec63aa1f4f3c8cbc80d679934e9c"
      }
     },
     "11616202351844ea98680d759994af3a": {
      "model_module": "@jupyter-widgets/controls",
      "model_module_version": "1.5.0",
      "model_name": "VBoxModel",
      "state": {
       "_dom_classes": [],
       "_model_module": "@jupyter-widgets/controls",
       "_model_module_version": "1.5.0",
       "_model_name": "VBoxModel",
       "_view_count": null,
       "_view_module": "@jupyter-widgets/controls",
       "_view_module_version": "1.5.0",
       "_view_name": "VBoxView",
       "box_style": "",
       "children": [
        "IPY_MODEL_ef19ab13ca2343cd98a84a8926e6258a",
        "IPY_MODEL_862b15d606de443fb114b8f2414676ab"
       ],
       "layout": "IPY_MODEL_9a8c4db12d024c3b9fc165d7e7b5d86b"
      }
     },
     "184d4214774c4d92a85f332e23c447b4": {
      "model_module": "@jupyter-widgets/controls",
      "model_module_version": "1.5.0",
      "model_name": "ProgressStyleModel",
      "state": {
       "_model_module": "@jupyter-widgets/controls",
       "_model_module_version": "1.5.0",
       "_model_name": "ProgressStyleModel",
       "_view_count": null,
       "_view_module": "@jupyter-widgets/base",
       "_view_module_version": "1.2.0",
       "_view_name": "StyleView",
       "bar_color": null,
       "description_width": ""
      }
     },
     "1dd1f797c08d462aba8d477eb44d7970": {
      "model_module": "@jupyter-widgets/controls",
      "model_module_version": "1.5.0",
      "model_name": "LabelModel",
      "state": {
       "_dom_classes": [],
       "_model_module": "@jupyter-widgets/controls",
       "_model_module_version": "1.5.0",
       "_model_name": "LabelModel",
       "_view_count": null,
       "_view_module": "@jupyter-widgets/controls",
       "_view_module_version": "1.5.0",
       "_view_name": "LabelView",
       "description": "",
       "description_tooltip": null,
       "layout": "IPY_MODEL_32ca0538bffc4afab4cbc1900c91af34",
       "placeholder": "​",
       "style": "IPY_MODEL_abac65c377294d83b5ff417795bf39f5",
       "value": " 734.02MB of 734.02MB uploaded (0.00MB deduped)\r"
      }
     },
     "26357fe9923c41e388ddac88c9af66f0": {
      "model_module": "@jupyter-widgets/base",
      "model_module_version": "1.2.0",
      "model_name": "LayoutModel",
      "state": {
       "_model_module": "@jupyter-widgets/base",
       "_model_module_version": "1.2.0",
       "_model_name": "LayoutModel",
       "_view_count": null,
       "_view_module": "@jupyter-widgets/base",
       "_view_module_version": "1.2.0",
       "_view_name": "LayoutView",
       "align_content": null,
       "align_items": null,
       "align_self": null,
       "border": null,
       "bottom": null,
       "display": null,
       "flex": null,
       "flex_flow": null,
       "grid_area": null,
       "grid_auto_columns": null,
       "grid_auto_flow": null,
       "grid_auto_rows": null,
       "grid_column": null,
       "grid_gap": null,
       "grid_row": null,
       "grid_template_areas": null,
       "grid_template_columns": null,
       "grid_template_rows": null,
       "height": null,
       "justify_content": null,
       "justify_items": null,
       "left": null,
       "margin": null,
       "max_height": null,
       "max_width": null,
       "min_height": null,
       "min_width": null,
       "object_fit": null,
       "object_position": null,
       "order": null,
       "overflow": null,
       "overflow_x": null,
       "overflow_y": null,
       "padding": null,
       "right": null,
       "top": null,
       "visibility": null,
       "width": null
      }
     },
     "29124dc31e9b47909703a3010d4a4290": {
      "model_module": "@jupyter-widgets/controls",
      "model_module_version": "1.5.0",
      "model_name": "ProgressStyleModel",
      "state": {
       "_model_module": "@jupyter-widgets/controls",
       "_model_module_version": "1.5.0",
       "_model_name": "ProgressStyleModel",
       "_view_count": null,
       "_view_module": "@jupyter-widgets/base",
       "_view_module_version": "1.2.0",
       "_view_name": "StyleView",
       "bar_color": null,
       "description_width": ""
      }
     },
     "32bdec63aa1f4f3c8cbc80d679934e9c": {
      "model_module": "@jupyter-widgets/base",
      "model_module_version": "1.2.0",
      "model_name": "LayoutModel",
      "state": {
       "_model_module": "@jupyter-widgets/base",
       "_model_module_version": "1.2.0",
       "_model_name": "LayoutModel",
       "_view_count": null,
       "_view_module": "@jupyter-widgets/base",
       "_view_module_version": "1.2.0",
       "_view_name": "LayoutView",
       "align_content": null,
       "align_items": null,
       "align_self": null,
       "border": null,
       "bottom": null,
       "display": null,
       "flex": null,
       "flex_flow": null,
       "grid_area": null,
       "grid_auto_columns": null,
       "grid_auto_flow": null,
       "grid_auto_rows": null,
       "grid_column": null,
       "grid_gap": null,
       "grid_row": null,
       "grid_template_areas": null,
       "grid_template_columns": null,
       "grid_template_rows": null,
       "height": null,
       "justify_content": null,
       "justify_items": null,
       "left": null,
       "margin": null,
       "max_height": null,
       "max_width": null,
       "min_height": null,
       "min_width": null,
       "object_fit": null,
       "object_position": null,
       "order": null,
       "overflow": null,
       "overflow_x": null,
       "overflow_y": null,
       "padding": null,
       "right": null,
       "top": null,
       "visibility": null,
       "width": null
      }
     },
     "32ca0538bffc4afab4cbc1900c91af34": {
      "model_module": "@jupyter-widgets/base",
      "model_module_version": "1.2.0",
      "model_name": "LayoutModel",
      "state": {
       "_model_module": "@jupyter-widgets/base",
       "_model_module_version": "1.2.0",
       "_model_name": "LayoutModel",
       "_view_count": null,
       "_view_module": "@jupyter-widgets/base",
       "_view_module_version": "1.2.0",
       "_view_name": "LayoutView",
       "align_content": null,
       "align_items": null,
       "align_self": null,
       "border": null,
       "bottom": null,
       "display": null,
       "flex": null,
       "flex_flow": null,
       "grid_area": null,
       "grid_auto_columns": null,
       "grid_auto_flow": null,
       "grid_auto_rows": null,
       "grid_column": null,
       "grid_gap": null,
       "grid_row": null,
       "grid_template_areas": null,
       "grid_template_columns": null,
       "grid_template_rows": null,
       "height": null,
       "justify_content": null,
       "justify_items": null,
       "left": null,
       "margin": null,
       "max_height": null,
       "max_width": null,
       "min_height": null,
       "min_width": null,
       "object_fit": null,
       "object_position": null,
       "order": null,
       "overflow": null,
       "overflow_x": null,
       "overflow_y": null,
       "padding": null,
       "right": null,
       "top": null,
       "visibility": null,
       "width": null
      }
     },
     "342120c1151a4669a028c4714d3c81bb": {
      "model_module": "@jupyter-widgets/base",
      "model_module_version": "1.2.0",
      "model_name": "LayoutModel",
      "state": {
       "_model_module": "@jupyter-widgets/base",
       "_model_module_version": "1.2.0",
       "_model_name": "LayoutModel",
       "_view_count": null,
       "_view_module": "@jupyter-widgets/base",
       "_view_module_version": "1.2.0",
       "_view_name": "LayoutView",
       "align_content": null,
       "align_items": null,
       "align_self": null,
       "border": null,
       "bottom": null,
       "display": null,
       "flex": null,
       "flex_flow": null,
       "grid_area": null,
       "grid_auto_columns": null,
       "grid_auto_flow": null,
       "grid_auto_rows": null,
       "grid_column": null,
       "grid_gap": null,
       "grid_row": null,
       "grid_template_areas": null,
       "grid_template_columns": null,
       "grid_template_rows": null,
       "height": null,
       "justify_content": null,
       "justify_items": null,
       "left": null,
       "margin": null,
       "max_height": null,
       "max_width": null,
       "min_height": null,
       "min_width": null,
       "object_fit": null,
       "object_position": null,
       "order": null,
       "overflow": null,
       "overflow_x": null,
       "overflow_y": null,
       "padding": null,
       "right": null,
       "top": null,
       "visibility": null,
       "width": null
      }
     },
     "402f12caec6146bc9935c5350e7bbc35": {
      "model_module": "@jupyter-widgets/controls",
      "model_module_version": "1.5.0",
      "model_name": "DescriptionStyleModel",
      "state": {
       "_model_module": "@jupyter-widgets/controls",
       "_model_module_version": "1.5.0",
       "_model_name": "DescriptionStyleModel",
       "_view_count": null,
       "_view_module": "@jupyter-widgets/base",
       "_view_module_version": "1.2.0",
       "_view_name": "StyleView",
       "description_width": ""
      }
     },
     "4516efcc5b68447cb18cbc6f61cdf2bb": {
      "model_module": "@jupyter-widgets/controls",
      "model_module_version": "1.5.0",
      "model_name": "FloatProgressModel",
      "state": {
       "_dom_classes": [],
       "_model_module": "@jupyter-widgets/controls",
       "_model_module_version": "1.5.0",
       "_model_name": "FloatProgressModel",
       "_view_count": null,
       "_view_module": "@jupyter-widgets/controls",
       "_view_module_version": "1.5.0",
       "_view_name": "ProgressView",
       "bar_style": "",
       "description": "",
       "description_tooltip": null,
       "layout": "IPY_MODEL_55c2033e991a496fbdaf10e505d79786",
       "max": 1,
       "min": 0,
       "orientation": "horizontal",
       "style": "IPY_MODEL_46c2ca49075048389327d5cd165073e3",
       "value": 1
      }
     },
     "46c2ca49075048389327d5cd165073e3": {
      "model_module": "@jupyter-widgets/controls",
      "model_module_version": "1.5.0",
      "model_name": "ProgressStyleModel",
      "state": {
       "_model_module": "@jupyter-widgets/controls",
       "_model_module_version": "1.5.0",
       "_model_name": "ProgressStyleModel",
       "_view_count": null,
       "_view_module": "@jupyter-widgets/base",
       "_view_module_version": "1.2.0",
       "_view_name": "StyleView",
       "bar_color": null,
       "description_width": ""
      }
     },
     "4bffd565a4c6442ea38d39578a80f8d3": {
      "model_module": "@jupyter-widgets/controls",
      "model_module_version": "1.5.0",
      "model_name": "DescriptionStyleModel",
      "state": {
       "_model_module": "@jupyter-widgets/controls",
       "_model_module_version": "1.5.0",
       "_model_name": "DescriptionStyleModel",
       "_view_count": null,
       "_view_module": "@jupyter-widgets/base",
       "_view_module_version": "1.2.0",
       "_view_name": "StyleView",
       "description_width": ""
      }
     },
     "55c2033e991a496fbdaf10e505d79786": {
      "model_module": "@jupyter-widgets/base",
      "model_module_version": "1.2.0",
      "model_name": "LayoutModel",
      "state": {
       "_model_module": "@jupyter-widgets/base",
       "_model_module_version": "1.2.0",
       "_model_name": "LayoutModel",
       "_view_count": null,
       "_view_module": "@jupyter-widgets/base",
       "_view_module_version": "1.2.0",
       "_view_name": "LayoutView",
       "align_content": null,
       "align_items": null,
       "align_self": null,
       "border": null,
       "bottom": null,
       "display": null,
       "flex": null,
       "flex_flow": null,
       "grid_area": null,
       "grid_auto_columns": null,
       "grid_auto_flow": null,
       "grid_auto_rows": null,
       "grid_column": null,
       "grid_gap": null,
       "grid_row": null,
       "grid_template_areas": null,
       "grid_template_columns": null,
       "grid_template_rows": null,
       "height": null,
       "justify_content": null,
       "justify_items": null,
       "left": null,
       "margin": null,
       "max_height": null,
       "max_width": null,
       "min_height": null,
       "min_width": null,
       "object_fit": null,
       "object_position": null,
       "order": null,
       "overflow": null,
       "overflow_x": null,
       "overflow_y": null,
       "padding": null,
       "right": null,
       "top": null,
       "visibility": null,
       "width": null
      }
     },
     "60eb580c9f074737985ed46c28f5ed92": {
      "model_module": "@jupyter-widgets/base",
      "model_module_version": "1.2.0",
      "model_name": "LayoutModel",
      "state": {
       "_model_module": "@jupyter-widgets/base",
       "_model_module_version": "1.2.0",
       "_model_name": "LayoutModel",
       "_view_count": null,
       "_view_module": "@jupyter-widgets/base",
       "_view_module_version": "1.2.0",
       "_view_name": "LayoutView",
       "align_content": null,
       "align_items": null,
       "align_self": null,
       "border": null,
       "bottom": null,
       "display": null,
       "flex": null,
       "flex_flow": null,
       "grid_area": null,
       "grid_auto_columns": null,
       "grid_auto_flow": null,
       "grid_auto_rows": null,
       "grid_column": null,
       "grid_gap": null,
       "grid_row": null,
       "grid_template_areas": null,
       "grid_template_columns": null,
       "grid_template_rows": null,
       "height": null,
       "justify_content": null,
       "justify_items": null,
       "left": null,
       "margin": null,
       "max_height": null,
       "max_width": null,
       "min_height": null,
       "min_width": null,
       "object_fit": null,
       "object_position": null,
       "order": null,
       "overflow": null,
       "overflow_x": null,
       "overflow_y": null,
       "padding": null,
       "right": null,
       "top": null,
       "visibility": null,
       "width": null
      }
     },
     "66da682c46ba4630aac31a91aa82d8c0": {
      "model_module": "@jupyter-widgets/controls",
      "model_module_version": "1.5.0",
      "model_name": "LabelModel",
      "state": {
       "_dom_classes": [],
       "_model_module": "@jupyter-widgets/controls",
       "_model_module_version": "1.5.0",
       "_model_name": "LabelModel",
       "_view_count": null,
       "_view_module": "@jupyter-widgets/controls",
       "_view_module_version": "1.5.0",
       "_view_name": "LabelView",
       "description": "",
       "description_tooltip": null,
       "layout": "IPY_MODEL_698c048d6dbe4b9eaaa1aa91fee6c6fe",
       "placeholder": "​",
       "style": "IPY_MODEL_c3a62cc11ac349f680b33ffb3d6c3557",
       "value": " 734.02MB of 734.02MB uploaded (0.00MB deduped)\r"
      }
     },
     "698c048d6dbe4b9eaaa1aa91fee6c6fe": {
      "model_module": "@jupyter-widgets/base",
      "model_module_version": "1.2.0",
      "model_name": "LayoutModel",
      "state": {
       "_model_module": "@jupyter-widgets/base",
       "_model_module_version": "1.2.0",
       "_model_name": "LayoutModel",
       "_view_count": null,
       "_view_module": "@jupyter-widgets/base",
       "_view_module_version": "1.2.0",
       "_view_name": "LayoutView",
       "align_content": null,
       "align_items": null,
       "align_self": null,
       "border": null,
       "bottom": null,
       "display": null,
       "flex": null,
       "flex_flow": null,
       "grid_area": null,
       "grid_auto_columns": null,
       "grid_auto_flow": null,
       "grid_auto_rows": null,
       "grid_column": null,
       "grid_gap": null,
       "grid_row": null,
       "grid_template_areas": null,
       "grid_template_columns": null,
       "grid_template_rows": null,
       "height": null,
       "justify_content": null,
       "justify_items": null,
       "left": null,
       "margin": null,
       "max_height": null,
       "max_width": null,
       "min_height": null,
       "min_width": null,
       "object_fit": null,
       "object_position": null,
       "order": null,
       "overflow": null,
       "overflow_x": null,
       "overflow_y": null,
       "padding": null,
       "right": null,
       "top": null,
       "visibility": null,
       "width": null
      }
     },
     "6a5e0c634bba44d8a59f5261b8714d38": {
      "model_module": "@jupyter-widgets/controls",
      "model_module_version": "1.5.0",
      "model_name": "FloatProgressModel",
      "state": {
       "_dom_classes": [],
       "_model_module": "@jupyter-widgets/controls",
       "_model_module_version": "1.5.0",
       "_model_name": "FloatProgressModel",
       "_view_count": null,
       "_view_module": "@jupyter-widgets/controls",
       "_view_module_version": "1.5.0",
       "_view_name": "ProgressView",
       "bar_style": "",
       "description": "",
       "description_tooltip": null,
       "layout": "IPY_MODEL_b97337ca207648ee86b5ac3d5d87eefb",
       "max": 1,
       "min": 0,
       "orientation": "horizontal",
       "style": "IPY_MODEL_760134b8305d4af0a3c69de21fe5a540",
       "value": 1
      }
     },
     "760134b8305d4af0a3c69de21fe5a540": {
      "model_module": "@jupyter-widgets/controls",
      "model_module_version": "1.5.0",
      "model_name": "ProgressStyleModel",
      "state": {
       "_model_module": "@jupyter-widgets/controls",
       "_model_module_version": "1.5.0",
       "_model_name": "ProgressStyleModel",
       "_view_count": null,
       "_view_module": "@jupyter-widgets/base",
       "_view_module_version": "1.2.0",
       "_view_name": "StyleView",
       "bar_color": null,
       "description_width": ""
      }
     },
     "76303a0ed1b24e77955e3368bdefade0": {
      "model_module": "@jupyter-widgets/controls",
      "model_module_version": "1.5.0",
      "model_name": "FloatProgressModel",
      "state": {
       "_dom_classes": [],
       "_model_module": "@jupyter-widgets/controls",
       "_model_module_version": "1.5.0",
       "_model_name": "FloatProgressModel",
       "_view_count": null,
       "_view_module": "@jupyter-widgets/controls",
       "_view_module_version": "1.5.0",
       "_view_name": "ProgressView",
       "bar_style": "",
       "description": "",
       "description_tooltip": null,
       "layout": "IPY_MODEL_a65e7ca1d0e94d3caf9014ca2e7e865e",
       "max": 1,
       "min": 0,
       "orientation": "horizontal",
       "style": "IPY_MODEL_184d4214774c4d92a85f332e23c447b4",
       "value": 1
      }
     },
     "862b15d606de443fb114b8f2414676ab": {
      "model_module": "@jupyter-widgets/controls",
      "model_module_version": "1.5.0",
      "model_name": "FloatProgressModel",
      "state": {
       "_dom_classes": [],
       "_model_module": "@jupyter-widgets/controls",
       "_model_module_version": "1.5.0",
       "_model_name": "FloatProgressModel",
       "_view_count": null,
       "_view_module": "@jupyter-widgets/controls",
       "_view_module_version": "1.5.0",
       "_view_name": "ProgressView",
       "bar_style": "",
       "description": "",
       "description_tooltip": null,
       "layout": "IPY_MODEL_60eb580c9f074737985ed46c28f5ed92",
       "max": 1,
       "min": 0,
       "orientation": "horizontal",
       "style": "IPY_MODEL_03f080e2876848019922edbf6f1961f3",
       "value": 1
      }
     },
     "887a0f13611848fbac6737266da9f71b": {
      "model_module": "@jupyter-widgets/controls",
      "model_module_version": "1.5.0",
      "model_name": "VBoxModel",
      "state": {
       "_dom_classes": [],
       "_model_module": "@jupyter-widgets/controls",
       "_model_module_version": "1.5.0",
       "_model_name": "VBoxModel",
       "_view_count": null,
       "_view_module": "@jupyter-widgets/controls",
       "_view_module_version": "1.5.0",
       "_view_name": "VBoxView",
       "box_style": "",
       "children": [
        "IPY_MODEL_d93ee1bbba88488db45dd788f9077dfb",
        "IPY_MODEL_4516efcc5b68447cb18cbc6f61cdf2bb"
       ],
       "layout": "IPY_MODEL_f57de8a80ff842b0bf5af22ea716a963"
      }
     },
     "9a8c4db12d024c3b9fc165d7e7b5d86b": {
      "model_module": "@jupyter-widgets/base",
      "model_module_version": "1.2.0",
      "model_name": "LayoutModel",
      "state": {
       "_model_module": "@jupyter-widgets/base",
       "_model_module_version": "1.2.0",
       "_model_name": "LayoutModel",
       "_view_count": null,
       "_view_module": "@jupyter-widgets/base",
       "_view_module_version": "1.2.0",
       "_view_name": "LayoutView",
       "align_content": null,
       "align_items": null,
       "align_self": null,
       "border": null,
       "bottom": null,
       "display": null,
       "flex": null,
       "flex_flow": null,
       "grid_area": null,
       "grid_auto_columns": null,
       "grid_auto_flow": null,
       "grid_auto_rows": null,
       "grid_column": null,
       "grid_gap": null,
       "grid_row": null,
       "grid_template_areas": null,
       "grid_template_columns": null,
       "grid_template_rows": null,
       "height": null,
       "justify_content": null,
       "justify_items": null,
       "left": null,
       "margin": null,
       "max_height": null,
       "max_width": null,
       "min_height": null,
       "min_width": null,
       "object_fit": null,
       "object_position": null,
       "order": null,
       "overflow": null,
       "overflow_x": null,
       "overflow_y": null,
       "padding": null,
       "right": null,
       "top": null,
       "visibility": null,
       "width": null
      }
     },
     "a65e7ca1d0e94d3caf9014ca2e7e865e": {
      "model_module": "@jupyter-widgets/base",
      "model_module_version": "1.2.0",
      "model_name": "LayoutModel",
      "state": {
       "_model_module": "@jupyter-widgets/base",
       "_model_module_version": "1.2.0",
       "_model_name": "LayoutModel",
       "_view_count": null,
       "_view_module": "@jupyter-widgets/base",
       "_view_module_version": "1.2.0",
       "_view_name": "LayoutView",
       "align_content": null,
       "align_items": null,
       "align_self": null,
       "border": null,
       "bottom": null,
       "display": null,
       "flex": null,
       "flex_flow": null,
       "grid_area": null,
       "grid_auto_columns": null,
       "grid_auto_flow": null,
       "grid_auto_rows": null,
       "grid_column": null,
       "grid_gap": null,
       "grid_row": null,
       "grid_template_areas": null,
       "grid_template_columns": null,
       "grid_template_rows": null,
       "height": null,
       "justify_content": null,
       "justify_items": null,
       "left": null,
       "margin": null,
       "max_height": null,
       "max_width": null,
       "min_height": null,
       "min_width": null,
       "object_fit": null,
       "object_position": null,
       "order": null,
       "overflow": null,
       "overflow_x": null,
       "overflow_y": null,
       "padding": null,
       "right": null,
       "top": null,
       "visibility": null,
       "width": null
      }
     },
     "abac65c377294d83b5ff417795bf39f5": {
      "model_module": "@jupyter-widgets/controls",
      "model_module_version": "1.5.0",
      "model_name": "DescriptionStyleModel",
      "state": {
       "_model_module": "@jupyter-widgets/controls",
       "_model_module_version": "1.5.0",
       "_model_name": "DescriptionStyleModel",
       "_view_count": null,
       "_view_module": "@jupyter-widgets/base",
       "_view_module_version": "1.2.0",
       "_view_name": "StyleView",
       "description_width": ""
      }
     },
     "b68cc18fdc6f4b539da568fe13612d62": {
      "model_module": "@jupyter-widgets/controls",
      "model_module_version": "1.5.0",
      "model_name": "LabelModel",
      "state": {
       "_dom_classes": [],
       "_model_module": "@jupyter-widgets/controls",
       "_model_module_version": "1.5.0",
       "_model_name": "LabelModel",
       "_view_count": null,
       "_view_module": "@jupyter-widgets/controls",
       "_view_module_version": "1.5.0",
       "_view_name": "LabelView",
       "description": "",
       "description_tooltip": null,
       "layout": "IPY_MODEL_26357fe9923c41e388ddac88c9af66f0",
       "placeholder": "​",
       "style": "IPY_MODEL_c72d9ada6527492987c027a0698a3e99",
       "value": " 734.02MB of 734.02MB uploaded (0.00MB deduped)\r"
      }
     },
     "b68f19396aa24450b9d80a8f1202c5b7": {
      "model_module": "@jupyter-widgets/controls",
      "model_module_version": "1.5.0",
      "model_name": "VBoxModel",
      "state": {
       "_dom_classes": [],
       "_model_module": "@jupyter-widgets/controls",
       "_model_module_version": "1.5.0",
       "_model_name": "VBoxModel",
       "_view_count": null,
       "_view_module": "@jupyter-widgets/controls",
       "_view_module_version": "1.5.0",
       "_view_name": "VBoxView",
       "box_style": "",
       "children": [
        "IPY_MODEL_66da682c46ba4630aac31a91aa82d8c0",
        "IPY_MODEL_f99a1085cdc945eaa742bd0f7aca0167"
       ],
       "layout": "IPY_MODEL_fb2836b1440f449282ac0fcfd1a742b1"
      }
     },
     "b97337ca207648ee86b5ac3d5d87eefb": {
      "model_module": "@jupyter-widgets/base",
      "model_module_version": "1.2.0",
      "model_name": "LayoutModel",
      "state": {
       "_model_module": "@jupyter-widgets/base",
       "_model_module_version": "1.2.0",
       "_model_name": "LayoutModel",
       "_view_count": null,
       "_view_module": "@jupyter-widgets/base",
       "_view_module_version": "1.2.0",
       "_view_name": "LayoutView",
       "align_content": null,
       "align_items": null,
       "align_self": null,
       "border": null,
       "bottom": null,
       "display": null,
       "flex": null,
       "flex_flow": null,
       "grid_area": null,
       "grid_auto_columns": null,
       "grid_auto_flow": null,
       "grid_auto_rows": null,
       "grid_column": null,
       "grid_gap": null,
       "grid_row": null,
       "grid_template_areas": null,
       "grid_template_columns": null,
       "grid_template_rows": null,
       "height": null,
       "justify_content": null,
       "justify_items": null,
       "left": null,
       "margin": null,
       "max_height": null,
       "max_width": null,
       "min_height": null,
       "min_width": null,
       "object_fit": null,
       "object_position": null,
       "order": null,
       "overflow": null,
       "overflow_x": null,
       "overflow_y": null,
       "padding": null,
       "right": null,
       "top": null,
       "visibility": null,
       "width": null
      }
     },
     "c1872c28d35749d3a677d8ddfeeb0a51": {
      "model_module": "@jupyter-widgets/controls",
      "model_module_version": "1.5.0",
      "model_name": "VBoxModel",
      "state": {
       "_dom_classes": [],
       "_model_module": "@jupyter-widgets/controls",
       "_model_module_version": "1.5.0",
       "_model_name": "VBoxModel",
       "_view_count": null,
       "_view_module": "@jupyter-widgets/controls",
       "_view_module_version": "1.5.0",
       "_view_name": "VBoxView",
       "box_style": "",
       "children": [
        "IPY_MODEL_1dd1f797c08d462aba8d477eb44d7970",
        "IPY_MODEL_6a5e0c634bba44d8a59f5261b8714d38"
       ],
       "layout": "IPY_MODEL_d792f3c2a7df4dbea475b666e09d80b1"
      }
     },
     "c3a62cc11ac349f680b33ffb3d6c3557": {
      "model_module": "@jupyter-widgets/controls",
      "model_module_version": "1.5.0",
      "model_name": "DescriptionStyleModel",
      "state": {
       "_model_module": "@jupyter-widgets/controls",
       "_model_module_version": "1.5.0",
       "_model_name": "DescriptionStyleModel",
       "_view_count": null,
       "_view_module": "@jupyter-widgets/base",
       "_view_module_version": "1.2.0",
       "_view_name": "StyleView",
       "description_width": ""
      }
     },
     "c72635ae5f6c4f308fcb8d9f61745e34": {
      "model_module": "@jupyter-widgets/base",
      "model_module_version": "1.2.0",
      "model_name": "LayoutModel",
      "state": {
       "_model_module": "@jupyter-widgets/base",
       "_model_module_version": "1.2.0",
       "_model_name": "LayoutModel",
       "_view_count": null,
       "_view_module": "@jupyter-widgets/base",
       "_view_module_version": "1.2.0",
       "_view_name": "LayoutView",
       "align_content": null,
       "align_items": null,
       "align_self": null,
       "border": null,
       "bottom": null,
       "display": null,
       "flex": null,
       "flex_flow": null,
       "grid_area": null,
       "grid_auto_columns": null,
       "grid_auto_flow": null,
       "grid_auto_rows": null,
       "grid_column": null,
       "grid_gap": null,
       "grid_row": null,
       "grid_template_areas": null,
       "grid_template_columns": null,
       "grid_template_rows": null,
       "height": null,
       "justify_content": null,
       "justify_items": null,
       "left": null,
       "margin": null,
       "max_height": null,
       "max_width": null,
       "min_height": null,
       "min_width": null,
       "object_fit": null,
       "object_position": null,
       "order": null,
       "overflow": null,
       "overflow_x": null,
       "overflow_y": null,
       "padding": null,
       "right": null,
       "top": null,
       "visibility": null,
       "width": null
      }
     },
     "c72d9ada6527492987c027a0698a3e99": {
      "model_module": "@jupyter-widgets/controls",
      "model_module_version": "1.5.0",
      "model_name": "DescriptionStyleModel",
      "state": {
       "_model_module": "@jupyter-widgets/controls",
       "_model_module_version": "1.5.0",
       "_model_name": "DescriptionStyleModel",
       "_view_count": null,
       "_view_module": "@jupyter-widgets/base",
       "_view_module_version": "1.2.0",
       "_view_name": "StyleView",
       "description_width": ""
      }
     },
     "d792f3c2a7df4dbea475b666e09d80b1": {
      "model_module": "@jupyter-widgets/base",
      "model_module_version": "1.2.0",
      "model_name": "LayoutModel",
      "state": {
       "_model_module": "@jupyter-widgets/base",
       "_model_module_version": "1.2.0",
       "_model_name": "LayoutModel",
       "_view_count": null,
       "_view_module": "@jupyter-widgets/base",
       "_view_module_version": "1.2.0",
       "_view_name": "LayoutView",
       "align_content": null,
       "align_items": null,
       "align_self": null,
       "border": null,
       "bottom": null,
       "display": null,
       "flex": null,
       "flex_flow": null,
       "grid_area": null,
       "grid_auto_columns": null,
       "grid_auto_flow": null,
       "grid_auto_rows": null,
       "grid_column": null,
       "grid_gap": null,
       "grid_row": null,
       "grid_template_areas": null,
       "grid_template_columns": null,
       "grid_template_rows": null,
       "height": null,
       "justify_content": null,
       "justify_items": null,
       "left": null,
       "margin": null,
       "max_height": null,
       "max_width": null,
       "min_height": null,
       "min_width": null,
       "object_fit": null,
       "object_position": null,
       "order": null,
       "overflow": null,
       "overflow_x": null,
       "overflow_y": null,
       "padding": null,
       "right": null,
       "top": null,
       "visibility": null,
       "width": null
      }
     },
     "d93ee1bbba88488db45dd788f9077dfb": {
      "model_module": "@jupyter-widgets/controls",
      "model_module_version": "1.5.0",
      "model_name": "LabelModel",
      "state": {
       "_dom_classes": [],
       "_model_module": "@jupyter-widgets/controls",
       "_model_module_version": "1.5.0",
       "_model_name": "LabelModel",
       "_view_count": null,
       "_view_module": "@jupyter-widgets/controls",
       "_view_module_version": "1.5.0",
       "_view_name": "LabelView",
       "description": "",
       "description_tooltip": null,
       "layout": "IPY_MODEL_f58e6b5997b54421bd03b9ab8ae60569",
       "placeholder": "​",
       "style": "IPY_MODEL_4bffd565a4c6442ea38d39578a80f8d3",
       "value": " 734.02MB of 734.02MB uploaded (0.00MB deduped)\r"
      }
     },
     "ef19ab13ca2343cd98a84a8926e6258a": {
      "model_module": "@jupyter-widgets/controls",
      "model_module_version": "1.5.0",
      "model_name": "LabelModel",
      "state": {
       "_dom_classes": [],
       "_model_module": "@jupyter-widgets/controls",
       "_model_module_version": "1.5.0",
       "_model_name": "LabelModel",
       "_view_count": null,
       "_view_module": "@jupyter-widgets/controls",
       "_view_module_version": "1.5.0",
       "_view_name": "LabelView",
       "description": "",
       "description_tooltip": null,
       "layout": "IPY_MODEL_c72635ae5f6c4f308fcb8d9f61745e34",
       "placeholder": "​",
       "style": "IPY_MODEL_402f12caec6146bc9935c5350e7bbc35",
       "value": " 734.02MB of 734.02MB uploaded (0.00MB deduped)\r"
      }
     },
     "f57de8a80ff842b0bf5af22ea716a963": {
      "model_module": "@jupyter-widgets/base",
      "model_module_version": "1.2.0",
      "model_name": "LayoutModel",
      "state": {
       "_model_module": "@jupyter-widgets/base",
       "_model_module_version": "1.2.0",
       "_model_name": "LayoutModel",
       "_view_count": null,
       "_view_module": "@jupyter-widgets/base",
       "_view_module_version": "1.2.0",
       "_view_name": "LayoutView",
       "align_content": null,
       "align_items": null,
       "align_self": null,
       "border": null,
       "bottom": null,
       "display": null,
       "flex": null,
       "flex_flow": null,
       "grid_area": null,
       "grid_auto_columns": null,
       "grid_auto_flow": null,
       "grid_auto_rows": null,
       "grid_column": null,
       "grid_gap": null,
       "grid_row": null,
       "grid_template_areas": null,
       "grid_template_columns": null,
       "grid_template_rows": null,
       "height": null,
       "justify_content": null,
       "justify_items": null,
       "left": null,
       "margin": null,
       "max_height": null,
       "max_width": null,
       "min_height": null,
       "min_width": null,
       "object_fit": null,
       "object_position": null,
       "order": null,
       "overflow": null,
       "overflow_x": null,
       "overflow_y": null,
       "padding": null,
       "right": null,
       "top": null,
       "visibility": null,
       "width": null
      }
     },
     "f58e6b5997b54421bd03b9ab8ae60569": {
      "model_module": "@jupyter-widgets/base",
      "model_module_version": "1.2.0",
      "model_name": "LayoutModel",
      "state": {
       "_model_module": "@jupyter-widgets/base",
       "_model_module_version": "1.2.0",
       "_model_name": "LayoutModel",
       "_view_count": null,
       "_view_module": "@jupyter-widgets/base",
       "_view_module_version": "1.2.0",
       "_view_name": "LayoutView",
       "align_content": null,
       "align_items": null,
       "align_self": null,
       "border": null,
       "bottom": null,
       "display": null,
       "flex": null,
       "flex_flow": null,
       "grid_area": null,
       "grid_auto_columns": null,
       "grid_auto_flow": null,
       "grid_auto_rows": null,
       "grid_column": null,
       "grid_gap": null,
       "grid_row": null,
       "grid_template_areas": null,
       "grid_template_columns": null,
       "grid_template_rows": null,
       "height": null,
       "justify_content": null,
       "justify_items": null,
       "left": null,
       "margin": null,
       "max_height": null,
       "max_width": null,
       "min_height": null,
       "min_width": null,
       "object_fit": null,
       "object_position": null,
       "order": null,
       "overflow": null,
       "overflow_x": null,
       "overflow_y": null,
       "padding": null,
       "right": null,
       "top": null,
       "visibility": null,
       "width": null
      }
     },
     "f99a1085cdc945eaa742bd0f7aca0167": {
      "model_module": "@jupyter-widgets/controls",
      "model_module_version": "1.5.0",
      "model_name": "FloatProgressModel",
      "state": {
       "_dom_classes": [],
       "_model_module": "@jupyter-widgets/controls",
       "_model_module_version": "1.5.0",
       "_model_name": "FloatProgressModel",
       "_view_count": null,
       "_view_module": "@jupyter-widgets/controls",
       "_view_module_version": "1.5.0",
       "_view_name": "ProgressView",
       "bar_style": "",
       "description": "",
       "description_tooltip": null,
       "layout": "IPY_MODEL_342120c1151a4669a028c4714d3c81bb",
       "max": 1,
       "min": 0,
       "orientation": "horizontal",
       "style": "IPY_MODEL_29124dc31e9b47909703a3010d4a4290",
       "value": 1
      }
     },
     "fb2836b1440f449282ac0fcfd1a742b1": {
      "model_module": "@jupyter-widgets/base",
      "model_module_version": "1.2.0",
      "model_name": "LayoutModel",
      "state": {
       "_model_module": "@jupyter-widgets/base",
       "_model_module_version": "1.2.0",
       "_model_name": "LayoutModel",
       "_view_count": null,
       "_view_module": "@jupyter-widgets/base",
       "_view_module_version": "1.2.0",
       "_view_name": "LayoutView",
       "align_content": null,
       "align_items": null,
       "align_self": null,
       "border": null,
       "bottom": null,
       "display": null,
       "flex": null,
       "flex_flow": null,
       "grid_area": null,
       "grid_auto_columns": null,
       "grid_auto_flow": null,
       "grid_auto_rows": null,
       "grid_column": null,
       "grid_gap": null,
       "grid_row": null,
       "grid_template_areas": null,
       "grid_template_columns": null,
       "grid_template_rows": null,
       "height": null,
       "justify_content": null,
       "justify_items": null,
       "left": null,
       "margin": null,
       "max_height": null,
       "max_width": null,
       "min_height": null,
       "min_width": null,
       "object_fit": null,
       "object_position": null,
       "order": null,
       "overflow": null,
       "overflow_x": null,
       "overflow_y": null,
       "padding": null,
       "right": null,
       "top": null,
       "visibility": null,
       "width": null
      }
     }
    },
    "version_major": 2,
    "version_minor": 0
   }
  }
 },
 "nbformat": 4,
 "nbformat_minor": 5
}
