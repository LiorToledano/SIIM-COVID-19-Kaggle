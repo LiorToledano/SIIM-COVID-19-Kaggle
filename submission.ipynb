{
 "cells": [
  {
   "cell_type": "code",
   "execution_count": 1,
   "id": "ee57acbf",
   "metadata": {
    "execution": {
     "iopub.execute_input": "2021-08-09T09:33:13.784142Z",
     "iopub.status.busy": "2021-08-09T09:33:13.774243Z",
     "iopub.status.idle": "2021-08-09T09:44:17.179926Z",
     "shell.execute_reply": "2021-08-09T09:44:17.180600Z",
     "shell.execute_reply.started": "2021-08-08T09:00:16.375363Z"
    },
    "papermill": {
     "duration": 663.465325,
     "end_time": "2021-08-09T09:44:17.180951",
     "exception": false,
     "start_time": "2021-08-09T09:33:13.715626",
     "status": "completed"
    },
    "tags": []
   },
   "outputs": [
    {
     "name": "stdout",
     "output_type": "stream",
     "text": [
      "\r\n",
      "Downloading and Extracting Packages\r\n",
      "######################################################################## | 100% \r\n",
      "Preparing transaction: - \b\bdone\r\n",
      "Verifying transaction: | \b\bdone\r\n",
      "Executing transaction: - \b\b\\ \b\bdone\r\n",
      "\r\n",
      "Downloading and Extracting Packages\r\n",
      "######################################################################## | 100% \r\n",
      "Preparing transaction: - \b\bdone\r\n",
      "Verifying transaction: | \b\bdone\r\n",
      "Executing transaction: - \b\b\\ \b\b| \b\b/ \b\bdone\r\n",
      "\r\n",
      "Downloading and Extracting Packages\r\n",
      "######################################################################## | 100% \r\n",
      "Preparing transaction: - \b\bdone\r\n",
      "Verifying transaction: | \b\bdone\r\n",
      "Executing transaction: - \b\bdone\r\n",
      "\r\n",
      "Downloading and Extracting Packages\r\n",
      "######################################################################## | 100% \r\n",
      "Preparing transaction: - \b\bdone\r\n",
      "Verifying transaction: | \b\bdone\r\n",
      "Executing transaction: - \b\b\\ \b\b| \b\b/ \b\b- \b\b\\ \b\b| \b\b/ \b\b- \b\b\\ \b\b| \b\b/ \b\b- \b\b\\ \b\b| \b\b/ \b\b- \b\b\\ \b\b| \b\b/ \b\b- \b\b\\ \b\b| \b\b/ \b\b- \b\bdone\r\n",
      "\r\n",
      "Downloading and Extracting Packages\r\n",
      "######################################################################## | 100% \r\n",
      "Preparing transaction: - \b\bdone\r\n",
      "Verifying transaction: | \b\bdone\r\n",
      "Executing transaction: - \b\bdone\r\n",
      "\r\n",
      "Downloading and Extracting Packages\r\n",
      "######################################################################## | 100% \r\n",
      "Preparing transaction: - \b\bdone\r\n",
      "Verifying transaction: | \b\bdone\r\n",
      "Executing transaction: - \b\b\\ \b\b| \b\b/ \b\b- \b\b\\ \b\b| \b\b/ \b\b- \b\bdone\r\n",
      "Processing /kaggle/input/kerasapplications\r\n",
      "\u001b[33m  DEPRECATION: A future pip version will change local packages to be built in-place without first copying to a temporary directory. We recommend you use --use-feature=in-tree-build to test your packages with this new behavior before it becomes the default.\r\n",
      "   pip 21.3 will remove support for this functionality. You can find discussion regarding this at https://github.com/pypa/pip/issues/7555.\u001b[0m\r\n",
      "Building wheels for collected packages: Keras-Applications\r\n",
      "  Building wheel for Keras-Applications (setup.py) ... \u001b[?25l-\b \b\\\b \bdone\r\n",
      "\u001b[?25h  Created wheel for Keras-Applications: filename=Keras_Applications-1.0.8-py3-none-any.whl size=62000 sha256=24fcb08073b3049fc54e57d8d9af6080b0ef34a8422a645c324aa8f16401295c\r\n",
      "  Stored in directory: /tmp/pip-ephem-wheel-cache-2rgd3n92/wheels/6f/e3/db/6c81ff67ed7aa8285bbffcf4d34622430223b9da2bfe867ea2\r\n",
      "Successfully built Keras-Applications\r\n",
      "Installing collected packages: Keras-Applications\r\n",
      "Successfully installed Keras-Applications-1.0.8\r\n",
      "\u001b[33mWARNING: Running pip as root will break packages and permissions. You should install packages reliably by using venv: https://pip.pypa.io/warnings/venv\u001b[0m\r\n",
      "Processing /kaggle/input/efficientnet-keras-source-code\r\n",
      "\u001b[33m  DEPRECATION: A future pip version will change local packages to be built in-place without first copying to a temporary directory. We recommend you use --use-feature=in-tree-build to test your packages with this new behavior before it becomes the default.\r\n",
      "   pip 21.3 will remove support for this functionality. You can find discussion regarding this at https://github.com/pypa/pip/issues/7555.\u001b[0m\r\n",
      "Building wheels for collected packages: efficientnet\r\n",
      "  Building wheel for efficientnet (setup.py) ... \u001b[?25l-\b \b\\\b \bdone\r\n",
      "\u001b[?25h  Created wheel for efficientnet: filename=efficientnet-1.1.1-py3-none-any.whl size=18433 sha256=396854923ed4bf54e8dc7d9599f03125c5a1f383fcfebec41c47bdff6b7501a3\r\n",
      "  Stored in directory: /root/.cache/pip/wheels/38/be/66/6650c97f100a1da86bb41b4652f61afbe1e8ac64a4ba98d3ee\r\n",
      "Successfully built efficientnet\r\n",
      "Installing collected packages: efficientnet\r\n",
      "Successfully installed efficientnet-1.1.1\r\n",
      "\u001b[33mWARNING: Running pip as root will break packages and permissions. You should install packages reliably by using venv: https://pip.pypa.io/warnings/venv\u001b[0m\r\n",
      "Processing /kaggle/input/effdet-023-latest-vinbigdata-wbf-fusedlior/ensemble_boxes-1.0.4-py3-none-any.whl\r\n",
      "Installing collected packages: ensemble-boxes\r\n",
      "Successfully installed ensemble-boxes-1.0.4\r\n",
      "\u001b[33mWARNING: Running pip as root will break packages and permissions. You should install packages reliably by using venv: https://pip.pypa.io/warnings/venv\u001b[0m\r\n",
      "Processing /kaggle/input/pytorch-170-cuda-toolkit-110221/torch-1.7.0+cu110-cp37-cp37m-linux_x86_64.whl\r\n",
      "Installing collected packages: torch\r\n",
      "  Attempting uninstall: torch\r\n",
      "    Found existing installation: torch 1.7.0\r\n",
      "    Uninstalling torch-1.7.0:\r\n",
      "      Successfully uninstalled torch-1.7.0\r\n",
      "Successfully installed torch-1.7.0+cu110\r\n",
      "\u001b[33mWARNING: Running pip as root will break packages and permissions. You should install packages reliably by using venv: https://pip.pypa.io/warnings/venv\u001b[0m\r\n",
      "Processing /kaggle/input/pytorch-170-cuda-toolkit-110221/torchvision-0.8.1+cu110-cp37-cp37m-linux_x86_64.whl\r\n",
      "Installing collected packages: torchvision\r\n",
      "  Attempting uninstall: torchvision\r\n",
      "    Found existing installation: torchvision 0.8.1\r\n",
      "    Uninstalling torchvision-0.8.1:\r\n",
      "      Successfully uninstalled torchvision-0.8.1\r\n",
      "Successfully installed torchvision-0.8.1+cu110\r\n",
      "\u001b[33mWARNING: Running pip as root will break packages and permissions. You should install packages reliably by using venv: https://pip.pypa.io/warnings/venv\u001b[0m\r\n",
      "Processing /kaggle/input/pytorch-170-cuda-toolkit-110221/torchaudio-0.7.0-cp37-cp37m-linux_x86_64.whl\r\n",
      "Installing collected packages: torchaudio\r\n",
      "  Attempting uninstall: torchaudio\r\n",
      "    Found existing installation: torchaudio 0.7.0a0+ac17b64\r\n",
      "    Uninstalling torchaudio-0.7.0a0+ac17b64:\r\n",
      "      Successfully uninstalled torchaudio-0.7.0a0+ac17b64\r\n",
      "Successfully installed torchaudio-0.7.0\r\n",
      "\u001b[33mWARNING: Running pip as root will break packages and permissions. You should install packages reliably by using venv: https://pip.pypa.io/warnings/venv\u001b[0m\r\n",
      "\r\n",
      "Downloading and Extracting Packages\r\n",
      "######################################################################## | 100% \r\n",
      "Preparing transaction: - \b\bdone\r\n",
      "Verifying transaction: | \b\bdone\r\n",
      "Executing transaction: - \b\b\\ \b\b| \b\b/ \b\b- \b\b\\ \b\b| \b\b/ \b\b- \b\b\\ \b\b| \b\b/ \b\b- \b\b\\ \b\b| \b\b/ \b\b- \b\b\\ \b\b| \b\b/ \b\b- \b\b\\ \b\b| \b\b/ \b\b- \b\b\\ \b\b| \b\b/ \b\b- \b\b\\ \b\b| \b\b/ \b\b- \b\b\\ \b\b| \b\b/ \b\b- \b\b\\ \b\b| \b\b/ \b\b- \b\b\\ \b\b| \b\b/ \b\b- \b\b\\ \b\b| \b\b/ \b\b- \b\b\\ \b\b| \b\b/ \b\b- \b\b\\ \b\b| \b\b/ \b\b- \b\b\\ \b\b| \b\b/ \b\b- \b\b\\ \b\b| \b\b/ \b\b- \b\b\\ \b\b| \b\b/ \b\b- \b\b\\ \b\b| \b\b/ \b\b- \b\b\\ \b\b| \b\b/ \b\b- \b\b\\ \b\b| \b\b/ \b\b- \b\b\\ \b\b| \b\b/ \b\b- \b\b\\ \b\b| \b\b/ \b\b- \b\b\\ \b\b| \b\b/ \b\b- \b\b\\ \b\b| \b\b/ \b\b- \b\b\\ \b\b| \b\b/ \b\b- \b\b\\ \b\b| \b\b/ \b\b- \b\b\\ \b\b| \b\b/ \b\b- \b\b\\ \b\b| \b\b/ \b\b- \b\b\\ \b\b| \b\b/ \b\b- \b\b\\ \b\b| \b\b/ \b\b- \b\b\\ \b\b| \b\b/ \b\b- \b\b\\ \b\b| \b\b/ \b\b- \b\b\\ \b\b| \b\b/ \b\b- \b\b\\ \b\b| \b\b/ \b\b- \b\b\\ \b\b| \b\b/ \b\b- \b\b\\ \b\b| \b\b/ \b\b- \b\b\\ \b\b| \b\b/ \b\b- \b\b\\ \b\b| \b\b/ \b\b- \b\b\\ \b\b| \b\b/ \b\b- \b\b\\ \b\b| \b\b/ \b\b- \b\b\\ \b\b| \b\b/ \b\b- \b\b\\ \b\b| \b\b/ By downloading and using the CUDA Toolkit conda packages, you accept the terms and conditions of the CUDA End User License Agreement (EULA): https://docs.nvidia.com/cuda/eula/index.html\r\n",
      "\r\n",
      "\b\b- \b\bdone\r\n",
      "Processing /kaggle/input/mmdetectionv2140/addict-2.4.0-py3-none-any.whl\r\n",
      "Installing collected packages: addict\r\n",
      "Successfully installed addict-2.4.0\r\n",
      "\u001b[33mWARNING: Running pip as root will break packages and permissions. You should install packages reliably by using venv: https://pip.pypa.io/warnings/venv\u001b[0m\r\n",
      "Processing /kaggle/input/mmdetectionv2140/yapf-0.31.0-py2.py3-none-any.whl\r\n",
      "Installing collected packages: yapf\r\n",
      "Successfully installed yapf-0.31.0\r\n",
      "\u001b[33mWARNING: Running pip as root will break packages and permissions. You should install packages reliably by using venv: https://pip.pypa.io/warnings/venv\u001b[0m\r\n",
      "Processing /kaggle/input/mmdetectionv2140/terminal-0.4.0-py3-none-any.whl\r\n",
      "Installing collected packages: terminal\r\n",
      "Successfully installed terminal-0.4.0\r\n",
      "\u001b[33mWARNING: Running pip as root will break packages and permissions. You should install packages reliably by using venv: https://pip.pypa.io/warnings/venv\u001b[0m\r\n",
      "Processing /kaggle/input/mmdetectionv2140/terminaltables-3.1.0-py3-none-any.whl\r\n",
      "Installing collected packages: terminaltables\r\n",
      "Successfully installed terminaltables-3.1.0\r\n",
      "\u001b[33mWARNING: Running pip as root will break packages and permissions. You should install packages reliably by using venv: https://pip.pypa.io/warnings/venv\u001b[0m\r\n",
      "Processing /kaggle/input/mmdetectionv2140/mmcv_full-1_3_8-cu110-torch1_7_0/mmcv_full-1.3.8-cp37-cp37m-manylinux1_x86_64.whl\r\n",
      "Installing collected packages: mmcv-full\r\n",
      "Successfully installed mmcv-full-1.3.8\r\n",
      "\u001b[33mWARNING: Running pip as root will break packages and permissions. You should install packages reliably by using venv: https://pip.pypa.io/warnings/venv\u001b[0m\r\n",
      "Processing /kaggle/input/mmdetectionv2140/pycocotools-2.0.2/pycocotools-2.0.2\r\n",
      "\u001b[33m  DEPRECATION: A future pip version will change local packages to be built in-place without first copying to a temporary directory. We recommend you use --use-feature=in-tree-build to test your packages with this new behavior before it becomes the default.\r\n",
      "   pip 21.3 will remove support for this functionality. You can find discussion regarding this at https://github.com/pypa/pip/issues/7555.\u001b[0m\r\n",
      "Building wheels for collected packages: pycocotools\r\n",
      "  Building wheel for pycocotools (setup.py) ... \u001b[?25l-\b \b\\\b \b|\b \b/\b \b-\b \b\\\b \b|\b \b/\b \b-\b \bdone\r\n",
      "\u001b[?25h  Created wheel for pycocotools: filename=pycocotools-2.0.2-cp37-cp37m-linux_x86_64.whl size=272450 sha256=6029d687b3d99b7f92a38023c361dd1700376941a6bb8164fc5c4dc9fa7ffa05\r\n",
      "  Stored in directory: /root/.cache/pip/wheels/3b/c9/26/f4ec5e3e2fdc837f5c5539fe16dbe35f82a358c7a4ccca98b4\r\n",
      "Successfully built pycocotools\r\n",
      "Installing collected packages: pycocotools\r\n",
      "Successfully installed pycocotools-2.0.2\r\n",
      "\u001b[33mWARNING: Running pip as root will break packages and permissions. You should install packages reliably by using venv: https://pip.pypa.io/warnings/venv\u001b[0m\r\n",
      "Processing /kaggle/input/mmdetectionv2140/mmpycocotools-12.0.3/mmpycocotools-12.0.3\r\n",
      "\u001b[33m  DEPRECATION: A future pip version will change local packages to be built in-place without first copying to a temporary directory. We recommend you use --use-feature=in-tree-build to test your packages with this new behavior before it becomes the default.\r\n",
      "   pip 21.3 will remove support for this functionality. You can find discussion regarding this at https://github.com/pypa/pip/issues/7555.\u001b[0m\r\n",
      "Building wheels for collected packages: mmpycocotools\r\n",
      "  Building wheel for mmpycocotools (setup.py) ... \u001b[?25l-\b \b\\\b \b|\b \b/\b \b-\b \b\\\b \b|\b \b/\b \bdone\r\n",
      "\u001b[?25h  Created wheel for mmpycocotools: filename=mmpycocotools-12.0.3-cp37-cp37m-linux_x86_64.whl size=272730 sha256=e352f2b05138129597f3c8fb07e769ed3b2b065475087e960767cc4c35c8afdd\r\n",
      "  Stored in directory: /root/.cache/pip/wheels/6b/52/1c/2397d26e2e427dfd5555670bfb92e2882acc8a30aed0c8f890\r\n",
      "Successfully built mmpycocotools\r\n",
      "Installing collected packages: mmpycocotools\r\n",
      "Successfully installed mmpycocotools-12.0.3\r\n",
      "\u001b[33mWARNING: Running pip as root will break packages and permissions. You should install packages reliably by using venv: https://pip.pypa.io/warnings/venv\u001b[0m\r\n",
      "/kaggle/working/mmdetection\n",
      "Obtaining file:///kaggle/working/mmdetection\r\n",
      "Installing collected packages: mmdet\r\n",
      "  Running setup.py develop for mmdet\r\n",
      "Successfully installed mmdet-2.14.0\r\n",
      "\u001b[33mWARNING: Running pip as root will break packages and permissions. You should install packages reliably by using venv: https://pip.pypa.io/warnings/venv\u001b[0m\r\n",
      "/kaggle/working\n"
     ]
    }
   ],
   "source": [
    "%load_ext autoreload\n",
    "%autoreload 2\n",
    "\n",
    "!conda install '/kaggle/input/pydicom-conda-helper/libjpeg-turbo-2.1.0-h7f98852_0.tar.bz2' -y --offline\n",
    "!conda install '/kaggle/input/pydicom-conda-helper/libgcc-ng-9.3.0-h2828fa1_19.tar.bz2' -y --offline\n",
    "!conda install '/kaggle/input/pydicom-conda-helper/gdcm-2.8.9-py37h500ead1_1.tar.bz2' -y --offline\n",
    "!conda install '/kaggle/input/pydicom-conda-helper/conda-4.10.1-py37h89c1867_0.tar.bz2' -y --offline\n",
    "!conda install '/kaggle/input/pydicom-conda-helper/certifi-2020.12.5-py37h89c1867_1.tar.bz2' -y --offline\n",
    "!conda install '/kaggle/input/pydicom-conda-helper/openssl-1.1.1k-h7f98852_0.tar.bz2' -y --offline\n",
    "\n",
    "!pip install '/kaggle/input/kerasapplications' --no-deps\n",
    "!pip install '/kaggle/input/efficientnet-keras-source-code' --no-deps\n",
    "!pip install '/kaggle/input/effdet-023-latest-vinbigdata-wbf-fusedlior/ensemble_boxes-1.0.4-py3-none-any.whl' --no-deps\n",
    "\n",
    "## MMDetection compatible torch installation\n",
    "!pip install '/kaggle/input/pytorch-170-cuda-toolkit-110221/torch-1.7.0+cu110-cp37-cp37m-linux_x86_64.whl' --no-deps\n",
    "!pip install '/kaggle/input/pytorch-170-cuda-toolkit-110221/torchvision-0.8.1+cu110-cp37-cp37m-linux_x86_64.whl' --no-deps\n",
    "!pip install '/kaggle/input/pytorch-170-cuda-toolkit-110221/torchaudio-0.7.0-cp37-cp37m-linux_x86_64.whl' --no-deps\n",
    "\n",
    "## Compatible Cuda Toolkit installation\n",
    "!mkdir -p /kaggle/tmp && cp /kaggle/input/pytorch-170-cuda-toolkit-110221/cudatoolkit-11.0.221-h6bb024c_0 /kaggle/tmp/cudatoolkit-11.0.221-h6bb024c_0.tar.bz2 && conda install /kaggle/tmp/cudatoolkit-11.0.221-h6bb024c_0.tar.bz2 -y --offline\n",
    "\n",
    "## MMDetection Offline Installation\n",
    "!pip install '/kaggle/input/mmdetectionv2140/addict-2.4.0-py3-none-any.whl' --no-deps\n",
    "!pip install '/kaggle/input/mmdetectionv2140/yapf-0.31.0-py2.py3-none-any.whl' --no-deps\n",
    "!pip install '/kaggle/input/mmdetectionv2140/terminal-0.4.0-py3-none-any.whl' --no-deps\n",
    "!pip install '/kaggle/input/mmdetectionv2140/terminaltables-3.1.0-py3-none-any.whl' --no-deps\n",
    "!pip install '/kaggle/input/mmdetectionv2140/mmcv_full-1_3_8-cu110-torch1_7_0/mmcv_full-1.3.8-cp37-cp37m-manylinux1_x86_64.whl' --no-deps\n",
    "!pip install '/kaggle/input/mmdetectionv2140/pycocotools-2.0.2/pycocotools-2.0.2' --no-deps\n",
    "!pip install '/kaggle/input/mmdetectionv2140/mmpycocotools-12.0.3/mmpycocotools-12.0.3' --no-deps\n",
    "\n",
    "!cp -r /kaggle/input/mmdetectionv2140/mmdetection-2.14.0 /kaggle/working/\n",
    "!mv /kaggle/working/mmdetection-2.14.0 /kaggle/working/mmdetection\n",
    "%cd /kaggle/working/mmdetection\n",
    "!pip install -e . --no-deps\n",
    "%cd /kaggle/working/"
   ]
  },
  {
   "cell_type": "code",
   "execution_count": 2,
   "id": "7a87c61c",
   "metadata": {
    "_cell_guid": "b1076dfc-b9ad-4769-8c92-a6c4dae69d19",
    "_uuid": "8f2839f25d086af736a60e9eeb907d3b93b6e0e5",
    "execution": {
     "iopub.execute_input": "2021-08-09T09:44:17.465624Z",
     "iopub.status.busy": "2021-08-09T09:44:17.459371Z",
     "iopub.status.idle": "2021-08-09T09:44:17.668554Z",
     "shell.execute_reply": "2021-08-09T09:44:17.667872Z",
     "shell.execute_reply.started": "2021-08-08T09:07:19.958088Z"
    },
    "papermill": {
     "duration": 0.352103,
     "end_time": "2021-08-09T09:44:17.668790",
     "exception": false,
     "start_time": "2021-08-09T09:44:17.316687",
     "status": "completed"
    },
    "tags": []
   },
   "outputs": [],
   "source": [
    "import sys\n",
    "sys.path.append('/kaggle/working/mmdetection')\n",
    "\n",
    "import os\n",
    "from PIL import Image\n",
    "import pandas as pd\n",
    "from tqdm.auto import tqdm\n",
    "import gc\n",
    "import glob\n",
    "import numpy as np\n",
    "import random\n",
    "import shutil"
   ]
  },
  {
   "cell_type": "markdown",
   "id": "ff451ccb",
   "metadata": {
    "papermill": {
     "duration": 0.138584,
     "end_time": "2021-08-09T09:44:17.947470",
     "exception": false,
     "start_time": "2021-08-09T09:44:17.808886",
     "status": "completed"
    },
    "tags": []
   },
   "source": [
    "<span style=\"color: #00857e; font-family: Segoe UI; font-size: 1.8em; font-weight: 300;\">Create Study and Image Level Dataframes</span>"
   ]
  },
  {
   "cell_type": "code",
   "execution_count": 3,
   "id": "d9d80031",
   "metadata": {
    "execution": {
     "iopub.execute_input": "2021-08-09T09:44:18.230247Z",
     "iopub.status.busy": "2021-08-09T09:44:18.228998Z",
     "iopub.status.idle": "2021-08-09T09:44:24.239380Z",
     "shell.execute_reply": "2021-08-09T09:44:24.238770Z",
     "shell.execute_reply.started": "2021-08-08T09:07:20.67239Z"
    },
    "papermill": {
     "duration": 6.156274,
     "end_time": "2021-08-09T09:44:24.239533",
     "exception": false,
     "start_time": "2021-08-09T09:44:18.083259",
     "status": "completed"
    },
    "tags": []
   },
   "outputs": [],
   "source": [
    "sub_df = pd.read_csv('/kaggle/input/siim-covid19-detection/sample_submission.csv')\n",
    "\n",
    "# Form study and image dataframes\n",
    "sub_df['level'] = sub_df.id.map(lambda idx: idx[-5:])\n",
    "study_df = sub_df[sub_df.level=='study'].rename({'id':'study_id'}, axis=1)\n",
    "image_df = sub_df[sub_df.level=='image'].rename({'id':'image_id'}, axis=1)\n",
    "\n",
    "dcm_path = glob.glob('/kaggle/input/siim-covid19-detection/test/**/*dcm', recursive=True)\n",
    "test_meta = pd.DataFrame({'dcm_path':dcm_path})\n",
    "test_meta['image_id'] = test_meta.dcm_path.map(lambda x: x.split('/')[-1].replace('.dcm', '')+'_image')\n",
    "test_meta['study_id'] = test_meta.dcm_path.map(lambda x: x.split('/')[-3].replace('.dcm', '')+'_study')\n",
    "\n",
    "study_df = study_df.merge(test_meta, on='study_id', how='left')\n",
    "image_df = image_df.merge(test_meta, on='image_id', how='left')\n",
    "\n",
    "# Remove duplicates study_ids from study_df\n",
    "study_df.drop_duplicates(subset=\"study_id\",keep='first', inplace=True)"
   ]
  },
  {
   "cell_type": "markdown",
   "id": "f69a4537",
   "metadata": {
    "papermill": {
     "duration": 0.139422,
     "end_time": "2021-08-09T09:44:24.517412",
     "exception": false,
     "start_time": "2021-08-09T09:44:24.377990",
     "status": "completed"
    },
    "tags": []
   },
   "source": [
    "<span style=\"color: #00857e; font-family: Segoe UI; font-size: 1.8em; font-weight: 300;\">Fast or Full Predictions</span>\n",
    "\n",
    "In case of non-competetion submission commits, we run the notebook with just two images each for image level and study level inference from the public test data."
   ]
  },
  {
   "cell_type": "code",
   "execution_count": 4,
   "id": "19e6cae7",
   "metadata": {
    "execution": {
     "iopub.execute_input": "2021-08-09T09:44:24.795063Z",
     "iopub.status.busy": "2021-08-09T09:44:24.793905Z",
     "iopub.status.idle": "2021-08-09T09:44:24.867478Z",
     "shell.execute_reply": "2021-08-09T09:44:24.867979Z",
     "shell.execute_reply.started": "2021-08-08T09:07:25.4463Z"
    },
    "papermill": {
     "duration": 0.215554,
     "end_time": "2021-08-09T09:44:24.868238",
     "exception": false,
     "start_time": "2021-08-09T09:44:24.652684",
     "status": "completed"
    },
    "tags": []
   },
   "outputs": [
    {
     "name": "stdout",
     "output_type": "stream",
     "text": [
      "\n",
      "study_df\n"
     ]
    },
    {
     "data": {
      "text/html": [
       "<div>\n",
       "<style scoped>\n",
       "    .dataframe tbody tr th:only-of-type {\n",
       "        vertical-align: middle;\n",
       "    }\n",
       "\n",
       "    .dataframe tbody tr th {\n",
       "        vertical-align: top;\n",
       "    }\n",
       "\n",
       "    .dataframe thead th {\n",
       "        text-align: right;\n",
       "    }\n",
       "</style>\n",
       "<table border=\"1\" class=\"dataframe\">\n",
       "  <thead>\n",
       "    <tr style=\"text-align: right;\">\n",
       "      <th></th>\n",
       "      <th>study_id</th>\n",
       "      <th>PredictionString</th>\n",
       "      <th>level</th>\n",
       "      <th>dcm_path</th>\n",
       "      <th>image_id</th>\n",
       "    </tr>\n",
       "  </thead>\n",
       "  <tbody>\n",
       "    <tr>\n",
       "      <th>486</th>\n",
       "      <td>5be3004f3c87_study</td>\n",
       "      <td>negative 1 0 0 1 1</td>\n",
       "      <td>study</td>\n",
       "      <td>/kaggle/input/siim-covid19-detection/test/5be3...</td>\n",
       "      <td>30b1c089724e_image</td>\n",
       "    </tr>\n",
       "    <tr>\n",
       "      <th>411</th>\n",
       "      <td>4cbdd2d5ca8f_study</td>\n",
       "      <td>negative 1 0 0 1 1</td>\n",
       "      <td>study</td>\n",
       "      <td>/kaggle/input/siim-covid19-detection/test/4cbd...</td>\n",
       "      <td>c010822b2938_image</td>\n",
       "    </tr>\n",
       "  </tbody>\n",
       "</table>\n",
       "</div>"
      ],
      "text/plain": [
       "               study_id    PredictionString  level  \\\n",
       "486  5be3004f3c87_study  negative 1 0 0 1 1  study   \n",
       "411  4cbdd2d5ca8f_study  negative 1 0 0 1 1  study   \n",
       "\n",
       "                                              dcm_path            image_id  \n",
       "486  /kaggle/input/siim-covid19-detection/test/5be3...  30b1c089724e_image  \n",
       "411  /kaggle/input/siim-covid19-detection/test/4cbd...  c010822b2938_image  "
      ]
     },
     "metadata": {},
     "output_type": "display_data"
    },
    {
     "name": "stdout",
     "output_type": "stream",
     "text": [
      "\n",
      "image_df\n"
     ]
    },
    {
     "data": {
      "text/html": [
       "<div>\n",
       "<style scoped>\n",
       "    .dataframe tbody tr th:only-of-type {\n",
       "        vertical-align: middle;\n",
       "    }\n",
       "\n",
       "    .dataframe tbody tr th {\n",
       "        vertical-align: top;\n",
       "    }\n",
       "\n",
       "    .dataframe thead th {\n",
       "        text-align: right;\n",
       "    }\n",
       "</style>\n",
       "<table border=\"1\" class=\"dataframe\">\n",
       "  <thead>\n",
       "    <tr style=\"text-align: right;\">\n",
       "      <th></th>\n",
       "      <th>image_id</th>\n",
       "      <th>PredictionString</th>\n",
       "      <th>level</th>\n",
       "      <th>dcm_path</th>\n",
       "      <th>study_id</th>\n",
       "    </tr>\n",
       "  </thead>\n",
       "  <tbody>\n",
       "    <tr>\n",
       "      <th>929</th>\n",
       "      <td>b37ae8cb220b_image</td>\n",
       "      <td>none 1 0 0 1 1</td>\n",
       "      <td>image</td>\n",
       "      <td>/kaggle/input/siim-covid19-detection/test/1b11...</td>\n",
       "      <td>1b11175dece3_study</td>\n",
       "    </tr>\n",
       "    <tr>\n",
       "      <th>1172</th>\n",
       "      <td>e252ffbf487e_image</td>\n",
       "      <td>none 1 0 0 1 1</td>\n",
       "      <td>image</td>\n",
       "      <td>/kaggle/input/siim-covid19-detection/test/7f31...</td>\n",
       "      <td>7f3115e66c1e_study</td>\n",
       "    </tr>\n",
       "  </tbody>\n",
       "</table>\n",
       "</div>"
      ],
      "text/plain": [
       "                image_id PredictionString  level  \\\n",
       "929   b37ae8cb220b_image   none 1 0 0 1 1  image   \n",
       "1172  e252ffbf487e_image   none 1 0 0 1 1  image   \n",
       "\n",
       "                                               dcm_path            study_id  \n",
       "929   /kaggle/input/siim-covid19-detection/test/1b11...  1b11175dece3_study  \n",
       "1172  /kaggle/input/siim-covid19-detection/test/7f31...  7f3115e66c1e_study  "
      ]
     },
     "metadata": {},
     "output_type": "display_data"
    },
    {
     "name": "stdout",
     "output_type": "stream",
     "text": [
      "\n",
      "test_meta\n"
     ]
    },
    {
     "data": {
      "text/html": [
       "<div>\n",
       "<style scoped>\n",
       "    .dataframe tbody tr th:only-of-type {\n",
       "        vertical-align: middle;\n",
       "    }\n",
       "\n",
       "    .dataframe tbody tr th {\n",
       "        vertical-align: top;\n",
       "    }\n",
       "\n",
       "    .dataframe thead th {\n",
       "        text-align: right;\n",
       "    }\n",
       "</style>\n",
       "<table border=\"1\" class=\"dataframe\">\n",
       "  <thead>\n",
       "    <tr style=\"text-align: right;\">\n",
       "      <th></th>\n",
       "      <th>dcm_path</th>\n",
       "      <th>image_id</th>\n",
       "      <th>study_id</th>\n",
       "    </tr>\n",
       "  </thead>\n",
       "  <tbody>\n",
       "    <tr>\n",
       "      <th>0</th>\n",
       "      <td>/kaggle/input/siim-covid19-detection/test/2fb1...</td>\n",
       "      <td>a29c5a68b07b_image</td>\n",
       "      <td>2fb11712bc93_study</td>\n",
       "    </tr>\n",
       "    <tr>\n",
       "      <th>1</th>\n",
       "      <td>/kaggle/input/siim-covid19-detection/test/19c6...</td>\n",
       "      <td>9850b5470fd6_image</td>\n",
       "      <td>19c66935e737_study</td>\n",
       "    </tr>\n",
       "  </tbody>\n",
       "</table>\n",
       "</div>"
      ],
      "text/plain": [
       "                                            dcm_path            image_id  \\\n",
       "0  /kaggle/input/siim-covid19-detection/test/2fb1...  a29c5a68b07b_image   \n",
       "1  /kaggle/input/siim-covid19-detection/test/19c6...  9850b5470fd6_image   \n",
       "\n",
       "             study_id  \n",
       "0  2fb11712bc93_study  \n",
       "1  19c66935e737_study  "
      ]
     },
     "metadata": {},
     "output_type": "display_data"
    }
   ],
   "source": [
    "fast_sub = False\n",
    "\n",
    "if sub_df.shape[0] == 2477:\n",
    "    fast_sub = True\n",
    "    study_df = study_df.sample(2)\n",
    "    image_df = image_df.sample(2)\n",
    "    \n",
    "    print(\"\\nstudy_df\")\n",
    "    display(study_df.head(2))\n",
    "    print(\"\\nimage_df\")\n",
    "    display(image_df.head(2))\n",
    "    print(\"\\ntest_meta\")\n",
    "    display(test_meta.head(2))"
   ]
  },
  {
   "cell_type": "code",
   "execution_count": 5,
   "id": "41a4e053",
   "metadata": {
    "execution": {
     "iopub.execute_input": "2021-08-09T09:44:25.164371Z",
     "iopub.status.busy": "2021-08-09T09:44:25.162781Z",
     "iopub.status.idle": "2021-08-09T09:44:28.106672Z",
     "shell.execute_reply": "2021-08-09T09:44:28.106050Z",
     "shell.execute_reply.started": "2021-08-08T09:33:14.194156Z"
    },
    "papermill": {
     "duration": 3.09718,
     "end_time": "2021-08-09T09:44:28.106815",
     "exception": false,
     "start_time": "2021-08-09T09:44:25.009635",
     "status": "completed"
    },
    "tags": []
   },
   "outputs": [
    {
     "data": {
      "application/vnd.jupyter.widget-view+json": {
       "model_id": "039a1fa824b64fd79fcd0ddbcad6655e",
       "version_major": 2,
       "version_minor": 0
      },
      "text/plain": [
       "  0%|          | 0/2 [00:00<?, ?it/s]"
      ]
     },
     "metadata": {},
     "output_type": "display_data"
    },
    {
     "data": {
      "application/vnd.jupyter.widget-view+json": {
       "model_id": "6f5e174e5104425dbc879c1897b167c2",
       "version_major": 2,
       "version_minor": 0
      },
      "text/plain": [
       "  0%|          | 0/2 [00:00<?, ?it/s]"
      ]
     },
     "metadata": {},
     "output_type": "display_data"
    }
   ],
   "source": [
    "import pydicom\n",
    "from pydicom.pixel_data_handlers.util import apply_voi_lut\n",
    "STUDY_2_DIMS = (600, 600)\n",
    "STUDY_3_DIMS = (640,640)\n",
    "STUDY_DIMS = (768, 768)\n",
    "IMAGE_DIMS = (512, 512)\n",
    "\n",
    "study_dir = f'/kaggle/tmp/test/study/'\n",
    "os.makedirs(study_dir, exist_ok=True)\n",
    "\n",
    "image_dir = f'/kaggle/tmp/test/image/'\n",
    "os.makedirs(image_dir, exist_ok=True)\n",
    "\n",
    "def read_xray(path, voi_lut = True, fix_monochrome = True):\n",
    "    # Original from: https://www.kaggle.com/raddar/convert-dicom-to-np-array-the-correct-way\n",
    "    dicom = pydicom.read_file(path)\n",
    "    \n",
    "    # VOI LUT (if available by DICOM device) is used to transform raw DICOM data to \n",
    "    # \"human-friendly\" view\n",
    "    if voi_lut:\n",
    "        data = apply_voi_lut(dicom.pixel_array, dicom)\n",
    "    else:\n",
    "        data = dicom.pixel_array\n",
    "               \n",
    "    # depending on this value, X-ray may look inverted - fix that:\n",
    "    if fix_monochrome and dicom.PhotometricInterpretation == \"MONOCHROME1\":\n",
    "        data = np.amax(data) - data\n",
    "        \n",
    "    data = data - np.min(data)\n",
    "    data = data / np.max(data)\n",
    "    data = (data * 255).astype(np.uint8)\n",
    "    return data\n",
    "\n",
    "def resize(array, size, keep_ratio=False, resample=Image.LANCZOS):\n",
    "    # Original from: https://www.kaggle.com/xhlulu/vinbigdata-process-and-resize-to-image\n",
    "    im = Image.fromarray(array)\n",
    "    \n",
    "    if keep_ratio:\n",
    "        im.thumbnail((size, size), resample)\n",
    "    else:\n",
    "        im = im.resize((size, size), resample)\n",
    "    return im\n",
    "\n",
    "for index, row in tqdm(study_df[['study_id', 'dcm_path']].iterrows(), total=study_df.shape[0]):\n",
    "    # set keep_ratio=True to have original aspect ratio\n",
    "    xray = read_xray(row['dcm_path'])\n",
    "    im = resize(xray, size=STUDY_DIMS[0])\n",
    "    im.save(os.path.join(study_dir, row['study_id']+'.png'))\n",
    "\n",
    "image_df['dim0'] = -1\n",
    "image_df['dim1'] = -1\n",
    "\n",
    "for index, row in tqdm(image_df[['image_id', 'dcm_path', 'dim0', 'dim1']].iterrows(), total=image_df.shape[0]):\n",
    "    # set keep_ratio=True to have original aspect ratio\n",
    "    xray = read_xray(row['dcm_path'])\n",
    "    im = resize(xray, size=IMAGE_DIMS[0])  \n",
    "    im.save(os.path.join(image_dir, row['image_id']+'.png'))\n",
    "    image_df.loc[image_df.image_id==row.image_id, 'dim0'] = xray.shape[0]\n",
    "    image_df.loc[image_df.image_id==row.image_id, 'dim1'] = xray.shape[1]"
   ]
  },
  {
   "cell_type": "code",
   "execution_count": 6,
   "id": "530b6c8d",
   "metadata": {
    "execution": {
     "iopub.execute_input": "2021-08-09T09:44:28.396020Z",
     "iopub.status.busy": "2021-08-09T09:44:28.394836Z",
     "iopub.status.idle": "2021-08-09T09:44:28.442424Z",
     "shell.execute_reply": "2021-08-09T09:44:28.441858Z",
     "shell.execute_reply.started": "2021-08-08T09:07:30.216394Z"
    },
    "papermill": {
     "duration": 0.194193,
     "end_time": "2021-08-09T09:44:28.442580",
     "exception": false,
     "start_time": "2021-08-09T09:44:28.248387",
     "status": "completed"
    },
    "tags": []
   },
   "outputs": [],
   "source": [
    "study_df['image_path'] = study_dir+study_df['study_id']+'.png'\n",
    "image_df['image_path'] = image_dir+image_df['image_id']+'.png'"
   ]
  },
  {
   "cell_type": "markdown",
   "id": "84ec5a45",
   "metadata": {
    "papermill": {
     "duration": 0.141625,
     "end_time": "2021-08-09T09:44:28.726813",
     "exception": false,
     "start_time": "2021-08-09T09:44:28.585188",
     "status": "completed"
    },
    "tags": []
   },
   "source": [
    "<span style=\"color: #00857e; font-family: Segoe UI; font-size: 1.8em; font-weight: 300;\">Custom Wrapper for Loading TFHub Model trained in TPU</span>\n",
    "\n",
    "Since the EffNetV2 Classifier models were trained on a TPU with the `tfhub.KerasLayer` formed with the handle argument as a GCS path, while loading the saved model for inference, the method tries to download the pre-trained weights from the definition of the layer from training i.e a GCS path.\n",
    "\n",
    "Since, inference notebooks don't have GCS and internet access, it is not possible to load the model without the pretrained weights explicitly loaded from the local directory.\n",
    "\n",
    "If the models were trained on a GPU, we can use the cache location method to load the pre-trained weights by storing them in a cache folder with the hashed key of the model location, as the folder name. I tried this method here but, it doesn't seem to work as the model was trained with a GCS path defined in the `tfhub.KerasLayer` and the method kept on hitting the GCS path rather than loading the weights from the cache location.\n",
    "\n",
    "The only solution was to create a wrapper class to correct the handle argument to load the right pretrained weights explicitly from the local directory."
   ]
  },
  {
   "cell_type": "code",
   "execution_count": 7,
   "id": "954b7817",
   "metadata": {
    "execution": {
     "iopub.execute_input": "2021-08-09T09:44:29.022215Z",
     "iopub.status.busy": "2021-08-09T09:44:29.020900Z",
     "iopub.status.idle": "2021-08-09T09:44:34.267262Z",
     "shell.execute_reply": "2021-08-09T09:44:34.266622Z",
     "shell.execute_reply.started": "2021-08-08T09:07:30.31655Z"
    },
    "papermill": {
     "duration": 5.396874,
     "end_time": "2021-08-09T09:44:34.267467",
     "exception": false,
     "start_time": "2021-08-09T09:44:28.870593",
     "status": "completed"
    },
    "tags": []
   },
   "outputs": [],
   "source": [
    "import tensorflow as tf\n",
    "import tensorflow_hub as tfhub\n",
    "\n",
    "MODEL_ARCH = 'efficientnetv2-l-21k-ft1k'\n",
    "# Get the TensorFlow Hub model URL\n",
    "hub_type = 'feature_vector' # ['classification', 'feature_vector']\n",
    "MODEL_ARCH_PATH = f'/kaggle/input/efficientnetv2-tfhub-weight-files/tfhub_models/{MODEL_ARCH}/{hub_type}'\n",
    "\n",
    "# Custom wrapper class to load the right pretrained weights explicitly from the local directory\n",
    "class KerasLayerWrapper(tfhub.KerasLayer):\n",
    "    def __init__(self, handle, **kwargs):\n",
    "        handle = tfhub.KerasLayer(tfhub.load(MODEL_ARCH_PATH))\n",
    "        super().__init__(handle, **kwargs)"
   ]
  },
  {
   "cell_type": "markdown",
   "id": "3c68a8f7",
   "metadata": {
    "papermill": {
     "duration": 0.146557,
     "end_time": "2021-08-09T09:44:34.559744",
     "exception": false,
     "start_time": "2021-08-09T09:44:34.413187",
     "status": "completed"
    },
    "tags": []
   },
   "source": [
    "<span style=\"color: #00857e; font-family: Segoe UI; font-size: 1.8em; font-weight: 300;\">Predict Study Level</span>"
   ]
  },
  {
   "cell_type": "code",
   "execution_count": 8,
   "id": "b0a95906",
   "metadata": {
    "execution": {
     "iopub.execute_input": "2021-08-09T09:44:34.867500Z",
     "iopub.status.busy": "2021-08-09T09:44:34.864658Z",
     "iopub.status.idle": "2021-08-09T09:44:34.936913Z",
     "shell.execute_reply": "2021-08-09T09:44:34.936311Z",
     "shell.execute_reply.started": "2021-08-08T09:37:36.637753Z"
    },
    "papermill": {
     "duration": 0.235057,
     "end_time": "2021-08-09T09:44:34.937072",
     "exception": false,
     "start_time": "2021-08-09T09:44:34.702015",
     "status": "completed"
    },
    "tags": []
   },
   "outputs": [],
   "source": [
    "import tensorflow.keras.backend as K\n",
    "import math\n",
    "SATURATION  = (0.9, 1.1)\n",
    "CONTRAST = (0.9, 1.1)\n",
    "BRIGHTNESS  =  0.1\n",
    "ROTATION    = 10.0\n",
    "SHEAR    = 2.0\n",
    "HZOOM  = 8.0\n",
    "WZOOM  = 4.0\n",
    "HSHIFT = 4.0\n",
    "WSHIFT = 4.0\n",
    "\n",
    "def get_mat(rotation, shear, height_zoom, width_zoom, height_shift, width_shift):\n",
    "    # returns 3x3 transformmatrix which transforms indicies\n",
    "        \n",
    "    # CONVERT DEGREES TO RADIANS\n",
    "    rotation = math.pi * rotation / 180.\n",
    "    shear    = math.pi * shear    / 180.\n",
    "\n",
    "    def get_3x3_mat(lst):\n",
    "        return tf.reshape(tf.concat([lst],axis=0), [3,3])\n",
    "    \n",
    "    # ROTATION MATRIX\n",
    "    c1   = tf.math.cos(rotation)\n",
    "    s1   = tf.math.sin(rotation)\n",
    "    one  = tf.constant([1],dtype='float32')\n",
    "    zero = tf.constant([0],dtype='float32')\n",
    "    \n",
    "    rotation_matrix = get_3x3_mat([c1,   s1,   zero, \n",
    "                                   -s1,  c1,   zero, \n",
    "                                   zero, zero, one])    \n",
    "    # SHEAR MATRIX\n",
    "    c2 = tf.math.cos(shear)\n",
    "    s2 = tf.math.sin(shear)    \n",
    "    \n",
    "    shear_matrix = get_3x3_mat([one,  s2,   zero, \n",
    "                                zero, c2,   zero, \n",
    "                                zero, zero, one])        \n",
    "    # ZOOM MATRIX\n",
    "    zoom_matrix = get_3x3_mat([one/height_zoom, zero,           zero, \n",
    "                               zero,            one/width_zoom, zero, \n",
    "                               zero,            zero,           one])    \n",
    "    # SHIFT MATRIX\n",
    "    shift_matrix = get_3x3_mat([one,  zero, height_shift, \n",
    "                                zero, one,  width_shift, \n",
    "                                zero, zero, one])\n",
    "    \n",
    "    return K.dot(K.dot(rotation_matrix, shear_matrix), \n",
    "                 K.dot(zoom_matrix,     shift_matrix))\n",
    "\n",
    "\n",
    "def transform(image):\n",
    "    # input image - is one image of size [dim,dim,3] not a batch of [b,dim,dim,3]\n",
    "    # output - image randomly rotated, sheared, zoomed, and shifted\n",
    "    DIM = STUDY_DIMS[0]\n",
    "    XDIM = DIM%2\n",
    "    \n",
    "    rot = ROTATION * tf.random.normal([1], dtype='float32')\n",
    "    shr = SHEAR * tf.random.normal([1], dtype='float32')\n",
    "    h_zoom = 1.0 + tf.random.normal([1], dtype='float32') / HZOOM\n",
    "    w_zoom = 1.0 + tf.random.normal([1], dtype='float32') / WZOOM\n",
    "    h_shift = HSHIFT * tf.random.normal([1], dtype='float32')\n",
    "    w_shift = WSHIFT * tf.random.normal([1], dtype='float32')\n",
    "  \n",
    "    # GET TRANSFORMATION MATRIX\n",
    "    m = get_mat(rot, shr, h_zoom, w_zoom, h_shift, w_shift) \n",
    "\n",
    "    # LIST DESTINATION PIXEL INDICES\n",
    "    x = tf.repeat( tf.range(DIM//2,-DIM//2,-1), DIM )\n",
    "    y = tf.tile( tf.range(-DIM//2,DIM//2),[DIM] )\n",
    "    z = tf.ones([DIM*DIM],dtype='int32')\n",
    "    idx = tf.stack( [x,y,z] )\n",
    "    \n",
    "    # ROTATE DESTINATION PIXELS ONTO ORIGIN PIXELS\n",
    "    idx2 = K.dot(m,tf.cast(idx,dtype='float32'))\n",
    "    idx2 = K.cast(idx2,dtype='int32')\n",
    "    idx2 = K.clip(idx2,-DIM//2+XDIM+1,DIM//2)\n",
    "    \n",
    "    # FIND ORIGIN PIXEL VALUES           \n",
    "    idx3 = tf.stack( [DIM//2-idx2[0,], DIM//2-1+idx2[1,]] )\n",
    "    d = tf.gather_nd(image,tf.transpose(idx3))\n",
    "        \n",
    "    return tf.reshape(d,[DIM,DIM,3])\n",
    "\n",
    "\n",
    "def build_augmenter_V2(with_labels=True):\n",
    "    \n",
    "    def augment_v2(img):\n",
    "        img = tf.image.random_flip_left_right(img)\n",
    "        img = tf.image.random_saturation(img, SATURATION[0], SATURATION[1])\n",
    "        img = tf.image.random_contrast(img, CONTRAST[0], CONTRAST[1])\n",
    "        img = tf.image.random_brightness(img, BRIGHTNESS)\n",
    "        return img\n",
    "    return augment_v2"
   ]
  },
  {
   "cell_type": "code",
   "execution_count": 9,
   "id": "b5fbef2d",
   "metadata": {
    "execution": {
     "iopub.execute_input": "2021-08-09T09:44:35.243968Z",
     "iopub.status.busy": "2021-08-09T09:44:35.242776Z",
     "iopub.status.idle": "2021-08-09T09:44:35.314971Z",
     "shell.execute_reply": "2021-08-09T09:44:35.314442Z",
     "shell.execute_reply.started": "2021-08-08T09:35:50.388086Z"
    },
    "papermill": {
     "duration": 0.232346,
     "end_time": "2021-08-09T09:44:35.315106",
     "exception": false,
     "start_time": "2021-08-09T09:44:35.082760",
     "status": "completed"
    },
    "tags": []
   },
   "outputs": [],
   "source": [
    "MODEL_PATH = '/kaggle/input/siim-effnetv2-keras-study-train'\n",
    "test_paths = study_df.image_path.tolist()\n",
    "BATCH_SIZE = 16\n",
    "\n",
    "def build_decoder(with_labels=True, target_size=(300, 300), ext='jpg'):\n",
    "    def decode(path):\n",
    "        file_bytes = tf.io.read_file(path)\n",
    "        if ext == 'png':\n",
    "            img = tf.image.decode_png(file_bytes, channels=3)\n",
    "        elif ext in ['jpg', 'jpeg']:\n",
    "            img = tf.image.decode_jpeg(file_bytes, channels=3)\n",
    "        else:\n",
    "            raise ValueError(\"Image extension not supported\")\n",
    "        \n",
    "        img = tf.cast(img, tf.float32) / 255.0\n",
    "        img = tf.image.resize(img, target_size)\n",
    "\n",
    "        return img\n",
    "\n",
    "    def decode_with_labels(path, label):\n",
    "        return decode(path), label\n",
    "\n",
    "    return decode_with_labels if with_labels else decode\n",
    "\n",
    "def build_augmenter(with_labels=True):\n",
    "    def augment(img):\n",
    "        img = tf.image.random_flip_left_right(img)\n",
    "        #img = tf.image.random_flip_up_down(img)\n",
    "        random_number = random.randint(0, 2)\n",
    "        if random_number == 1:\n",
    "            img = tf.image.adjust_brightness(img, 0.8)\n",
    "        if random_number == 2:\n",
    "            img = tf.image.adjust_brightness(img, 0.4)\n",
    "        return img\n",
    "\n",
    "    def augment_with_labels(img, label):\n",
    "        return augment(img), label\n",
    "\n",
    "    return augment_with_labels if with_labels else augment\n",
    "\n",
    "def build_dataset(paths, labels=None, bsize=32, cache=True,\n",
    "                  decode_fn=None, augment_fn=None,augment_V2=False,\n",
    "                  augment=True, repeat=True, shuffle=1024, \n",
    "                  cache_dir=\"\"):\n",
    "    if cache_dir != \"\" and cache is True:\n",
    "        os.makedirs(cache_dir, exist_ok=True)\n",
    "\n",
    "    if decode_fn is None:\n",
    "        decode_fn = build_decoder(labels is not None)\n",
    "\n",
    "    if augment_fn is None:\n",
    "        augment_fn = build_augmenter(labels is not None)\n",
    "   \n",
    "    if augment_V2 is True:\n",
    "        augment_fn = build_augmenter_V2(labels is not None)\n",
    "            \n",
    "    AUTO = tf.data.experimental.AUTOTUNE\n",
    "    slices = paths if labels is None else (paths, labels)\n",
    "\n",
    "    dset = tf.data.Dataset.from_tensor_slices(slices)\n",
    "    dset = dset.map(decode_fn, num_parallel_calls=AUTO)\n",
    "    dset = dset.cache(cache_dir) if cache else dset\n",
    "    dset = dset.map(augment_fn, num_parallel_calls=AUTO) if augment else dset\n",
    "    dset = dset.map(transform, num_parallel_calls=AUTO) if augment_V2 else dset\n",
    "    dset = dset.map(augment_fn, num_parallel_calls=AUTO) if augment_V2 else dset\n",
    "    dset = dset.repeat() if repeat else dset\n",
    "    dset = dset.shuffle(shuffle) if shuffle else dset\n",
    "    dset = dset.batch(bsize).prefetch(AUTO)\n",
    "\n",
    "    return dset\n",
    "\n",
    "# strategy = auto_select_accelerator()\n",
    "# BATCH_SIZE = strategy.num_replicas_in_sync * 16\n",
    "\n",
    "label_cols = ['negative', 'typical', 'indeterminate', 'atypical']\n",
    "study_df[label_cols] = 0\n",
    "\n"
   ]
  },
  {
   "cell_type": "code",
   "execution_count": 10,
   "id": "1a9f46b0",
   "metadata": {
    "execution": {
     "iopub.execute_input": "2021-08-09T09:44:35.612153Z",
     "iopub.status.busy": "2021-08-09T09:44:35.611068Z",
     "iopub.status.idle": "2021-08-09T09:48:35.996057Z",
     "shell.execute_reply": "2021-08-09T09:48:35.994932Z",
     "shell.execute_reply.started": "2021-08-08T09:37:42.957268Z"
    },
    "papermill": {
     "duration": 240.539243,
     "end_time": "2021-08-09T09:48:35.996311",
     "exception": false,
     "start_time": "2021-08-09T09:44:35.457068",
     "status": "completed"
    },
    "tags": []
   },
   "outputs": [],
   "source": [
    "\n",
    "test_decoder = build_decoder(with_labels=False,\n",
    "                             target_size=(STUDY_DIMS[0],\n",
    "                                          STUDY_DIMS[0]), ext='png')\n",
    "test_dataset = build_dataset(\n",
    "    test_paths, bsize=BATCH_SIZE, repeat=False, \n",
    "    shuffle=False, augment=False,augment_V2=False, cache=False,\n",
    "    decode_fn=test_decoder\n",
    ")\n",
    "\n",
    "\n",
    "\n",
    "with tf.device('/device:GPU:0'):\n",
    "    models = []\n",
    "    model0 = tf.keras.models.load_model(f'{MODEL_PATH}/model0.h5',\n",
    "                                         custom_objects={'KerasLayer': KerasLayerWrapper})\n",
    "    model1 = tf.keras.models.load_model(f'{MODEL_PATH}/model1.h5',\n",
    "                                         custom_objects={'KerasLayer': KerasLayerWrapper})\n",
    "    model2 = tf.keras.models.load_model(f'{MODEL_PATH}/model2.h5',\n",
    "                                         custom_objects={'KerasLayer': KerasLayerWrapper})\n",
    "    model3 = tf.keras.models.load_model(f'{MODEL_PATH}/model3.h5',\n",
    "                                         custom_objects={'KerasLayer': KerasLayerWrapper})\n",
    "    model4 = tf.keras.models.load_model(f'{MODEL_PATH}/model4.h5',\n",
    "                                         custom_objects={'KerasLayer': KerasLayerWrapper})\n",
    "    models.append(model0)\n",
    "    models.append(model1)\n",
    "    models.append(model2)\n",
    "    models.append(model3)\n",
    "    models.append(model4)"
   ]
  },
  {
   "cell_type": "code",
   "execution_count": 11,
   "id": "b146f68d",
   "metadata": {
    "execution": {
     "iopub.execute_input": "2021-08-09T09:48:36.300253Z",
     "iopub.status.busy": "2021-08-09T09:48:36.299120Z",
     "iopub.status.idle": "2021-08-09T09:50:30.903555Z",
     "shell.execute_reply": "2021-08-09T09:50:30.902902Z",
     "shell.execute_reply.started": "2021-08-08T09:40:47.589411Z"
    },
    "papermill": {
     "duration": 114.760074,
     "end_time": "2021-08-09T09:50:30.903720",
     "exception": false,
     "start_time": "2021-08-09T09:48:36.143646",
     "status": "completed"
    },
    "tags": []
   },
   "outputs": [],
   "source": [
    "import efficientnet.tfkeras as efn\n",
    "test_decoder2 = build_decoder(with_labels=False,\n",
    "                             target_size=(STUDY_2_DIMS[0],\n",
    "                                          STUDY_2_DIMS[0]), ext='png')\n",
    "test_dataset2 = build_dataset(\n",
    "    test_paths, bsize=BATCH_SIZE, repeat=False, \n",
    "    shuffle=False, augment=False, cache=False,\n",
    "    decode_fn=test_decoder2\n",
    ")\n",
    "\n",
    "with tf.device('/device:GPU:0'):\n",
    "    models2 = []\n",
    "     \n",
    "    model5 = tf.keras.models.load_model(\n",
    "        '/kaggle/input/siimcovid19efnb7-train-study/model0.h5'\n",
    "    )\n",
    "    model6 = tf.keras.models.load_model(\n",
    "        '/kaggle/input/siimcovid19efnb7-train-study/model1.h5'\n",
    "    )\n",
    "    model7 = tf.keras.models.load_model(\n",
    "        '/kaggle/input/siimcovid19efnb7-train-study/model2.h5'\n",
    "    )\n",
    "    model8 = tf.keras.models.load_model(\n",
    "        '/kaggle/input/siimcovid19efnb7-train-study/model3.h5'\n",
    "    )\n",
    "    model9 = tf.keras.models.load_model(\n",
    "        '/kaggle/input/siimcovid19efnb7-train-study/model4.h5'\n",
    "    )\n",
    "    \n",
    "    \n",
    "    models2.append(model5)\n",
    "    models2.append(model6)\n",
    "    models2.append(model7)\n",
    "    models2.append(model8)\n",
    "    models2.append(model9)"
   ]
  },
  {
   "cell_type": "code",
   "execution_count": 12,
   "id": "0e78eca1",
   "metadata": {
    "execution": {
     "iopub.execute_input": "2021-08-09T09:50:31.195456Z",
     "iopub.status.busy": "2021-08-09T09:50:31.194374Z",
     "iopub.status.idle": "2021-08-09T09:52:36.219881Z",
     "shell.execute_reply": "2021-08-09T09:52:36.220463Z",
     "shell.execute_reply.started": "2021-08-08T09:44:45.124678Z"
    },
    "papermill": {
     "duration": 125.173807,
     "end_time": "2021-08-09T09:52:36.220692",
     "exception": false,
     "start_time": "2021-08-09T09:50:31.046885",
     "status": "completed"
    },
    "tags": []
   },
   "outputs": [],
   "source": [
    "test_decoder3 = build_decoder(with_labels=False,\n",
    "                             target_size=(STUDY_3_DIMS[0],\n",
    "                                          STUDY_3_DIMS[0]), ext='png')\n",
    "test_dataset3 = build_dataset(\n",
    "    test_paths, bsize=BATCH_SIZE, repeat=False, \n",
    "    shuffle=False,augment=False, augment_V2=False, cache=False,\n",
    "    decode_fn=test_decoder3\n",
    ")\n",
    "\n",
    "with tf.device('/device:GPU:0'):\n",
    "    models3 = []\n",
    "     \n",
    "    model10 = tf.keras.models.load_model(\n",
    "        '/kaggle/input/ext-data-vinbig-augs/model0.h5'\n",
    "    )\n",
    "    model11 = tf.keras.models.load_model(\n",
    "        '/kaggle/input/ext-data-vinbig-augs/model1.h5'\n",
    "    )\n",
    "    model12 = tf.keras.models.load_model(\n",
    "        '/kaggle/input/ext-data-vinbig-augs/model2.h5'\n",
    "    )\n",
    "    model13 = tf.keras.models.load_model(\n",
    "        '/kaggle/input/ext-data-vinbig-augs/model3.h5'\n",
    "    )\n",
    "    model14 = tf.keras.models.load_model(\n",
    "        '/kaggle/input/ext-data-vinbig-augs/model4.h5'\n",
    "    )\n",
    "    \n",
    "    \n",
    "    models3.append(model10)\n",
    "    models3.append(model11)\n",
    "    models3.append(model12)\n",
    "    models3.append(model13)\n",
    "    models3.append(model14)"
   ]
  },
  {
   "cell_type": "code",
   "execution_count": 13,
   "id": "f8a70bce",
   "metadata": {
    "execution": {
     "iopub.execute_input": "2021-08-09T09:52:36.551500Z",
     "iopub.status.busy": "2021-08-09T09:52:36.550449Z",
     "iopub.status.idle": "2021-08-09T09:52:36.638314Z",
     "shell.execute_reply": "2021-08-09T09:52:36.637631Z",
     "shell.execute_reply.started": "2021-08-08T09:43:05.682753Z"
    },
    "papermill": {
     "duration": 0.273602,
     "end_time": "2021-08-09T09:52:36.638471",
     "exception": false,
     "start_time": "2021-08-09T09:52:36.364869",
     "status": "completed"
    },
    "tags": []
   },
   "outputs": [],
   "source": [
    "weights = {\n",
    "    0: 3,\n",
    "    1: 2,\n",
    "    2: 2,\n",
    "    3: 3,\n",
    "    4: 2,\n",
    "    5: 1,\n",
    "    6: 1,\n",
    "    7: 1,\n",
    "    8: 1,\n",
    "    9: 2,\n",
    "    10: 1,\n",
    "    11: 1,\n",
    "    12: 1,\n",
    "    13: 2,\n",
    "    14: 2\n",
    "}\n",
    "\n",
    "weights_sum = sum(weights.values())\n",
    "weights = {k: v/weights_sum for k, v in weights.items()}"
   ]
  },
  {
   "cell_type": "code",
   "execution_count": 14,
   "id": "9d3a6298",
   "metadata": {
    "execution": {
     "iopub.execute_input": "2021-08-09T09:52:36.932901Z",
     "iopub.status.busy": "2021-08-09T09:52:36.931794Z",
     "iopub.status.idle": "2021-08-09T09:54:04.155002Z",
     "shell.execute_reply": "2021-08-09T09:54:04.154461Z",
     "shell.execute_reply.started": "2021-08-08T09:47:00.574506Z"
    },
    "papermill": {
     "duration": 87.371753,
     "end_time": "2021-08-09T09:54:04.155184",
     "exception": false,
     "start_time": "2021-08-09T09:52:36.783431",
     "status": "completed"
    },
    "tags": []
   },
   "outputs": [
    {
     "name": "stdout",
     "output_type": "stream",
     "text": [
      "1/1 [==============================] - 13s 13s/step\n",
      "1/1 [==============================] - 5s 5s/step\n",
      "1/1 [==============================] - 5s 5s/step\n",
      "1/1 [==============================] - 5s 5s/step\n",
      "1/1 [==============================] - 5s 5s/step\n",
      "1/1 [==============================] - 7s 7s/step\n",
      "1/1 [==============================] - 5s 5s/step\n",
      "1/1 [==============================] - 5s 5s/step\n",
      "1/1 [==============================] - 9s 9s/step\n",
      "1/1 [==============================] - 5s 5s/step\n",
      "1/1 [==============================] - 5s 5s/step\n",
      "1/1 [==============================] - 5s 5s/step\n",
      "1/1 [==============================] - 4s 4s/step\n",
      "1/1 [==============================] - 4s 4s/step\n",
      "1/1 [==============================] - 4s 4s/step\n"
     ]
    }
   ],
   "source": [
    "predictions2 = [model.predict(test_dataset2, verbose=1) for model in models2]\n",
    "predictions3 = [model.predict(test_dataset3, verbose=1) for model in models3]\n",
    "\n",
    "predictions = [model.predict(test_dataset, verbose=1) for model in models]\n",
    "predictions = predictions + predictions2 + predictions3\n",
    "for i, pred in enumerate(predictions):\n",
    "    #print(i,pred)\n",
    "    predictions[i] = weights[i] * pred\n",
    "    \n",
    "study_df[label_cols] = sum(predictions)  \n",
    "#study_df[label_cols] = sum([model.predict(test_dataset, verbose=1) for model in models]) / len(models)\n",
    "study_df['PredictionString'] = study_df[label_cols].apply(lambda row: f'negative {row.negative} 0 0 1 1 typical {row.typical} 0 0 1 1 indeterminate {row.indeterminate} 0 0 1 1 atypical {row.atypical} 0 0 1 1', axis=1)\n",
    "\n"
   ]
  },
  {
   "cell_type": "code",
   "execution_count": 15,
   "id": "cc646585",
   "metadata": {
    "execution": {
     "iopub.execute_input": "2021-08-09T09:54:04.464550Z",
     "iopub.status.busy": "2021-08-09T09:54:04.463503Z",
     "iopub.status.idle": "2021-08-09T09:54:22.412051Z",
     "shell.execute_reply": "2021-08-09T09:54:22.411051Z"
    },
    "papermill": {
     "duration": 18.105744,
     "end_time": "2021-08-09T09:54:22.412260",
     "exception": false,
     "start_time": "2021-08-09T09:54:04.306516",
     "status": "completed"
    },
    "tags": []
   },
   "outputs": [
    {
     "data": {
      "text/plain": [
       "5622563"
      ]
     },
     "execution_count": 15,
     "metadata": {},
     "output_type": "execute_result"
    }
   ],
   "source": [
    "del models\n",
    "del models2\n",
    "del models3\n",
    "del model0, model1,model2, model3, model4\n",
    "del model5, model6, model7, model8, model9\n",
    "del model10, model11, model12, model13, model14\n",
    "del test_dataset, test_decoder\n",
    "del test_dataset2, test_decoder2\n",
    "del test_dataset3, test_decoder3\n",
    "gc.collect()"
   ]
  },
  {
   "cell_type": "markdown",
   "id": "303fc50c",
   "metadata": {
    "papermill": {
     "duration": 0.156128,
     "end_time": "2021-08-09T09:54:22.722972",
     "exception": false,
     "start_time": "2021-08-09T09:54:22.566844",
     "status": "completed"
    },
    "tags": []
   },
   "source": [
    "<span style=\"color: #00857e; font-family: Segoe UI; font-size: 1.8em; font-weight: 300;\">Predict 2Class Image Level</span>\n",
    "\n",
    "Using [@Alien](https://www.kaggle.com/h053473666) 2class model."
   ]
  },
  {
   "cell_type": "code",
   "execution_count": 16,
   "id": "a3b73d54",
   "metadata": {
    "execution": {
     "iopub.execute_input": "2021-08-09T09:54:23.074076Z",
     "iopub.status.busy": "2021-08-09T09:54:23.073034Z",
     "iopub.status.idle": "2021-08-09T09:59:19.373564Z",
     "shell.execute_reply": "2021-08-09T09:59:19.372840Z"
    },
    "papermill": {
     "duration": 296.498129,
     "end_time": "2021-08-09T09:59:19.373755",
     "exception": false,
     "start_time": "2021-08-09T09:54:22.875626",
     "status": "completed"
    },
    "tags": []
   },
   "outputs": [],
   "source": [
    "import efficientnet.tfkeras as efn\n",
    "\n",
    "\n",
    "\n",
    "test_paths = image_df.image_path.tolist()\n",
    "image_df['none'] = 0\n",
    "label_cols = ['none']\n",
    "\n",
    "test_decoder = build_decoder(with_labels=False,\n",
    "                             target_size=(IMAGE_DIMS[0],\n",
    "                                          IMAGE_DIMS[0]), ext='png')\n",
    "dtest = build_dataset(\n",
    "    test_paths, bsize=BATCH_SIZE, repeat=False, \n",
    "    shuffle=False, augment=False, cache=False,\n",
    "    decode_fn=test_decoder\n",
    ")\n",
    "\n",
    "\n",
    "with tf.device('/device:GPU:0'):\n",
    "    models = []\n",
    "    models0 = tf.keras.models.load_model(\n",
    "        '/kaggle/input/siimcovid19efnb7-train-fold05-2class/model0.h5'\n",
    "    )\n",
    "    models1 = tf.keras.models.load_model(\n",
    "        '/kaggle/input/siimcovid19efnb7-train-fold05-2class/model1.h5'\n",
    "    )\n",
    "    models2 = tf.keras.models.load_model(\n",
    "        '/kaggle/input/siimcovid19efnb7-train-fold05-2class/model2.h5'\n",
    "    )\n",
    "    models3 = tf.keras.models.load_model(\n",
    "        '/kaggle/input/siimcovid19efnb7-train-fold05-2class/model3.h5'\n",
    "    )\n",
    "    models4 = tf.keras.models.load_model(\n",
    "        '/kaggle/input/siimcovid19efnb7-train-fold05-2class/model4.h5'\n",
    "    )\n",
    "\n",
    "    models5 = tf.keras.models.load_model(\n",
    "        '/kaggle/input/tf-with-efficientnet-train-lior/model0.h5'\n",
    "    )\n",
    "    models6 = tf.keras.models.load_model(\n",
    "        '/kaggle/input/tf-with-efficientnet-train-lior/model1.h5'\n",
    "    )\n",
    "    models7 = tf.keras.models.load_model(\n",
    "        '/kaggle/input/tf-with-efficientnet-train-lior/model2.h5'\n",
    "    )\n",
    "    models8 = tf.keras.models.load_model(\n",
    "        '/kaggle/input/tf-with-efficientnet-train-lior/model3.h5'\n",
    "    )\n",
    "    models9 = tf.keras.models.load_model(\n",
    "        '/kaggle/input/tf-with-efficientnet-train-lior/model4.h5'\n",
    "    )\n",
    "    \n",
    "    models10 = tf.keras.models.load_model(\n",
    "        '/kaggle/input/efnb5-train-fold05-2class-lior/model0.h5'\n",
    "    )\n",
    "    models11 = tf.keras.models.load_model(\n",
    "        '/kaggle/input/efnb5-train-fold05-2class-lior/model1.h5'\n",
    "    )\n",
    "    models12 = tf.keras.models.load_model(\n",
    "        '/kaggle/input/efnb5-train-fold05-2class-lior/model2.h5'\n",
    "    )\n",
    "    models13 = tf.keras.models.load_model(\n",
    "        '/kaggle/input/efnb5-train-fold05-2class-lior/model3.h5'\n",
    "    )\n",
    "    models14 = tf.keras.models.load_model(\n",
    "        '/kaggle/input/efnb5-train-fold05-2class-lior/model4.h5'\n",
    "    )\n",
    "    \n",
    "    \n",
    "    models.append(models0)\n",
    "    models.append(models1)\n",
    "    models.append(models2)\n",
    "    models.append(models3)\n",
    "    models.append(models4)\n",
    "    \n",
    "    models.append(models5)\n",
    "    models.append(models6)\n",
    "    models.append(models7)\n",
    "    models.append(models8)\n",
    "    models.append(models9)\n",
    "    \n",
    "    models.append(models10) \n",
    "    models.append(models11)\n",
    "    models.append(models12)\n",
    "    models.append(models13)\n",
    "    models.append(models14)\n"
   ]
  },
  {
   "cell_type": "code",
   "execution_count": 17,
   "id": "9dc2f618",
   "metadata": {
    "execution": {
     "iopub.execute_input": "2021-08-09T09:59:19.695068Z",
     "iopub.status.busy": "2021-08-09T09:59:19.693996Z",
     "iopub.status.idle": "2021-08-09T10:00:37.113457Z",
     "shell.execute_reply": "2021-08-09T10:00:37.112836Z"
    },
    "papermill": {
     "duration": 77.585038,
     "end_time": "2021-08-09T10:00:37.113628",
     "exception": false,
     "start_time": "2021-08-09T09:59:19.528590",
     "status": "completed"
    },
    "tags": []
   },
   "outputs": [
    {
     "name": "stdout",
     "output_type": "stream",
     "text": [
      "1/1 [==============================] - 5s 5s/step\n",
      "1/1 [==============================] - 5s 5s/step\n",
      "1/1 [==============================] - 5s 5s/step\n",
      "1/1 [==============================] - 5s 5s/step\n",
      "1/1 [==============================] - 7s 7s/step\n",
      "1/1 [==============================] - 5s 5s/step\n",
      "1/1 [==============================] - 5s 5s/step\n",
      "1/1 [==============================] - 5s 5s/step\n",
      "1/1 [==============================] - 5s 5s/step\n",
      "1/1 [==============================] - 5s 5s/step\n",
      "1/1 [==============================] - 4s 4s/step\n",
      "1/1 [==============================] - 4s 4s/step\n",
      "1/1 [==============================] - 4s 4s/step\n",
      "1/1 [==============================] - 4s 4s/step\n",
      "1/1 [==============================] - 3s 3s/step\n"
     ]
    },
    {
     "data": {
      "text/plain": [
       "1202539"
      ]
     },
     "execution_count": 17,
     "metadata": {},
     "output_type": "execute_result"
    }
   ],
   "source": [
    "\n",
    "weights = {\n",
    "    0: 3,\n",
    "    1: 2,\n",
    "    2: 1,\n",
    "    3: 2,\n",
    "    4: 2,\n",
    "    5: 1,\n",
    "    6: 2,\n",
    "    7: 1,\n",
    "    8: 1,\n",
    "    9: 2,   \n",
    "    10: 1,\n",
    "    11: 1,\n",
    "    12: 2,\n",
    "    13: 2,\n",
    "    14: 1\n",
    "}\n",
    "\n",
    "weights_sum = sum(weights.values())\n",
    "weights = {k: v/weights_sum for k, v in weights.items()}\n",
    "\n",
    "predictions = [model.predict(dtest, verbose=1) for model in models]\n",
    "#predictions2 = [model.predict(test_dataset2, verbose=1) for model in models_2]\n",
    "predictions = predictions#+predictions2\n",
    "for i, pred in enumerate(predictions):\n",
    "    predictions[i] = weights[i] * pred\n",
    "    \n",
    "image_df[label_cols] = sum(predictions)\n",
    "#sub_df[label_cols] = sum([model.predict(dtest, verbose=1) for model in models]) / len(models)\n",
    "image_df = image_df.reset_index(drop=True)\n",
    "\n",
    "\n",
    "del models#,models_2\n",
    "del models0, models1, models2, models3, models4\n",
    "del models5, models6, models7, models8, models9\n",
    "del models10, models11, models12, models13, models14\n",
    "#del models15, models16, models17, models18, models19\n",
    "del dtest, test_decoder\n",
    "#del test_dataset2, test_decoder2\n",
    "gc.collect()"
   ]
  },
  {
   "cell_type": "code",
   "execution_count": null,
   "id": "0a747fe8",
   "metadata": {
    "papermill": {
     "duration": 0.1637,
     "end_time": "2021-08-09T10:00:37.442510",
     "exception": false,
     "start_time": "2021-08-09T10:00:37.278810",
     "status": "completed"
    },
    "tags": []
   },
   "outputs": [],
   "source": []
  },
  {
   "cell_type": "markdown",
   "id": "325e8cb4",
   "metadata": {
    "papermill": {
     "duration": 0.178904,
     "end_time": "2021-08-09T10:00:37.786311",
     "exception": false,
     "start_time": "2021-08-09T10:00:37.607407",
     "status": "completed"
    },
    "tags": []
   },
   "source": [
    "<span style=\"color: #00857e; font-family: Segoe UI; font-size: 1.8em; font-weight: 300;\">Predict Image Level</span>"
   ]
  },
  {
   "cell_type": "code",
   "execution_count": 18,
   "id": "226cc57e",
   "metadata": {
    "execution": {
     "iopub.execute_input": "2021-08-09T10:00:38.127440Z",
     "iopub.status.busy": "2021-08-09T10:00:38.126387Z",
     "iopub.status.idle": "2021-08-09T10:00:41.627680Z",
     "shell.execute_reply": "2021-08-09T10:00:41.627073Z"
    },
    "papermill": {
     "duration": 3.675287,
     "end_time": "2021-08-09T10:00:41.627835",
     "exception": false,
     "start_time": "2021-08-09T10:00:37.952548",
     "status": "completed"
    },
    "tags": []
   },
   "outputs": [
    {
     "data": {
      "text/plain": [
       "<weakproxy at 0x7fb3eb857470 to Device at 0x7fb423fdc450>"
      ]
     },
     "execution_count": 18,
     "metadata": {},
     "output_type": "execute_result"
    }
   ],
   "source": [
    "from numba import cuda\n",
    "import torch\n",
    "cuda.select_device(0)\n",
    "cuda.close()\n",
    "cuda.select_device(0)"
   ]
  },
  {
   "cell_type": "code",
   "execution_count": 19,
   "id": "8d7fa4f2",
   "metadata": {
    "execution": {
     "iopub.execute_input": "2021-08-09T10:00:41.965914Z",
     "iopub.status.busy": "2021-08-09T10:00:41.964835Z",
     "iopub.status.idle": "2021-08-09T10:01:09.740960Z",
     "shell.execute_reply": "2021-08-09T10:01:09.739757Z"
    },
    "papermill": {
     "duration": 27.948055,
     "end_time": "2021-08-09T10:01:09.741120",
     "exception": false,
     "start_time": "2021-08-09T10:00:41.793065",
     "status": "completed"
    },
    "tags": []
   },
   "outputs": [
    {
     "name": "stdout",
     "output_type": "stream",
     "text": [
      "cuda\n",
      "1.7.0+cu110 True\n",
      "11.0\n",
      "GCC 7.3\n"
     ]
    }
   ],
   "source": [
    "from tqdm.notebook import tqdm\n",
    "\n",
    "import torch\n",
    "device = torch.device(\"cuda\") if torch.cuda.is_available() else torch.device(\"cpu\")\n",
    "print(device.type)\n",
    "\n",
    "import torchvision\n",
    "print(torch.__version__, torch.cuda.is_available())\n",
    "\n",
    "# Check mmcv installation\n",
    "from mmcv.ops import get_compiling_cuda_version, get_compiler_version\n",
    "print(get_compiling_cuda_version())\n",
    "print(get_compiler_version())\n",
    "\n",
    "# Check MMDetection installation\n",
    "from mmdet.apis import set_random_seed\n",
    "\n",
    "# Imports\n",
    "import mmdet\n",
    "from mmdet.apis import set_random_seed\n",
    "from mmdet.datasets import build_dataset\n",
    "from mmdet.models import build_detector\n",
    "\n",
    "import mmcv\n",
    "from mmcv import Config\n",
    "from mmcv.runner import load_checkpoint\n",
    "from mmcv.parallel import MMDataParallel\n",
    "from mmdet.apis import inference_detector, init_detector, show_result_pyplot\n",
    "from mmdet.apis import single_gpu_test\n",
    "from mmdet.datasets import build_dataloader, build_dataset"
   ]
  },
  {
   "cell_type": "code",
   "execution_count": 20,
   "id": "a652937d",
   "metadata": {
    "execution": {
     "iopub.execute_input": "2021-08-09T10:01:10.095718Z",
     "iopub.status.busy": "2021-08-09T10:01:10.094635Z",
     "iopub.status.idle": "2021-08-09T10:01:10.185832Z",
     "shell.execute_reply": "2021-08-09T10:01:10.185202Z"
    },
    "papermill": {
     "duration": 0.278103,
     "end_time": "2021-08-09T10:01:10.185981",
     "exception": false,
     "start_time": "2021-08-09T10:01:09.907878",
     "status": "completed"
    },
    "tags": []
   },
   "outputs": [],
   "source": [
    "import cv2\n",
    "import matplotlib.pyplot as plt\n",
    "\n",
    "label2color = [[59, 238, 119]]\n",
    "\n",
    "viz_labels =  [\"Covid_Abnormality\"]\n",
    "\n",
    "def plot_img(img, size=(18, 18), is_rgb=True, title=\"\", cmap=None):\n",
    "    plt.figure(figsize=size)\n",
    "    plt.imshow(img, cmap=cmap)\n",
    "    plt.suptitle(title)\n",
    "    plt.show()\n",
    "    \n",
    "def plot_imgs(imgs, cols=2, size=10, is_rgb=True, title=\"\", cmap=None, img_size=None):\n",
    "    rows = len(imgs)//cols + 1\n",
    "    fig = plt.figure(figsize=(cols*size, rows*size))\n",
    "    for i, img in enumerate(imgs):\n",
    "        if img_size is not None:\n",
    "            img = cv2.resize(img, img_size)\n",
    "        fig.add_subplot(rows, cols, i+1)\n",
    "        plt.imshow(img, cmap=cmap)\n",
    "    plt.suptitle(title)\n",
    "    return fig\n",
    "    \n",
    "def draw_bbox(image, box, label, color):   \n",
    "    alpha = 0.1\n",
    "    alpha_font = 0.6\n",
    "    thickness = 8\n",
    "    font_size = 2.0\n",
    "    font_weight = 1\n",
    "    overlay_bbox = image.copy()\n",
    "    overlay_text = image.copy()\n",
    "    output = image.copy()\n",
    "\n",
    "    text_width, text_height = cv2.getTextSize(label.upper(), cv2.FONT_HERSHEY_SIMPLEX, font_size, font_weight)[0]\n",
    "    cv2.rectangle(overlay_bbox, (box[0], box[1]), (box[2], box[3]),\n",
    "                color, -1)\n",
    "    cv2.addWeighted(overlay_bbox, alpha, output, 1 - alpha, 0, output)\n",
    "    cv2.rectangle(overlay_text, (box[0], box[1]-18-text_height), (box[0]+text_width+8, box[1]),\n",
    "                (0, 0, 0), -1)\n",
    "    cv2.addWeighted(overlay_text, alpha_font, output, 1 - alpha_font, 0, output)\n",
    "    cv2.rectangle(output, (box[0], box[1]), (box[2], box[3]),\n",
    "                    color, thickness)\n",
    "    cv2.putText(output, label.upper(), (box[0], box[1]-12),\n",
    "            cv2.FONT_HERSHEY_SIMPLEX, font_size, (255, 255, 255), font_weight, cv2.LINE_AA)\n",
    "    return output\n",
    "\n",
    "def draw_bbox_small(image, box, label, color):   \n",
    "    alpha = 0.1\n",
    "    alpha_text = 0.3\n",
    "    thickness = 1\n",
    "    font_size = 0.4\n",
    "    overlay_bbox = image.copy()\n",
    "    overlay_text = image.copy()\n",
    "    output = image.copy()\n",
    "\n",
    "    text_width, text_height = cv2.getTextSize(label.upper(), cv2.FONT_HERSHEY_SIMPLEX, font_size, thickness)[0]\n",
    "    cv2.rectangle(overlay_bbox, (box[0], box[1]), (box[2], box[3]),\n",
    "                color, -1)\n",
    "    cv2.addWeighted(overlay_bbox, alpha, output, 1 - alpha, 0, output)\n",
    "    cv2.rectangle(overlay_text, (box[0], box[1]-7-text_height), (box[0]+text_width+2, box[1]),\n",
    "                (0, 0, 0), -1)\n",
    "    cv2.addWeighted(overlay_text, alpha_text, output, 1 - alpha_text, 0, output)\n",
    "    cv2.rectangle(output, (box[0], box[1]), (box[2], box[3]),\n",
    "                    color, thickness)\n",
    "    cv2.putText(output, label.upper(), (box[0], box[1]-5),\n",
    "            cv2.FONT_HERSHEY_SIMPLEX, font_size, (255, 255, 255), thickness, cv2.LINE_AA)\n",
    "    return output"
   ]
  },
  {
   "cell_type": "code",
   "execution_count": 21,
   "id": "c4200926",
   "metadata": {
    "execution": {
     "iopub.execute_input": "2021-08-09T10:01:10.535041Z",
     "iopub.status.busy": "2021-08-09T10:01:10.533680Z",
     "iopub.status.idle": "2021-08-09T10:02:43.731194Z",
     "shell.execute_reply": "2021-08-09T10:02:43.729769Z"
    },
    "papermill": {
     "duration": 93.381917,
     "end_time": "2021-08-09T10:02:43.731421",
     "exception": false,
     "start_time": "2021-08-09T10:01:10.349504",
     "status": "completed"
    },
    "tags": []
   },
   "outputs": [
    {
     "name": "stderr",
     "output_type": "stream",
     "text": [
      "/kaggle/working/mmdetection/mmdet/core/anchor/builder.py:16: UserWarning: ``build_anchor_generator`` would be deprecated soon, please use ``build_prior_generator`` \n",
      "  '``build_anchor_generator`` would be deprecated soon, please use '\n"
     ]
    },
    {
     "name": "stdout",
     "output_type": "stream",
     "text": [
      "Use load_from_local loader\n"
     ]
    },
    {
     "name": "stderr",
     "output_type": "stream",
     "text": [
      "/kaggle/working/mmdetection/mmdet/apis/inference.py:47: UserWarning: Class names are not saved in the checkpoint's meta data, use COCO classes by default.\n",
      "  warnings.warn('Class names are not saved in the checkpoint\\'s '\n",
      "/kaggle/working/mmdetection/mmdet/core/anchor/builder.py:16: UserWarning: ``build_anchor_generator`` would be deprecated soon, please use ``build_prior_generator`` \n",
      "  '``build_anchor_generator`` would be deprecated soon, please use '\n"
     ]
    },
    {
     "name": "stdout",
     "output_type": "stream",
     "text": [
      "Use load_from_local loader\n"
     ]
    },
    {
     "name": "stderr",
     "output_type": "stream",
     "text": [
      "/kaggle/working/mmdetection/mmdet/apis/inference.py:47: UserWarning: Class names are not saved in the checkpoint's meta data, use COCO classes by default.\n",
      "  warnings.warn('Class names are not saved in the checkpoint\\'s '\n",
      "/kaggle/working/mmdetection/mmdet/core/anchor/builder.py:16: UserWarning: ``build_anchor_generator`` would be deprecated soon, please use ``build_prior_generator`` \n",
      "  '``build_anchor_generator`` would be deprecated soon, please use '\n"
     ]
    },
    {
     "name": "stdout",
     "output_type": "stream",
     "text": [
      "Use load_from_local loader\n"
     ]
    },
    {
     "name": "stderr",
     "output_type": "stream",
     "text": [
      "/kaggle/working/mmdetection/mmdet/apis/inference.py:47: UserWarning: Class names are not saved in the checkpoint's meta data, use COCO classes by default.\n",
      "  warnings.warn('Class names are not saved in the checkpoint\\'s '\n",
      "/kaggle/working/mmdetection/mmdet/core/anchor/builder.py:16: UserWarning: ``build_anchor_generator`` would be deprecated soon, please use ``build_prior_generator`` \n",
      "  '``build_anchor_generator`` would be deprecated soon, please use '\n"
     ]
    },
    {
     "name": "stdout",
     "output_type": "stream",
     "text": [
      "Use load_from_local loader\n"
     ]
    },
    {
     "name": "stderr",
     "output_type": "stream",
     "text": [
      "/kaggle/working/mmdetection/mmdet/apis/inference.py:47: UserWarning: Class names are not saved in the checkpoint's meta data, use COCO classes by default.\n",
      "  warnings.warn('Class names are not saved in the checkpoint\\'s '\n",
      "/kaggle/working/mmdetection/mmdet/core/anchor/builder.py:16: UserWarning: ``build_anchor_generator`` would be deprecated soon, please use ``build_prior_generator`` \n",
      "  '``build_anchor_generator`` would be deprecated soon, please use '\n"
     ]
    },
    {
     "name": "stdout",
     "output_type": "stream",
     "text": [
      "Use load_from_local loader\n"
     ]
    },
    {
     "name": "stderr",
     "output_type": "stream",
     "text": [
      "/kaggle/working/mmdetection/mmdet/apis/inference.py:47: UserWarning: Class names are not saved in the checkpoint's meta data, use COCO classes by default.\n",
      "  warnings.warn('Class names are not saved in the checkpoint\\'s '\n",
      "/kaggle/working/mmdetection/mmdet/core/anchor/builder.py:16: UserWarning: ``build_anchor_generator`` would be deprecated soon, please use ``build_prior_generator`` \n",
      "  '``build_anchor_generator`` would be deprecated soon, please use '\n"
     ]
    },
    {
     "name": "stdout",
     "output_type": "stream",
     "text": [
      "Use load_from_local loader\n"
     ]
    },
    {
     "name": "stderr",
     "output_type": "stream",
     "text": [
      "/kaggle/working/mmdetection/mmdet/apis/inference.py:47: UserWarning: Class names are not saved in the checkpoint's meta data, use COCO classes by default.\n",
      "  warnings.warn('Class names are not saved in the checkpoint\\'s '\n",
      "/kaggle/working/mmdetection/mmdet/core/anchor/builder.py:16: UserWarning: ``build_anchor_generator`` would be deprecated soon, please use ``build_prior_generator`` \n",
      "  '``build_anchor_generator`` would be deprecated soon, please use '\n"
     ]
    },
    {
     "name": "stdout",
     "output_type": "stream",
     "text": [
      "Use load_from_local loader\n"
     ]
    },
    {
     "name": "stderr",
     "output_type": "stream",
     "text": [
      "/kaggle/working/mmdetection/mmdet/apis/inference.py:47: UserWarning: Class names are not saved in the checkpoint's meta data, use COCO classes by default.\n",
      "  warnings.warn('Class names are not saved in the checkpoint\\'s '\n",
      "/kaggle/working/mmdetection/mmdet/core/anchor/builder.py:16: UserWarning: ``build_anchor_generator`` would be deprecated soon, please use ``build_prior_generator`` \n",
      "  '``build_anchor_generator`` would be deprecated soon, please use '\n"
     ]
    },
    {
     "name": "stdout",
     "output_type": "stream",
     "text": [
      "Use load_from_local loader\n"
     ]
    },
    {
     "name": "stderr",
     "output_type": "stream",
     "text": [
      "/kaggle/working/mmdetection/mmdet/apis/inference.py:47: UserWarning: Class names are not saved in the checkpoint's meta data, use COCO classes by default.\n",
      "  warnings.warn('Class names are not saved in the checkpoint\\'s '\n",
      "/kaggle/working/mmdetection/mmdet/core/anchor/builder.py:16: UserWarning: ``build_anchor_generator`` would be deprecated soon, please use ``build_prior_generator`` \n",
      "  '``build_anchor_generator`` would be deprecated soon, please use '\n"
     ]
    },
    {
     "name": "stdout",
     "output_type": "stream",
     "text": [
      "Use load_from_local loader\n"
     ]
    },
    {
     "name": "stderr",
     "output_type": "stream",
     "text": [
      "/kaggle/working/mmdetection/mmdet/apis/inference.py:47: UserWarning: Class names are not saved in the checkpoint's meta data, use COCO classes by default.\n",
      "  warnings.warn('Class names are not saved in the checkpoint\\'s '\n",
      "/kaggle/working/mmdetection/mmdet/core/anchor/builder.py:16: UserWarning: ``build_anchor_generator`` would be deprecated soon, please use ``build_prior_generator`` \n",
      "  '``build_anchor_generator`` would be deprecated soon, please use '\n"
     ]
    },
    {
     "name": "stdout",
     "output_type": "stream",
     "text": [
      "Use load_from_local loader\n"
     ]
    },
    {
     "name": "stderr",
     "output_type": "stream",
     "text": [
      "/kaggle/working/mmdetection/mmdet/apis/inference.py:47: UserWarning: Class names are not saved in the checkpoint's meta data, use COCO classes by default.\n",
      "  warnings.warn('Class names are not saved in the checkpoint\\'s '\n"
     ]
    }
   ],
   "source": [
    "baseline_cfg_path = \"/kaggle/input/siim-covid-19-cascade-rcnn-x101-models-5-folds/job4_cascade_rcnn_x101_32x4d_fpn_1x_coco.py\"\n",
    "cfg = Config.fromfile(baseline_cfg_path)\n",
    "\n",
    "cfg.classes = (\"Covid_Abnormality\")\n",
    "cfg.data.test.img_prefix = ''\n",
    "cfg.data.test.classes = cfg.classes\n",
    "\n",
    "# cfg.model.roi_head.bbox_head.num_classes = 1\n",
    "# cfg.model.bbox_head.num_classes = 1\n",
    "for head in cfg.model.roi_head.bbox_head:\n",
    "    head.num_classes = 1\n",
    "\n",
    "# Set seed thus the results are more reproducible\n",
    "cfg.seed = 211\n",
    "set_random_seed(211, deterministic=False)\n",
    "cfg.gpu_ids = [0]\n",
    "\n",
    "cfg.data.test.pipeline=[\n",
    "            dict(type='LoadImageFromFile'),\n",
    "            dict(\n",
    "                type='MultiScaleFlipAug',\n",
    "                img_scale=(1333, 800),\n",
    "                flip=False,\n",
    "                transforms=[\n",
    "                    dict(type='Resize', keep_ratio=True),\n",
    "                    dict(type='RandomFlip', direction='horizontal'),\n",
    "                    dict(\n",
    "                        type='Normalize',\n",
    "                        mean=[123.675, 116.28, 103.53],\n",
    "                        std=[58.395, 57.12, 57.375],\n",
    "                        to_rgb=True),\n",
    "                    dict(type='Pad', size_divisor=32),\n",
    "                    dict(type='DefaultFormatBundle'),\n",
    "                    dict(type='Collect', keys=['img'])\n",
    "                ])\n",
    "        ]\n",
    "\n",
    "cfg.test_pipeline = [\n",
    "            dict(type='LoadImageFromFile'),\n",
    "            dict(\n",
    "                type='MultiScaleFlipAug',\n",
    "                img_scale=(1333, 800),\n",
    "                flip=False,\n",
    "                transforms=[\n",
    "                    dict(type='Resize', keep_ratio=True),\n",
    "                    dict(type='RandomFlip', direction='horizontal'),\n",
    "                    dict(\n",
    "                        type='Normalize',\n",
    "                        mean=[123.675, 116.28, 103.53],\n",
    "                        std=[58.395, 57.12, 57.375],\n",
    "                        to_rgb=True),\n",
    "                    dict(type='Pad', size_divisor=32),\n",
    "                    dict(type='DefaultFormatBundle'),\n",
    "                    dict(type='Collect', keys=['img'])\n",
    "                ])\n",
    "        ]\n",
    "\n",
    "# cfg.data.samples_per_gpu = 4\n",
    "# cfg.data.workers_per_gpu = 4\n",
    "# cfg.model.test_cfg.nms.iou_threshold = 0.3\n",
    "cfg.model.test_cfg.rcnn.score_thr = 0.001\n",
    "\n",
    "WEIGHTS_FILE = [\"/kaggle/input/siim-covid-19-cascade-rcnn-x101-models-5-folds/models_files_cascade_rcnn_x101_32x4d_fpn_1x_fold0_job4v0.pth\"]\n",
    "#WEIGHTS_FOLD1 =\"/kaggle/input/siim-covid-19-cascade-rcnn-x101-models-5-folds/models_files_cascade_rcnn_x101_32x4d_fpn_1x_fold1_job4v0.pth\"\n",
    "WEIGHTS_FOLD1 =\"/kaggle/input/siim-covid-19-cascade-rcnn-x101-models-5-folds/models_files_cascade_rcnn_x101_32x4d_fpn_1x_fold1_job4v0.pth\"\n",
    "#WEIGHTS_FOLD2 = '/kaggle/input/siim-covid-19-cascade-rcnn-x101-models-5-folds/models_files_cascade_rcnn_x101_32x4d_fpn_1x_fold2_job4v0.pth'\n",
    "WEIGHTS_FOLD2 = '/kaggle/input/siim-covid-19-cascade-rcnn-x101-models-5-folds/models_files_cascade_rcnn_x101_32x4d_fpn_1x_fold2_job4v0.pth'\n",
    "\n",
    "WEIGHTS_FOLD3 = \"/kaggle/input/siim-covid-19-cascade-rcnn-x101-models-5-folds/models_files_cascade_rcnn_x101_32x4d_fpn_1x_fold3_job4v0.pth\"\n",
    "WEIGHTS_FOLD4 = '/kaggle/input/siim-covid-19-cascade-rcnn-x101-models-5-folds/models_files_cascade_rcnn_x101_32x4d_fpn_1x_fold4_job4v0.pth'\n",
    "#WEIGHTS_FOLD5 = '/kaggle/input/siim-mmdetection-fnet-weight-bias/job4_cascade_rcnn_x101_32x4d_fpn_1x_fold4/epoch_2.pth'\n",
    "WEIGHTS_FOLD5 ='/kaggle/input/siim-5-secbest-epochs-rcnn/epoch_8.pth'\n",
    "\n",
    "WEIGHTS_FOLD6 ='/kaggle/input/siim-5-secbest-epochs-rcnn/epoch_10.pth'\n",
    "WEIGHTS_FOLD7 ='/kaggle/input/siim-5-secbest-epochs-rcnn/epoch_11.pth'\n",
    "WEIGHTS_FOLD8 ='/kaggle/input/siim-5-secbest-epochs-rcnn/epoch_9 (1).pth'\n",
    "WEIGHTS_FOLD9 ='/kaggle/input/siim-5-secbest-epochs-rcnn/epoch_9.pth'\n",
    "\n",
    "WEIGHTS_FILE.append(WEIGHTS_FOLD1)\n",
    "WEIGHTS_FILE.append(WEIGHTS_FOLD2)\n",
    "WEIGHTS_FILE.append(WEIGHTS_FOLD3)\n",
    "WEIGHTS_FILE.append(WEIGHTS_FOLD4)\n",
    "WEIGHTS_FILE.append(WEIGHTS_FOLD5)\n",
    "WEIGHTS_FILE.append(WEIGHTS_FOLD6)\n",
    "WEIGHTS_FILE.append(WEIGHTS_FOLD7)\n",
    "WEIGHTS_FILE.append(WEIGHTS_FOLD8)\n",
    "WEIGHTS_FILE.append(WEIGHTS_FOLD9)\n",
    "\n",
    "\n",
    "\n",
    "options = dict(classes = (\"Covid_Abnormality\"))\n",
    "models = []\n",
    "for row in WEIGHTS_FILE:\n",
    "    model = init_detector(cfg, row, device='cuda:0')\n",
    "    model.to(device)\n",
    "    model.eval()\n",
    "    models.append(model)"
   ]
  },
  {
   "cell_type": "code",
   "execution_count": 22,
   "id": "965dfd65",
   "metadata": {
    "execution": {
     "iopub.execute_input": "2021-08-09T10:02:44.101506Z",
     "iopub.status.busy": "2021-08-09T10:02:44.100468Z",
     "iopub.status.idle": "2021-08-09T10:02:44.314293Z",
     "shell.execute_reply": "2021-08-09T10:02:44.313650Z"
    },
    "papermill": {
     "duration": 0.400713,
     "end_time": "2021-08-09T10:02:44.314449",
     "exception": false,
     "start_time": "2021-08-09T10:02:43.913736",
     "status": "completed"
    },
    "tags": []
   },
   "outputs": [
    {
     "name": "stderr",
     "output_type": "stream",
     "text": [
      "/opt/conda/lib/python3.7/site-packages/ipykernel/ipkernel.py:283: DeprecationWarning: `should_run_async` will not call `transform_cell` automatically in the future. Please pass the result to `transformed_cell` argument and any exception that happen during thetransform in `preprocessing_exc_tuple` in IPython 7.17 and above.\n",
      "  and should_run_async(code)\n"
     ]
    }
   ],
   "source": [
    "with_Yolo = False"
   ]
  },
  {
   "cell_type": "code",
   "execution_count": 23,
   "id": "a0153b16",
   "metadata": {
    "execution": {
     "iopub.execute_input": "2021-08-09T10:02:44.686409Z",
     "iopub.status.busy": "2021-08-09T10:02:44.685255Z",
     "iopub.status.idle": "2021-08-09T10:02:44.776475Z",
     "shell.execute_reply": "2021-08-09T10:02:44.775820Z"
    },
    "papermill": {
     "duration": 0.281072,
     "end_time": "2021-08-09T10:02:44.776628",
     "exception": false,
     "start_time": "2021-08-09T10:02:44.495556",
     "status": "completed"
    },
    "tags": []
   },
   "outputs": [],
   "source": [
    "if with_Yolo:\n",
    "    split = 'test'\n",
    "    dim = 512 #1024, 256, 'original'\n",
    "    test_dir = f'/kaggle/tmp/{split}/image'\n",
    "    weights_dir = '/kaggle/input/weights-of-yolov5-150-epochslior/best.pt'\n",
    "\n",
    "    shutil.copytree('/kaggle/input/yolov5-official-v31-dataset/yolov5', '/kaggle/working/yolov5')\n",
    "    os.chdir('/kaggle/working/yolov5') # install dependencies"
   ]
  },
  {
   "cell_type": "code",
   "execution_count": null,
   "id": "523e9e25",
   "metadata": {
    "papermill": {
     "duration": 0.179358,
     "end_time": "2021-08-09T10:02:45.137067",
     "exception": false,
     "start_time": "2021-08-09T10:02:44.957709",
     "status": "completed"
    },
    "tags": []
   },
   "outputs": [],
   "source": []
  },
  {
   "cell_type": "code",
   "execution_count": 24,
   "id": "79b953d8",
   "metadata": {
    "execution": {
     "iopub.execute_input": "2021-08-09T10:02:45.498964Z",
     "iopub.status.busy": "2021-08-09T10:02:45.497872Z",
     "iopub.status.idle": "2021-08-09T10:02:45.589350Z",
     "shell.execute_reply": "2021-08-09T10:02:45.588619Z"
    },
    "papermill": {
     "duration": 0.274984,
     "end_time": "2021-08-09T10:02:45.589519",
     "exception": false,
     "start_time": "2021-08-09T10:02:45.314535",
     "status": "completed"
    },
    "tags": []
   },
   "outputs": [],
   "source": [
    "if with_Yolo:\n",
    "    !python detect.py \\\n",
    "    --weights $weights_dir \\\n",
    "    --img 512\\\n",
    "    --conf 0.01\\\n",
    "    --iou 0.5\\\n",
    "    --augment\\\n",
    "    --source $test_dir\\\n",
    "    --name infer_fold \\\n",
    "    --save-txt --save-conf --exist-ok\n",
    "\n"
   ]
  },
  {
   "cell_type": "code",
   "execution_count": 25,
   "id": "507e42ca",
   "metadata": {
    "execution": {
     "iopub.execute_input": "2021-08-09T10:02:45.958235Z",
     "iopub.status.busy": "2021-08-09T10:02:45.957141Z",
     "iopub.status.idle": "2021-08-09T10:02:46.045517Z",
     "shell.execute_reply": "2021-08-09T10:02:46.044877Z"
    },
    "papermill": {
     "duration": 0.273745,
     "end_time": "2021-08-09T10:02:46.045674",
     "exception": false,
     "start_time": "2021-08-09T10:02:45.771929",
     "status": "completed"
    },
    "tags": []
   },
   "outputs": [],
   "source": [
    "if with_Yolo:\n",
    "    labelpaths = glob.glob(\"runs/detect/infer_fold/labels/*\")"
   ]
  },
  {
   "cell_type": "code",
   "execution_count": 26,
   "id": "6d079123",
   "metadata": {
    "execution": {
     "iopub.execute_input": "2021-08-09T10:02:46.415584Z",
     "iopub.status.busy": "2021-08-09T10:02:46.414375Z",
     "iopub.status.idle": "2021-08-09T10:02:46.502207Z",
     "shell.execute_reply": "2021-08-09T10:02:46.502776Z"
    },
    "papermill": {
     "duration": 0.279435,
     "end_time": "2021-08-09T10:02:46.502969",
     "exception": false,
     "start_time": "2021-08-09T10:02:46.223534",
     "status": "completed"
    },
    "tags": []
   },
   "outputs": [],
   "source": [
    "def yolo2voc(image_height, image_width, bboxes):\n",
    "    \"\"\"\n",
    "    yolo => [xmid, ymid, w, h] (normalized)\n",
    "    voc  => [x1, y1, x2, y1]\n",
    "\n",
    "    \"\"\" \n",
    "    max_size = max(image_height,image_width)\n",
    "    bboxes = bboxes.copy().astype(float) # otherwise all value will be 0 as voc_pascal dtype is np.int\n",
    "\n",
    "    bboxes[..., [0, 2]] = bboxes[..., [0, 2]]* image_width\n",
    "    bboxes[..., [1, 3]] = bboxes[..., [1, 3]]* image_height\n",
    "\n",
    "    bboxes[..., [0, 1]] = bboxes[..., [0, 1]] - bboxes[..., [2, 3]]/2\n",
    "    bboxes[..., [2, 3]] = bboxes[..., [0, 1]] + bboxes[..., [2, 3]]\n",
    "\n",
    "    return bboxes/max_size"
   ]
  },
  {
   "cell_type": "code",
   "execution_count": 27,
   "id": "c6db2e5f",
   "metadata": {
    "execution": {
     "iopub.execute_input": "2021-08-09T10:02:47.075695Z",
     "iopub.status.busy": "2021-08-09T10:02:47.074613Z",
     "iopub.status.idle": "2021-08-09T10:02:47.225013Z",
     "shell.execute_reply": "2021-08-09T10:02:47.224103Z"
    },
    "papermill": {
     "duration": 0.49083,
     "end_time": "2021-08-09T10:02:47.225284",
     "exception": false,
     "start_time": "2021-08-09T10:02:46.734454",
     "status": "completed"
    },
    "tags": []
   },
   "outputs": [],
   "source": [
    "if with_Yolo:\n",
    "    image_ids = []\n",
    "    score = []\n",
    "    box = []\n",
    "    for file_path in tqdm(labelpaths):\n",
    "        image_id = file_path.split('/')[-1].split('.')[0]\n",
    "        w, h = image_df.loc[image_df.image_id==image_id,['dim1', 'dim0']].values[0]\n",
    "        f = open(file_path, 'r')\n",
    "        data = np.array(f.read().replace('\\n', ' ').strip().split(' ')).astype(np.float32).reshape(-1, 6)\n",
    "        data = data[:, [0, 5, 1, 2, 3, 4]]\n",
    "        data = np.concatenate([data[:, :2], yolo2voc(h, w, data[:, 2:])], axis =1)\n",
    "\n",
    "        #if fast_sub:\n",
    "        #    predbox_ens.append(norm2hw(h, w, data[:,2:]))\n",
    "\n",
    "\n",
    "        image_ids.append(image_id)\n",
    "        score.append(data[:,1])\n",
    "        box.append(data[:,2:])\n",
    "\n",
    "    pred_df_yolo = pd.DataFrame({'id':image_ids,'score':score,'label':0,'box':box})"
   ]
  },
  {
   "cell_type": "markdown",
   "id": "5186ad0c",
   "metadata": {
    "papermill": {
     "duration": 0.172813,
     "end_time": "2021-08-09T10:02:47.614692",
     "exception": false,
     "start_time": "2021-08-09T10:02:47.441879",
     "status": "completed"
    },
    "tags": []
   },
   "source": [
    "<span style=\"color: #00857e; font-family: Segoe UI; font-size: 1.8em; font-weight: 300;\">Ensemble Image Level</span>"
   ]
  },
  {
   "cell_type": "code",
   "execution_count": 28,
   "id": "c408256c",
   "metadata": {
    "execution": {
     "iopub.execute_input": "2021-08-09T10:02:47.993028Z",
     "iopub.status.busy": "2021-08-09T10:02:47.991857Z",
     "iopub.status.idle": "2021-08-09T10:02:54.888210Z",
     "shell.execute_reply": "2021-08-09T10:02:54.888895Z"
    },
    "papermill": {
     "duration": 7.094202,
     "end_time": "2021-08-09T10:02:54.889097",
     "exception": false,
     "start_time": "2021-08-09T10:02:47.794895",
     "status": "completed"
    },
    "tags": []
   },
   "outputs": [
    {
     "data": {
      "application/vnd.jupyter.widget-view+json": {
       "model_id": "533272c40bb54002abb22fce9d788851",
       "version_major": 2,
       "version_minor": 0
      },
      "text/plain": [
       "  0%|          | 0/2 [00:00<?, ?it/s]"
      ]
     },
     "metadata": {},
     "output_type": "display_data"
    },
    {
     "data": {
      "application/vnd.jupyter.widget-view+json": {
       "model_id": "aa1412300fb54e4a88aba6b2f97c544a",
       "version_major": 2,
       "version_minor": 0
      },
      "text/plain": [
       "  0%|          | 0/10 [00:00<?, ?it/s]"
      ]
     },
     "metadata": {},
     "output_type": "display_data"
    },
    {
     "name": "stderr",
     "output_type": "stream",
     "text": [
      "/kaggle/working/mmdetection/mmdet/core/anchor/anchor_generator.py:323: UserWarning: ``grid_anchors`` would be deprecated soon. Please use ``grid_priors`` \n",
      "  warnings.warn('``grid_anchors`` would be deprecated soon. '\n",
      "/kaggle/working/mmdetection/mmdet/core/anchor/anchor_generator.py:360: UserWarning: ``single_level_grid_anchors`` would be deprecated soon. Please use ``single_level_grid_priors`` \n",
      "  '``single_level_grid_anchors`` would be deprecated soon. '\n"
     ]
    },
    {
     "data": {
      "application/vnd.jupyter.widget-view+json": {
       "model_id": "2a653af0cd7a435f912c5a65b5f7838f",
       "version_major": 2,
       "version_minor": 0
      },
      "text/plain": [
       "  0%|          | 0/10 [00:00<?, ?it/s]"
      ]
     },
     "metadata": {},
     "output_type": "display_data"
    },
    {
     "name": "stderr",
     "output_type": "stream",
     "text": [
      "/kaggle/working/mmdetection/mmdet/core/anchor/anchor_generator.py:323: UserWarning: ``grid_anchors`` would be deprecated soon. Please use ``grid_priors`` \n",
      "  warnings.warn('``grid_anchors`` would be deprecated soon. '\n",
      "/kaggle/working/mmdetection/mmdet/core/anchor/anchor_generator.py:360: UserWarning: ``single_level_grid_anchors`` would be deprecated soon. Please use ``single_level_grid_priors`` \n",
      "  '``single_level_grid_anchors`` would be deprecated soon. '\n"
     ]
    },
    {
     "data": {
      "text/html": [
       "<div>\n",
       "<style scoped>\n",
       "    .dataframe tbody tr th:only-of-type {\n",
       "        vertical-align: middle;\n",
       "    }\n",
       "\n",
       "    .dataframe tbody tr th {\n",
       "        vertical-align: top;\n",
       "    }\n",
       "\n",
       "    .dataframe thead th {\n",
       "        text-align: right;\n",
       "    }\n",
       "</style>\n",
       "<table border=\"1\" class=\"dataframe\">\n",
       "  <thead>\n",
       "    <tr style=\"text-align: right;\">\n",
       "      <th></th>\n",
       "      <th>id</th>\n",
       "      <th>PredictionString</th>\n",
       "    </tr>\n",
       "  </thead>\n",
       "  <tbody>\n",
       "    <tr>\n",
       "      <th>1</th>\n",
       "      <td>e252ffbf487e_image</td>\n",
       "      <td>opacity 0.1447689235210419 544 865 861 1607 op...</td>\n",
       "    </tr>\n",
       "    <tr>\n",
       "      <th>0</th>\n",
       "      <td>b37ae8cb220b_image</td>\n",
       "      <td>opacity 0.5935409069061279 1804 919 2276 2130 ...</td>\n",
       "    </tr>\n",
       "  </tbody>\n",
       "</table>\n",
       "</div>"
      ],
      "text/plain": [
       "                   id                                   PredictionString\n",
       "1  e252ffbf487e_image  opacity 0.1447689235210419 544 865 861 1607 op...\n",
       "0  b37ae8cb220b_image  opacity 0.5935409069061279 1804 919 2276 2130 ..."
      ]
     },
     "metadata": {},
     "output_type": "display_data"
    },
    {
     "data": {
      "image/png": "[encoded data removed]",
      "text/plain": [
       "<Figure size 1440x1440 with 2 Axes>"
      ]
     },
     "metadata": {
      "needs_background": "light"
     },
     "output_type": "display_data"
    }
   ],
   "source": [
    "from ensemble_boxes import weighted_boxes_fusion, nms\n",
    "\n",
    "viz_images = []\n",
    "results = []\n",
    "score_threshold = cfg.model.test_cfg.rcnn.score_thr\n",
    "\n",
    "def format_pred(boxes: np.ndarray, scores: np.ndarray, labels: np.ndarray) -> str:\n",
    "    pred_strings = []\n",
    "    label_str = ['opacity']\n",
    "    for label, score, bbox in zip(labels, scores, boxes):\n",
    "        xmin, ymin, xmax, ymax = bbox.astype(np.int64)\n",
    "        pred_strings.append(f\"{label_str[int(label)]} {score:.16f} {xmin} {ymin} {xmax} {ymax}\")\n",
    "    return \" \".join(pred_strings)\n",
    "\n",
    "\n",
    "\n",
    "viz_images = []\n",
    "\n",
    "with torch.no_grad():\n",
    "    for index, row in tqdm(image_df.iterrows(), total=image_df.shape[0]):\n",
    "        predictions = []\n",
    "        boxes, scores, labels = (list(), list(), list())\n",
    "        for model in tqdm(models):\n",
    "            original_H, original_W = (int(row.dim0), int(row.dim1))\n",
    "            max_size = max(original_H,original_W)\n",
    "            prediction = inference_detector(model, row.image_path)\n",
    "            predictions.append(prediction)\n",
    "        for k, cls_result in enumerate(predictions):\n",
    "            cls_result = cls_result[0]\n",
    "            if cls_result.size != 0:\n",
    "                boxes.append(cls_result[:, :4]/max_size)\n",
    "                scores.append(cls_result[:, 4])\n",
    "                labels.append([0]*len(cls_result[:, 4]))\n",
    "        if with_Yolo:\n",
    "            index = pred_df_yolo[pred_df_yolo.id==row.image_id].index\n",
    "            yolorow = pred_df_yolo.iloc[index]\n",
    "            boxes_y = yolorow.box.values[0].tolist()\n",
    "            scores_y = yolorow.score.values[0].tolist()\n",
    "            labels_y =  yolorow.label.values.tolist()*len(scores_y)\n",
    "            boxes.append(boxes_y)\n",
    "            scores.append(scores_y)\n",
    "            labels.append(labels_y)\n",
    "        #weights=[1,1,1,1,1,1,1,1,1,1,2]\n",
    "        boxes, scores, labels = weighted_boxes_fusion(boxes, scores, labels, iou_thr=0.65,skip_box_thr=0.00)           \n",
    "        boxes*=max_size\n",
    "        if fast_sub:\n",
    "            img_viz = cv2.imread(row.image_path)\n",
    "            for box, label, score in zip(boxes, labels, scores):\n",
    "                if score>0.1:\n",
    "                    color = label2color[int(label)]\n",
    "                    img_viz = draw_bbox_small(img_viz, box.astype(np.int32), f'opacity_{score:.4f}', color)\n",
    "            viz_images.append(img_viz)\n",
    "\n",
    "        if len(labels) != 0:\n",
    "            h_ratio = original_H/IMAGE_DIMS[0]\n",
    "            w_ratio = original_W/IMAGE_DIMS[1]\n",
    "            boxes[:, [0, 2]] *= w_ratio\n",
    "            boxes[:, [1, 3]] *= h_ratio\n",
    "\n",
    "            result = {\n",
    "                \"id\": row.image_id,\n",
    "                \"PredictionString\": format_pred(\n",
    "                    boxes, scores, labels\n",
    "                ),\n",
    "            }\n",
    "\n",
    "            results.append(result)\n",
    "\n",
    "detection_df = pd.DataFrame(results, columns=['id', 'PredictionString'])\n",
    "\n",
    "if fast_sub:\n",
    "    display(detection_df.sample(2))\n",
    "    # Plot sample images\n",
    "    plot_imgs(viz_images, cmap=None)\n",
    "    plt.savefig('viz_fig_siim.png', bbox_inches='tight')\n",
    "    plt.show()"
   ]
  },
  {
   "cell_type": "code",
   "execution_count": 29,
   "id": "576b156d",
   "metadata": {
    "execution": {
     "iopub.execute_input": "2021-08-09T10:02:55.279345Z",
     "iopub.status.busy": "2021-08-09T10:02:55.278287Z",
     "iopub.status.idle": "2021-08-09T10:02:55.669959Z",
     "shell.execute_reply": "2021-08-09T10:02:55.670546Z"
    },
    "papermill": {
     "duration": 0.589617,
     "end_time": "2021-08-09T10:02:55.670740",
     "exception": false,
     "start_time": "2021-08-09T10:02:55.081123",
     "status": "completed"
    },
    "tags": []
   },
   "outputs": [
    {
     "name": "stderr",
     "output_type": "stream",
     "text": [
      "/opt/conda/lib/python3.7/site-packages/ipykernel/ipkernel.py:283: DeprecationWarning: `should_run_async` will not call `transform_cell` automatically in the future. Please pass the result to `transformed_cell` argument and any exception that happen during thetransform in `preprocessing_exc_tuple` in IPython 7.17 and above.\n",
      "  and should_run_async(code)\n"
     ]
    },
    {
     "data": {
      "text/plain": [
       "19149"
      ]
     },
     "execution_count": 29,
     "metadata": {},
     "output_type": "execute_result"
    }
   ],
   "source": [
    "del models\n",
    "gc.collect()"
   ]
  },
  {
   "cell_type": "code",
   "execution_count": 30,
   "id": "8df4d6b5",
   "metadata": {
    "execution": {
     "iopub.execute_input": "2021-08-09T10:02:56.181584Z",
     "iopub.status.busy": "2021-08-09T10:02:56.180404Z",
     "iopub.status.idle": "2021-08-09T10:02:56.381873Z",
     "shell.execute_reply": "2021-08-09T10:02:56.382732Z"
    },
    "papermill": {
     "duration": 0.520504,
     "end_time": "2021-08-09T10:02:56.382991",
     "exception": false,
     "start_time": "2021-08-09T10:02:55.862487",
     "status": "completed"
    },
    "tags": []
   },
   "outputs": [],
   "source": [
    "detection_df = detection_df.merge(image_df[['image_id', 'none']].rename({'image_id':'id'}, axis=1),\n",
    "                                  on='id', how='left')\n",
    "\n",
    "for i in range(detection_df.shape[0]):\n",
    "    if detection_df.loc[i,'PredictionString'] != 'none 1 0 0 1 1':\n",
    "        detection_df.loc[i,'PredictionString'] = detection_df.loc[i,'PredictionString'] + ' none ' + str(detection_df.loc[i,'none']) + ' 0 0 1 1'\n",
    "detection_df = detection_df[['id', 'PredictionString']]\n",
    "\n",
    "results_df = study_df[['study_id', 'PredictionString']].rename({'study_id':'id'}, axis=1)\n",
    "results_df = results_df.append(detection_df[['id', 'PredictionString']])"
   ]
  },
  {
   "cell_type": "code",
   "execution_count": 31,
   "id": "bb528e76",
   "metadata": {
    "execution": {
     "iopub.execute_input": "2021-08-09T10:02:57.085578Z",
     "iopub.status.busy": "2021-08-09T10:02:57.084389Z",
     "iopub.status.idle": "2021-08-09T10:02:57.262810Z",
     "shell.execute_reply": "2021-08-09T10:02:57.263791Z"
    },
    "papermill": {
     "duration": 0.514594,
     "end_time": "2021-08-09T10:02:57.264041",
     "exception": false,
     "start_time": "2021-08-09T10:02:56.749447",
     "status": "completed"
    },
    "tags": []
   },
   "outputs": [
    {
     "data": {
      "text/html": [
       "<div>\n",
       "<style scoped>\n",
       "    .dataframe tbody tr th:only-of-type {\n",
       "        vertical-align: middle;\n",
       "    }\n",
       "\n",
       "    .dataframe tbody tr th {\n",
       "        vertical-align: top;\n",
       "    }\n",
       "\n",
       "    .dataframe thead th {\n",
       "        text-align: right;\n",
       "    }\n",
       "</style>\n",
       "<table border=\"1\" class=\"dataframe\">\n",
       "  <thead>\n",
       "    <tr style=\"text-align: right;\">\n",
       "      <th></th>\n",
       "      <th>id</th>\n",
       "      <th>PredictionString</th>\n",
       "    </tr>\n",
       "  </thead>\n",
       "  <tbody>\n",
       "    <tr>\n",
       "      <th>0</th>\n",
       "      <td>00188a671292_study</td>\n",
       "      <td>none 1 0 0 1 1</td>\n",
       "    </tr>\n",
       "    <tr>\n",
       "      <th>1</th>\n",
       "      <td>004bd59708be_study</td>\n",
       "      <td>none 1 0 0 1 1</td>\n",
       "    </tr>\n",
       "  </tbody>\n",
       "</table>\n",
       "</div>"
      ],
      "text/plain": [
       "                   id PredictionString\n",
       "0  00188a671292_study   none 1 0 0 1 1\n",
       "1  004bd59708be_study   none 1 0 0 1 1"
      ]
     },
     "metadata": {},
     "output_type": "display_data"
    }
   ],
   "source": [
    "sub_df = pd.read_csv('/kaggle/input/siim-covid19-detection/sample_submission.csv')\n",
    "sub_df['PredictionString'] = np.nan\n",
    "sub_df = sub_df.set_index('id')\n",
    "results_df = results_df.set_index('id')\n",
    "sub_df.update(results_df)\n",
    "sub_df = sub_df.reset_index()\n",
    "sub_df = sub_df.fillna(\"none 1 0 0 1 1\")\n",
    "sub_df.to_csv('/kaggle/working/submission.csv', index=False)\n",
    "\n",
    "if fast_sub:\n",
    "    display(sub_df.head(2))"
   ]
  },
  {
   "cell_type": "code",
   "execution_count": 32,
   "id": "9b56e601",
   "metadata": {
    "execution": {
     "iopub.execute_input": "2021-08-09T10:02:57.723792Z",
     "iopub.status.busy": "2021-08-09T10:02:57.722736Z",
     "iopub.status.idle": "2021-08-09T10:02:57.890721Z",
     "shell.execute_reply": "2021-08-09T10:02:57.889851Z"
    },
    "papermill": {
     "duration": 0.40988,
     "end_time": "2021-08-09T10:02:57.890923",
     "exception": false,
     "start_time": "2021-08-09T10:02:57.481043",
     "status": "completed"
    },
    "tags": []
   },
   "outputs": [
    {
     "name": "stderr",
     "output_type": "stream",
     "text": [
      "/opt/conda/lib/python3.7/site-packages/ipykernel/ipkernel.py:283: DeprecationWarning: `should_run_async` will not call `transform_cell` automatically in the future. Please pass the result to `transformed_cell` argument and any exception that happen during thetransform in `preprocessing_exc_tuple` in IPython 7.17 and above.\n",
      "  and should_run_async(code)\n"
     ]
    },
    {
     "data": {
      "text/html": [
       "<div>\n",
       "<style scoped>\n",
       "    .dataframe tbody tr th:only-of-type {\n",
       "        vertical-align: middle;\n",
       "    }\n",
       "\n",
       "    .dataframe tbody tr th {\n",
       "        vertical-align: top;\n",
       "    }\n",
       "\n",
       "    .dataframe thead th {\n",
       "        text-align: right;\n",
       "    }\n",
       "</style>\n",
       "<table border=\"1\" class=\"dataframe\">\n",
       "  <thead>\n",
       "    <tr style=\"text-align: right;\">\n",
       "      <th></th>\n",
       "      <th>id</th>\n",
       "      <th>PredictionString</th>\n",
       "    </tr>\n",
       "  </thead>\n",
       "  <tbody>\n",
       "    <tr>\n",
       "      <th>0</th>\n",
       "      <td>00188a671292_study</td>\n",
       "      <td>NaN</td>\n",
       "    </tr>\n",
       "    <tr>\n",
       "      <th>1</th>\n",
       "      <td>004bd59708be_study</td>\n",
       "      <td>NaN</td>\n",
       "    </tr>\n",
       "    <tr>\n",
       "      <th>2</th>\n",
       "      <td>00508faccd39_study</td>\n",
       "      <td>NaN</td>\n",
       "    </tr>\n",
       "    <tr>\n",
       "      <th>3</th>\n",
       "      <td>006486aa80b2_study</td>\n",
       "      <td>NaN</td>\n",
       "    </tr>\n",
       "    <tr>\n",
       "      <th>4</th>\n",
       "      <td>00655178fdfc_study</td>\n",
       "      <td>NaN</td>\n",
       "    </tr>\n",
       "  </tbody>\n",
       "</table>\n",
       "</div>"
      ],
      "text/plain": [
       "                   id  PredictionString\n",
       "0  00188a671292_study               NaN\n",
       "1  004bd59708be_study               NaN\n",
       "2  00508faccd39_study               NaN\n",
       "3  006486aa80b2_study               NaN\n",
       "4  00655178fdfc_study               NaN"
      ]
     },
     "execution_count": 32,
     "metadata": {},
     "output_type": "execute_result"
    }
   ],
   "source": [
    "sub_df = pd.read_csv('/kaggle/input/siim-covid19-detection/sample_submission.csv')\n",
    "sub_df['PredictionString'] = np.nan\n",
    "# sub_df = sub_df.set_index('id')\n",
    "sub_df.head(5)"
   ]
  },
  {
   "cell_type": "code",
   "execution_count": 33,
   "id": "b05f518d",
   "metadata": {
    "execution": {
     "iopub.execute_input": "2021-08-09T10:02:58.457044Z",
     "iopub.status.busy": "2021-08-09T10:02:58.455901Z",
     "iopub.status.idle": "2021-08-09T10:02:58.970565Z",
     "shell.execute_reply": "2021-08-09T10:02:58.971102Z"
    },
    "papermill": {
     "duration": 0.749516,
     "end_time": "2021-08-09T10:02:58.971336",
     "exception": false,
     "start_time": "2021-08-09T10:02:58.221820",
     "status": "completed"
    },
    "tags": []
   },
   "outputs": [
    {
     "name": "stderr",
     "output_type": "stream",
     "text": [
      "/opt/conda/lib/python3.7/site-packages/ipykernel/ipkernel.py:283: DeprecationWarning: `should_run_async` will not call `transform_cell` automatically in the future. Please pass the result to `transformed_cell` argument and any exception that happen during thetransform in `preprocessing_exc_tuple` in IPython 7.17 and above.\n",
      "  and should_run_async(code)\n"
     ]
    }
   ],
   "source": [
    "!rm -r /kaggle/working/mmdetection"
   ]
  },
  {
   "cell_type": "markdown",
   "id": "fc77b565",
   "metadata": {
    "papermill": {
     "duration": 0.199423,
     "end_time": "2021-08-09T10:02:59.362754",
     "exception": false,
     "start_time": "2021-08-09T10:02:59.163331",
     "status": "completed"
    },
    "tags": []
   },
   "source": [
    "<p style='text-align: center;'><span style=\"color: #000508; font-family: Segoe UI; font-size: 2.4em; font-weight: 300;\">HAVE A GREAT DAY!</span></p>\n",
    "\n",
    "<p style='text-align: center;'><span style=\"color: #000508; font-family: Segoe UI; font-size: 1.4em; font-weight: 300;\">Let me know if you have any suggestions!</span></p>"
   ]
  }
 ],
 "metadata": {
  "kernelspec": {
   "display_name": "Python 3",
   "language": "python",
   "name": "python3"
  },
  "language_info": {
   "codemirror_mode": {
    "name": "ipython",
    "version": 3
   },
   "file_extension": ".py",
   "mimetype": "text/x-python",
   "name": "python",
   "nbconvert_exporter": "python",
   "pygments_lexer": "ipython3",
   "version": "3.7.10"
  },
  "papermill": {
   "default_parameters": {},
   "duration": 1797.455972,
   "end_time": "2021-08-09T10:03:03.361979",
   "environment_variables": {},
   "exception": null,
   "input_path": "__notebook__.ipynb",
   "output_path": "__notebook__.ipynb",
   "parameters": {},
   "start_time": "2021-08-09T09:33:05.906007",
   "version": "2.3.3"
  },
  "widgets": {
   "application/vnd.jupyter.widget-state+json": {
    "state": {
     "039a1fa824b64fd79fcd0ddbcad6655e": {
      "model_module": "@jupyter-widgets/controls",
      "model_module_version": "1.5.0",
      "model_name": "HBoxModel",
      "state": {
       "_dom_classes": [],
       "_model_module": "@jupyter-widgets/controls",
       "_model_module_version": "1.5.0",
       "_model_name": "HBoxModel",
       "_view_count": null,
       "_view_module": "@jupyter-widgets/controls",
       "_view_module_version": "1.5.0",
       "_view_name": "HBoxView",
       "box_style": "",
       "children": [
        "IPY_MODEL_d93fdd0e225e4208b0e733030804e189",
        "IPY_MODEL_6ee5d63b54c34b85ae62bf1e287becdd",
        "IPY_MODEL_5511539f77b549cdb487fb839ff94f2e"
       ],
       "layout": "IPY_MODEL_65b2ec63c16648bcb954dff9a7b9595d"
      }
     },
     "0a4b1bbe8f754165879f7403570bae05": {
      "model_module": "@jupyter-widgets/base",
      "model_module_version": "1.2.0",
      "model_name": "LayoutModel",
      "state": {
       "_model_module": "@jupyter-widgets/base",
       "_model_module_version": "1.2.0",
       "_model_name": "LayoutModel",
       "_view_count": null,
       "_view_module": "@jupyter-widgets/base",
       "_view_module_version": "1.2.0",
       "_view_name": "LayoutView",
       "align_content": null,
       "align_items": null,
       "align_self": null,
       "border": null,
       "bottom": null,
       "display": null,
       "flex": null,
       "flex_flow": null,
       "grid_area": null,
       "grid_auto_columns": null,
       "grid_auto_flow": null,
       "grid_auto_rows": null,
       "grid_column": null,
       "grid_gap": null,
       "grid_row": null,
       "grid_template_areas": null,
       "grid_template_columns": null,
       "grid_template_rows": null,
       "height": null,
       "justify_content": null,
       "justify_items": null,
       "left": null,
       "margin": null,
       "max_height": null,
       "max_width": null,
       "min_height": null,
       "min_width": null,
       "object_fit": null,
       "object_position": null,
       "order": null,
       "overflow": null,
       "overflow_x": null,
       "overflow_y": null,
       "padding": null,
       "right": null,
       "top": null,
       "visibility": null,
       "width": null
      }
     },
     "0b3df07c49994855b4952c52acc3d7a0": {
      "model_module": "@jupyter-widgets/base",
      "model_module_version": "1.2.0",
      "model_name": "LayoutModel",
      "state": {
       "_model_module": "@jupyter-widgets/base",
       "_model_module_version": "1.2.0",
       "_model_name": "LayoutModel",
       "_view_count": null,
       "_view_module": "@jupyter-widgets/base",
       "_view_module_version": "1.2.0",
       "_view_name": "LayoutView",
       "align_content": null,
       "align_items": null,
       "align_self": null,
       "border": null,
       "bottom": null,
       "display": null,
       "flex": null,
       "flex_flow": null,
       "grid_area": null,
       "grid_auto_columns": null,
       "grid_auto_flow": null,
       "grid_auto_rows": null,
       "grid_column": null,
       "grid_gap": null,
       "grid_row": null,
       "grid_template_areas": null,
       "grid_template_columns": null,
       "grid_template_rows": null,
       "height": null,
       "justify_content": null,
       "justify_items": null,
       "left": null,
       "margin": null,
       "max_height": null,
       "max_width": null,
       "min_height": null,
       "min_width": null,
       "object_fit": null,
       "object_position": null,
       "order": null,
       "overflow": null,
       "overflow_x": null,
       "overflow_y": null,
       "padding": null,
       "right": null,
       "top": null,
       "visibility": null,
       "width": null
      }
     },
     "107e18b829254ee6ab1bf457f63674db": {
      "model_module": "@jupyter-widgets/controls",
      "model_module_version": "1.5.0",
      "model_name": "DescriptionStyleModel",
      "state": {
       "_model_module": "@jupyter-widgets/controls",
       "_model_module_version": "1.5.0",
       "_model_name": "DescriptionStyleModel",
       "_view_count": null,
       "_view_module": "@jupyter-widgets/base",
       "_view_module_version": "1.2.0",
       "_view_name": "StyleView",
       "description_width": ""
      }
     },
     "22d211ef8a8a468f9818791f98f92a3e": {
      "model_module": "@jupyter-widgets/base",
      "model_module_version": "1.2.0",
      "model_name": "LayoutModel",
      "state": {
       "_model_module": "@jupyter-widgets/base",
       "_model_module_version": "1.2.0",
       "_model_name": "LayoutModel",
       "_view_count": null,
       "_view_module": "@jupyter-widgets/base",
       "_view_module_version": "1.2.0",
       "_view_name": "LayoutView",
       "align_content": null,
       "align_items": null,
       "align_self": null,
       "border": null,
       "bottom": null,
       "display": null,
       "flex": null,
       "flex_flow": null,
       "grid_area": null,
       "grid_auto_columns": null,
       "grid_auto_flow": null,
       "grid_auto_rows": null,
       "grid_column": null,
       "grid_gap": null,
       "grid_row": null,
       "grid_template_areas": null,
       "grid_template_columns": null,
       "grid_template_rows": null,
       "height": null,
       "justify_content": null,
       "justify_items": null,
       "left": null,
       "margin": null,
       "max_height": null,
       "max_width": null,
       "min_height": null,
       "min_width": null,
       "object_fit": null,
       "object_position": null,
       "order": null,
       "overflow": null,
       "overflow_x": null,
       "overflow_y": null,
       "padding": null,
       "right": null,
       "top": null,
       "visibility": null,
       "width": null
      }
     },
     "2a653af0cd7a435f912c5a65b5f7838f": {
      "model_module": "@jupyter-widgets/controls",
      "model_module_version": "1.5.0",
      "model_name": "HBoxModel",
      "state": {
       "_dom_classes": [],
       "_model_module": "@jupyter-widgets/controls",
       "_model_module_version": "1.5.0",
       "_model_name": "HBoxModel",
       "_view_count": null,
       "_view_module": "@jupyter-widgets/controls",
       "_view_module_version": "1.5.0",
       "_view_name": "HBoxView",
       "box_style": "",
       "children": [
        "IPY_MODEL_d6f97a1babcd40cebed5bcbc94bdc85c",
        "IPY_MODEL_83761e8198a94e609040e8539e948196",
        "IPY_MODEL_50ca7943ce384414a62587a756e79e3a"
       ],
       "layout": "IPY_MODEL_320c83c42d5f4685aa6777ca516a2389"
      }
     },
     "31f5dd06463b45bd92af16f99c9776a5": {
      "model_module": "@jupyter-widgets/base",
      "model_module_version": "1.2.0",
      "model_name": "LayoutModel",
      "state": {
       "_model_module": "@jupyter-widgets/base",
       "_model_module_version": "1.2.0",
       "_model_name": "LayoutModel",
       "_view_count": null,
       "_view_module": "@jupyter-widgets/base",
       "_view_module_version": "1.2.0",
       "_view_name": "LayoutView",
       "align_content": null,
       "align_items": null,
       "align_self": null,
       "border": null,
       "bottom": null,
       "display": null,
       "flex": null,
       "flex_flow": null,
       "grid_area": null,
       "grid_auto_columns": null,
       "grid_auto_flow": null,
       "grid_auto_rows": null,
       "grid_column": null,
       "grid_gap": null,
       "grid_row": null,
       "grid_template_areas": null,
       "grid_template_columns": null,
       "grid_template_rows": null,
       "height": null,
       "justify_content": null,
       "justify_items": null,
       "left": null,
       "margin": null,
       "max_height": null,
       "max_width": null,
       "min_height": null,
       "min_width": null,
       "object_fit": null,
       "object_position": null,
       "order": null,
       "overflow": null,
       "overflow_x": null,
       "overflow_y": null,
       "padding": null,
       "right": null,
       "top": null,
       "visibility": null,
       "width": null
      }
     },
     "320c83c42d5f4685aa6777ca516a2389": {
      "model_module": "@jupyter-widgets/base",
      "model_module_version": "1.2.0",
      "model_name": "LayoutModel",
      "state": {
       "_model_module": "@jupyter-widgets/base",
       "_model_module_version": "1.2.0",
       "_model_name": "LayoutModel",
       "_view_count": null,
       "_view_module": "@jupyter-widgets/base",
       "_view_module_version": "1.2.0",
       "_view_name": "LayoutView",
       "align_content": null,
       "align_items": null,
       "align_self": null,
       "border": null,
       "bottom": null,
       "display": null,
       "flex": null,
       "flex_flow": null,
       "grid_area": null,
       "grid_auto_columns": null,
       "grid_auto_flow": null,
       "grid_auto_rows": null,
       "grid_column": null,
       "grid_gap": null,
       "grid_row": null,
       "grid_template_areas": null,
       "grid_template_columns": null,
       "grid_template_rows": null,
       "height": null,
       "justify_content": null,
       "justify_items": null,
       "left": null,
       "margin": null,
       "max_height": null,
       "max_width": null,
       "min_height": null,
       "min_width": null,
       "object_fit": null,
       "object_position": null,
       "order": null,
       "overflow": null,
       "overflow_x": null,
       "overflow_y": null,
       "padding": null,
       "right": null,
       "top": null,
       "visibility": null,
       "width": null
      }
     },
     "3b67aeef381340258036270f39585e6c": {
      "model_module": "@jupyter-widgets/controls",
      "model_module_version": "1.5.0",
      "model_name": "DescriptionStyleModel",
      "state": {
       "_model_module": "@jupyter-widgets/controls",
       "_model_module_version": "1.5.0",
       "_model_name": "DescriptionStyleModel",
       "_view_count": null,
       "_view_module": "@jupyter-widgets/base",
       "_view_module_version": "1.2.0",
       "_view_name": "StyleView",
       "description_width": ""
      }
     },
     "4d5970dbed1743e286a9f7b3c4c48be0": {
      "model_module": "@jupyter-widgets/controls",
      "model_module_version": "1.5.0",
      "model_name": "ProgressStyleModel",
      "state": {
       "_model_module": "@jupyter-widgets/controls",
       "_model_module_version": "1.5.0",
       "_model_name": "ProgressStyleModel",
       "_view_count": null,
       "_view_module": "@jupyter-widgets/base",
       "_view_module_version": "1.2.0",
       "_view_name": "StyleView",
       "bar_color": null,
       "description_width": ""
      }
     },
     "50ca7943ce384414a62587a756e79e3a": {
      "model_module": "@jupyter-widgets/controls",
      "model_module_version": "1.5.0",
      "model_name": "HTMLModel",
      "state": {
       "_dom_classes": [],
       "_model_module": "@jupyter-widgets/controls",
       "_model_module_version": "1.5.0",
       "_model_name": "HTMLModel",
       "_view_count": null,
       "_view_module": "@jupyter-widgets/controls",
       "_view_module_version": "1.5.0",
       "_view_name": "HTMLView",
       "description": "",
       "description_tooltip": null,
       "layout": "IPY_MODEL_6293a70de7e04a008a19528a1a0f1c3f",
       "placeholder": "​",
       "style": "IPY_MODEL_f4df80d021b54e9e90d7b323e54efc8d",
       "value": " 10/10 [00:01&lt;00:00,  6.93it/s]"
      }
     },
     "533272c40bb54002abb22fce9d788851": {
      "model_module": "@jupyter-widgets/controls",
      "model_module_version": "1.5.0",
      "model_name": "HBoxModel",
      "state": {
       "_dom_classes": [],
       "_model_module": "@jupyter-widgets/controls",
       "_model_module_version": "1.5.0",
       "_model_name": "HBoxModel",
       "_view_count": null,
       "_view_module": "@jupyter-widgets/controls",
       "_view_module_version": "1.5.0",
       "_view_name": "HBoxView",
       "box_style": "",
       "children": [
        "IPY_MODEL_8d9f0a8d730a4b5dbb969af3d525f6d2",
        "IPY_MODEL_fc68912267b84fed91e96e410ebdc7d1",
        "IPY_MODEL_5a1e692f42be4e07b18028e05895998e"
       ],
       "layout": "IPY_MODEL_b8187a213f0246529fa4776d9740932f"
      }
     },
     "53941c9a1b954e1cbe6cabcdd1db5c77": {
      "model_module": "@jupyter-widgets/controls",
      "model_module_version": "1.5.0",
      "model_name": "DescriptionStyleModel",
      "state": {
       "_model_module": "@jupyter-widgets/controls",
       "_model_module_version": "1.5.0",
       "_model_name": "DescriptionStyleModel",
       "_view_count": null,
       "_view_module": "@jupyter-widgets/base",
       "_view_module_version": "1.2.0",
       "_view_name": "StyleView",
       "description_width": ""
      }
     },
     "5511539f77b549cdb487fb839ff94f2e": {
      "model_module": "@jupyter-widgets/controls",
      "model_module_version": "1.5.0",
      "model_name": "HTMLModel",
      "state": {
       "_dom_classes": [],
       "_model_module": "@jupyter-widgets/controls",
       "_model_module_version": "1.5.0",
       "_model_name": "HTMLModel",
       "_view_count": null,
       "_view_module": "@jupyter-widgets/controls",
       "_view_module_version": "1.5.0",
       "_view_name": "HTMLView",
       "description": "",
       "description_tooltip": null,
       "layout": "IPY_MODEL_9c1fe75a22d6429e855c0ce877091d94",
       "placeholder": "​",
       "style": "IPY_MODEL_a8fe51c96c4d466e95503f4816cf603f",
       "value": " 2/2 [00:01&lt;00:00,  1.37it/s]"
      }
     },
     "56f173ed850f487c833ebd66720feb09": {
      "model_module": "@jupyter-widgets/controls",
      "model_module_version": "1.5.0",
      "model_name": "ProgressStyleModel",
      "state": {
       "_model_module": "@jupyter-widgets/controls",
       "_model_module_version": "1.5.0",
       "_model_name": "ProgressStyleModel",
       "_view_count": null,
       "_view_module": "@jupyter-widgets/base",
       "_view_module_version": "1.2.0",
       "_view_name": "StyleView",
       "bar_color": null,
       "description_width": ""
      }
     },
     "5a1e692f42be4e07b18028e05895998e": {
      "model_module": "@jupyter-widgets/controls",
      "model_module_version": "1.5.0",
      "model_name": "HTMLModel",
      "state": {
       "_dom_classes": [],
       "_model_module": "@jupyter-widgets/controls",
       "_model_module_version": "1.5.0",
       "_model_name": "HTMLModel",
       "_view_count": null,
       "_view_module": "@jupyter-widgets/controls",
       "_view_module_version": "1.5.0",
       "_view_name": "HTMLView",
       "description": "",
       "description_tooltip": null,
       "layout": "IPY_MODEL_31f5dd06463b45bd92af16f99c9776a5",
       "placeholder": "​",
       "style": "IPY_MODEL_78155987a8c04a949f1740170b0c991b",
       "value": " 2/2 [00:05&lt;00:00,  2.67s/it]"
      }
     },
     "6293a70de7e04a008a19528a1a0f1c3f": {
      "model_module": "@jupyter-widgets/base",
      "model_module_version": "1.2.0",
      "model_name": "LayoutModel",
      "state": {
       "_model_module": "@jupyter-widgets/base",
       "_model_module_version": "1.2.0",
       "_model_name": "LayoutModel",
       "_view_count": null,
       "_view_module": "@jupyter-widgets/base",
       "_view_module_version": "1.2.0",
       "_view_name": "LayoutView",
       "align_content": null,
       "align_items": null,
       "align_self": null,
       "border": null,
       "bottom": null,
       "display": null,
       "flex": null,
       "flex_flow": null,
       "grid_area": null,
       "grid_auto_columns": null,
       "grid_auto_flow": null,
       "grid_auto_rows": null,
       "grid_column": null,
       "grid_gap": null,
       "grid_row": null,
       "grid_template_areas": null,
       "grid_template_columns": null,
       "grid_template_rows": null,
       "height": null,
       "justify_content": null,
       "justify_items": null,
       "left": null,
       "margin": null,
       "max_height": null,
       "max_width": null,
       "min_height": null,
       "min_width": null,
       "object_fit": null,
       "object_position": null,
       "order": null,
       "overflow": null,
       "overflow_x": null,
       "overflow_y": null,
       "padding": null,
       "right": null,
       "top": null,
       "visibility": null,
       "width": null
      }
     },
     "65b2ec63c16648bcb954dff9a7b9595d": {
      "model_module": "@jupyter-widgets/base",
      "model_module_version": "1.2.0",
      "model_name": "LayoutModel",
      "state": {
       "_model_module": "@jupyter-widgets/base",
       "_model_module_version": "1.2.0",
       "_model_name": "LayoutModel",
       "_view_count": null,
       "_view_module": "@jupyter-widgets/base",
       "_view_module_version": "1.2.0",
       "_view_name": "LayoutView",
       "align_content": null,
       "align_items": null,
       "align_self": null,
       "border": null,
       "bottom": null,
       "display": null,
       "flex": null,
       "flex_flow": null,
       "grid_area": null,
       "grid_auto_columns": null,
       "grid_auto_flow": null,
       "grid_auto_rows": null,
       "grid_column": null,
       "grid_gap": null,
       "grid_row": null,
       "grid_template_areas": null,
       "grid_template_columns": null,
       "grid_template_rows": null,
       "height": null,
       "justify_content": null,
       "justify_items": null,
       "left": null,
       "margin": null,
       "max_height": null,
       "max_width": null,
       "min_height": null,
       "min_width": null,
       "object_fit": null,
       "object_position": null,
       "order": null,
       "overflow": null,
       "overflow_x": null,
       "overflow_y": null,
       "padding": null,
       "right": null,
       "top": null,
       "visibility": null,
       "width": null
      }
     },
     "6d781cc3a68d428c81673a2b21c57a23": {
      "model_module": "@jupyter-widgets/controls",
      "model_module_version": "1.5.0",
      "model_name": "DescriptionStyleModel",
      "state": {
       "_model_module": "@jupyter-widgets/controls",
       "_model_module_version": "1.5.0",
       "_model_name": "DescriptionStyleModel",
       "_view_count": null,
       "_view_module": "@jupyter-widgets/base",
       "_view_module_version": "1.2.0",
       "_view_name": "StyleView",
       "description_width": ""
      }
     },
     "6ee5d63b54c34b85ae62bf1e287becdd": {
      "model_module": "@jupyter-widgets/controls",
      "model_module_version": "1.5.0",
      "model_name": "FloatProgressModel",
      "state": {
       "_dom_classes": [],
       "_model_module": "@jupyter-widgets/controls",
       "_model_module_version": "1.5.0",
       "_model_name": "FloatProgressModel",
       "_view_count": null,
       "_view_module": "@jupyter-widgets/controls",
       "_view_module_version": "1.5.0",
       "_view_name": "ProgressView",
       "bar_style": "success",
       "description": "",
       "description_tooltip": null,
       "layout": "IPY_MODEL_c8c2d3f6421a4ec2a90a25252f81a11f",
       "max": 2.0,
       "min": 0.0,
       "orientation": "horizontal",
       "style": "IPY_MODEL_ad9e5e9674dd4e1e92e46789899e113d",
       "value": 2.0
      }
     },
     "6f5e174e5104425dbc879c1897b167c2": {
      "model_module": "@jupyter-widgets/controls",
      "model_module_version": "1.5.0",
      "model_name": "HBoxModel",
      "state": {
       "_dom_classes": [],
       "_model_module": "@jupyter-widgets/controls",
       "_model_module_version": "1.5.0",
       "_model_name": "HBoxModel",
       "_view_count": null,
       "_view_module": "@jupyter-widgets/controls",
       "_view_module_version": "1.5.0",
       "_view_name": "HBoxView",
       "box_style": "",
       "children": [
        "IPY_MODEL_af68f4802ebc4105ad3ae6597ae8e0e4",
        "IPY_MODEL_cdf6e68ea4264238b3725eb7f7ae10f3",
        "IPY_MODEL_82abbce1948f4cdd90f3b12e98626120"
       ],
       "layout": "IPY_MODEL_22d211ef8a8a468f9818791f98f92a3e"
      }
     },
     "78155987a8c04a949f1740170b0c991b": {
      "model_module": "@jupyter-widgets/controls",
      "model_module_version": "1.5.0",
      "model_name": "DescriptionStyleModel",
      "state": {
       "_model_module": "@jupyter-widgets/controls",
       "_model_module_version": "1.5.0",
       "_model_name": "DescriptionStyleModel",
       "_view_count": null,
       "_view_module": "@jupyter-widgets/base",
       "_view_module_version": "1.2.0",
       "_view_name": "StyleView",
       "description_width": ""
      }
     },
     "80d70072c4294f32b1cb4ea42d713c7a": {
      "model_module": "@jupyter-widgets/base",
      "model_module_version": "1.2.0",
      "model_name": "LayoutModel",
      "state": {
       "_model_module": "@jupyter-widgets/base",
       "_model_module_version": "1.2.0",
       "_model_name": "LayoutModel",
       "_view_count": null,
       "_view_module": "@jupyter-widgets/base",
       "_view_module_version": "1.2.0",
       "_view_name": "LayoutView",
       "align_content": null,
       "align_items": null,
       "align_self": null,
       "border": null,
       "bottom": null,
       "display": null,
       "flex": null,
       "flex_flow": null,
       "grid_area": null,
       "grid_auto_columns": null,
       "grid_auto_flow": null,
       "grid_auto_rows": null,
       "grid_column": null,
       "grid_gap": null,
       "grid_row": null,
       "grid_template_areas": null,
       "grid_template_columns": null,
       "grid_template_rows": null,
       "height": null,
       "justify_content": null,
       "justify_items": null,
       "left": null,
       "margin": null,
       "max_height": null,
       "max_width": null,
       "min_height": null,
       "min_width": null,
       "object_fit": null,
       "object_position": null,
       "order": null,
       "overflow": null,
       "overflow_x": null,
       "overflow_y": null,
       "padding": null,
       "right": null,
       "top": null,
       "visibility": null,
       "width": null
      }
     },
     "82abbce1948f4cdd90f3b12e98626120": {
      "model_module": "@jupyter-widgets/controls",
      "model_module_version": "1.5.0",
      "model_name": "HTMLModel",
      "state": {
       "_dom_classes": [],
       "_model_module": "@jupyter-widgets/controls",
       "_model_module_version": "1.5.0",
       "_model_name": "HTMLModel",
       "_view_count": null,
       "_view_module": "@jupyter-widgets/controls",
       "_view_module_version": "1.5.0",
       "_view_name": "HTMLView",
       "description": "",
       "description_tooltip": null,
       "layout": "IPY_MODEL_f4c00c6e44a34080875b2f4bc37d9826",
       "placeholder": "​",
       "style": "IPY_MODEL_53941c9a1b954e1cbe6cabcdd1db5c77",
       "value": " 2/2 [00:01&lt;00:00,  1.91it/s]"
      }
     },
     "83761e8198a94e609040e8539e948196": {
      "model_module": "@jupyter-widgets/controls",
      "model_module_version": "1.5.0",
      "model_name": "FloatProgressModel",
      "state": {
       "_dom_classes": [],
       "_model_module": "@jupyter-widgets/controls",
       "_model_module_version": "1.5.0",
       "_model_name": "FloatProgressModel",
       "_view_count": null,
       "_view_module": "@jupyter-widgets/controls",
       "_view_module_version": "1.5.0",
       "_view_name": "ProgressView",
       "bar_style": "success",
       "description": "",
       "description_tooltip": null,
       "layout": "IPY_MODEL_d676f06338ac4053be0528dbcf679b30",
       "max": 10.0,
       "min": 0.0,
       "orientation": "horizontal",
       "style": "IPY_MODEL_56f173ed850f487c833ebd66720feb09",
       "value": 10.0
      }
     },
     "86b047d6efaf4450b673fd81754c67e6": {
      "model_module": "@jupyter-widgets/controls",
      "model_module_version": "1.5.0",
      "model_name": "DescriptionStyleModel",
      "state": {
       "_model_module": "@jupyter-widgets/controls",
       "_model_module_version": "1.5.0",
       "_model_name": "DescriptionStyleModel",
       "_view_count": null,
       "_view_module": "@jupyter-widgets/base",
       "_view_module_version": "1.2.0",
       "_view_name": "StyleView",
       "description_width": ""
      }
     },
     "8d9f0a8d730a4b5dbb969af3d525f6d2": {
      "model_module": "@jupyter-widgets/controls",
      "model_module_version": "1.5.0",
      "model_name": "HTMLModel",
      "state": {
       "_dom_classes": [],
       "_model_module": "@jupyter-widgets/controls",
       "_model_module_version": "1.5.0",
       "_model_name": "HTMLModel",
       "_view_count": null,
       "_view_module": "@jupyter-widgets/controls",
       "_view_module_version": "1.5.0",
       "_view_name": "HTMLView",
       "description": "",
       "description_tooltip": null,
       "layout": "IPY_MODEL_c1de116162f54b0bad4ca8e2d1c73ec0",
       "placeholder": "​",
       "style": "IPY_MODEL_107e18b829254ee6ab1bf457f63674db",
       "value": "100%"
      }
     },
     "8e180489cd8c416b9359aaa9d67ea595": {
      "model_module": "@jupyter-widgets/controls",
      "model_module_version": "1.5.0",
      "model_name": "DescriptionStyleModel",
      "state": {
       "_model_module": "@jupyter-widgets/controls",
       "_model_module_version": "1.5.0",
       "_model_name": "DescriptionStyleModel",
       "_view_count": null,
       "_view_module": "@jupyter-widgets/base",
       "_view_module_version": "1.2.0",
       "_view_name": "StyleView",
       "description_width": ""
      }
     },
     "9c1fe75a22d6429e855c0ce877091d94": {
      "model_module": "@jupyter-widgets/base",
      "model_module_version": "1.2.0",
      "model_name": "LayoutModel",
      "state": {
       "_model_module": "@jupyter-widgets/base",
       "_model_module_version": "1.2.0",
       "_model_name": "LayoutModel",
       "_view_count": null,
       "_view_module": "@jupyter-widgets/base",
       "_view_module_version": "1.2.0",
       "_view_name": "LayoutView",
       "align_content": null,
       "align_items": null,
       "align_self": null,
       "border": null,
       "bottom": null,
       "display": null,
       "flex": null,
       "flex_flow": null,
       "grid_area": null,
       "grid_auto_columns": null,
       "grid_auto_flow": null,
       "grid_auto_rows": null,
       "grid_column": null,
       "grid_gap": null,
       "grid_row": null,
       "grid_template_areas": null,
       "grid_template_columns": null,
       "grid_template_rows": null,
       "height": null,
       "justify_content": null,
       "justify_items": null,
       "left": null,
       "margin": null,
       "max_height": null,
       "max_width": null,
       "min_height": null,
       "min_width": null,
       "object_fit": null,
       "object_position": null,
       "order": null,
       "overflow": null,
       "overflow_x": null,
       "overflow_y": null,
       "padding": null,
       "right": null,
       "top": null,
       "visibility": null,
       "width": null
      }
     },
     "a01c41e4aec54c51a68270a82c5c30ff": {
      "model_module": "@jupyter-widgets/base",
      "model_module_version": "1.2.0",
      "model_name": "LayoutModel",
      "state": {
       "_model_module": "@jupyter-widgets/base",
       "_model_module_version": "1.2.0",
       "_model_name": "LayoutModel",
       "_view_count": null,
       "_view_module": "@jupyter-widgets/base",
       "_view_module_version": "1.2.0",
       "_view_name": "LayoutView",
       "align_content": null,
       "align_items": null,
       "align_self": null,
       "border": null,
       "bottom": null,
       "display": null,
       "flex": null,
       "flex_flow": null,
       "grid_area": null,
       "grid_auto_columns": null,
       "grid_auto_flow": null,
       "grid_auto_rows": null,
       "grid_column": null,
       "grid_gap": null,
       "grid_row": null,
       "grid_template_areas": null,
       "grid_template_columns": null,
       "grid_template_rows": null,
       "height": null,
       "justify_content": null,
       "justify_items": null,
       "left": null,
       "margin": null,
       "max_height": null,
       "max_width": null,
       "min_height": null,
       "min_width": null,
       "object_fit": null,
       "object_position": null,
       "order": null,
       "overflow": null,
       "overflow_x": null,
       "overflow_y": null,
       "padding": null,
       "right": null,
       "top": null,
       "visibility": null,
       "width": null
      }
     },
     "a8fe51c96c4d466e95503f4816cf603f": {
      "model_module": "@jupyter-widgets/controls",
      "model_module_version": "1.5.0",
      "model_name": "DescriptionStyleModel",
      "state": {
       "_model_module": "@jupyter-widgets/controls",
       "_model_module_version": "1.5.0",
       "_model_name": "DescriptionStyleModel",
       "_view_count": null,
       "_view_module": "@jupyter-widgets/base",
       "_view_module_version": "1.2.0",
       "_view_name": "StyleView",
       "description_width": ""
      }
     },
     "aa1412300fb54e4a88aba6b2f97c544a": {
      "model_module": "@jupyter-widgets/controls",
      "model_module_version": "1.5.0",
      "model_name": "HBoxModel",
      "state": {
       "_dom_classes": [],
       "_model_module": "@jupyter-widgets/controls",
       "_model_module_version": "1.5.0",
       "_model_name": "HBoxModel",
       "_view_count": null,
       "_view_module": "@jupyter-widgets/controls",
       "_view_module_version": "1.5.0",
       "_view_name": "HBoxView",
       "box_style": "",
       "children": [
        "IPY_MODEL_b9d7880585ec47c9846fbccf257cc902",
        "IPY_MODEL_f0a83edf9605415fae3b120c631044a1",
        "IPY_MODEL_ff0015f6bea44b39adc8156a27de9dd4"
       ],
       "layout": "IPY_MODEL_0a4b1bbe8f754165879f7403570bae05"
      }
     },
     "ad9e5e9674dd4e1e92e46789899e113d": {
      "model_module": "@jupyter-widgets/controls",
      "model_module_version": "1.5.0",
      "model_name": "ProgressStyleModel",
      "state": {
       "_model_module": "@jupyter-widgets/controls",
       "_model_module_version": "1.5.0",
       "_model_name": "ProgressStyleModel",
       "_view_count": null,
       "_view_module": "@jupyter-widgets/base",
       "_view_module_version": "1.2.0",
       "_view_name": "StyleView",
       "bar_color": null,
       "description_width": ""
      }
     },
     "af68f4802ebc4105ad3ae6597ae8e0e4": {
      "model_module": "@jupyter-widgets/controls",
      "model_module_version": "1.5.0",
      "model_name": "HTMLModel",
      "state": {
       "_dom_classes": [],
       "_model_module": "@jupyter-widgets/controls",
       "_model_module_version": "1.5.0",
       "_model_name": "HTMLModel",
       "_view_count": null,
       "_view_module": "@jupyter-widgets/controls",
       "_view_module_version": "1.5.0",
       "_view_name": "HTMLView",
       "description": "",
       "description_tooltip": null,
       "layout": "IPY_MODEL_c4d8c42145b2443bbef87045dda7c36d",
       "placeholder": "​",
       "style": "IPY_MODEL_86b047d6efaf4450b673fd81754c67e6",
       "value": "100%"
      }
     },
     "b238f0efe8a341ebb1832b6d0860333d": {
      "model_module": "@jupyter-widgets/base",
      "model_module_version": "1.2.0",
      "model_name": "LayoutModel",
      "state": {
       "_model_module": "@jupyter-widgets/base",
       "_model_module_version": "1.2.0",
       "_model_name": "LayoutModel",
       "_view_count": null,
       "_view_module": "@jupyter-widgets/base",
       "_view_module_version": "1.2.0",
       "_view_name": "LayoutView",
       "align_content": null,
       "align_items": null,
       "align_self": null,
       "border": null,
       "bottom": null,
       "display": null,
       "flex": null,
       "flex_flow": null,
       "grid_area": null,
       "grid_auto_columns": null,
       "grid_auto_flow": null,
       "grid_auto_rows": null,
       "grid_column": null,
       "grid_gap": null,
       "grid_row": null,
       "grid_template_areas": null,
       "grid_template_columns": null,
       "grid_template_rows": null,
       "height": null,
       "justify_content": null,
       "justify_items": null,
       "left": null,
       "margin": null,
       "max_height": null,
       "max_width": null,
       "min_height": null,
       "min_width": null,
       "object_fit": null,
       "object_position": null,
       "order": null,
       "overflow": null,
       "overflow_x": null,
       "overflow_y": null,
       "padding": null,
       "right": null,
       "top": null,
       "visibility": null,
       "width": null
      }
     },
     "b8187a213f0246529fa4776d9740932f": {
      "model_module": "@jupyter-widgets/base",
      "model_module_version": "1.2.0",
      "model_name": "LayoutModel",
      "state": {
       "_model_module": "@jupyter-widgets/base",
       "_model_module_version": "1.2.0",
       "_model_name": "LayoutModel",
       "_view_count": null,
       "_view_module": "@jupyter-widgets/base",
       "_view_module_version": "1.2.0",
       "_view_name": "LayoutView",
       "align_content": null,
       "align_items": null,
       "align_self": null,
       "border": null,
       "bottom": null,
       "display": null,
       "flex": null,
       "flex_flow": null,
       "grid_area": null,
       "grid_auto_columns": null,
       "grid_auto_flow": null,
       "grid_auto_rows": null,
       "grid_column": null,
       "grid_gap": null,
       "grid_row": null,
       "grid_template_areas": null,
       "grid_template_columns": null,
       "grid_template_rows": null,
       "height": null,
       "justify_content": null,
       "justify_items": null,
       "left": null,
       "margin": null,
       "max_height": null,
       "max_width": null,
       "min_height": null,
       "min_width": null,
       "object_fit": null,
       "object_position": null,
       "order": null,
       "overflow": null,
       "overflow_x": null,
       "overflow_y": null,
       "padding": null,
       "right": null,
       "top": null,
       "visibility": null,
       "width": null
      }
     },
     "b9d7880585ec47c9846fbccf257cc902": {
      "model_module": "@jupyter-widgets/controls",
      "model_module_version": "1.5.0",
      "model_name": "HTMLModel",
      "state": {
       "_dom_classes": [],
       "_model_module": "@jupyter-widgets/controls",
       "_model_module_version": "1.5.0",
       "_model_name": "HTMLModel",
       "_view_count": null,
       "_view_module": "@jupyter-widgets/controls",
       "_view_module_version": "1.5.0",
       "_view_name": "HTMLView",
       "description": "",
       "description_tooltip": null,
       "layout": "IPY_MODEL_e2c8cf4ea0414bc694faa2366be30077",
       "placeholder": "​",
       "style": "IPY_MODEL_6d781cc3a68d428c81673a2b21c57a23",
       "value": "100%"
      }
     },
     "c1de116162f54b0bad4ca8e2d1c73ec0": {
      "model_module": "@jupyter-widgets/base",
      "model_module_version": "1.2.0",
      "model_name": "LayoutModel",
      "state": {
       "_model_module": "@jupyter-widgets/base",
       "_model_module_version": "1.2.0",
       "_model_name": "LayoutModel",
       "_view_count": null,
       "_view_module": "@jupyter-widgets/base",
       "_view_module_version": "1.2.0",
       "_view_name": "LayoutView",
       "align_content": null,
       "align_items": null,
       "align_self": null,
       "border": null,
       "bottom": null,
       "display": null,
       "flex": null,
       "flex_flow": null,
       "grid_area": null,
       "grid_auto_columns": null,
       "grid_auto_flow": null,
       "grid_auto_rows": null,
       "grid_column": null,
       "grid_gap": null,
       "grid_row": null,
       "grid_template_areas": null,
       "grid_template_columns": null,
       "grid_template_rows": null,
       "height": null,
       "justify_content": null,
       "justify_items": null,
       "left": null,
       "margin": null,
       "max_height": null,
       "max_width": null,
       "min_height": null,
       "min_width": null,
       "object_fit": null,
       "object_position": null,
       "order": null,
       "overflow": null,
       "overflow_x": null,
       "overflow_y": null,
       "padding": null,
       "right": null,
       "top": null,
       "visibility": null,
       "width": null
      }
     },
     "c4d8c42145b2443bbef87045dda7c36d": {
      "model_module": "@jupyter-widgets/base",
      "model_module_version": "1.2.0",
      "model_name": "LayoutModel",
      "state": {
       "_model_module": "@jupyter-widgets/base",
       "_model_module_version": "1.2.0",
       "_model_name": "LayoutModel",
       "_view_count": null,
       "_view_module": "@jupyter-widgets/base",
       "_view_module_version": "1.2.0",
       "_view_name": "LayoutView",
       "align_content": null,
       "align_items": null,
       "align_self": null,
       "border": null,
       "bottom": null,
       "display": null,
       "flex": null,
       "flex_flow": null,
       "grid_area": null,
       "grid_auto_columns": null,
       "grid_auto_flow": null,
       "grid_auto_rows": null,
       "grid_column": null,
       "grid_gap": null,
       "grid_row": null,
       "grid_template_areas": null,
       "grid_template_columns": null,
       "grid_template_rows": null,
       "height": null,
       "justify_content": null,
       "justify_items": null,
       "left": null,
       "margin": null,
       "max_height": null,
       "max_width": null,
       "min_height": null,
       "min_width": null,
       "object_fit": null,
       "object_position": null,
       "order": null,
       "overflow": null,
       "overflow_x": null,
       "overflow_y": null,
       "padding": null,
       "right": null,
       "top": null,
       "visibility": null,
       "width": null
      }
     },
     "c8c2d3f6421a4ec2a90a25252f81a11f": {
      "model_module": "@jupyter-widgets/base",
      "model_module_version": "1.2.0",
      "model_name": "LayoutModel",
      "state": {
       "_model_module": "@jupyter-widgets/base",
       "_model_module_version": "1.2.0",
       "_model_name": "LayoutModel",
       "_view_count": null,
       "_view_module": "@jupyter-widgets/base",
       "_view_module_version": "1.2.0",
       "_view_name": "LayoutView",
       "align_content": null,
       "align_items": null,
       "align_self": null,
       "border": null,
       "bottom": null,
       "display": null,
       "flex": null,
       "flex_flow": null,
       "grid_area": null,
       "grid_auto_columns": null,
       "grid_auto_flow": null,
       "grid_auto_rows": null,
       "grid_column": null,
       "grid_gap": null,
       "grid_row": null,
       "grid_template_areas": null,
       "grid_template_columns": null,
       "grid_template_rows": null,
       "height": null,
       "justify_content": null,
       "justify_items": null,
       "left": null,
       "margin": null,
       "max_height": null,
       "max_width": null,
       "min_height": null,
       "min_width": null,
       "object_fit": null,
       "object_position": null,
       "order": null,
       "overflow": null,
       "overflow_x": null,
       "overflow_y": null,
       "padding": null,
       "right": null,
       "top": null,
       "visibility": null,
       "width": null
      }
     },
     "cda7eec8097540028ff15012ba5fae11": {
      "model_module": "@jupyter-widgets/controls",
      "model_module_version": "1.5.0",
      "model_name": "ProgressStyleModel",
      "state": {
       "_model_module": "@jupyter-widgets/controls",
       "_model_module_version": "1.5.0",
       "_model_name": "ProgressStyleModel",
       "_view_count": null,
       "_view_module": "@jupyter-widgets/base",
       "_view_module_version": "1.2.0",
       "_view_name": "StyleView",
       "bar_color": null,
       "description_width": ""
      }
     },
     "cdf6e68ea4264238b3725eb7f7ae10f3": {
      "model_module": "@jupyter-widgets/controls",
      "model_module_version": "1.5.0",
      "model_name": "FloatProgressModel",
      "state": {
       "_dom_classes": [],
       "_model_module": "@jupyter-widgets/controls",
       "_model_module_version": "1.5.0",
       "_model_name": "FloatProgressModel",
       "_view_count": null,
       "_view_module": "@jupyter-widgets/controls",
       "_view_module_version": "1.5.0",
       "_view_name": "ProgressView",
       "bar_style": "success",
       "description": "",
       "description_tooltip": null,
       "layout": "IPY_MODEL_e3375593473745658fc819bd147f48fb",
       "max": 2.0,
       "min": 0.0,
       "orientation": "horizontal",
       "style": "IPY_MODEL_4d5970dbed1743e286a9f7b3c4c48be0",
       "value": 2.0
      }
     },
     "d676f06338ac4053be0528dbcf679b30": {
      "model_module": "@jupyter-widgets/base",
      "model_module_version": "1.2.0",
      "model_name": "LayoutModel",
      "state": {
       "_model_module": "@jupyter-widgets/base",
       "_model_module_version": "1.2.0",
       "_model_name": "LayoutModel",
       "_view_count": null,
       "_view_module": "@jupyter-widgets/base",
       "_view_module_version": "1.2.0",
       "_view_name": "LayoutView",
       "align_content": null,
       "align_items": null,
       "align_self": null,
       "border": null,
       "bottom": null,
       "display": null,
       "flex": null,
       "flex_flow": null,
       "grid_area": null,
       "grid_auto_columns": null,
       "grid_auto_flow": null,
       "grid_auto_rows": null,
       "grid_column": null,
       "grid_gap": null,
       "grid_row": null,
       "grid_template_areas": null,
       "grid_template_columns": null,
       "grid_template_rows": null,
       "height": null,
       "justify_content": null,
       "justify_items": null,
       "left": null,
       "margin": null,
       "max_height": null,
       "max_width": null,
       "min_height": null,
       "min_width": null,
       "object_fit": null,
       "object_position": null,
       "order": null,
       "overflow": null,
       "overflow_x": null,
       "overflow_y": null,
       "padding": null,
       "right": null,
       "top": null,
       "visibility": null,
       "width": null
      }
     },
     "d6f97a1babcd40cebed5bcbc94bdc85c": {
      "model_module": "@jupyter-widgets/controls",
      "model_module_version": "1.5.0",
      "model_name": "HTMLModel",
      "state": {
       "_dom_classes": [],
       "_model_module": "@jupyter-widgets/controls",
       "_model_module_version": "1.5.0",
       "_model_name": "HTMLModel",
       "_view_count": null,
       "_view_module": "@jupyter-widgets/controls",
       "_view_module_version": "1.5.0",
       "_view_name": "HTMLView",
       "description": "",
       "description_tooltip": null,
       "layout": "IPY_MODEL_a01c41e4aec54c51a68270a82c5c30ff",
       "placeholder": "​",
       "style": "IPY_MODEL_ea5694b6ebb648eea73a2ec2cc24db8a",
       "value": "100%"
      }
     },
     "d93fdd0e225e4208b0e733030804e189": {
      "model_module": "@jupyter-widgets/controls",
      "model_module_version": "1.5.0",
      "model_name": "HTMLModel",
      "state": {
       "_dom_classes": [],
       "_model_module": "@jupyter-widgets/controls",
       "_model_module_version": "1.5.0",
       "_model_name": "HTMLModel",
       "_view_count": null,
       "_view_module": "@jupyter-widgets/controls",
       "_view_module_version": "1.5.0",
       "_view_name": "HTMLView",
       "description": "",
       "description_tooltip": null,
       "layout": "IPY_MODEL_80d70072c4294f32b1cb4ea42d713c7a",
       "placeholder": "​",
       "style": "IPY_MODEL_3b67aeef381340258036270f39585e6c",
       "value": "100%"
      }
     },
     "e2c8cf4ea0414bc694faa2366be30077": {
      "model_module": "@jupyter-widgets/base",
      "model_module_version": "1.2.0",
      "model_name": "LayoutModel",
      "state": {
       "_model_module": "@jupyter-widgets/base",
       "_model_module_version": "1.2.0",
       "_model_name": "LayoutModel",
       "_view_count": null,
       "_view_module": "@jupyter-widgets/base",
       "_view_module_version": "1.2.0",
       "_view_name": "LayoutView",
       "align_content": null,
       "align_items": null,
       "align_self": null,
       "border": null,
       "bottom": null,
       "display": null,
       "flex": null,
       "flex_flow": null,
       "grid_area": null,
       "grid_auto_columns": null,
       "grid_auto_flow": null,
       "grid_auto_rows": null,
       "grid_column": null,
       "grid_gap": null,
       "grid_row": null,
       "grid_template_areas": null,
       "grid_template_columns": null,
       "grid_template_rows": null,
       "height": null,
       "justify_content": null,
       "justify_items": null,
       "left": null,
       "margin": null,
       "max_height": null,
       "max_width": null,
       "min_height": null,
       "min_width": null,
       "object_fit": null,
       "object_position": null,
       "order": null,
       "overflow": null,
       "overflow_x": null,
       "overflow_y": null,
       "padding": null,
       "right": null,
       "top": null,
       "visibility": null,
       "width": null
      }
     },
     "e3375593473745658fc819bd147f48fb": {
      "model_module": "@jupyter-widgets/base",
      "model_module_version": "1.2.0",
      "model_name": "LayoutModel",
      "state": {
       "_model_module": "@jupyter-widgets/base",
       "_model_module_version": "1.2.0",
       "_model_name": "LayoutModel",
       "_view_count": null,
       "_view_module": "@jupyter-widgets/base",
       "_view_module_version": "1.2.0",
       "_view_name": "LayoutView",
       "align_content": null,
       "align_items": null,
       "align_self": null,
       "border": null,
       "bottom": null,
       "display": null,
       "flex": null,
       "flex_flow": null,
       "grid_area": null,
       "grid_auto_columns": null,
       "grid_auto_flow": null,
       "grid_auto_rows": null,
       "grid_column": null,
       "grid_gap": null,
       "grid_row": null,
       "grid_template_areas": null,
       "grid_template_columns": null,
       "grid_template_rows": null,
       "height": null,
       "justify_content": null,
       "justify_items": null,
       "left": null,
       "margin": null,
       "max_height": null,
       "max_width": null,
       "min_height": null,
       "min_width": null,
       "object_fit": null,
       "object_position": null,
       "order": null,
       "overflow": null,
       "overflow_x": null,
       "overflow_y": null,
       "padding": null,
       "right": null,
       "top": null,
       "visibility": null,
       "width": null
      }
     },
     "ea5694b6ebb648eea73a2ec2cc24db8a": {
      "model_module": "@jupyter-widgets/controls",
      "model_module_version": "1.5.0",
      "model_name": "DescriptionStyleModel",
      "state": {
       "_model_module": "@jupyter-widgets/controls",
       "_model_module_version": "1.5.0",
       "_model_name": "DescriptionStyleModel",
       "_view_count": null,
       "_view_module": "@jupyter-widgets/base",
       "_view_module_version": "1.2.0",
       "_view_name": "StyleView",
       "description_width": ""
      }
     },
     "f0a83edf9605415fae3b120c631044a1": {
      "model_module": "@jupyter-widgets/controls",
      "model_module_version": "1.5.0",
      "model_name": "FloatProgressModel",
      "state": {
       "_dom_classes": [],
       "_model_module": "@jupyter-widgets/controls",
       "_model_module_version": "1.5.0",
       "_model_name": "FloatProgressModel",
       "_view_count": null,
       "_view_module": "@jupyter-widgets/controls",
       "_view_module_version": "1.5.0",
       "_view_name": "ProgressView",
       "bar_style": "success",
       "description": "",
       "description_tooltip": null,
       "layout": "IPY_MODEL_b238f0efe8a341ebb1832b6d0860333d",
       "max": 10.0,
       "min": 0.0,
       "orientation": "horizontal",
       "style": "IPY_MODEL_f5ffa6f7d7c84d9987c3ff4e0ee7f505",
       "value": 10.0
      }
     },
     "f4c00c6e44a34080875b2f4bc37d9826": {
      "model_module": "@jupyter-widgets/base",
      "model_module_version": "1.2.0",
      "model_name": "LayoutModel",
      "state": {
       "_model_module": "@jupyter-widgets/base",
       "_model_module_version": "1.2.0",
       "_model_name": "LayoutModel",
       "_view_count": null,
       "_view_module": "@jupyter-widgets/base",
       "_view_module_version": "1.2.0",
       "_view_name": "LayoutView",
       "align_content": null,
       "align_items": null,
       "align_self": null,
       "border": null,
       "bottom": null,
       "display": null,
       "flex": null,
       "flex_flow": null,
       "grid_area": null,
       "grid_auto_columns": null,
       "grid_auto_flow": null,
       "grid_auto_rows": null,
       "grid_column": null,
       "grid_gap": null,
       "grid_row": null,
       "grid_template_areas": null,
       "grid_template_columns": null,
       "grid_template_rows": null,
       "height": null,
       "justify_content": null,
       "justify_items": null,
       "left": null,
       "margin": null,
       "max_height": null,
       "max_width": null,
       "min_height": null,
       "min_width": null,
       "object_fit": null,
       "object_position": null,
       "order": null,
       "overflow": null,
       "overflow_x": null,
       "overflow_y": null,
       "padding": null,
       "right": null,
       "top": null,
       "visibility": null,
       "width": null
      }
     },
     "f4df80d021b54e9e90d7b323e54efc8d": {
      "model_module": "@jupyter-widgets/controls",
      "model_module_version": "1.5.0",
      "model_name": "DescriptionStyleModel",
      "state": {
       "_model_module": "@jupyter-widgets/controls",
       "_model_module_version": "1.5.0",
       "_model_name": "DescriptionStyleModel",
       "_view_count": null,
       "_view_module": "@jupyter-widgets/base",
       "_view_module_version": "1.2.0",
       "_view_name": "StyleView",
       "description_width": ""
      }
     },
     "f5ffa6f7d7c84d9987c3ff4e0ee7f505": {
      "model_module": "@jupyter-widgets/controls",
      "model_module_version": "1.5.0",
      "model_name": "ProgressStyleModel",
      "state": {
       "_model_module": "@jupyter-widgets/controls",
       "_model_module_version": "1.5.0",
       "_model_name": "ProgressStyleModel",
       "_view_count": null,
       "_view_module": "@jupyter-widgets/base",
       "_view_module_version": "1.2.0",
       "_view_name": "StyleView",
       "bar_color": null,
       "description_width": ""
      }
     },
     "fc68912267b84fed91e96e410ebdc7d1": {
      "model_module": "@jupyter-widgets/controls",
      "model_module_version": "1.5.0",
      "model_name": "FloatProgressModel",
      "state": {
       "_dom_classes": [],
       "_model_module": "@jupyter-widgets/controls",
       "_model_module_version": "1.5.0",
       "_model_name": "FloatProgressModel",
       "_view_count": null,
       "_view_module": "@jupyter-widgets/controls",
       "_view_module_version": "1.5.0",
       "_view_name": "ProgressView",
       "bar_style": "success",
       "description": "",
       "description_tooltip": null,
       "layout": "IPY_MODEL_fda6ec9def9c46838129c59d4eab3cf5",
       "max": 2.0,
       "min": 0.0,
       "orientation": "horizontal",
       "style": "IPY_MODEL_cda7eec8097540028ff15012ba5fae11",
       "value": 2.0
      }
     },
     "fda6ec9def9c46838129c59d4eab3cf5": {
      "model_module": "@jupyter-widgets/base",
      "model_module_version": "1.2.0",
      "model_name": "LayoutModel",
      "state": {
       "_model_module": "@jupyter-widgets/base",
       "_model_module_version": "1.2.0",
       "_model_name": "LayoutModel",
       "_view_count": null,
       "_view_module": "@jupyter-widgets/base",
       "_view_module_version": "1.2.0",
       "_view_name": "LayoutView",
       "align_content": null,
       "align_items": null,
       "align_self": null,
       "border": null,
       "bottom": null,
       "display": null,
       "flex": null,
       "flex_flow": null,
       "grid_area": null,
       "grid_auto_columns": null,
       "grid_auto_flow": null,
       "grid_auto_rows": null,
       "grid_column": null,
       "grid_gap": null,
       "grid_row": null,
       "grid_template_areas": null,
       "grid_template_columns": null,
       "grid_template_rows": null,
       "height": null,
       "justify_content": null,
       "justify_items": null,
       "left": null,
       "margin": null,
       "max_height": null,
       "max_width": null,
       "min_height": null,
       "min_width": null,
       "object_fit": null,
       "object_position": null,
       "order": null,
       "overflow": null,
       "overflow_x": null,
       "overflow_y": null,
       "padding": null,
       "right": null,
       "top": null,
       "visibility": null,
       "width": null
      }
     },
     "ff0015f6bea44b39adc8156a27de9dd4": {
      "model_module": "@jupyter-widgets/controls",
      "model_module_version": "1.5.0",
      "model_name": "HTMLModel",
      "state": {
       "_dom_classes": [],
       "_model_module": "@jupyter-widgets/controls",
       "_model_module_version": "1.5.0",
       "_model_name": "HTMLModel",
       "_view_count": null,
       "_view_module": "@jupyter-widgets/controls",
       "_view_module_version": "1.5.0",
       "_view_name": "HTMLView",
       "description": "",
       "description_tooltip": null,
       "layout": "IPY_MODEL_0b3df07c49994855b4952c52acc3d7a0",
       "placeholder": "​",
       "style": "IPY_MODEL_8e180489cd8c416b9359aaa9d67ea595",
       "value": " 10/10 [00:02&lt;00:00,  6.35it/s]"
      }
     }
    },
    "version_major": 2,
    "version_minor": 0
   }
  }
 },
 "nbformat": 4,
 "nbformat_minor": 5
}
